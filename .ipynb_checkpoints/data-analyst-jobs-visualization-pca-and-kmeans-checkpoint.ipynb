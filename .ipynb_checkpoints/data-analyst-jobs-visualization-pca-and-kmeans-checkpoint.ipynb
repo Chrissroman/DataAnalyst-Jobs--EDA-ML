{
 "cells": [
  {
   "cell_type": "code",
   "execution_count": 1,
   "metadata": {
    "_cell_guid": "b1076dfc-b9ad-4769-8c92-a6c4dae69d19",
    "_uuid": "8f2839f25d086af736a60e9eeb907d3b93b6e0e5",
    "execution": {
     "iopub.execute_input": "2020-10-18T23:25:51.114340Z",
     "iopub.status.busy": "2020-10-18T23:25:51.113682Z",
     "iopub.status.idle": "2020-10-18T23:25:51.122892Z",
     "shell.execute_reply": "2020-10-18T23:25:51.122407Z"
    },
    "papermill": {
     "duration": 0.048576,
     "end_time": "2020-10-18T23:25:51.122996",
     "exception": false,
     "start_time": "2020-10-18T23:25:51.074420",
     "status": "completed"
    },
    "tags": []
   },
   "outputs": [
    {
     "name": "stdout",
     "output_type": "stream",
     "text": [
      "/kaggle/input/data-analyst-jobs/DataAnalyst.csv\n"
     ]
    }
   ],
   "source": [
    "# This Python 3 environment comes with many helpful analytics libraries installed\n",
    "# It is defined by the kaggle/python Docker image: https://github.com/kaggle/docker-python\n",
    "# For example, here's several helpful packages to load\n",
    "\n",
    "import numpy as np # linear algebra\n",
    "import pandas as pd # data processing, CSV file I/O (e.g. pd.read_csv)\n",
    "\n",
    "# Input data files are available in the read-only \"../input/\" directory\n",
    "# For example, running this (by clicking run or pressing Shift+Enter) will list all files under the input directory\n",
    "\n",
    "import os\n",
    "for dirname, _, filenames in os.walk('/kaggle/input'):\n",
    "    for filename in filenames:\n",
    "        print(os.path.join(dirname, filename))\n",
    "\n",
    "# You can write up to 5GB to the current directory (/kaggle/working/) that gets preserved as output when you create a version using \"Save & Run All\" \n",
    "# You can also write temporary files to /kaggle/temp/, but they won't be saved outside of the current session"
   ]
  },
  {
   "cell_type": "markdown",
   "metadata": {
    "papermill": {
     "duration": 0.032337,
     "end_time": "2020-10-18T23:25:51.190335",
     "exception": false,
     "start_time": "2020-10-18T23:25:51.157998",
     "status": "completed"
    },
    "tags": []
   },
   "source": [
    "# Import DataSet 'Data Analyst Jobs'"
   ]
  },
  {
   "cell_type": "code",
   "execution_count": 2,
   "metadata": {
    "_cell_guid": "79c7e3d0-c299-4dcb-8224-4455121ee9b0",
    "_uuid": "d629ff2d2480ee46fbb7e2d37f6b5fab8052498a",
    "execution": {
     "iopub.execute_input": "2020-10-18T23:25:51.262765Z",
     "iopub.status.busy": "2020-10-18T23:25:51.262051Z",
     "iopub.status.idle": "2020-10-18T23:25:53.006134Z",
     "shell.execute_reply": "2020-10-18T23:25:53.005205Z"
    },
    "papermill": {
     "duration": 1.78296,
     "end_time": "2020-10-18T23:25:53.006262",
     "exception": false,
     "start_time": "2020-10-18T23:25:51.223302",
     "status": "completed"
    },
    "tags": []
   },
   "outputs": [],
   "source": [
    "# IMPORT DATA AND PACKED\n",
    "import numpy as np\n",
    "import pandas as pd\n",
    "import matplotlib.pyplot as plt\n",
    "import seaborn as sns\n",
    "import plotly.graph_objs as go\n",
    "import plotly.express as px\n",
    "from plotly.subplots import make_subplots \n",
    "from plotly.offline import init_notebook_mode, iplot"
   ]
  },
  {
   "cell_type": "code",
   "execution_count": 3,
   "metadata": {
    "execution": {
     "iopub.execute_input": "2020-10-18T23:25:53.079794Z",
     "iopub.status.busy": "2020-10-18T23:25:53.078878Z",
     "iopub.status.idle": "2020-10-18T23:25:53.177370Z",
     "shell.execute_reply": "2020-10-18T23:25:53.177846Z"
    },
    "papermill": {
     "duration": 0.137377,
     "end_time": "2020-10-18T23:25:53.177967",
     "exception": false,
     "start_time": "2020-10-18T23:25:53.040590",
     "status": "completed"
    },
    "tags": []
   },
   "outputs": [
    {
     "data": {
      "text/html": [
       "        <script type=\"text/javascript\">\n",
       "        window.PlotlyConfig = {MathJaxConfig: 'local'};\n",
       "        if (window.MathJax) {MathJax.Hub.Config({SVG: {font: \"STIX-Web\"}});}\n",
       "        if (typeof require !== 'undefined') {\n",
       "        require.undef(\"plotly\");\n",
       "        requirejs.config({\n",
       "            paths: {\n",
       "                'plotly': ['https://cdn.plot.ly/plotly-latest.min']\n",
       "            }\n",
       "        });\n",
       "        require(['plotly'], function(Plotly) {\n",
       "            window._Plotly = Plotly;\n",
       "        });\n",
       "        }\n",
       "        </script>\n",
       "        "
      ]
     },
     "metadata": {},
     "output_type": "display_data"
    }
   ],
   "source": [
    "# Conditions all for the plotting\n",
    "sns.set()\n",
    "pd.options.plotting.backend = 'plotly'\n",
    "plt.style.use('seaborn')\n",
    "init_notebook_mode(connected = True)"
   ]
  },
  {
   "cell_type": "code",
   "execution_count": 4,
   "metadata": {
    "execution": {
     "iopub.execute_input": "2020-10-18T23:25:53.249948Z",
     "iopub.status.busy": "2020-10-18T23:25:53.249387Z",
     "iopub.status.idle": "2020-10-18T23:25:53.395902Z",
     "shell.execute_reply": "2020-10-18T23:25:53.394969Z"
    },
    "papermill": {
     "duration": 0.18442,
     "end_time": "2020-10-18T23:25:53.396045",
     "exception": false,
     "start_time": "2020-10-18T23:25:53.211625",
     "status": "completed"
    },
    "tags": []
   },
   "outputs": [
    {
     "data": {
      "text/html": [
       "<div>\n",
       "<style scoped>\n",
       "    .dataframe tbody tr th:only-of-type {\n",
       "        vertical-align: middle;\n",
       "    }\n",
       "\n",
       "    .dataframe tbody tr th {\n",
       "        vertical-align: top;\n",
       "    }\n",
       "\n",
       "    .dataframe thead th {\n",
       "        text-align: right;\n",
       "    }\n",
       "</style>\n",
       "<table border=\"1\" class=\"dataframe\">\n",
       "  <thead>\n",
       "    <tr style=\"text-align: right;\">\n",
       "      <th></th>\n",
       "      <th>Unnamed: 0</th>\n",
       "      <th>Job Title</th>\n",
       "      <th>Salary Estimate</th>\n",
       "      <th>Job Description</th>\n",
       "      <th>Rating</th>\n",
       "      <th>Company Name</th>\n",
       "      <th>Location</th>\n",
       "      <th>Headquarters</th>\n",
       "      <th>Size</th>\n",
       "      <th>Founded</th>\n",
       "      <th>Type of ownership</th>\n",
       "      <th>Industry</th>\n",
       "      <th>Sector</th>\n",
       "      <th>Revenue</th>\n",
       "      <th>Competitors</th>\n",
       "      <th>Easy Apply</th>\n",
       "    </tr>\n",
       "  </thead>\n",
       "  <tbody>\n",
       "    <tr>\n",
       "      <th>0</th>\n",
       "      <td>0</td>\n",
       "      <td>Data Analyst, Center on Immigration and Justic...</td>\n",
       "      <td>$37K-$66K (Glassdoor est.)</td>\n",
       "      <td>Are you eager to roll up your sleeves and harn...</td>\n",
       "      <td>3.2</td>\n",
       "      <td>Vera Institute of Justice\\n3.2</td>\n",
       "      <td>New York, NY</td>\n",
       "      <td>New York, NY</td>\n",
       "      <td>201 to 500 employees</td>\n",
       "      <td>1961</td>\n",
       "      <td>Nonprofit Organization</td>\n",
       "      <td>Social Assistance</td>\n",
       "      <td>Non-Profit</td>\n",
       "      <td>$100 to $500 million (USD)</td>\n",
       "      <td>-1</td>\n",
       "      <td>True</td>\n",
       "    </tr>\n",
       "    <tr>\n",
       "      <th>1</th>\n",
       "      <td>1</td>\n",
       "      <td>Quality Data Analyst</td>\n",
       "      <td>$37K-$66K (Glassdoor est.)</td>\n",
       "      <td>Overview\\n\\nProvides analytical and technical ...</td>\n",
       "      <td>3.8</td>\n",
       "      <td>Visiting Nurse Service of New York\\n3.8</td>\n",
       "      <td>New York, NY</td>\n",
       "      <td>New York, NY</td>\n",
       "      <td>10000+ employees</td>\n",
       "      <td>1893</td>\n",
       "      <td>Nonprofit Organization</td>\n",
       "      <td>Health Care Services &amp; Hospitals</td>\n",
       "      <td>Health Care</td>\n",
       "      <td>$2 to $5 billion (USD)</td>\n",
       "      <td>-1</td>\n",
       "      <td>-1</td>\n",
       "    </tr>\n",
       "    <tr>\n",
       "      <th>2</th>\n",
       "      <td>2</td>\n",
       "      <td>Senior Data Analyst, Insights &amp; Analytics Team...</td>\n",
       "      <td>$37K-$66K (Glassdoor est.)</td>\n",
       "      <td>We’re looking for a Senior Data Analyst who ha...</td>\n",
       "      <td>3.4</td>\n",
       "      <td>Squarespace\\n3.4</td>\n",
       "      <td>New York, NY</td>\n",
       "      <td>New York, NY</td>\n",
       "      <td>1001 to 5000 employees</td>\n",
       "      <td>2003</td>\n",
       "      <td>Company - Private</td>\n",
       "      <td>Internet</td>\n",
       "      <td>Information Technology</td>\n",
       "      <td>Unknown / Non-Applicable</td>\n",
       "      <td>GoDaddy</td>\n",
       "      <td>-1</td>\n",
       "    </tr>\n",
       "    <tr>\n",
       "      <th>3</th>\n",
       "      <td>3</td>\n",
       "      <td>Data Analyst</td>\n",
       "      <td>$37K-$66K (Glassdoor est.)</td>\n",
       "      <td>Requisition NumberRR-0001939\\nRemote:Yes\\nWe c...</td>\n",
       "      <td>4.1</td>\n",
       "      <td>Celerity\\n4.1</td>\n",
       "      <td>New York, NY</td>\n",
       "      <td>McLean, VA</td>\n",
       "      <td>201 to 500 employees</td>\n",
       "      <td>2002</td>\n",
       "      <td>Subsidiary or Business Segment</td>\n",
       "      <td>IT Services</td>\n",
       "      <td>Information Technology</td>\n",
       "      <td>$50 to $100 million (USD)</td>\n",
       "      <td>-1</td>\n",
       "      <td>-1</td>\n",
       "    </tr>\n",
       "    <tr>\n",
       "      <th>4</th>\n",
       "      <td>4</td>\n",
       "      <td>Reporting Data Analyst</td>\n",
       "      <td>$37K-$66K (Glassdoor est.)</td>\n",
       "      <td>ABOUT FANDUEL GROUP\\n\\nFanDuel Group is a worl...</td>\n",
       "      <td>3.9</td>\n",
       "      <td>FanDuel\\n3.9</td>\n",
       "      <td>New York, NY</td>\n",
       "      <td>New York, NY</td>\n",
       "      <td>501 to 1000 employees</td>\n",
       "      <td>2009</td>\n",
       "      <td>Company - Private</td>\n",
       "      <td>Sports &amp; Recreation</td>\n",
       "      <td>Arts, Entertainment &amp; Recreation</td>\n",
       "      <td>$100 to $500 million (USD)</td>\n",
       "      <td>DraftKings</td>\n",
       "      <td>True</td>\n",
       "    </tr>\n",
       "  </tbody>\n",
       "</table>\n",
       "</div>"
      ],
      "text/plain": [
       "   Unnamed: 0                                          Job Title  \\\n",
       "0           0  Data Analyst, Center on Immigration and Justic...   \n",
       "1           1                               Quality Data Analyst   \n",
       "2           2  Senior Data Analyst, Insights & Analytics Team...   \n",
       "3           3                                       Data Analyst   \n",
       "4           4                             Reporting Data Analyst   \n",
       "\n",
       "              Salary Estimate  \\\n",
       "0  $37K-$66K (Glassdoor est.)   \n",
       "1  $37K-$66K (Glassdoor est.)   \n",
       "2  $37K-$66K (Glassdoor est.)   \n",
       "3  $37K-$66K (Glassdoor est.)   \n",
       "4  $37K-$66K (Glassdoor est.)   \n",
       "\n",
       "                                     Job Description  Rating  \\\n",
       "0  Are you eager to roll up your sleeves and harn...     3.2   \n",
       "1  Overview\\n\\nProvides analytical and technical ...     3.8   \n",
       "2  We’re looking for a Senior Data Analyst who ha...     3.4   \n",
       "3  Requisition NumberRR-0001939\\nRemote:Yes\\nWe c...     4.1   \n",
       "4  ABOUT FANDUEL GROUP\\n\\nFanDuel Group is a worl...     3.9   \n",
       "\n",
       "                              Company Name      Location  Headquarters  \\\n",
       "0           Vera Institute of Justice\\n3.2  New York, NY  New York, NY   \n",
       "1  Visiting Nurse Service of New York\\n3.8  New York, NY  New York, NY   \n",
       "2                         Squarespace\\n3.4  New York, NY  New York, NY   \n",
       "3                            Celerity\\n4.1  New York, NY    McLean, VA   \n",
       "4                             FanDuel\\n3.9  New York, NY  New York, NY   \n",
       "\n",
       "                     Size  Founded               Type of ownership  \\\n",
       "0    201 to 500 employees     1961          Nonprofit Organization   \n",
       "1        10000+ employees     1893          Nonprofit Organization   \n",
       "2  1001 to 5000 employees     2003               Company - Private   \n",
       "3    201 to 500 employees     2002  Subsidiary or Business Segment   \n",
       "4   501 to 1000 employees     2009               Company - Private   \n",
       "\n",
       "                           Industry                            Sector  \\\n",
       "0                 Social Assistance                        Non-Profit   \n",
       "1  Health Care Services & Hospitals                       Health Care   \n",
       "2                          Internet            Information Technology   \n",
       "3                       IT Services            Information Technology   \n",
       "4               Sports & Recreation  Arts, Entertainment & Recreation   \n",
       "\n",
       "                      Revenue Competitors Easy Apply  \n",
       "0  $100 to $500 million (USD)          -1       True  \n",
       "1      $2 to $5 billion (USD)          -1         -1  \n",
       "2    Unknown / Non-Applicable     GoDaddy         -1  \n",
       "3   $50 to $100 million (USD)          -1         -1  \n",
       "4  $100 to $500 million (USD)  DraftKings       True  "
      ]
     },
     "execution_count": 4,
     "metadata": {},
     "output_type": "execute_result"
    }
   ],
   "source": [
    "#Charge data csv 'data-analyst-jobs' as format Dataframe from pandas\n",
    "df = pd.read_csv('../input/data-analyst-jobs/DataAnalyst.csv')\n",
    "df.head()"
   ]
  },
  {
   "cell_type": "code",
   "execution_count": 5,
   "metadata": {
    "execution": {
     "iopub.execute_input": "2020-10-18T23:25:53.478497Z",
     "iopub.status.busy": "2020-10-18T23:25:53.477638Z",
     "iopub.status.idle": "2020-10-18T23:25:53.494530Z",
     "shell.execute_reply": "2020-10-18T23:25:53.494960Z"
    },
    "papermill": {
     "duration": 0.06173,
     "end_time": "2020-10-18T23:25:53.495097",
     "exception": false,
     "start_time": "2020-10-18T23:25:53.433367",
     "status": "completed"
    },
    "tags": []
   },
   "outputs": [
    {
     "name": "stdout",
     "output_type": "stream",
     "text": [
      "<class 'pandas.core.frame.DataFrame'>\n",
      "RangeIndex: 2253 entries, 0 to 2252\n",
      "Data columns (total 16 columns):\n",
      " #   Column             Non-Null Count  Dtype  \n",
      "---  ------             --------------  -----  \n",
      " 0   Unnamed: 0         2253 non-null   int64  \n",
      " 1   Job Title          2253 non-null   object \n",
      " 2   Salary Estimate    2253 non-null   object \n",
      " 3   Job Description    2253 non-null   object \n",
      " 4   Rating             2253 non-null   float64\n",
      " 5   Company Name       2252 non-null   object \n",
      " 6   Location           2253 non-null   object \n",
      " 7   Headquarters       2253 non-null   object \n",
      " 8   Size               2253 non-null   object \n",
      " 9   Founded            2253 non-null   int64  \n",
      " 10  Type of ownership  2253 non-null   object \n",
      " 11  Industry           2253 non-null   object \n",
      " 12  Sector             2253 non-null   object \n",
      " 13  Revenue            2253 non-null   object \n",
      " 14  Competitors        2253 non-null   object \n",
      " 15  Easy Apply         2253 non-null   object \n",
      "dtypes: float64(1), int64(2), object(13)\n",
      "memory usage: 281.8+ KB\n"
     ]
    }
   ],
   "source": [
    "# General info from data:\n",
    "df.info()"
   ]
  },
  {
   "cell_type": "markdown",
   "metadata": {
    "papermill": {
     "duration": 0.036025,
     "end_time": "2020-10-18T23:25:53.567753",
     "exception": false,
     "start_time": "2020-10-18T23:25:53.531728",
     "status": "completed"
    },
    "tags": []
   },
   "source": [
    "# Data Cleaning to be Worked On"
   ]
  },
  {
   "cell_type": "code",
   "execution_count": 6,
   "metadata": {
    "execution": {
     "iopub.execute_input": "2020-10-18T23:25:53.648444Z",
     "iopub.status.busy": "2020-10-18T23:25:53.647604Z",
     "iopub.status.idle": "2020-10-18T23:25:53.664911Z",
     "shell.execute_reply": "2020-10-18T23:25:53.664393Z"
    },
    "papermill": {
     "duration": 0.061298,
     "end_time": "2020-10-18T23:25:53.665028",
     "exception": false,
     "start_time": "2020-10-18T23:25:53.603730",
     "status": "completed"
    },
    "tags": []
   },
   "outputs": [
    {
     "data": {
      "text/html": [
       "<div>\n",
       "<style scoped>\n",
       "    .dataframe tbody tr th:only-of-type {\n",
       "        vertical-align: middle;\n",
       "    }\n",
       "\n",
       "    .dataframe tbody tr th {\n",
       "        vertical-align: top;\n",
       "    }\n",
       "\n",
       "    .dataframe thead th {\n",
       "        text-align: right;\n",
       "    }\n",
       "</style>\n",
       "<table border=\"1\" class=\"dataframe\">\n",
       "  <thead>\n",
       "    <tr style=\"text-align: right;\">\n",
       "      <th></th>\n",
       "      <th>Job Title</th>\n",
       "      <th>Salary Estimate</th>\n",
       "      <th>Job Description</th>\n",
       "      <th>Rating</th>\n",
       "      <th>Company Name</th>\n",
       "      <th>Location</th>\n",
       "      <th>Headquarters</th>\n",
       "      <th>Size</th>\n",
       "      <th>Founded</th>\n",
       "      <th>Type of ownership</th>\n",
       "      <th>Industry</th>\n",
       "      <th>Sector</th>\n",
       "      <th>Revenue</th>\n",
       "      <th>Competitors</th>\n",
       "      <th>Easy Apply</th>\n",
       "    </tr>\n",
       "  </thead>\n",
       "  <tbody>\n",
       "    <tr>\n",
       "      <th>0</th>\n",
       "      <td>Data Analyst, Center on Immigration and Justic...</td>\n",
       "      <td>$37K-$66K (Glassdoor est.)</td>\n",
       "      <td>Are you eager to roll up your sleeves and harn...</td>\n",
       "      <td>3.2</td>\n",
       "      <td>Vera Institute of Justice\\n3.2</td>\n",
       "      <td>New York, NY</td>\n",
       "      <td>New York, NY</td>\n",
       "      <td>201 to 500 employees</td>\n",
       "      <td>1961</td>\n",
       "      <td>Nonprofit Organization</td>\n",
       "      <td>Social Assistance</td>\n",
       "      <td>Non-Profit</td>\n",
       "      <td>$100 to $500 million (USD)</td>\n",
       "      <td>-1</td>\n",
       "      <td>True</td>\n",
       "    </tr>\n",
       "    <tr>\n",
       "      <th>1</th>\n",
       "      <td>Quality Data Analyst</td>\n",
       "      <td>$37K-$66K (Glassdoor est.)</td>\n",
       "      <td>Overview\\n\\nProvides analytical and technical ...</td>\n",
       "      <td>3.8</td>\n",
       "      <td>Visiting Nurse Service of New York\\n3.8</td>\n",
       "      <td>New York, NY</td>\n",
       "      <td>New York, NY</td>\n",
       "      <td>10000+ employees</td>\n",
       "      <td>1893</td>\n",
       "      <td>Nonprofit Organization</td>\n",
       "      <td>Health Care Services &amp; Hospitals</td>\n",
       "      <td>Health Care</td>\n",
       "      <td>$2 to $5 billion (USD)</td>\n",
       "      <td>-1</td>\n",
       "      <td>-1</td>\n",
       "    </tr>\n",
       "  </tbody>\n",
       "</table>\n",
       "</div>"
      ],
      "text/plain": [
       "                                           Job Title  \\\n",
       "0  Data Analyst, Center on Immigration and Justic...   \n",
       "1                               Quality Data Analyst   \n",
       "\n",
       "              Salary Estimate  \\\n",
       "0  $37K-$66K (Glassdoor est.)   \n",
       "1  $37K-$66K (Glassdoor est.)   \n",
       "\n",
       "                                     Job Description  Rating  \\\n",
       "0  Are you eager to roll up your sleeves and harn...     3.2   \n",
       "1  Overview\\n\\nProvides analytical and technical ...     3.8   \n",
       "\n",
       "                              Company Name      Location  Headquarters  \\\n",
       "0           Vera Institute of Justice\\n3.2  New York, NY  New York, NY   \n",
       "1  Visiting Nurse Service of New York\\n3.8  New York, NY  New York, NY   \n",
       "\n",
       "                   Size  Founded       Type of ownership  \\\n",
       "0  201 to 500 employees     1961  Nonprofit Organization   \n",
       "1      10000+ employees     1893  Nonprofit Organization   \n",
       "\n",
       "                           Industry       Sector                     Revenue  \\\n",
       "0                 Social Assistance   Non-Profit  $100 to $500 million (USD)   \n",
       "1  Health Care Services & Hospitals  Health Care      $2 to $5 billion (USD)   \n",
       "\n",
       "  Competitors Easy Apply  \n",
       "0          -1       True  \n",
       "1          -1         -1  "
      ]
     },
     "execution_count": 6,
     "metadata": {},
     "output_type": "execute_result"
    }
   ],
   "source": [
    "# Delete column \"Unnamed: 0\"\n",
    "df.drop(['Unnamed: 0'], axis = 1, inplace = True)\n",
    "# Copy data a new DataFrame\n",
    "df1 = df.copy()\n",
    "df1.head(2)"
   ]
  },
  {
   "cell_type": "code",
   "execution_count": 7,
   "metadata": {
    "execution": {
     "iopub.execute_input": "2020-10-18T23:25:53.765428Z",
     "iopub.status.busy": "2020-10-18T23:25:53.764479Z",
     "iopub.status.idle": "2020-10-18T23:25:53.834931Z",
     "shell.execute_reply": "2020-10-18T23:25:53.835410Z"
    },
    "papermill": {
     "duration": 0.134449,
     "end_time": "2020-10-18T23:25:53.835520",
     "exception": false,
     "start_time": "2020-10-18T23:25:53.701071",
     "status": "completed"
    },
    "tags": []
   },
   "outputs": [
    {
     "name": "stderr",
     "output_type": "stream",
     "text": [
      "/opt/conda/lib/python3.7/site-packages/ipykernel_launcher.py:4: FutureWarning:\n",
      "\n",
      "Columnar iteration over characters will be deprecated in future releases.\n",
      "\n",
      "/opt/conda/lib/python3.7/site-packages/ipykernel_launcher.py:5: FutureWarning:\n",
      "\n",
      "Columnar iteration over characters will be deprecated in future releases.\n",
      "\n",
      "/opt/conda/lib/python3.7/site-packages/ipykernel_launcher.py:6: FutureWarning:\n",
      "\n",
      "Columnar iteration over characters will be deprecated in future releases.\n",
      "\n",
      "/opt/conda/lib/python3.7/site-packages/ipykernel_launcher.py:7: FutureWarning:\n",
      "\n",
      "Columnar iteration over characters will be deprecated in future releases.\n",
      "\n"
     ]
    },
    {
     "data": {
      "text/html": [
       "<div>\n",
       "<style scoped>\n",
       "    .dataframe tbody tr th:only-of-type {\n",
       "        vertical-align: middle;\n",
       "    }\n",
       "\n",
       "    .dataframe tbody tr th {\n",
       "        vertical-align: top;\n",
       "    }\n",
       "\n",
       "    .dataframe thead th {\n",
       "        text-align: right;\n",
       "    }\n",
       "</style>\n",
       "<table border=\"1\" class=\"dataframe\">\n",
       "  <thead>\n",
       "    <tr style=\"text-align: right;\">\n",
       "      <th></th>\n",
       "      <th>Job Title</th>\n",
       "      <th>Job Description</th>\n",
       "      <th>Rating</th>\n",
       "      <th>Company Name</th>\n",
       "      <th>Location</th>\n",
       "      <th>Headquarters</th>\n",
       "      <th>Size</th>\n",
       "      <th>Founded</th>\n",
       "      <th>Type of ownership</th>\n",
       "      <th>Industry</th>\n",
       "      <th>Sector</th>\n",
       "      <th>Revenue</th>\n",
       "      <th>Competitors</th>\n",
       "      <th>Easy Apply</th>\n",
       "      <th>Department</th>\n",
       "      <th>Min Salary</th>\n",
       "      <th>Max Salary</th>\n",
       "    </tr>\n",
       "  </thead>\n",
       "  <tbody>\n",
       "    <tr>\n",
       "      <th>0</th>\n",
       "      <td>Data Analyst</td>\n",
       "      <td>Are you eager to roll up your sleeves and harn...</td>\n",
       "      <td>3.2</td>\n",
       "      <td>Vera Institute of Justice</td>\n",
       "      <td>New York, NY</td>\n",
       "      <td>New York, NY</td>\n",
       "      <td>201 to 500 employees</td>\n",
       "      <td>1961</td>\n",
       "      <td>Nonprofit Organization</td>\n",
       "      <td>Social Assistance</td>\n",
       "      <td>Non-Profit</td>\n",
       "      <td>$100 to $500 million (USD)</td>\n",
       "      <td>-1</td>\n",
       "      <td>True</td>\n",
       "      <td>Center on Immigration and Justice (CIJ)</td>\n",
       "      <td>37</td>\n",
       "      <td>66</td>\n",
       "    </tr>\n",
       "    <tr>\n",
       "      <th>1</th>\n",
       "      <td>Quality Data Analyst</td>\n",
       "      <td>Overview\\n\\nProvides analytical and technical ...</td>\n",
       "      <td>3.8</td>\n",
       "      <td>Visiting Nurse Service of New York</td>\n",
       "      <td>New York, NY</td>\n",
       "      <td>New York, NY</td>\n",
       "      <td>10000+ employees</td>\n",
       "      <td>1893</td>\n",
       "      <td>Nonprofit Organization</td>\n",
       "      <td>Health Care Services &amp; Hospitals</td>\n",
       "      <td>Health Care</td>\n",
       "      <td>$2 to $5 billion (USD)</td>\n",
       "      <td>-1</td>\n",
       "      <td>-1</td>\n",
       "      <td>NaN</td>\n",
       "      <td>37</td>\n",
       "      <td>66</td>\n",
       "    </tr>\n",
       "    <tr>\n",
       "      <th>2</th>\n",
       "      <td>Senior Data Analyst</td>\n",
       "      <td>We’re looking for a Senior Data Analyst who ha...</td>\n",
       "      <td>3.4</td>\n",
       "      <td>Squarespace</td>\n",
       "      <td>New York, NY</td>\n",
       "      <td>New York, NY</td>\n",
       "      <td>1001 to 5000 employees</td>\n",
       "      <td>2003</td>\n",
       "      <td>Company - Private</td>\n",
       "      <td>Internet</td>\n",
       "      <td>Information Technology</td>\n",
       "      <td>Unknown / Non-Applicable</td>\n",
       "      <td>GoDaddy</td>\n",
       "      <td>-1</td>\n",
       "      <td>Insights &amp; Analytics Team [Customer Operations]</td>\n",
       "      <td>37</td>\n",
       "      <td>66</td>\n",
       "    </tr>\n",
       "    <tr>\n",
       "      <th>3</th>\n",
       "      <td>Data Analyst</td>\n",
       "      <td>Requisition NumberRR-0001939\\nRemote:Yes\\nWe c...</td>\n",
       "      <td>4.1</td>\n",
       "      <td>Celerity</td>\n",
       "      <td>New York, NY</td>\n",
       "      <td>McLean, VA</td>\n",
       "      <td>201 to 500 employees</td>\n",
       "      <td>2002</td>\n",
       "      <td>Subsidiary or Business Segment</td>\n",
       "      <td>IT Services</td>\n",
       "      <td>Information Technology</td>\n",
       "      <td>$50 to $100 million (USD)</td>\n",
       "      <td>-1</td>\n",
       "      <td>-1</td>\n",
       "      <td>NaN</td>\n",
       "      <td>37</td>\n",
       "      <td>66</td>\n",
       "    </tr>\n",
       "    <tr>\n",
       "      <th>4</th>\n",
       "      <td>Reporting Data Analyst</td>\n",
       "      <td>ABOUT FANDUEL GROUP\\n\\nFanDuel Group is a worl...</td>\n",
       "      <td>3.9</td>\n",
       "      <td>FanDuel</td>\n",
       "      <td>New York, NY</td>\n",
       "      <td>New York, NY</td>\n",
       "      <td>501 to 1000 employees</td>\n",
       "      <td>2009</td>\n",
       "      <td>Company - Private</td>\n",
       "      <td>Sports &amp; Recreation</td>\n",
       "      <td>Arts, Entertainment &amp; Recreation</td>\n",
       "      <td>$100 to $500 million (USD)</td>\n",
       "      <td>DraftKings</td>\n",
       "      <td>True</td>\n",
       "      <td>NaN</td>\n",
       "      <td>37</td>\n",
       "      <td>66</td>\n",
       "    </tr>\n",
       "  </tbody>\n",
       "</table>\n",
       "</div>"
      ],
      "text/plain": [
       "                Job Title                                    Job Description  \\\n",
       "0            Data Analyst  Are you eager to roll up your sleeves and harn...   \n",
       "1    Quality Data Analyst  Overview\\n\\nProvides analytical and technical ...   \n",
       "2     Senior Data Analyst  We’re looking for a Senior Data Analyst who ha...   \n",
       "3            Data Analyst  Requisition NumberRR-0001939\\nRemote:Yes\\nWe c...   \n",
       "4  Reporting Data Analyst  ABOUT FANDUEL GROUP\\n\\nFanDuel Group is a worl...   \n",
       "\n",
       "   Rating                        Company Name      Location  Headquarters  \\\n",
       "0     3.2           Vera Institute of Justice  New York, NY  New York, NY   \n",
       "1     3.8  Visiting Nurse Service of New York  New York, NY  New York, NY   \n",
       "2     3.4                         Squarespace  New York, NY  New York, NY   \n",
       "3     4.1                            Celerity  New York, NY    McLean, VA   \n",
       "4     3.9                             FanDuel  New York, NY  New York, NY   \n",
       "\n",
       "                     Size  Founded               Type of ownership  \\\n",
       "0    201 to 500 employees     1961          Nonprofit Organization   \n",
       "1        10000+ employees     1893          Nonprofit Organization   \n",
       "2  1001 to 5000 employees     2003               Company - Private   \n",
       "3    201 to 500 employees     2002  Subsidiary or Business Segment   \n",
       "4   501 to 1000 employees     2009               Company - Private   \n",
       "\n",
       "                           Industry                            Sector  \\\n",
       "0                 Social Assistance                        Non-Profit   \n",
       "1  Health Care Services & Hospitals                       Health Care   \n",
       "2                          Internet            Information Technology   \n",
       "3                       IT Services            Information Technology   \n",
       "4               Sports & Recreation  Arts, Entertainment & Recreation   \n",
       "\n",
       "                      Revenue Competitors Easy Apply  \\\n",
       "0  $100 to $500 million (USD)          -1       True   \n",
       "1      $2 to $5 billion (USD)          -1         -1   \n",
       "2    Unknown / Non-Applicable     GoDaddy         -1   \n",
       "3   $50 to $100 million (USD)          -1         -1   \n",
       "4  $100 to $500 million (USD)  DraftKings       True   \n",
       "\n",
       "                                         Department  Min Salary  Max Salary  \n",
       "0           Center on Immigration and Justice (CIJ)          37          66  \n",
       "1                                               NaN          37          66  \n",
       "2   Insights & Analytics Team [Customer Operations]          37          66  \n",
       "3                                               NaN          37          66  \n",
       "4                                               NaN          37          66  "
      ]
     },
     "execution_count": 7,
     "metadata": {},
     "output_type": "execute_result"
    }
   ],
   "source": [
    "# DATA CLEANING\n",
    "\n",
    "#Separate values for create new two fields from them:\n",
    "df1['Job Title'],df1['Department']= df['Job Title'].str.split(',',1).str\n",
    "df1['Company Name'],_ = df['Company Name'].str.split('\\n',1).str\n",
    "df1['Salary Estimate'],_= df['Salary Estimate'].str.split('(',1).str\n",
    "df1['Min Salary'],df1['Max Salary']= df1['Salary Estimate'].str.split('-').str\n",
    "\n",
    "# Created values Max Salary and Min Salary as well as data cleaning with strip methods from string class\n",
    "# Replace withe spaces for nan values through the numpy.\n",
    "clean_salary = lambda x: x.replace('', np.nan).str.strip().str.lstrip('$').str.rstrip('K').fillna(0).astype(int)\n",
    "df1['Min Salary'] = clean_salary(df1['Min Salary'])\n",
    "df1['Max Salary'] = clean_salary(df1['Max Salary'])\n",
    "\n",
    "# Empty Field 'Salary Estimate' but created Max and Min salary.\n",
    "df1 = df1.drop(['Salary Estimate'],axis = 1)\n",
    "\n",
    "# Show 'df1' with the changes realized previously. \n",
    "df1.head()"
   ]
  },
  {
   "cell_type": "markdown",
   "metadata": {
    "papermill": {
     "duration": 0.037534,
     "end_time": "2020-10-18T23:25:53.910842",
     "exception": false,
     "start_time": "2020-10-18T23:25:53.873308",
     "status": "completed"
    },
    "tags": []
   },
   "source": [
    "# Companies Easy Apply for Data Analyst Jobs"
   ]
  },
  {
   "cell_type": "code",
   "execution_count": 8,
   "metadata": {
    "execution": {
     "iopub.execute_input": "2020-10-18T23:25:53.992961Z",
     "iopub.status.busy": "2020-10-18T23:25:53.992204Z",
     "iopub.status.idle": "2020-10-18T23:25:53.995424Z",
     "shell.execute_reply": "2020-10-18T23:25:53.995997Z"
    },
    "papermill": {
     "duration": 0.048389,
     "end_time": "2020-10-18T23:25:53.996145",
     "exception": false,
     "start_time": "2020-10-18T23:25:53.947756",
     "status": "completed"
    },
    "tags": []
   },
   "outputs": [
    {
     "data": {
      "text/plain": [
       "-1      2173\n",
       "True      80\n",
       "Name: Easy Apply, dtype: int64"
      ]
     },
     "execution_count": 8,
     "metadata": {},
     "output_type": "execute_result"
    }
   ],
   "source": [
    "# DATA ANALYTICS\n",
    "# Count values from easy apply for each job offers\n",
    "df1['Easy Apply'].value_counts()"
   ]
  },
  {
   "cell_type": "code",
   "execution_count": 9,
   "metadata": {
    "execution": {
     "iopub.execute_input": "2020-10-18T23:25:54.076971Z",
     "iopub.status.busy": "2020-10-18T23:25:54.075584Z",
     "iopub.status.idle": "2020-10-18T23:25:54.078143Z",
     "shell.execute_reply": "2020-10-18T23:25:54.078606Z"
    },
    "papermill": {
     "duration": 0.045422,
     "end_time": "2020-10-18T23:25:54.078708",
     "exception": false,
     "start_time": "2020-10-18T23:25:54.033286",
     "status": "completed"
    },
    "tags": []
   },
   "outputs": [],
   "source": [
    "# Easy applicated only 80 companies, the rest could to be applicated dificult it.\n",
    "# With a function, it recodes key and values to take new values between 0 and 1\n",
    "def recode(column, new_code):\n",
    "    col_cod = pd.Series(column, copy = True)\n",
    "    for key, values in new_code.items():\n",
    "        col_cod.replace(key, values, inplace = True)\n",
    "    return col_cod"
   ]
  },
  {
   "cell_type": "code",
   "execution_count": 10,
   "metadata": {
    "execution": {
     "iopub.execute_input": "2020-10-18T23:25:54.162165Z",
     "iopub.status.busy": "2020-10-18T23:25:54.161586Z",
     "iopub.status.idle": "2020-10-18T23:25:54.199636Z",
     "shell.execute_reply": "2020-10-18T23:25:54.199165Z"
    },
    "papermill": {
     "duration": 0.08391,
     "end_time": "2020-10-18T23:25:54.199729",
     "exception": false,
     "start_time": "2020-10-18T23:25:54.115819",
     "status": "completed"
    },
    "tags": []
   },
   "outputs": [
    {
     "data": {
      "text/html": [
       "<div>\n",
       "<style scoped>\n",
       "    .dataframe tbody tr th:only-of-type {\n",
       "        vertical-align: middle;\n",
       "    }\n",
       "\n",
       "    .dataframe tbody tr th {\n",
       "        vertical-align: top;\n",
       "    }\n",
       "\n",
       "    .dataframe thead th {\n",
       "        text-align: right;\n",
       "    }\n",
       "</style>\n",
       "<table border=\"1\" class=\"dataframe\">\n",
       "  <thead>\n",
       "    <tr style=\"text-align: right;\">\n",
       "      <th></th>\n",
       "      <th>Job Title</th>\n",
       "      <th>Job Description</th>\n",
       "      <th>Rating</th>\n",
       "      <th>Company Name</th>\n",
       "      <th>Location</th>\n",
       "      <th>Headquarters</th>\n",
       "      <th>Size</th>\n",
       "      <th>Founded</th>\n",
       "      <th>Type of ownership</th>\n",
       "      <th>Industry</th>\n",
       "      <th>Sector</th>\n",
       "      <th>Revenue</th>\n",
       "      <th>Competitors</th>\n",
       "      <th>Easy Apply</th>\n",
       "      <th>Department</th>\n",
       "      <th>Min Salary</th>\n",
       "      <th>Max Salary</th>\n",
       "    </tr>\n",
       "  </thead>\n",
       "  <tbody>\n",
       "    <tr>\n",
       "      <th>0</th>\n",
       "      <td>Data Analyst</td>\n",
       "      <td>Are you eager to roll up your sleeves and harn...</td>\n",
       "      <td>3.2</td>\n",
       "      <td>Vera Institute of Justice</td>\n",
       "      <td>New York, NY</td>\n",
       "      <td>New York, NY</td>\n",
       "      <td>201 to 500 employees</td>\n",
       "      <td>1961</td>\n",
       "      <td>Nonprofit Organization</td>\n",
       "      <td>Social Assistance</td>\n",
       "      <td>Non-Profit</td>\n",
       "      <td>$100 to $500 million (USD)</td>\n",
       "      <td>NaN</td>\n",
       "      <td>1</td>\n",
       "      <td>Center on Immigration and Justice (CIJ)</td>\n",
       "      <td>37</td>\n",
       "      <td>66</td>\n",
       "    </tr>\n",
       "    <tr>\n",
       "      <th>4</th>\n",
       "      <td>Reporting Data Analyst</td>\n",
       "      <td>ABOUT FANDUEL GROUP\\n\\nFanDuel Group is a worl...</td>\n",
       "      <td>3.9</td>\n",
       "      <td>FanDuel</td>\n",
       "      <td>New York, NY</td>\n",
       "      <td>New York, NY</td>\n",
       "      <td>501 to 1000 employees</td>\n",
       "      <td>2009</td>\n",
       "      <td>Company - Private</td>\n",
       "      <td>Sports &amp; Recreation</td>\n",
       "      <td>Arts, Entertainment &amp; Recreation</td>\n",
       "      <td>$100 to $500 million (USD)</td>\n",
       "      <td>DraftKings</td>\n",
       "      <td>1</td>\n",
       "      <td>NaN</td>\n",
       "      <td>37</td>\n",
       "      <td>66</td>\n",
       "    </tr>\n",
       "    <tr>\n",
       "      <th>7</th>\n",
       "      <td>Data Science Analyst</td>\n",
       "      <td>Data Science Analyst\\n\\nJob Details\\nLevel\\nEx...</td>\n",
       "      <td>3.7</td>\n",
       "      <td>GNY Insurance Companies</td>\n",
       "      <td>New York, NY</td>\n",
       "      <td>New York, NY</td>\n",
       "      <td>201 to 500 employees</td>\n",
       "      <td>1914</td>\n",
       "      <td>Company - Private</td>\n",
       "      <td>Insurance Carriers</td>\n",
       "      <td>Insurance</td>\n",
       "      <td>$100 to $500 million (USD)</td>\n",
       "      <td>Travelers, Chubb, Crum &amp; Forster</td>\n",
       "      <td>1</td>\n",
       "      <td>NaN</td>\n",
       "      <td>37</td>\n",
       "      <td>66</td>\n",
       "    </tr>\n",
       "    <tr>\n",
       "      <th>13</th>\n",
       "      <td>Senior Data Analyst</td>\n",
       "      <td>About Known\\n\\nKnown is a modern marketing com...</td>\n",
       "      <td>3.0</td>\n",
       "      <td>Known</td>\n",
       "      <td>New York, NY</td>\n",
       "      <td>New York, NY</td>\n",
       "      <td>201 to 500 employees</td>\n",
       "      <td>2004</td>\n",
       "      <td>Company - Private</td>\n",
       "      <td>Advertising &amp; Marketing</td>\n",
       "      <td>Business Services</td>\n",
       "      <td>$100 to $500 million (USD)</td>\n",
       "      <td>NaN</td>\n",
       "      <td>1</td>\n",
       "      <td>NaN</td>\n",
       "      <td>37</td>\n",
       "      <td>66</td>\n",
       "    </tr>\n",
       "    <tr>\n",
       "      <th>16</th>\n",
       "      <td>Data Analyst</td>\n",
       "      <td>Undertone stands alone among AdTech and ad net...</td>\n",
       "      <td>3.8</td>\n",
       "      <td>Undertone</td>\n",
       "      <td>New York, NY</td>\n",
       "      <td>New York, NY</td>\n",
       "      <td>201 to 500 employees</td>\n",
       "      <td>2001</td>\n",
       "      <td>Subsidiary or Business Segment</td>\n",
       "      <td>Advertising &amp; Marketing</td>\n",
       "      <td>Business Services</td>\n",
       "      <td>Unknown / Non-Applicable</td>\n",
       "      <td>DoubleClick, Specific Media, Collective</td>\n",
       "      <td>1</td>\n",
       "      <td>NaN</td>\n",
       "      <td>37</td>\n",
       "      <td>66</td>\n",
       "    </tr>\n",
       "  </tbody>\n",
       "</table>\n",
       "</div>"
      ],
      "text/plain": [
       "                 Job Title                                    Job Description  \\\n",
       "0             Data Analyst  Are you eager to roll up your sleeves and harn...   \n",
       "4   Reporting Data Analyst  ABOUT FANDUEL GROUP\\n\\nFanDuel Group is a worl...   \n",
       "7     Data Science Analyst  Data Science Analyst\\n\\nJob Details\\nLevel\\nEx...   \n",
       "13     Senior Data Analyst  About Known\\n\\nKnown is a modern marketing com...   \n",
       "16            Data Analyst  Undertone stands alone among AdTech and ad net...   \n",
       "\n",
       "    Rating               Company Name      Location  Headquarters  \\\n",
       "0      3.2  Vera Institute of Justice  New York, NY  New York, NY   \n",
       "4      3.9                    FanDuel  New York, NY  New York, NY   \n",
       "7      3.7    GNY Insurance Companies  New York, NY  New York, NY   \n",
       "13     3.0                      Known  New York, NY  New York, NY   \n",
       "16     3.8                  Undertone  New York, NY  New York, NY   \n",
       "\n",
       "                     Size  Founded               Type of ownership  \\\n",
       "0    201 to 500 employees     1961          Nonprofit Organization   \n",
       "4   501 to 1000 employees     2009               Company - Private   \n",
       "7    201 to 500 employees     1914               Company - Private   \n",
       "13   201 to 500 employees     2004               Company - Private   \n",
       "16   201 to 500 employees     2001  Subsidiary or Business Segment   \n",
       "\n",
       "                   Industry                            Sector  \\\n",
       "0         Social Assistance                        Non-Profit   \n",
       "4       Sports & Recreation  Arts, Entertainment & Recreation   \n",
       "7        Insurance Carriers                         Insurance   \n",
       "13  Advertising & Marketing                 Business Services   \n",
       "16  Advertising & Marketing                 Business Services   \n",
       "\n",
       "                       Revenue                              Competitors  \\\n",
       "0   $100 to $500 million (USD)                                      NaN   \n",
       "4   $100 to $500 million (USD)                               DraftKings   \n",
       "7   $100 to $500 million (USD)         Travelers, Chubb, Crum & Forster   \n",
       "13  $100 to $500 million (USD)                                      NaN   \n",
       "16    Unknown / Non-Applicable  DoubleClick, Specific Media, Collective   \n",
       "\n",
       "    Easy Apply                                Department  Min Salary  \\\n",
       "0            1   Center on Immigration and Justice (CIJ)          37   \n",
       "4            1                                       NaN          37   \n",
       "7            1                                       NaN          37   \n",
       "13           1                                       NaN          37   \n",
       "16           1                                       NaN          37   \n",
       "\n",
       "    Max Salary  \n",
       "0           66  \n",
       "4           66  \n",
       "7           66  \n",
       "13          66  \n",
       "16          66  "
      ]
     },
     "execution_count": 10,
     "metadata": {},
     "output_type": "execute_result"
    }
   ],
   "source": [
    "# Use the new function\n",
    "df1['Easy Apply'] = recode(df1['Easy Apply'],{'-1':0,'True':1})\n",
    "df1['Competitors'] = recode(df1['Competitors'],{'-1':np.nan})\n",
    "\n",
    "# Extracted data the Easy Apply with values equal '1', in the other words,  \n",
    "# this part will to make only in offers jobs where is easy applicated\n",
    "df_easy_apply = df1[df1['Easy Apply'] == 1]\n",
    "df_easy_apply.reset_index()\n",
    "df_easy_apply.head()"
   ]
  },
  {
   "cell_type": "code",
   "execution_count": 11,
   "metadata": {
    "execution": {
     "iopub.execute_input": "2020-10-18T23:25:54.289282Z",
     "iopub.status.busy": "2020-10-18T23:25:54.288337Z",
     "iopub.status.idle": "2020-10-18T23:25:54.304591Z",
     "shell.execute_reply": "2020-10-18T23:25:54.304125Z"
    },
    "papermill": {
     "duration": 0.067271,
     "end_time": "2020-10-18T23:25:54.304688",
     "exception": false,
     "start_time": "2020-10-18T23:25:54.237417",
     "status": "completed"
    },
    "tags": []
   },
   "outputs": [
    {
     "data": {
      "text/html": [
       "<div>\n",
       "<style scoped>\n",
       "    .dataframe tbody tr th:only-of-type {\n",
       "        vertical-align: middle;\n",
       "    }\n",
       "\n",
       "    .dataframe tbody tr th {\n",
       "        vertical-align: top;\n",
       "    }\n",
       "\n",
       "    .dataframe thead th {\n",
       "        text-align: right;\n",
       "    }\n",
       "</style>\n",
       "<table border=\"1\" class=\"dataframe\">\n",
       "  <thead>\n",
       "    <tr style=\"text-align: right;\">\n",
       "      <th></th>\n",
       "      <th>Company Name</th>\n",
       "      <th>Easy Apply</th>\n",
       "      <th>Max Salary</th>\n",
       "    </tr>\n",
       "  </thead>\n",
       "  <tbody>\n",
       "    <tr>\n",
       "      <th>0</th>\n",
       "      <td>Apex Systems</td>\n",
       "      <td>10</td>\n",
       "      <td>86.700000</td>\n",
       "    </tr>\n",
       "    <tr>\n",
       "      <th>1</th>\n",
       "      <td>22nd Century Technologies</td>\n",
       "      <td>5</td>\n",
       "      <td>92.200000</td>\n",
       "    </tr>\n",
       "    <tr>\n",
       "      <th>2</th>\n",
       "      <td>Chime</td>\n",
       "      <td>3</td>\n",
       "      <td>106.333333</td>\n",
       "    </tr>\n",
       "    <tr>\n",
       "      <th>3</th>\n",
       "      <td>Signify Health</td>\n",
       "      <td>3</td>\n",
       "      <td>62.666667</td>\n",
       "    </tr>\n",
       "    <tr>\n",
       "      <th>4</th>\n",
       "      <td>22nd Century Staffing</td>\n",
       "      <td>2</td>\n",
       "      <td>100.000000</td>\n",
       "    </tr>\n",
       "    <tr>\n",
       "      <th>5</th>\n",
       "      <td>Tempus Labs</td>\n",
       "      <td>2</td>\n",
       "      <td>105.500000</td>\n",
       "    </tr>\n",
       "    <tr>\n",
       "      <th>6</th>\n",
       "      <td>Undertone</td>\n",
       "      <td>2</td>\n",
       "      <td>66.000000</td>\n",
       "    </tr>\n",
       "    <tr>\n",
       "      <th>7</th>\n",
       "      <td>BOLD</td>\n",
       "      <td>2</td>\n",
       "      <td>132.000000</td>\n",
       "    </tr>\n",
       "    <tr>\n",
       "      <th>8</th>\n",
       "      <td>Omada Health</td>\n",
       "      <td>1</td>\n",
       "      <td>159.000000</td>\n",
       "    </tr>\n",
       "    <tr>\n",
       "      <th>9</th>\n",
       "      <td>OSI Engineering</td>\n",
       "      <td>1</td>\n",
       "      <td>190.000000</td>\n",
       "    </tr>\n",
       "  </tbody>\n",
       "</table>\n",
       "</div>"
      ],
      "text/plain": [
       "                Company Name  Easy Apply  Max Salary\n",
       "0               Apex Systems          10   86.700000\n",
       "1  22nd Century Technologies           5   92.200000\n",
       "2                      Chime           3  106.333333\n",
       "3             Signify Health           3   62.666667\n",
       "4      22nd Century Staffing           2  100.000000\n",
       "5                Tempus Labs           2  105.500000\n",
       "6                  Undertone           2   66.000000\n",
       "7                       BOLD           2  132.000000\n",
       "8               Omada Health           1  159.000000\n",
       "9            OSI Engineering           1  190.000000"
      ]
     },
     "execution_count": 11,
     "metadata": {},
     "output_type": "execute_result"
    }
   ],
   "source": [
    "# New Dataframe through method 'Groupby' from 'pandas' packet. It's grouped in fallen order and count the values \"Easy Apply\" for each offer jobs\n",
    "df_easy_apply_1 = df_easy_apply.groupby(['Company Name','Sector'])['Easy Apply'].count().reset_index()\n",
    "# In the same way, apply method 'Groupby' with the values \"Max Salary\". It's grouped throght it's average\n",
    "df_easy_apply_2 = df_easy_apply.groupby(['Company Name'])['Max Salary'].mean().reset_index()\n",
    "# Apply concate fields and order descendent for dataframe before and perform cut in ten primary\n",
    "df_easy = pd.DataFrame()\n",
    "df_easy = pd.concat([df_easy_apply_1['Company Name'], df_easy_apply_1['Easy Apply'], \n",
    "                     df_easy_apply_2['Max Salary']], axis = 1)\n",
    "df_easy = df_easy.sort_values('Easy Apply', ascending = False).head(10).reset_index().drop('index', axis = 1)\n",
    "df_easy.head(10)"
   ]
  },
  {
   "cell_type": "code",
   "execution_count": 12,
   "metadata": {
    "execution": {
     "iopub.execute_input": "2020-10-18T23:25:54.390343Z",
     "iopub.status.busy": "2020-10-18T23:25:54.389658Z",
     "iopub.status.idle": "2020-10-18T23:25:55.312337Z",
     "shell.execute_reply": "2020-10-18T23:25:55.312842Z"
    },
    "papermill": {
     "duration": 0.967718,
     "end_time": "2020-10-18T23:25:55.312974",
     "exception": false,
     "start_time": "2020-10-18T23:25:54.345256",
     "status": "completed"
    },
    "tags": []
   },
   "outputs": [
    {
     "data": {
      "application/vnd.plotly.v1+json": {
       "config": {
        "plotlyServerURL": "https://plot.ly"
       },
       "data": [
        {
         "alignmentgroup": "True",
         "hovertemplate": "Company Name=%{x}<br>Easy Apply=%{y}<br>Max Salary=%{marker.color}<extra></extra>",
         "legendgroup": "",
         "marker": {
          "color": [
           86.7,
           92.2,
           106.33333333333333,
           62.666666666666664,
           100.0,
           105.5,
           66.0,
           132.0,
           159.0,
           190.0
          ],
          "coloraxis": "coloraxis"
         },
         "name": "",
         "offsetgroup": "",
         "orientation": "v",
         "showlegend": false,
         "textposition": "auto",
         "type": "bar",
         "x": [
          "Apex Systems",
          "22nd Century Technologies",
          "Chime",
          "Signify Health",
          "22nd Century Staffing",
          "Tempus Labs",
          "Undertone",
          "BOLD",
          "Omada Health",
          "OSI Engineering"
         ],
         "xaxis": "x",
         "y": [
          10,
          5,
          3,
          3,
          2,
          2,
          2,
          2,
          1,
          1
         ],
         "yaxis": "y"
        }
       ],
       "layout": {
        "barmode": "relative",
        "coloraxis": {
         "colorbar": {
          "title": {
           "text": "Max Salary"
          }
         },
         "colorscale": [
          [
           0.0,
           "#440154"
          ],
          [
           0.1111111111111111,
           "#482878"
          ],
          [
           0.2222222222222222,
           "#3e4989"
          ],
          [
           0.3333333333333333,
           "#31688e"
          ],
          [
           0.4444444444444444,
           "#26828e"
          ],
          [
           0.5555555555555556,
           "#1f9e89"
          ],
          [
           0.6666666666666666,
           "#35b779"
          ],
          [
           0.7777777777777778,
           "#6ece58"
          ],
          [
           0.8888888888888888,
           "#b5de2b"
          ],
          [
           1.0,
           "#fde725"
          ]
         ]
        },
        "legend": {
         "tracegroupgap": 0
        },
        "template": {
         "data": {
          "bar": [
           {
            "error_x": {
             "color": "#2a3f5f"
            },
            "error_y": {
             "color": "#2a3f5f"
            },
            "marker": {
             "line": {
              "color": "#E5ECF6",
              "width": 0.5
             }
            },
            "type": "bar"
           }
          ],
          "barpolar": [
           {
            "marker": {
             "line": {
              "color": "#E5ECF6",
              "width": 0.5
             }
            },
            "type": "barpolar"
           }
          ],
          "carpet": [
           {
            "aaxis": {
             "endlinecolor": "#2a3f5f",
             "gridcolor": "white",
             "linecolor": "white",
             "minorgridcolor": "white",
             "startlinecolor": "#2a3f5f"
            },
            "baxis": {
             "endlinecolor": "#2a3f5f",
             "gridcolor": "white",
             "linecolor": "white",
             "minorgridcolor": "white",
             "startlinecolor": "#2a3f5f"
            },
            "type": "carpet"
           }
          ],
          "choropleth": [
           {
            "colorbar": {
             "outlinewidth": 0,
             "ticks": ""
            },
            "type": "choropleth"
           }
          ],
          "contour": [
           {
            "colorbar": {
             "outlinewidth": 0,
             "ticks": ""
            },
            "colorscale": [
             [
              0.0,
              "#0d0887"
             ],
             [
              0.1111111111111111,
              "#46039f"
             ],
             [
              0.2222222222222222,
              "#7201a8"
             ],
             [
              0.3333333333333333,
              "#9c179e"
             ],
             [
              0.4444444444444444,
              "#bd3786"
             ],
             [
              0.5555555555555556,
              "#d8576b"
             ],
             [
              0.6666666666666666,
              "#ed7953"
             ],
             [
              0.7777777777777778,
              "#fb9f3a"
             ],
             [
              0.8888888888888888,
              "#fdca26"
             ],
             [
              1.0,
              "#f0f921"
             ]
            ],
            "type": "contour"
           }
          ],
          "contourcarpet": [
           {
            "colorbar": {
             "outlinewidth": 0,
             "ticks": ""
            },
            "type": "contourcarpet"
           }
          ],
          "heatmap": [
           {
            "colorbar": {
             "outlinewidth": 0,
             "ticks": ""
            },
            "colorscale": [
             [
              0.0,
              "#0d0887"
             ],
             [
              0.1111111111111111,
              "#46039f"
             ],
             [
              0.2222222222222222,
              "#7201a8"
             ],
             [
              0.3333333333333333,
              "#9c179e"
             ],
             [
              0.4444444444444444,
              "#bd3786"
             ],
             [
              0.5555555555555556,
              "#d8576b"
             ],
             [
              0.6666666666666666,
              "#ed7953"
             ],
             [
              0.7777777777777778,
              "#fb9f3a"
             ],
             [
              0.8888888888888888,
              "#fdca26"
             ],
             [
              1.0,
              "#f0f921"
             ]
            ],
            "type": "heatmap"
           }
          ],
          "heatmapgl": [
           {
            "colorbar": {
             "outlinewidth": 0,
             "ticks": ""
            },
            "colorscale": [
             [
              0.0,
              "#0d0887"
             ],
             [
              0.1111111111111111,
              "#46039f"
             ],
             [
              0.2222222222222222,
              "#7201a8"
             ],
             [
              0.3333333333333333,
              "#9c179e"
             ],
             [
              0.4444444444444444,
              "#bd3786"
             ],
             [
              0.5555555555555556,
              "#d8576b"
             ],
             [
              0.6666666666666666,
              "#ed7953"
             ],
             [
              0.7777777777777778,
              "#fb9f3a"
             ],
             [
              0.8888888888888888,
              "#fdca26"
             ],
             [
              1.0,
              "#f0f921"
             ]
            ],
            "type": "heatmapgl"
           }
          ],
          "histogram": [
           {
            "marker": {
             "colorbar": {
              "outlinewidth": 0,
              "ticks": ""
             }
            },
            "type": "histogram"
           }
          ],
          "histogram2d": [
           {
            "colorbar": {
             "outlinewidth": 0,
             "ticks": ""
            },
            "colorscale": [
             [
              0.0,
              "#0d0887"
             ],
             [
              0.1111111111111111,
              "#46039f"
             ],
             [
              0.2222222222222222,
              "#7201a8"
             ],
             [
              0.3333333333333333,
              "#9c179e"
             ],
             [
              0.4444444444444444,
              "#bd3786"
             ],
             [
              0.5555555555555556,
              "#d8576b"
             ],
             [
              0.6666666666666666,
              "#ed7953"
             ],
             [
              0.7777777777777778,
              "#fb9f3a"
             ],
             [
              0.8888888888888888,
              "#fdca26"
             ],
             [
              1.0,
              "#f0f921"
             ]
            ],
            "type": "histogram2d"
           }
          ],
          "histogram2dcontour": [
           {
            "colorbar": {
             "outlinewidth": 0,
             "ticks": ""
            },
            "colorscale": [
             [
              0.0,
              "#0d0887"
             ],
             [
              0.1111111111111111,
              "#46039f"
             ],
             [
              0.2222222222222222,
              "#7201a8"
             ],
             [
              0.3333333333333333,
              "#9c179e"
             ],
             [
              0.4444444444444444,
              "#bd3786"
             ],
             [
              0.5555555555555556,
              "#d8576b"
             ],
             [
              0.6666666666666666,
              "#ed7953"
             ],
             [
              0.7777777777777778,
              "#fb9f3a"
             ],
             [
              0.8888888888888888,
              "#fdca26"
             ],
             [
              1.0,
              "#f0f921"
             ]
            ],
            "type": "histogram2dcontour"
           }
          ],
          "mesh3d": [
           {
            "colorbar": {
             "outlinewidth": 0,
             "ticks": ""
            },
            "type": "mesh3d"
           }
          ],
          "parcoords": [
           {
            "line": {
             "colorbar": {
              "outlinewidth": 0,
              "ticks": ""
             }
            },
            "type": "parcoords"
           }
          ],
          "pie": [
           {
            "automargin": true,
            "type": "pie"
           }
          ],
          "scatter": [
           {
            "marker": {
             "colorbar": {
              "outlinewidth": 0,
              "ticks": ""
             }
            },
            "type": "scatter"
           }
          ],
          "scatter3d": [
           {
            "line": {
             "colorbar": {
              "outlinewidth": 0,
              "ticks": ""
             }
            },
            "marker": {
             "colorbar": {
              "outlinewidth": 0,
              "ticks": ""
             }
            },
            "type": "scatter3d"
           }
          ],
          "scattercarpet": [
           {
            "marker": {
             "colorbar": {
              "outlinewidth": 0,
              "ticks": ""
             }
            },
            "type": "scattercarpet"
           }
          ],
          "scattergeo": [
           {
            "marker": {
             "colorbar": {
              "outlinewidth": 0,
              "ticks": ""
             }
            },
            "type": "scattergeo"
           }
          ],
          "scattergl": [
           {
            "marker": {
             "colorbar": {
              "outlinewidth": 0,
              "ticks": ""
             }
            },
            "type": "scattergl"
           }
          ],
          "scattermapbox": [
           {
            "marker": {
             "colorbar": {
              "outlinewidth": 0,
              "ticks": ""
             }
            },
            "type": "scattermapbox"
           }
          ],
          "scatterpolar": [
           {
            "marker": {
             "colorbar": {
              "outlinewidth": 0,
              "ticks": ""
             }
            },
            "type": "scatterpolar"
           }
          ],
          "scatterpolargl": [
           {
            "marker": {
             "colorbar": {
              "outlinewidth": 0,
              "ticks": ""
             }
            },
            "type": "scatterpolargl"
           }
          ],
          "scatterternary": [
           {
            "marker": {
             "colorbar": {
              "outlinewidth": 0,
              "ticks": ""
             }
            },
            "type": "scatterternary"
           }
          ],
          "surface": [
           {
            "colorbar": {
             "outlinewidth": 0,
             "ticks": ""
            },
            "colorscale": [
             [
              0.0,
              "#0d0887"
             ],
             [
              0.1111111111111111,
              "#46039f"
             ],
             [
              0.2222222222222222,
              "#7201a8"
             ],
             [
              0.3333333333333333,
              "#9c179e"
             ],
             [
              0.4444444444444444,
              "#bd3786"
             ],
             [
              0.5555555555555556,
              "#d8576b"
             ],
             [
              0.6666666666666666,
              "#ed7953"
             ],
             [
              0.7777777777777778,
              "#fb9f3a"
             ],
             [
              0.8888888888888888,
              "#fdca26"
             ],
             [
              1.0,
              "#f0f921"
             ]
            ],
            "type": "surface"
           }
          ],
          "table": [
           {
            "cells": {
             "fill": {
              "color": "#EBF0F8"
             },
             "line": {
              "color": "white"
             }
            },
            "header": {
             "fill": {
              "color": "#C8D4E3"
             },
             "line": {
              "color": "white"
             }
            },
            "type": "table"
           }
          ]
         },
         "layout": {
          "annotationdefaults": {
           "arrowcolor": "#2a3f5f",
           "arrowhead": 0,
           "arrowwidth": 1
          },
          "coloraxis": {
           "colorbar": {
            "outlinewidth": 0,
            "ticks": ""
           }
          },
          "colorscale": {
           "diverging": [
            [
             0,
             "#8e0152"
            ],
            [
             0.1,
             "#c51b7d"
            ],
            [
             0.2,
             "#de77ae"
            ],
            [
             0.3,
             "#f1b6da"
            ],
            [
             0.4,
             "#fde0ef"
            ],
            [
             0.5,
             "#f7f7f7"
            ],
            [
             0.6,
             "#e6f5d0"
            ],
            [
             0.7,
             "#b8e186"
            ],
            [
             0.8,
             "#7fbc41"
            ],
            [
             0.9,
             "#4d9221"
            ],
            [
             1,
             "#276419"
            ]
           ],
           "sequential": [
            [
             0.0,
             "#0d0887"
            ],
            [
             0.1111111111111111,
             "#46039f"
            ],
            [
             0.2222222222222222,
             "#7201a8"
            ],
            [
             0.3333333333333333,
             "#9c179e"
            ],
            [
             0.4444444444444444,
             "#bd3786"
            ],
            [
             0.5555555555555556,
             "#d8576b"
            ],
            [
             0.6666666666666666,
             "#ed7953"
            ],
            [
             0.7777777777777778,
             "#fb9f3a"
            ],
            [
             0.8888888888888888,
             "#fdca26"
            ],
            [
             1.0,
             "#f0f921"
            ]
           ],
           "sequentialminus": [
            [
             0.0,
             "#0d0887"
            ],
            [
             0.1111111111111111,
             "#46039f"
            ],
            [
             0.2222222222222222,
             "#7201a8"
            ],
            [
             0.3333333333333333,
             "#9c179e"
            ],
            [
             0.4444444444444444,
             "#bd3786"
            ],
            [
             0.5555555555555556,
             "#d8576b"
            ],
            [
             0.6666666666666666,
             "#ed7953"
            ],
            [
             0.7777777777777778,
             "#fb9f3a"
            ],
            [
             0.8888888888888888,
             "#fdca26"
            ],
            [
             1.0,
             "#f0f921"
            ]
           ]
          },
          "colorway": [
           "#636efa",
           "#EF553B",
           "#00cc96",
           "#ab63fa",
           "#FFA15A",
           "#19d3f3",
           "#FF6692",
           "#B6E880",
           "#FF97FF",
           "#FECB52"
          ],
          "font": {
           "color": "#2a3f5f"
          },
          "geo": {
           "bgcolor": "white",
           "lakecolor": "white",
           "landcolor": "#E5ECF6",
           "showlakes": true,
           "showland": true,
           "subunitcolor": "white"
          },
          "hoverlabel": {
           "align": "left"
          },
          "hovermode": "closest",
          "mapbox": {
           "style": "light"
          },
          "paper_bgcolor": "white",
          "plot_bgcolor": "#E5ECF6",
          "polar": {
           "angularaxis": {
            "gridcolor": "white",
            "linecolor": "white",
            "ticks": ""
           },
           "bgcolor": "#E5ECF6",
           "radialaxis": {
            "gridcolor": "white",
            "linecolor": "white",
            "ticks": ""
           }
          },
          "scene": {
           "xaxis": {
            "backgroundcolor": "#E5ECF6",
            "gridcolor": "white",
            "gridwidth": 2,
            "linecolor": "white",
            "showbackground": true,
            "ticks": "",
            "zerolinecolor": "white"
           },
           "yaxis": {
            "backgroundcolor": "#E5ECF6",
            "gridcolor": "white",
            "gridwidth": 2,
            "linecolor": "white",
            "showbackground": true,
            "ticks": "",
            "zerolinecolor": "white"
           },
           "zaxis": {
            "backgroundcolor": "#E5ECF6",
            "gridcolor": "white",
            "gridwidth": 2,
            "linecolor": "white",
            "showbackground": true,
            "ticks": "",
            "zerolinecolor": "white"
           }
          },
          "shapedefaults": {
           "line": {
            "color": "#2a3f5f"
           }
          },
          "ternary": {
           "aaxis": {
            "gridcolor": "white",
            "linecolor": "white",
            "ticks": ""
           },
           "baxis": {
            "gridcolor": "white",
            "linecolor": "white",
            "ticks": ""
           },
           "bgcolor": "#E5ECF6",
           "caxis": {
            "gridcolor": "white",
            "linecolor": "white",
            "ticks": ""
           }
          },
          "title": {
           "x": 0.05
          },
          "xaxis": {
           "automargin": true,
           "gridcolor": "white",
           "linecolor": "white",
           "ticks": "",
           "title": {
            "standoff": 15
           },
           "zerolinecolor": "white",
           "zerolinewidth": 2
          },
          "yaxis": {
           "automargin": true,
           "gridcolor": "white",
           "linecolor": "white",
           "ticks": "",
           "title": {
            "standoff": 15
           },
           "zerolinecolor": "white",
           "zerolinewidth": 2
          }
         }
        },
        "title": {
         "text": "Companies That Have Jobs as Data Analyst With Easily Apply"
        },
        "xaxis": {
         "anchor": "y",
         "domain": [
          0.0,
          1.0
         ],
         "title": {
          "text": "Company Name"
         }
        },
        "yaxis": {
         "anchor": "x",
         "domain": [
          0.0,
          1.0
         ],
         "title": {
          "text": "Easy Apply"
         }
        }
       }
      },
      "text/html": [
       "<div>\n",
       "        \n",
       "        \n",
       "            <div id=\"40845cc7-3a89-4c9f-ad87-f85e82921576\" class=\"plotly-graph-div\" style=\"height:525px; width:100%;\"></div>\n",
       "            <script type=\"text/javascript\">\n",
       "                require([\"plotly\"], function(Plotly) {\n",
       "                    window.PLOTLYENV=window.PLOTLYENV || {};\n",
       "                    \n",
       "                if (document.getElementById(\"40845cc7-3a89-4c9f-ad87-f85e82921576\")) {\n",
       "                    Plotly.newPlot(\n",
       "                        '40845cc7-3a89-4c9f-ad87-f85e82921576',\n",
       "                        [{\"alignmentgroup\": \"True\", \"hovertemplate\": \"Company Name=%{x}<br>Easy Apply=%{y}<br>Max Salary=%{marker.color}<extra></extra>\", \"legendgroup\": \"\", \"marker\": {\"color\": [86.7, 92.2, 106.33333333333333, 62.666666666666664, 100.0, 105.5, 66.0, 132.0, 159.0, 190.0], \"coloraxis\": \"coloraxis\"}, \"name\": \"\", \"offsetgroup\": \"\", \"orientation\": \"v\", \"showlegend\": false, \"textposition\": \"auto\", \"type\": \"bar\", \"x\": [\"Apex Systems\", \"22nd Century Technologies\", \"Chime\", \"Signify Health\", \"22nd Century Staffing\", \"Tempus Labs\", \"Undertone\", \"BOLD\", \"Omada Health\", \"OSI Engineering\"], \"xaxis\": \"x\", \"y\": [10, 5, 3, 3, 2, 2, 2, 2, 1, 1], \"yaxis\": \"y\"}],\n",
       "                        {\"barmode\": \"relative\", \"coloraxis\": {\"colorbar\": {\"title\": {\"text\": \"Max Salary\"}}, \"colorscale\": [[0.0, \"#440154\"], [0.1111111111111111, \"#482878\"], [0.2222222222222222, \"#3e4989\"], [0.3333333333333333, \"#31688e\"], [0.4444444444444444, \"#26828e\"], [0.5555555555555556, \"#1f9e89\"], [0.6666666666666666, \"#35b779\"], [0.7777777777777778, \"#6ece58\"], [0.8888888888888888, \"#b5de2b\"], [1.0, \"#fde725\"]]}, \"legend\": {\"tracegroupgap\": 0}, \"template\": {\"data\": {\"bar\": [{\"error_x\": {\"color\": \"#2a3f5f\"}, \"error_y\": {\"color\": \"#2a3f5f\"}, \"marker\": {\"line\": {\"color\": \"#E5ECF6\", \"width\": 0.5}}, \"type\": \"bar\"}], \"barpolar\": [{\"marker\": {\"line\": {\"color\": \"#E5ECF6\", \"width\": 0.5}}, \"type\": \"barpolar\"}], \"carpet\": [{\"aaxis\": {\"endlinecolor\": \"#2a3f5f\", \"gridcolor\": \"white\", \"linecolor\": \"white\", \"minorgridcolor\": \"white\", \"startlinecolor\": \"#2a3f5f\"}, \"baxis\": {\"endlinecolor\": \"#2a3f5f\", \"gridcolor\": \"white\", \"linecolor\": \"white\", \"minorgridcolor\": \"white\", \"startlinecolor\": \"#2a3f5f\"}, \"type\": \"carpet\"}], \"choropleth\": [{\"colorbar\": {\"outlinewidth\": 0, \"ticks\": \"\"}, \"type\": \"choropleth\"}], \"contour\": [{\"colorbar\": {\"outlinewidth\": 0, \"ticks\": \"\"}, \"colorscale\": [[0.0, \"#0d0887\"], [0.1111111111111111, \"#46039f\"], [0.2222222222222222, \"#7201a8\"], [0.3333333333333333, \"#9c179e\"], [0.4444444444444444, \"#bd3786\"], [0.5555555555555556, \"#d8576b\"], [0.6666666666666666, \"#ed7953\"], [0.7777777777777778, \"#fb9f3a\"], [0.8888888888888888, \"#fdca26\"], [1.0, \"#f0f921\"]], \"type\": \"contour\"}], \"contourcarpet\": [{\"colorbar\": {\"outlinewidth\": 0, \"ticks\": \"\"}, \"type\": \"contourcarpet\"}], \"heatmap\": [{\"colorbar\": {\"outlinewidth\": 0, \"ticks\": \"\"}, \"colorscale\": [[0.0, \"#0d0887\"], [0.1111111111111111, \"#46039f\"], [0.2222222222222222, \"#7201a8\"], [0.3333333333333333, \"#9c179e\"], [0.4444444444444444, \"#bd3786\"], [0.5555555555555556, \"#d8576b\"], [0.6666666666666666, \"#ed7953\"], [0.7777777777777778, \"#fb9f3a\"], [0.8888888888888888, \"#fdca26\"], [1.0, \"#f0f921\"]], \"type\": \"heatmap\"}], \"heatmapgl\": [{\"colorbar\": {\"outlinewidth\": 0, \"ticks\": \"\"}, \"colorscale\": [[0.0, \"#0d0887\"], [0.1111111111111111, \"#46039f\"], [0.2222222222222222, \"#7201a8\"], [0.3333333333333333, \"#9c179e\"], [0.4444444444444444, \"#bd3786\"], [0.5555555555555556, \"#d8576b\"], [0.6666666666666666, \"#ed7953\"], [0.7777777777777778, \"#fb9f3a\"], [0.8888888888888888, \"#fdca26\"], [1.0, \"#f0f921\"]], \"type\": \"heatmapgl\"}], \"histogram\": [{\"marker\": {\"colorbar\": {\"outlinewidth\": 0, \"ticks\": \"\"}}, \"type\": \"histogram\"}], \"histogram2d\": [{\"colorbar\": {\"outlinewidth\": 0, \"ticks\": \"\"}, \"colorscale\": [[0.0, \"#0d0887\"], [0.1111111111111111, \"#46039f\"], [0.2222222222222222, \"#7201a8\"], [0.3333333333333333, \"#9c179e\"], [0.4444444444444444, \"#bd3786\"], [0.5555555555555556, \"#d8576b\"], [0.6666666666666666, \"#ed7953\"], [0.7777777777777778, \"#fb9f3a\"], [0.8888888888888888, \"#fdca26\"], [1.0, \"#f0f921\"]], \"type\": \"histogram2d\"}], \"histogram2dcontour\": [{\"colorbar\": {\"outlinewidth\": 0, \"ticks\": \"\"}, \"colorscale\": [[0.0, \"#0d0887\"], [0.1111111111111111, \"#46039f\"], [0.2222222222222222, \"#7201a8\"], [0.3333333333333333, \"#9c179e\"], [0.4444444444444444, \"#bd3786\"], [0.5555555555555556, \"#d8576b\"], [0.6666666666666666, \"#ed7953\"], [0.7777777777777778, \"#fb9f3a\"], [0.8888888888888888, \"#fdca26\"], [1.0, \"#f0f921\"]], \"type\": \"histogram2dcontour\"}], \"mesh3d\": [{\"colorbar\": {\"outlinewidth\": 0, \"ticks\": \"\"}, \"type\": \"mesh3d\"}], \"parcoords\": [{\"line\": {\"colorbar\": {\"outlinewidth\": 0, \"ticks\": \"\"}}, \"type\": \"parcoords\"}], \"pie\": [{\"automargin\": true, \"type\": \"pie\"}], \"scatter\": [{\"marker\": {\"colorbar\": {\"outlinewidth\": 0, \"ticks\": \"\"}}, \"type\": \"scatter\"}], \"scatter3d\": [{\"line\": {\"colorbar\": {\"outlinewidth\": 0, \"ticks\": \"\"}}, \"marker\": {\"colorbar\": {\"outlinewidth\": 0, \"ticks\": \"\"}}, \"type\": \"scatter3d\"}], \"scattercarpet\": [{\"marker\": {\"colorbar\": {\"outlinewidth\": 0, \"ticks\": \"\"}}, \"type\": \"scattercarpet\"}], \"scattergeo\": [{\"marker\": {\"colorbar\": {\"outlinewidth\": 0, \"ticks\": \"\"}}, \"type\": \"scattergeo\"}], \"scattergl\": [{\"marker\": {\"colorbar\": {\"outlinewidth\": 0, \"ticks\": \"\"}}, \"type\": \"scattergl\"}], \"scattermapbox\": [{\"marker\": {\"colorbar\": {\"outlinewidth\": 0, \"ticks\": \"\"}}, \"type\": \"scattermapbox\"}], \"scatterpolar\": [{\"marker\": {\"colorbar\": {\"outlinewidth\": 0, \"ticks\": \"\"}}, \"type\": \"scatterpolar\"}], \"scatterpolargl\": [{\"marker\": {\"colorbar\": {\"outlinewidth\": 0, \"ticks\": \"\"}}, \"type\": \"scatterpolargl\"}], \"scatterternary\": [{\"marker\": {\"colorbar\": {\"outlinewidth\": 0, \"ticks\": \"\"}}, \"type\": \"scatterternary\"}], \"surface\": [{\"colorbar\": {\"outlinewidth\": 0, \"ticks\": \"\"}, \"colorscale\": [[0.0, \"#0d0887\"], [0.1111111111111111, \"#46039f\"], [0.2222222222222222, \"#7201a8\"], [0.3333333333333333, \"#9c179e\"], [0.4444444444444444, \"#bd3786\"], [0.5555555555555556, \"#d8576b\"], [0.6666666666666666, \"#ed7953\"], [0.7777777777777778, \"#fb9f3a\"], [0.8888888888888888, \"#fdca26\"], [1.0, \"#f0f921\"]], \"type\": \"surface\"}], \"table\": [{\"cells\": {\"fill\": {\"color\": \"#EBF0F8\"}, \"line\": {\"color\": \"white\"}}, \"header\": {\"fill\": {\"color\": \"#C8D4E3\"}, \"line\": {\"color\": \"white\"}}, \"type\": \"table\"}]}, \"layout\": {\"annotationdefaults\": {\"arrowcolor\": \"#2a3f5f\", \"arrowhead\": 0, \"arrowwidth\": 1}, \"coloraxis\": {\"colorbar\": {\"outlinewidth\": 0, \"ticks\": \"\"}}, \"colorscale\": {\"diverging\": [[0, \"#8e0152\"], [0.1, \"#c51b7d\"], [0.2, \"#de77ae\"], [0.3, \"#f1b6da\"], [0.4, \"#fde0ef\"], [0.5, \"#f7f7f7\"], [0.6, \"#e6f5d0\"], [0.7, \"#b8e186\"], [0.8, \"#7fbc41\"], [0.9, \"#4d9221\"], [1, \"#276419\"]], \"sequential\": [[0.0, \"#0d0887\"], [0.1111111111111111, \"#46039f\"], [0.2222222222222222, \"#7201a8\"], [0.3333333333333333, \"#9c179e\"], [0.4444444444444444, \"#bd3786\"], [0.5555555555555556, \"#d8576b\"], [0.6666666666666666, \"#ed7953\"], [0.7777777777777778, \"#fb9f3a\"], [0.8888888888888888, \"#fdca26\"], [1.0, \"#f0f921\"]], \"sequentialminus\": [[0.0, \"#0d0887\"], [0.1111111111111111, \"#46039f\"], [0.2222222222222222, \"#7201a8\"], [0.3333333333333333, \"#9c179e\"], [0.4444444444444444, \"#bd3786\"], [0.5555555555555556, \"#d8576b\"], [0.6666666666666666, \"#ed7953\"], [0.7777777777777778, \"#fb9f3a\"], [0.8888888888888888, \"#fdca26\"], [1.0, \"#f0f921\"]]}, \"colorway\": [\"#636efa\", \"#EF553B\", \"#00cc96\", \"#ab63fa\", \"#FFA15A\", \"#19d3f3\", \"#FF6692\", \"#B6E880\", \"#FF97FF\", \"#FECB52\"], \"font\": {\"color\": \"#2a3f5f\"}, \"geo\": {\"bgcolor\": \"white\", \"lakecolor\": \"white\", \"landcolor\": \"#E5ECF6\", \"showlakes\": true, \"showland\": true, \"subunitcolor\": \"white\"}, \"hoverlabel\": {\"align\": \"left\"}, \"hovermode\": \"closest\", \"mapbox\": {\"style\": \"light\"}, \"paper_bgcolor\": \"white\", \"plot_bgcolor\": \"#E5ECF6\", \"polar\": {\"angularaxis\": {\"gridcolor\": \"white\", \"linecolor\": \"white\", \"ticks\": \"\"}, \"bgcolor\": \"#E5ECF6\", \"radialaxis\": {\"gridcolor\": \"white\", \"linecolor\": \"white\", \"ticks\": \"\"}}, \"scene\": {\"xaxis\": {\"backgroundcolor\": \"#E5ECF6\", \"gridcolor\": \"white\", \"gridwidth\": 2, \"linecolor\": \"white\", \"showbackground\": true, \"ticks\": \"\", \"zerolinecolor\": \"white\"}, \"yaxis\": {\"backgroundcolor\": \"#E5ECF6\", \"gridcolor\": \"white\", \"gridwidth\": 2, \"linecolor\": \"white\", \"showbackground\": true, \"ticks\": \"\", \"zerolinecolor\": \"white\"}, \"zaxis\": {\"backgroundcolor\": \"#E5ECF6\", \"gridcolor\": \"white\", \"gridwidth\": 2, \"linecolor\": \"white\", \"showbackground\": true, \"ticks\": \"\", \"zerolinecolor\": \"white\"}}, \"shapedefaults\": {\"line\": {\"color\": \"#2a3f5f\"}}, \"ternary\": {\"aaxis\": {\"gridcolor\": \"white\", \"linecolor\": \"white\", \"ticks\": \"\"}, \"baxis\": {\"gridcolor\": \"white\", \"linecolor\": \"white\", \"ticks\": \"\"}, \"bgcolor\": \"#E5ECF6\", \"caxis\": {\"gridcolor\": \"white\", \"linecolor\": \"white\", \"ticks\": \"\"}}, \"title\": {\"x\": 0.05}, \"xaxis\": {\"automargin\": true, \"gridcolor\": \"white\", \"linecolor\": \"white\", \"ticks\": \"\", \"title\": {\"standoff\": 15}, \"zerolinecolor\": \"white\", \"zerolinewidth\": 2}, \"yaxis\": {\"automargin\": true, \"gridcolor\": \"white\", \"linecolor\": \"white\", \"ticks\": \"\", \"title\": {\"standoff\": 15}, \"zerolinecolor\": \"white\", \"zerolinewidth\": 2}}}, \"title\": {\"text\": \"Companies That Have Jobs as Data Analyst With Easily Apply\"}, \"xaxis\": {\"anchor\": \"y\", \"domain\": [0.0, 1.0], \"title\": {\"text\": \"Company Name\"}}, \"yaxis\": {\"anchor\": \"x\", \"domain\": [0.0, 1.0], \"title\": {\"text\": \"Easy Apply\"}}},\n",
       "                        {\"responsive\": true}\n",
       "                    ).then(function(){\n",
       "                            \n",
       "var gd = document.getElementById('40845cc7-3a89-4c9f-ad87-f85e82921576');\n",
       "var x = new MutationObserver(function (mutations, observer) {{\n",
       "        var display = window.getComputedStyle(gd).display;\n",
       "        if (!display || display === 'none') {{\n",
       "            console.log([gd, 'removed!']);\n",
       "            Plotly.purge(gd);\n",
       "            observer.disconnect();\n",
       "        }}\n",
       "}});\n",
       "\n",
       "// Listen for the removal of the full notebook cells\n",
       "var notebookContainer = gd.closest('#notebook-container');\n",
       "if (notebookContainer) {{\n",
       "    x.observe(notebookContainer, {childList: true});\n",
       "}}\n",
       "\n",
       "// Listen for the clearing of the current output cell\n",
       "var outputEl = gd.closest('.output');\n",
       "if (outputEl) {{\n",
       "    x.observe(outputEl, {childList: true});\n",
       "}}\n",
       "\n",
       "                        })\n",
       "                };\n",
       "                });\n",
       "            </script>\n",
       "        </div>"
      ]
     },
     "metadata": {},
     "output_type": "display_data"
    }
   ],
   "source": [
    "# Plot graph bar with Plotly included color graduation in function the Max Salary Mean.\n",
    "chart = px.bar(df_easy, y = 'Easy Apply', x = 'Company Name', color = 'Max Salary',\n",
    "              color_continuous_scale = px.colors.sequential.Viridis,\n",
    "              title = \"Companies That Have Jobs as Data Analyst With Easily Apply\")\n",
    "chart.show()"
   ]
  },
  {
   "cell_type": "markdown",
   "metadata": {
    "papermill": {
     "duration": 0.080526,
     "end_time": "2020-10-18T23:25:55.446530",
     "exception": false,
     "start_time": "2020-10-18T23:25:55.366004",
     "status": "completed"
    },
    "tags": []
   },
   "source": [
    "# **Size Company - Employed Quantity that Offer Jobs as a Data Analyst**"
   ]
  },
  {
   "cell_type": "code",
   "execution_count": 13,
   "metadata": {
    "execution": {
     "iopub.execute_input": "2020-10-18T23:25:55.603430Z",
     "iopub.status.busy": "2020-10-18T23:25:55.602486Z",
     "iopub.status.idle": "2020-10-18T23:25:55.617584Z",
     "shell.execute_reply": "2020-10-18T23:25:55.618640Z"
    },
    "papermill": {
     "duration": 0.101915,
     "end_time": "2020-10-18T23:25:55.618840",
     "exception": false,
     "start_time": "2020-10-18T23:25:55.516925",
     "status": "completed"
    },
    "tags": []
   },
   "outputs": [
    {
     "data": {
      "text/html": [
       "<div>\n",
       "<style scoped>\n",
       "    .dataframe tbody tr th:only-of-type {\n",
       "        vertical-align: middle;\n",
       "    }\n",
       "\n",
       "    .dataframe tbody tr th {\n",
       "        vertical-align: top;\n",
       "    }\n",
       "\n",
       "    .dataframe thead th {\n",
       "        text-align: right;\n",
       "    }\n",
       "</style>\n",
       "<table border=\"1\" class=\"dataframe\">\n",
       "  <thead>\n",
       "    <tr style=\"text-align: right;\">\n",
       "      <th></th>\n",
       "      <th>Size Company</th>\n",
       "      <th>Nº Company</th>\n",
       "    </tr>\n",
       "  </thead>\n",
       "  <tbody>\n",
       "    <tr>\n",
       "      <th>0</th>\n",
       "      <td>51 to 200 employees</td>\n",
       "      <td>421</td>\n",
       "    </tr>\n",
       "    <tr>\n",
       "      <th>1</th>\n",
       "      <td>10000+ employees</td>\n",
       "      <td>375</td>\n",
       "    </tr>\n",
       "    <tr>\n",
       "      <th>2</th>\n",
       "      <td>1001 to 5000 employees</td>\n",
       "      <td>348</td>\n",
       "    </tr>\n",
       "    <tr>\n",
       "      <th>3</th>\n",
       "      <td>1 to 50 employees</td>\n",
       "      <td>347</td>\n",
       "    </tr>\n",
       "    <tr>\n",
       "      <th>4</th>\n",
       "      <td>201 to 500 employees</td>\n",
       "      <td>249</td>\n",
       "    </tr>\n",
       "  </tbody>\n",
       "</table>\n",
       "</div>"
      ],
      "text/plain": [
       "             Size Company  Nº Company\n",
       "0     51 to 200 employees         421\n",
       "1        10000+ employees         375\n",
       "2  1001 to 5000 employees         348\n",
       "3       1 to 50 employees         347\n",
       "4    201 to 500 employees         249"
      ]
     },
     "execution_count": 13,
     "metadata": {},
     "output_type": "execute_result"
    }
   ],
   "source": [
    "# Now, visualization of size company in funtion quantily employees that offers job in data analyst.\n",
    "\n",
    "# Create DateFrame and empty rows with useless data\n",
    "# Change of field names for easy descriptive in graphic and visualization\n",
    "df_employed = df1['Size'].value_counts().to_frame().reset_index()\n",
    "df_employed = df_employed.drop(df_employed[(df_employed['index'] == '-1') | \\\n",
    "                                           (df_employed['index'] == 'Unknown')].index, \n",
    "                               axis = 0).rename(columns = {'index': 'Size Company',\n",
    "                                                           'Size': 'Nº Company'})\n",
    "df_employed.head()"
   ]
  },
  {
   "cell_type": "code",
   "execution_count": 14,
   "metadata": {
    "execution": {
     "iopub.execute_input": "2020-10-18T23:25:55.765599Z",
     "iopub.status.busy": "2020-10-18T23:25:55.764672Z",
     "iopub.status.idle": "2020-10-18T23:25:55.850558Z",
     "shell.execute_reply": "2020-10-18T23:25:55.851676Z"
    },
    "papermill": {
     "duration": 0.165227,
     "end_time": "2020-10-18T23:25:55.851839",
     "exception": false,
     "start_time": "2020-10-18T23:25:55.686612",
     "status": "completed"
    },
    "tags": []
   },
   "outputs": [
    {
     "data": {
      "application/vnd.plotly.v1+json": {
       "config": {
        "plotlyServerURL": "https://plot.ly"
       },
       "data": [
        {
         "alignmentgroup": "True",
         "hovertemplate": "Nº Company=%{x}<br>Size Company=%{y}<extra></extra>",
         "legendgroup": "",
         "marker": {
          "color": "#636efa"
         },
         "name": "",
         "offsetgroup": "",
         "orientation": "h",
         "showlegend": false,
         "textposition": "auto",
         "type": "bar",
         "x": [
          421,
          375,
          348,
          347,
          249,
          211,
          97
         ],
         "xaxis": "x",
         "y": [
          "51 to 200 employees",
          "10000+ employees",
          "1001 to 5000 employees",
          "1 to 50 employees",
          "201 to 500 employees",
          "501 to 1000 employees",
          "5001 to 10000 employees"
         ],
         "yaxis": "y"
        }
       ],
       "layout": {
        "barmode": "relative",
        "legend": {
         "tracegroupgap": 0
        },
        "template": {
         "data": {
          "bar": [
           {
            "error_x": {
             "color": "#2a3f5f"
            },
            "error_y": {
             "color": "#2a3f5f"
            },
            "marker": {
             "line": {
              "color": "#E5ECF6",
              "width": 0.5
             }
            },
            "type": "bar"
           }
          ],
          "barpolar": [
           {
            "marker": {
             "line": {
              "color": "#E5ECF6",
              "width": 0.5
             }
            },
            "type": "barpolar"
           }
          ],
          "carpet": [
           {
            "aaxis": {
             "endlinecolor": "#2a3f5f",
             "gridcolor": "white",
             "linecolor": "white",
             "minorgridcolor": "white",
             "startlinecolor": "#2a3f5f"
            },
            "baxis": {
             "endlinecolor": "#2a3f5f",
             "gridcolor": "white",
             "linecolor": "white",
             "minorgridcolor": "white",
             "startlinecolor": "#2a3f5f"
            },
            "type": "carpet"
           }
          ],
          "choropleth": [
           {
            "colorbar": {
             "outlinewidth": 0,
             "ticks": ""
            },
            "type": "choropleth"
           }
          ],
          "contour": [
           {
            "colorbar": {
             "outlinewidth": 0,
             "ticks": ""
            },
            "colorscale": [
             [
              0.0,
              "#0d0887"
             ],
             [
              0.1111111111111111,
              "#46039f"
             ],
             [
              0.2222222222222222,
              "#7201a8"
             ],
             [
              0.3333333333333333,
              "#9c179e"
             ],
             [
              0.4444444444444444,
              "#bd3786"
             ],
             [
              0.5555555555555556,
              "#d8576b"
             ],
             [
              0.6666666666666666,
              "#ed7953"
             ],
             [
              0.7777777777777778,
              "#fb9f3a"
             ],
             [
              0.8888888888888888,
              "#fdca26"
             ],
             [
              1.0,
              "#f0f921"
             ]
            ],
            "type": "contour"
           }
          ],
          "contourcarpet": [
           {
            "colorbar": {
             "outlinewidth": 0,
             "ticks": ""
            },
            "type": "contourcarpet"
           }
          ],
          "heatmap": [
           {
            "colorbar": {
             "outlinewidth": 0,
             "ticks": ""
            },
            "colorscale": [
             [
              0.0,
              "#0d0887"
             ],
             [
              0.1111111111111111,
              "#46039f"
             ],
             [
              0.2222222222222222,
              "#7201a8"
             ],
             [
              0.3333333333333333,
              "#9c179e"
             ],
             [
              0.4444444444444444,
              "#bd3786"
             ],
             [
              0.5555555555555556,
              "#d8576b"
             ],
             [
              0.6666666666666666,
              "#ed7953"
             ],
             [
              0.7777777777777778,
              "#fb9f3a"
             ],
             [
              0.8888888888888888,
              "#fdca26"
             ],
             [
              1.0,
              "#f0f921"
             ]
            ],
            "type": "heatmap"
           }
          ],
          "heatmapgl": [
           {
            "colorbar": {
             "outlinewidth": 0,
             "ticks": ""
            },
            "colorscale": [
             [
              0.0,
              "#0d0887"
             ],
             [
              0.1111111111111111,
              "#46039f"
             ],
             [
              0.2222222222222222,
              "#7201a8"
             ],
             [
              0.3333333333333333,
              "#9c179e"
             ],
             [
              0.4444444444444444,
              "#bd3786"
             ],
             [
              0.5555555555555556,
              "#d8576b"
             ],
             [
              0.6666666666666666,
              "#ed7953"
             ],
             [
              0.7777777777777778,
              "#fb9f3a"
             ],
             [
              0.8888888888888888,
              "#fdca26"
             ],
             [
              1.0,
              "#f0f921"
             ]
            ],
            "type": "heatmapgl"
           }
          ],
          "histogram": [
           {
            "marker": {
             "colorbar": {
              "outlinewidth": 0,
              "ticks": ""
             }
            },
            "type": "histogram"
           }
          ],
          "histogram2d": [
           {
            "colorbar": {
             "outlinewidth": 0,
             "ticks": ""
            },
            "colorscale": [
             [
              0.0,
              "#0d0887"
             ],
             [
              0.1111111111111111,
              "#46039f"
             ],
             [
              0.2222222222222222,
              "#7201a8"
             ],
             [
              0.3333333333333333,
              "#9c179e"
             ],
             [
              0.4444444444444444,
              "#bd3786"
             ],
             [
              0.5555555555555556,
              "#d8576b"
             ],
             [
              0.6666666666666666,
              "#ed7953"
             ],
             [
              0.7777777777777778,
              "#fb9f3a"
             ],
             [
              0.8888888888888888,
              "#fdca26"
             ],
             [
              1.0,
              "#f0f921"
             ]
            ],
            "type": "histogram2d"
           }
          ],
          "histogram2dcontour": [
           {
            "colorbar": {
             "outlinewidth": 0,
             "ticks": ""
            },
            "colorscale": [
             [
              0.0,
              "#0d0887"
             ],
             [
              0.1111111111111111,
              "#46039f"
             ],
             [
              0.2222222222222222,
              "#7201a8"
             ],
             [
              0.3333333333333333,
              "#9c179e"
             ],
             [
              0.4444444444444444,
              "#bd3786"
             ],
             [
              0.5555555555555556,
              "#d8576b"
             ],
             [
              0.6666666666666666,
              "#ed7953"
             ],
             [
              0.7777777777777778,
              "#fb9f3a"
             ],
             [
              0.8888888888888888,
              "#fdca26"
             ],
             [
              1.0,
              "#f0f921"
             ]
            ],
            "type": "histogram2dcontour"
           }
          ],
          "mesh3d": [
           {
            "colorbar": {
             "outlinewidth": 0,
             "ticks": ""
            },
            "type": "mesh3d"
           }
          ],
          "parcoords": [
           {
            "line": {
             "colorbar": {
              "outlinewidth": 0,
              "ticks": ""
             }
            },
            "type": "parcoords"
           }
          ],
          "pie": [
           {
            "automargin": true,
            "type": "pie"
           }
          ],
          "scatter": [
           {
            "marker": {
             "colorbar": {
              "outlinewidth": 0,
              "ticks": ""
             }
            },
            "type": "scatter"
           }
          ],
          "scatter3d": [
           {
            "line": {
             "colorbar": {
              "outlinewidth": 0,
              "ticks": ""
             }
            },
            "marker": {
             "colorbar": {
              "outlinewidth": 0,
              "ticks": ""
             }
            },
            "type": "scatter3d"
           }
          ],
          "scattercarpet": [
           {
            "marker": {
             "colorbar": {
              "outlinewidth": 0,
              "ticks": ""
             }
            },
            "type": "scattercarpet"
           }
          ],
          "scattergeo": [
           {
            "marker": {
             "colorbar": {
              "outlinewidth": 0,
              "ticks": ""
             }
            },
            "type": "scattergeo"
           }
          ],
          "scattergl": [
           {
            "marker": {
             "colorbar": {
              "outlinewidth": 0,
              "ticks": ""
             }
            },
            "type": "scattergl"
           }
          ],
          "scattermapbox": [
           {
            "marker": {
             "colorbar": {
              "outlinewidth": 0,
              "ticks": ""
             }
            },
            "type": "scattermapbox"
           }
          ],
          "scatterpolar": [
           {
            "marker": {
             "colorbar": {
              "outlinewidth": 0,
              "ticks": ""
             }
            },
            "type": "scatterpolar"
           }
          ],
          "scatterpolargl": [
           {
            "marker": {
             "colorbar": {
              "outlinewidth": 0,
              "ticks": ""
             }
            },
            "type": "scatterpolargl"
           }
          ],
          "scatterternary": [
           {
            "marker": {
             "colorbar": {
              "outlinewidth": 0,
              "ticks": ""
             }
            },
            "type": "scatterternary"
           }
          ],
          "surface": [
           {
            "colorbar": {
             "outlinewidth": 0,
             "ticks": ""
            },
            "colorscale": [
             [
              0.0,
              "#0d0887"
             ],
             [
              0.1111111111111111,
              "#46039f"
             ],
             [
              0.2222222222222222,
              "#7201a8"
             ],
             [
              0.3333333333333333,
              "#9c179e"
             ],
             [
              0.4444444444444444,
              "#bd3786"
             ],
             [
              0.5555555555555556,
              "#d8576b"
             ],
             [
              0.6666666666666666,
              "#ed7953"
             ],
             [
              0.7777777777777778,
              "#fb9f3a"
             ],
             [
              0.8888888888888888,
              "#fdca26"
             ],
             [
              1.0,
              "#f0f921"
             ]
            ],
            "type": "surface"
           }
          ],
          "table": [
           {
            "cells": {
             "fill": {
              "color": "#EBF0F8"
             },
             "line": {
              "color": "white"
             }
            },
            "header": {
             "fill": {
              "color": "#C8D4E3"
             },
             "line": {
              "color": "white"
             }
            },
            "type": "table"
           }
          ]
         },
         "layout": {
          "annotationdefaults": {
           "arrowcolor": "#2a3f5f",
           "arrowhead": 0,
           "arrowwidth": 1
          },
          "coloraxis": {
           "colorbar": {
            "outlinewidth": 0,
            "ticks": ""
           }
          },
          "colorscale": {
           "diverging": [
            [
             0,
             "#8e0152"
            ],
            [
             0.1,
             "#c51b7d"
            ],
            [
             0.2,
             "#de77ae"
            ],
            [
             0.3,
             "#f1b6da"
            ],
            [
             0.4,
             "#fde0ef"
            ],
            [
             0.5,
             "#f7f7f7"
            ],
            [
             0.6,
             "#e6f5d0"
            ],
            [
             0.7,
             "#b8e186"
            ],
            [
             0.8,
             "#7fbc41"
            ],
            [
             0.9,
             "#4d9221"
            ],
            [
             1,
             "#276419"
            ]
           ],
           "sequential": [
            [
             0.0,
             "#0d0887"
            ],
            [
             0.1111111111111111,
             "#46039f"
            ],
            [
             0.2222222222222222,
             "#7201a8"
            ],
            [
             0.3333333333333333,
             "#9c179e"
            ],
            [
             0.4444444444444444,
             "#bd3786"
            ],
            [
             0.5555555555555556,
             "#d8576b"
            ],
            [
             0.6666666666666666,
             "#ed7953"
            ],
            [
             0.7777777777777778,
             "#fb9f3a"
            ],
            [
             0.8888888888888888,
             "#fdca26"
            ],
            [
             1.0,
             "#f0f921"
            ]
           ],
           "sequentialminus": [
            [
             0.0,
             "#0d0887"
            ],
            [
             0.1111111111111111,
             "#46039f"
            ],
            [
             0.2222222222222222,
             "#7201a8"
            ],
            [
             0.3333333333333333,
             "#9c179e"
            ],
            [
             0.4444444444444444,
             "#bd3786"
            ],
            [
             0.5555555555555556,
             "#d8576b"
            ],
            [
             0.6666666666666666,
             "#ed7953"
            ],
            [
             0.7777777777777778,
             "#fb9f3a"
            ],
            [
             0.8888888888888888,
             "#fdca26"
            ],
            [
             1.0,
             "#f0f921"
            ]
           ]
          },
          "colorway": [
           "#636efa",
           "#EF553B",
           "#00cc96",
           "#ab63fa",
           "#FFA15A",
           "#19d3f3",
           "#FF6692",
           "#B6E880",
           "#FF97FF",
           "#FECB52"
          ],
          "font": {
           "color": "#2a3f5f"
          },
          "geo": {
           "bgcolor": "white",
           "lakecolor": "white",
           "landcolor": "#E5ECF6",
           "showlakes": true,
           "showland": true,
           "subunitcolor": "white"
          },
          "hoverlabel": {
           "align": "left"
          },
          "hovermode": "closest",
          "mapbox": {
           "style": "light"
          },
          "paper_bgcolor": "white",
          "plot_bgcolor": "#E5ECF6",
          "polar": {
           "angularaxis": {
            "gridcolor": "white",
            "linecolor": "white",
            "ticks": ""
           },
           "bgcolor": "#E5ECF6",
           "radialaxis": {
            "gridcolor": "white",
            "linecolor": "white",
            "ticks": ""
           }
          },
          "scene": {
           "xaxis": {
            "backgroundcolor": "#E5ECF6",
            "gridcolor": "white",
            "gridwidth": 2,
            "linecolor": "white",
            "showbackground": true,
            "ticks": "",
            "zerolinecolor": "white"
           },
           "yaxis": {
            "backgroundcolor": "#E5ECF6",
            "gridcolor": "white",
            "gridwidth": 2,
            "linecolor": "white",
            "showbackground": true,
            "ticks": "",
            "zerolinecolor": "white"
           },
           "zaxis": {
            "backgroundcolor": "#E5ECF6",
            "gridcolor": "white",
            "gridwidth": 2,
            "linecolor": "white",
            "showbackground": true,
            "ticks": "",
            "zerolinecolor": "white"
           }
          },
          "shapedefaults": {
           "line": {
            "color": "#2a3f5f"
           }
          },
          "ternary": {
           "aaxis": {
            "gridcolor": "white",
            "linecolor": "white",
            "ticks": ""
           },
           "baxis": {
            "gridcolor": "white",
            "linecolor": "white",
            "ticks": ""
           },
           "bgcolor": "#E5ECF6",
           "caxis": {
            "gridcolor": "white",
            "linecolor": "white",
            "ticks": ""
           }
          },
          "title": {
           "x": 0.05
          },
          "xaxis": {
           "automargin": true,
           "gridcolor": "white",
           "linecolor": "white",
           "ticks": "",
           "title": {
            "standoff": 15
           },
           "zerolinecolor": "white",
           "zerolinewidth": 2
          },
          "yaxis": {
           "automargin": true,
           "gridcolor": "white",
           "linecolor": "white",
           "ticks": "",
           "title": {
            "standoff": 15
           },
           "zerolinecolor": "white",
           "zerolinewidth": 2
          }
         }
        },
        "title": {
         "text": "Size Company in function of employees Quantity"
        },
        "xaxis": {
         "anchor": "y",
         "domain": [
          0.0,
          1.0
         ],
         "title": {
          "text": "Nº Company"
         }
        },
        "yaxis": {
         "anchor": "x",
         "domain": [
          0.0,
          1.0
         ],
         "title": {
          "text": "Size Company"
         }
        }
       }
      },
      "text/html": [
       "<div>\n",
       "        \n",
       "        \n",
       "            <div id=\"ae497cf4-8141-4e4f-a91d-fd7c29997751\" class=\"plotly-graph-div\" style=\"height:525px; width:100%;\"></div>\n",
       "            <script type=\"text/javascript\">\n",
       "                require([\"plotly\"], function(Plotly) {\n",
       "                    window.PLOTLYENV=window.PLOTLYENV || {};\n",
       "                    \n",
       "                if (document.getElementById(\"ae497cf4-8141-4e4f-a91d-fd7c29997751\")) {\n",
       "                    Plotly.newPlot(\n",
       "                        'ae497cf4-8141-4e4f-a91d-fd7c29997751',\n",
       "                        [{\"alignmentgroup\": \"True\", \"hovertemplate\": \"N\\u00ba Company=%{x}<br>Size Company=%{y}<extra></extra>\", \"legendgroup\": \"\", \"marker\": {\"color\": \"#636efa\"}, \"name\": \"\", \"offsetgroup\": \"\", \"orientation\": \"h\", \"showlegend\": false, \"textposition\": \"auto\", \"type\": \"bar\", \"x\": [421, 375, 348, 347, 249, 211, 97], \"xaxis\": \"x\", \"y\": [\"51 to 200 employees\", \"10000+ employees\", \"1001 to 5000 employees\", \"1 to 50 employees\", \"201 to 500 employees\", \"501 to 1000 employees\", \"5001 to 10000 employees\"], \"yaxis\": \"y\"}],\n",
       "                        {\"barmode\": \"relative\", \"legend\": {\"tracegroupgap\": 0}, \"template\": {\"data\": {\"bar\": [{\"error_x\": {\"color\": \"#2a3f5f\"}, \"error_y\": {\"color\": \"#2a3f5f\"}, \"marker\": {\"line\": {\"color\": \"#E5ECF6\", \"width\": 0.5}}, \"type\": \"bar\"}], \"barpolar\": [{\"marker\": {\"line\": {\"color\": \"#E5ECF6\", \"width\": 0.5}}, \"type\": \"barpolar\"}], \"carpet\": [{\"aaxis\": {\"endlinecolor\": \"#2a3f5f\", \"gridcolor\": \"white\", \"linecolor\": \"white\", \"minorgridcolor\": \"white\", \"startlinecolor\": \"#2a3f5f\"}, \"baxis\": {\"endlinecolor\": \"#2a3f5f\", \"gridcolor\": \"white\", \"linecolor\": \"white\", \"minorgridcolor\": \"white\", \"startlinecolor\": \"#2a3f5f\"}, \"type\": \"carpet\"}], \"choropleth\": [{\"colorbar\": {\"outlinewidth\": 0, \"ticks\": \"\"}, \"type\": \"choropleth\"}], \"contour\": [{\"colorbar\": {\"outlinewidth\": 0, \"ticks\": \"\"}, \"colorscale\": [[0.0, \"#0d0887\"], [0.1111111111111111, \"#46039f\"], [0.2222222222222222, \"#7201a8\"], [0.3333333333333333, \"#9c179e\"], [0.4444444444444444, \"#bd3786\"], [0.5555555555555556, \"#d8576b\"], [0.6666666666666666, \"#ed7953\"], [0.7777777777777778, \"#fb9f3a\"], [0.8888888888888888, \"#fdca26\"], [1.0, \"#f0f921\"]], \"type\": \"contour\"}], \"contourcarpet\": [{\"colorbar\": {\"outlinewidth\": 0, \"ticks\": \"\"}, \"type\": \"contourcarpet\"}], \"heatmap\": [{\"colorbar\": {\"outlinewidth\": 0, \"ticks\": \"\"}, \"colorscale\": [[0.0, \"#0d0887\"], [0.1111111111111111, \"#46039f\"], [0.2222222222222222, \"#7201a8\"], [0.3333333333333333, \"#9c179e\"], [0.4444444444444444, \"#bd3786\"], [0.5555555555555556, \"#d8576b\"], [0.6666666666666666, \"#ed7953\"], [0.7777777777777778, \"#fb9f3a\"], [0.8888888888888888, \"#fdca26\"], [1.0, \"#f0f921\"]], \"type\": \"heatmap\"}], \"heatmapgl\": [{\"colorbar\": {\"outlinewidth\": 0, \"ticks\": \"\"}, \"colorscale\": [[0.0, \"#0d0887\"], [0.1111111111111111, \"#46039f\"], [0.2222222222222222, \"#7201a8\"], [0.3333333333333333, \"#9c179e\"], [0.4444444444444444, \"#bd3786\"], [0.5555555555555556, \"#d8576b\"], [0.6666666666666666, \"#ed7953\"], [0.7777777777777778, \"#fb9f3a\"], [0.8888888888888888, \"#fdca26\"], [1.0, \"#f0f921\"]], \"type\": \"heatmapgl\"}], \"histogram\": [{\"marker\": {\"colorbar\": {\"outlinewidth\": 0, \"ticks\": \"\"}}, \"type\": \"histogram\"}], \"histogram2d\": [{\"colorbar\": {\"outlinewidth\": 0, \"ticks\": \"\"}, \"colorscale\": [[0.0, \"#0d0887\"], [0.1111111111111111, \"#46039f\"], [0.2222222222222222, \"#7201a8\"], [0.3333333333333333, \"#9c179e\"], [0.4444444444444444, \"#bd3786\"], [0.5555555555555556, \"#d8576b\"], [0.6666666666666666, \"#ed7953\"], [0.7777777777777778, \"#fb9f3a\"], [0.8888888888888888, \"#fdca26\"], [1.0, \"#f0f921\"]], \"type\": \"histogram2d\"}], \"histogram2dcontour\": [{\"colorbar\": {\"outlinewidth\": 0, \"ticks\": \"\"}, \"colorscale\": [[0.0, \"#0d0887\"], [0.1111111111111111, \"#46039f\"], [0.2222222222222222, \"#7201a8\"], [0.3333333333333333, \"#9c179e\"], [0.4444444444444444, \"#bd3786\"], [0.5555555555555556, \"#d8576b\"], [0.6666666666666666, \"#ed7953\"], [0.7777777777777778, \"#fb9f3a\"], [0.8888888888888888, \"#fdca26\"], [1.0, \"#f0f921\"]], \"type\": \"histogram2dcontour\"}], \"mesh3d\": [{\"colorbar\": {\"outlinewidth\": 0, \"ticks\": \"\"}, \"type\": \"mesh3d\"}], \"parcoords\": [{\"line\": {\"colorbar\": {\"outlinewidth\": 0, \"ticks\": \"\"}}, \"type\": \"parcoords\"}], \"pie\": [{\"automargin\": true, \"type\": \"pie\"}], \"scatter\": [{\"marker\": {\"colorbar\": {\"outlinewidth\": 0, \"ticks\": \"\"}}, \"type\": \"scatter\"}], \"scatter3d\": [{\"line\": {\"colorbar\": {\"outlinewidth\": 0, \"ticks\": \"\"}}, \"marker\": {\"colorbar\": {\"outlinewidth\": 0, \"ticks\": \"\"}}, \"type\": \"scatter3d\"}], \"scattercarpet\": [{\"marker\": {\"colorbar\": {\"outlinewidth\": 0, \"ticks\": \"\"}}, \"type\": \"scattercarpet\"}], \"scattergeo\": [{\"marker\": {\"colorbar\": {\"outlinewidth\": 0, \"ticks\": \"\"}}, \"type\": \"scattergeo\"}], \"scattergl\": [{\"marker\": {\"colorbar\": {\"outlinewidth\": 0, \"ticks\": \"\"}}, \"type\": \"scattergl\"}], \"scattermapbox\": [{\"marker\": {\"colorbar\": {\"outlinewidth\": 0, \"ticks\": \"\"}}, \"type\": \"scattermapbox\"}], \"scatterpolar\": [{\"marker\": {\"colorbar\": {\"outlinewidth\": 0, \"ticks\": \"\"}}, \"type\": \"scatterpolar\"}], \"scatterpolargl\": [{\"marker\": {\"colorbar\": {\"outlinewidth\": 0, \"ticks\": \"\"}}, \"type\": \"scatterpolargl\"}], \"scatterternary\": [{\"marker\": {\"colorbar\": {\"outlinewidth\": 0, \"ticks\": \"\"}}, \"type\": \"scatterternary\"}], \"surface\": [{\"colorbar\": {\"outlinewidth\": 0, \"ticks\": \"\"}, \"colorscale\": [[0.0, \"#0d0887\"], [0.1111111111111111, \"#46039f\"], [0.2222222222222222, \"#7201a8\"], [0.3333333333333333, \"#9c179e\"], [0.4444444444444444, \"#bd3786\"], [0.5555555555555556, \"#d8576b\"], [0.6666666666666666, \"#ed7953\"], [0.7777777777777778, \"#fb9f3a\"], [0.8888888888888888, \"#fdca26\"], [1.0, \"#f0f921\"]], \"type\": \"surface\"}], \"table\": [{\"cells\": {\"fill\": {\"color\": \"#EBF0F8\"}, \"line\": {\"color\": \"white\"}}, \"header\": {\"fill\": {\"color\": \"#C8D4E3\"}, \"line\": {\"color\": \"white\"}}, \"type\": \"table\"}]}, \"layout\": {\"annotationdefaults\": {\"arrowcolor\": \"#2a3f5f\", \"arrowhead\": 0, \"arrowwidth\": 1}, \"coloraxis\": {\"colorbar\": {\"outlinewidth\": 0, \"ticks\": \"\"}}, \"colorscale\": {\"diverging\": [[0, \"#8e0152\"], [0.1, \"#c51b7d\"], [0.2, \"#de77ae\"], [0.3, \"#f1b6da\"], [0.4, \"#fde0ef\"], [0.5, \"#f7f7f7\"], [0.6, \"#e6f5d0\"], [0.7, \"#b8e186\"], [0.8, \"#7fbc41\"], [0.9, \"#4d9221\"], [1, \"#276419\"]], \"sequential\": [[0.0, \"#0d0887\"], [0.1111111111111111, \"#46039f\"], [0.2222222222222222, \"#7201a8\"], [0.3333333333333333, \"#9c179e\"], [0.4444444444444444, \"#bd3786\"], [0.5555555555555556, \"#d8576b\"], [0.6666666666666666, \"#ed7953\"], [0.7777777777777778, \"#fb9f3a\"], [0.8888888888888888, \"#fdca26\"], [1.0, \"#f0f921\"]], \"sequentialminus\": [[0.0, \"#0d0887\"], [0.1111111111111111, \"#46039f\"], [0.2222222222222222, \"#7201a8\"], [0.3333333333333333, \"#9c179e\"], [0.4444444444444444, \"#bd3786\"], [0.5555555555555556, \"#d8576b\"], [0.6666666666666666, \"#ed7953\"], [0.7777777777777778, \"#fb9f3a\"], [0.8888888888888888, \"#fdca26\"], [1.0, \"#f0f921\"]]}, \"colorway\": [\"#636efa\", \"#EF553B\", \"#00cc96\", \"#ab63fa\", \"#FFA15A\", \"#19d3f3\", \"#FF6692\", \"#B6E880\", \"#FF97FF\", \"#FECB52\"], \"font\": {\"color\": \"#2a3f5f\"}, \"geo\": {\"bgcolor\": \"white\", \"lakecolor\": \"white\", \"landcolor\": \"#E5ECF6\", \"showlakes\": true, \"showland\": true, \"subunitcolor\": \"white\"}, \"hoverlabel\": {\"align\": \"left\"}, \"hovermode\": \"closest\", \"mapbox\": {\"style\": \"light\"}, \"paper_bgcolor\": \"white\", \"plot_bgcolor\": \"#E5ECF6\", \"polar\": {\"angularaxis\": {\"gridcolor\": \"white\", \"linecolor\": \"white\", \"ticks\": \"\"}, \"bgcolor\": \"#E5ECF6\", \"radialaxis\": {\"gridcolor\": \"white\", \"linecolor\": \"white\", \"ticks\": \"\"}}, \"scene\": {\"xaxis\": {\"backgroundcolor\": \"#E5ECF6\", \"gridcolor\": \"white\", \"gridwidth\": 2, \"linecolor\": \"white\", \"showbackground\": true, \"ticks\": \"\", \"zerolinecolor\": \"white\"}, \"yaxis\": {\"backgroundcolor\": \"#E5ECF6\", \"gridcolor\": \"white\", \"gridwidth\": 2, \"linecolor\": \"white\", \"showbackground\": true, \"ticks\": \"\", \"zerolinecolor\": \"white\"}, \"zaxis\": {\"backgroundcolor\": \"#E5ECF6\", \"gridcolor\": \"white\", \"gridwidth\": 2, \"linecolor\": \"white\", \"showbackground\": true, \"ticks\": \"\", \"zerolinecolor\": \"white\"}}, \"shapedefaults\": {\"line\": {\"color\": \"#2a3f5f\"}}, \"ternary\": {\"aaxis\": {\"gridcolor\": \"white\", \"linecolor\": \"white\", \"ticks\": \"\"}, \"baxis\": {\"gridcolor\": \"white\", \"linecolor\": \"white\", \"ticks\": \"\"}, \"bgcolor\": \"#E5ECF6\", \"caxis\": {\"gridcolor\": \"white\", \"linecolor\": \"white\", \"ticks\": \"\"}}, \"title\": {\"x\": 0.05}, \"xaxis\": {\"automargin\": true, \"gridcolor\": \"white\", \"linecolor\": \"white\", \"ticks\": \"\", \"title\": {\"standoff\": 15}, \"zerolinecolor\": \"white\", \"zerolinewidth\": 2}, \"yaxis\": {\"automargin\": true, \"gridcolor\": \"white\", \"linecolor\": \"white\", \"ticks\": \"\", \"title\": {\"standoff\": 15}, \"zerolinecolor\": \"white\", \"zerolinewidth\": 2}}}, \"title\": {\"text\": \"Size Company in function of employees Quantity\"}, \"xaxis\": {\"anchor\": \"y\", \"domain\": [0.0, 1.0], \"title\": {\"text\": \"N\\u00ba Company\"}}, \"yaxis\": {\"anchor\": \"x\", \"domain\": [0.0, 1.0], \"title\": {\"text\": \"Size Company\"}}},\n",
       "                        {\"responsive\": true}\n",
       "                    ).then(function(){\n",
       "                            \n",
       "var gd = document.getElementById('ae497cf4-8141-4e4f-a91d-fd7c29997751');\n",
       "var x = new MutationObserver(function (mutations, observer) {{\n",
       "        var display = window.getComputedStyle(gd).display;\n",
       "        if (!display || display === 'none') {{\n",
       "            console.log([gd, 'removed!']);\n",
       "            Plotly.purge(gd);\n",
       "            observer.disconnect();\n",
       "        }}\n",
       "}});\n",
       "\n",
       "// Listen for the removal of the full notebook cells\n",
       "var notebookContainer = gd.closest('#notebook-container');\n",
       "if (notebookContainer) {{\n",
       "    x.observe(notebookContainer, {childList: true});\n",
       "}}\n",
       "\n",
       "// Listen for the clearing of the current output cell\n",
       "var outputEl = gd.closest('.output');\n",
       "if (outputEl) {{\n",
       "    x.observe(outputEl, {childList: true});\n",
       "}}\n",
       "\n",
       "                        })\n",
       "                };\n",
       "                });\n",
       "            </script>\n",
       "        </div>"
      ]
     },
     "metadata": {},
     "output_type": "display_data"
    }
   ],
   "source": [
    "# Finally, plot graphic barplot in horizontal for Size Company in function of employees Quantity:\n",
    "# Use Plotly Express\n",
    "chart1 = px.bar(df_employed, x = 'Nº Company', y = 'Size Company',\n",
    "               title = 'Size Company in function of employees Quantity')\n",
    "chart1.show()"
   ]
  },
  {
   "cell_type": "markdown",
   "metadata": {
    "papermill": {
     "duration": 0.122244,
     "end_time": "2020-10-18T23:25:56.053057",
     "exception": false,
     "start_time": "2020-10-18T23:25:55.930813",
     "status": "completed"
    },
    "tags": []
   },
   "source": [
    "# Classification of Companies vs Ratings"
   ]
  },
  {
   "cell_type": "code",
   "execution_count": 15,
   "metadata": {
    "execution": {
     "iopub.execute_input": "2020-10-18T23:25:56.248406Z",
     "iopub.status.busy": "2020-10-18T23:25:56.246401Z",
     "iopub.status.idle": "2020-10-18T23:25:56.268204Z",
     "shell.execute_reply": "2020-10-18T23:25:56.267192Z"
    },
    "papermill": {
     "duration": 0.110932,
     "end_time": "2020-10-18T23:25:56.268314",
     "exception": false,
     "start_time": "2020-10-18T23:25:56.157382",
     "status": "completed"
    },
    "tags": []
   },
   "outputs": [
    {
     "data": {
      "text/html": [
       "<div>\n",
       "<style scoped>\n",
       "    .dataframe tbody tr th:only-of-type {\n",
       "        vertical-align: middle;\n",
       "    }\n",
       "\n",
       "    .dataframe tbody tr th {\n",
       "        vertical-align: top;\n",
       "    }\n",
       "\n",
       "    .dataframe thead th {\n",
       "        text-align: right;\n",
       "    }\n",
       "</style>\n",
       "<table border=\"1\" class=\"dataframe\">\n",
       "  <thead>\n",
       "    <tr style=\"text-align: right;\">\n",
       "      <th></th>\n",
       "      <th>Rating</th>\n",
       "      <th>Nº Companies</th>\n",
       "    </tr>\n",
       "  </thead>\n",
       "  <tbody>\n",
       "    <tr>\n",
       "      <th>0</th>\n",
       "      <td>5.0</td>\n",
       "      <td>131</td>\n",
       "    </tr>\n",
       "    <tr>\n",
       "      <th>1</th>\n",
       "      <td>4.9</td>\n",
       "      <td>17</td>\n",
       "    </tr>\n",
       "    <tr>\n",
       "      <th>2</th>\n",
       "      <td>4.8</td>\n",
       "      <td>29</td>\n",
       "    </tr>\n",
       "    <tr>\n",
       "      <th>3</th>\n",
       "      <td>4.7</td>\n",
       "      <td>23</td>\n",
       "    </tr>\n",
       "    <tr>\n",
       "      <th>4</th>\n",
       "      <td>4.6</td>\n",
       "      <td>46</td>\n",
       "    </tr>\n",
       "  </tbody>\n",
       "</table>\n",
       "</div>"
      ],
      "text/plain": [
       "   Rating  Nº Companies\n",
       "0     5.0           131\n",
       "1     4.9            17\n",
       "2     4.8            29\n",
       "3     4.7            23\n",
       "4     4.6            46"
      ]
     },
     "execution_count": 15,
     "metadata": {},
     "output_type": "execute_result"
    }
   ],
   "source": [
    "# Use grouby method for get a new dataframe thad measure number companies your rating\n",
    "# In addition, we order descending in the ratings function, discard lower rating values that 3.00 \n",
    "# And rename fields\n",
    "df_rating = df1.groupby('Rating')['Company Name'].count().to_frame().reset_index()\\\n",
    "                        .sort_values('Rating', ascending = False).reset_index()\\\n",
    "                        .drop('index', axis = 1)\\\n",
    "                        .rename(columns = {'Company Name': 'Nº Companies'})\n",
    "\n",
    "df_rating = df_rating.drop(df_rating[(df_rating['Rating'] <= 3.00)].index, axis = 0)\n",
    "\n",
    "df_rating.head()"
   ]
  },
  {
   "cell_type": "code",
   "execution_count": 16,
   "metadata": {
    "execution": {
     "iopub.execute_input": "2020-10-18T23:25:56.435609Z",
     "iopub.status.busy": "2020-10-18T23:25:56.434450Z",
     "iopub.status.idle": "2020-10-18T23:25:57.008213Z",
     "shell.execute_reply": "2020-10-18T23:25:57.007217Z"
    },
    "papermill": {
     "duration": 0.671717,
     "end_time": "2020-10-18T23:25:57.008319",
     "exception": false,
     "start_time": "2020-10-18T23:25:56.336602",
     "status": "completed"
    },
    "tags": []
   },
   "outputs": [
    {
     "data": {
      "image/png": "[encoded data removed]",
      "text/plain": [
       "<Figure size 864x432 with 1 Axes>"
      ]
     },
     "metadata": {},
     "output_type": "display_data"
    }
   ],
   "source": [
    "# Plot visualization in graphic bars. \n",
    "plt.figure(figsize = (12,6))\n",
    "\n",
    "plot = sns.barplot(x = 'Rating', y = 'Nº Companies', data = df_rating, palette = 'rocket')\n",
    "plot = plot.set_xticklabels(plot.get_xticklabels(),\n",
    "                           horizontalalignment = 'right',\n",
    "                           fontweight = 'light')"
   ]
  },
  {
   "cell_type": "markdown",
   "metadata": {
    "papermill": {
     "duration": 0.057382,
     "end_time": "2020-10-18T23:25:57.128418",
     "exception": false,
     "start_time": "2020-10-18T23:25:57.071036",
     "status": "completed"
    },
    "tags": []
   },
   "source": [
    "# Ownership Companies Type that Offers Jobs Data Analyst"
   ]
  },
  {
   "cell_type": "code",
   "execution_count": 17,
   "metadata": {
    "execution": {
     "iopub.execute_input": "2020-10-18T23:25:57.260382Z",
     "iopub.status.busy": "2020-10-18T23:25:57.259493Z",
     "iopub.status.idle": "2020-10-18T23:25:57.263328Z",
     "shell.execute_reply": "2020-10-18T23:25:57.263792Z"
    },
    "papermill": {
     "duration": 0.077307,
     "end_time": "2020-10-18T23:25:57.263915",
     "exception": false,
     "start_time": "2020-10-18T23:25:57.186608",
     "status": "completed"
    },
    "tags": []
   },
   "outputs": [
    {
     "data": {
      "text/html": [
       "<div>\n",
       "<style scoped>\n",
       "    .dataframe tbody tr th:only-of-type {\n",
       "        vertical-align: middle;\n",
       "    }\n",
       "\n",
       "    .dataframe tbody tr th {\n",
       "        vertical-align: top;\n",
       "    }\n",
       "\n",
       "    .dataframe thead th {\n",
       "        text-align: right;\n",
       "    }\n",
       "</style>\n",
       "<table border=\"1\" class=\"dataframe\">\n",
       "  <thead>\n",
       "    <tr style=\"text-align: right;\">\n",
       "      <th></th>\n",
       "      <th>Type of Ownership</th>\n",
       "      <th>Nº Offers Jobs</th>\n",
       "    </tr>\n",
       "  </thead>\n",
       "  <tbody>\n",
       "    <tr>\n",
       "      <th>0</th>\n",
       "      <td>Company - Private</td>\n",
       "      <td>1273</td>\n",
       "    </tr>\n",
       "    <tr>\n",
       "      <th>1</th>\n",
       "      <td>Company - Public</td>\n",
       "      <td>452</td>\n",
       "    </tr>\n",
       "    <tr>\n",
       "      <th>2</th>\n",
       "      <td>Nonprofit Organization</td>\n",
       "      <td>124</td>\n",
       "    </tr>\n",
       "    <tr>\n",
       "      <th>3</th>\n",
       "      <td>Subsidiary or Business Segment</td>\n",
       "      <td>89</td>\n",
       "    </tr>\n",
       "    <tr>\n",
       "      <th>4</th>\n",
       "      <td>Government</td>\n",
       "      <td>37</td>\n",
       "    </tr>\n",
       "  </tbody>\n",
       "</table>\n",
       "</div>"
      ],
      "text/plain": [
       "                Type of Ownership  Nº Offers Jobs\n",
       "0               Company - Private            1273\n",
       "1                Company - Public             452\n",
       "2          Nonprofit Organization             124\n",
       "3  Subsidiary or Business Segment              89\n",
       "4                      Government              37"
      ]
     },
     "execution_count": 17,
     "metadata": {},
     "output_type": "execute_result"
    }
   ],
   "source": [
    "# Visualization of Ownerships companies type that offers job Data Analysta\n",
    "# Empty row with '-1 index, rename fields and discard lowers values that 10\n",
    "df_ownership = df1['Type of ownership'].value_counts().to_frame()\\\n",
    "               .drop('-1').reset_index()\\\n",
    "               .rename(columns = {'index': 'Type of Ownership',\n",
    "                                  'Type of ownership': 'Nº Offers Jobs'})\n",
    "\n",
    "df_ownership = df_ownership.drop(df_ownership[(df_ownership['Nº Offers Jobs'] <= 10)].index, axis = 0)\n",
    "df_ownership.head()"
   ]
  },
  {
   "cell_type": "code",
   "execution_count": 18,
   "metadata": {
    "execution": {
     "iopub.execute_input": "2020-10-18T23:25:57.478948Z",
     "iopub.status.busy": "2020-10-18T23:25:57.474767Z",
     "iopub.status.idle": "2020-10-18T23:25:57.753303Z",
     "shell.execute_reply": "2020-10-18T23:25:57.752739Z"
    },
    "papermill": {
     "duration": 0.433223,
     "end_time": "2020-10-18T23:25:57.753421",
     "exception": false,
     "start_time": "2020-10-18T23:25:57.320198",
     "status": "completed"
    },
    "tags": []
   },
   "outputs": [
    {
     "data": {
      "image/png": "[encoded data removed]",
      "text/plain": [
       "<Figure size 864x432 with 1 Axes>"
      ]
     },
     "metadata": {},
     "output_type": "display_data"
    }
   ],
   "source": [
    "# Finaly, barplot with seaborn\n",
    "plt.figure(figsize = (12,6))\n",
    "plot = sns.barplot(x = 'Nº Offers Jobs', y = 'Type of Ownership', data = df_ownership)\n",
    "plot = plot.set_xticklabels(plot.get_xticklabels(),\n",
    "                           rotation = 65,\n",
    "                           horizontalalignment = 'right')"
   ]
  },
  {
   "cell_type": "markdown",
   "metadata": {
    "papermill": {
     "duration": 0.057868,
     "end_time": "2020-10-18T23:25:57.875770",
     "exception": false,
     "start_time": "2020-10-18T23:25:57.817902",
     "status": "completed"
    },
    "tags": []
   },
   "source": [
    "# Range Salary for Each Sector"
   ]
  },
  {
   "cell_type": "code",
   "execution_count": 19,
   "metadata": {
    "execution": {
     "iopub.execute_input": "2020-10-18T23:25:58.006083Z",
     "iopub.status.busy": "2020-10-18T23:25:58.004899Z",
     "iopub.status.idle": "2020-10-18T23:25:58.022703Z",
     "shell.execute_reply": "2020-10-18T23:25:58.023333Z"
    },
    "papermill": {
     "duration": 0.089737,
     "end_time": "2020-10-18T23:25:58.023496",
     "exception": false,
     "start_time": "2020-10-18T23:25:57.933759",
     "status": "completed"
    },
    "tags": []
   },
   "outputs": [
    {
     "data": {
      "text/html": [
       "<div>\n",
       "<style scoped>\n",
       "    .dataframe tbody tr th:only-of-type {\n",
       "        vertical-align: middle;\n",
       "    }\n",
       "\n",
       "    .dataframe tbody tr th {\n",
       "        vertical-align: top;\n",
       "    }\n",
       "\n",
       "    .dataframe thead th {\n",
       "        text-align: right;\n",
       "    }\n",
       "</style>\n",
       "<table border=\"1\" class=\"dataframe\">\n",
       "  <thead>\n",
       "    <tr style=\"text-align: right;\">\n",
       "      <th></th>\n",
       "      <th>Sector</th>\n",
       "      <th>Rating</th>\n",
       "      <th>Min Salary</th>\n",
       "      <th>Max Salary</th>\n",
       "    </tr>\n",
       "  </thead>\n",
       "  <tbody>\n",
       "    <tr>\n",
       "      <th>4</th>\n",
       "      <td>Biotech &amp; Pharmaceuticals</td>\n",
       "      <td>3.390909</td>\n",
       "      <td>61.363636</td>\n",
       "      <td>104.848485</td>\n",
       "    </tr>\n",
       "    <tr>\n",
       "      <th>19</th>\n",
       "      <td>Real Estate</td>\n",
       "      <td>3.375000</td>\n",
       "      <td>57.250000</td>\n",
       "      <td>104.583333</td>\n",
       "    </tr>\n",
       "    <tr>\n",
       "      <th>3</th>\n",
       "      <td>Arts, Entertainment &amp; Recreation</td>\n",
       "      <td>3.800000</td>\n",
       "      <td>60.428571</td>\n",
       "      <td>100.857143</td>\n",
       "    </tr>\n",
       "    <tr>\n",
       "      <th>12</th>\n",
       "      <td>Information Technology</td>\n",
       "      <td>3.872456</td>\n",
       "      <td>55.298246</td>\n",
       "      <td>93.196491</td>\n",
       "    </tr>\n",
       "    <tr>\n",
       "      <th>1</th>\n",
       "      <td>Accounting &amp; Legal</td>\n",
       "      <td>3.741860</td>\n",
       "      <td>58.511628</td>\n",
       "      <td>91.930233</td>\n",
       "    </tr>\n",
       "  </tbody>\n",
       "</table>\n",
       "</div>"
      ],
      "text/plain": [
       "                              Sector    Rating  Min Salary  Max Salary\n",
       "4          Biotech & Pharmaceuticals  3.390909   61.363636  104.848485\n",
       "19                       Real Estate  3.375000   57.250000  104.583333\n",
       "3   Arts, Entertainment & Recreation  3.800000   60.428571  100.857143\n",
       "12            Information Technology  3.872456   55.298246   93.196491\n",
       "1                 Accounting & Legal  3.741860   58.511628   91.930233"
      ]
     },
     "execution_count": 19,
     "metadata": {},
     "output_type": "execute_result"
    }
   ],
   "source": [
    "# Now, analyze Max salary in fuction the each sector\n",
    "# Empty rows and fields innesesary\n",
    "df_mean_salary = df1.groupby(['Sector']).mean().reset_index()\\\n",
    "                    .drop(['Founded','Easy Apply'], axis = 1)\n",
    "# The sectors as government and non-profit it would't take for analitycs\n",
    "df_mean_salary = df_mean_salary.drop(df_mean_salary[(df_mean_salary['Sector'] == '-1') | \\\n",
    "                                                    (df_mean_salary['Sector'] == 'Government') | \\\n",
    "                                                    (df_mean_salary['Sector'] == 'Non-Profit')].index,\n",
    "                                     axis = 0) \\\n",
    "                                     .sort_values('Max Salary', ascending = False)\n",
    "\n",
    "df_mean_salary.head()"
   ]
  },
  {
   "cell_type": "code",
   "execution_count": 20,
   "metadata": {
    "execution": {
     "iopub.execute_input": "2020-10-18T23:25:58.192479Z",
     "iopub.status.busy": "2020-10-18T23:25:58.191614Z",
     "iopub.status.idle": "2020-10-18T23:25:58.201214Z",
     "shell.execute_reply": "2020-10-18T23:25:58.201685Z"
    },
    "papermill": {
     "duration": 0.116253,
     "end_time": "2020-10-18T23:25:58.201804",
     "exception": false,
     "start_time": "2020-10-18T23:25:58.085551",
     "status": "completed"
    },
    "tags": []
   },
   "outputs": [
    {
     "data": {
      "application/vnd.plotly.v1+json": {
       "config": {
        "linkText": "Export to plot.ly",
        "plotlyServerURL": "https://plot.ly",
        "showLink": false
       },
       "data": [
        {
         "marker": {
          "color": "rgb(55, 83, 109)",
          "line": {
           "color": "rgb(0,0,0)",
           "width": 1.5
          }
         },
         "name": "Max Salary",
         "type": "bar",
         "x": [
          "Biotech & Pharmaceuticals",
          "Real Estate",
          "Arts, Entertainment & Recreation",
          "Information Technology",
          "Accounting & Legal",
          "Health Care",
          "Business Services",
          "Consumer Services",
          "Telecommunications",
          "Construction, Repair & Maintenance",
          "Manufacturing",
          "Education",
          "Insurance",
          "Transportation & Logistics",
          "Media",
          "Aerospace & Defense",
          "Finance",
          "Retail",
          "Oil, Gas, Energy & Utilities",
          "Mining & Metals",
          "Restaurants, Bars & Food Services",
          "Travel & Tourism"
         ],
         "y": [
          104.84848484848484,
          104.58333333333333,
          100.85714285714286,
          93.19649122807017,
          91.93023255813954,
          90.25165562913908,
          89.86832061068702,
          89.85714285714286,
          89.0,
          88.125,
          87.9,
          87.32692307692308,
          85.6078431372549,
          85.3,
          85.11904761904762,
          85.04545454545455,
          84.64497041420118,
          84.28947368421052,
          78.53846153846153,
          78.0,
          69.0,
          67.0
         ]
        },
        {
         "marker": {
          "color": "indianred",
          "line": {
           "color": "rgb(0,0,0)",
           "width": 1.5
          }
         },
         "name": "Min Salary",
         "type": "bar",
         "x": [
          "Biotech & Pharmaceuticals",
          "Real Estate",
          "Arts, Entertainment & Recreation",
          "Information Technology",
          "Accounting & Legal",
          "Health Care",
          "Business Services",
          "Consumer Services",
          "Telecommunications",
          "Construction, Repair & Maintenance",
          "Manufacturing",
          "Education",
          "Insurance",
          "Transportation & Logistics",
          "Media",
          "Aerospace & Defense",
          "Finance",
          "Retail",
          "Oil, Gas, Energy & Utilities",
          "Mining & Metals",
          "Restaurants, Bars & Food Services",
          "Travel & Tourism"
         ],
         "y": [
          61.36363636363637,
          57.25,
          60.42857142857143,
          55.29824561403509,
          58.51162790697674,
          55.36423841059602,
          54.404580152671755,
          53.142857142857146,
          51.72727272727273,
          53.8125,
          56.25,
          51.80769230769231,
          54.90196078431372,
          53.4,
          51.833333333333336,
          51.95454545454545,
          50.64497041420118,
          49.078947368421055,
          48.0,
          41.0,
          39.0,
          57.0
         ]
        }
       ],
       "layout": {
        "barmode": "group",
        "template": {
         "data": {
          "bar": [
           {
            "error_x": {
             "color": "#2a3f5f"
            },
            "error_y": {
             "color": "#2a3f5f"
            },
            "marker": {
             "line": {
              "color": "#E5ECF6",
              "width": 0.5
             }
            },
            "type": "bar"
           }
          ],
          "barpolar": [
           {
            "marker": {
             "line": {
              "color": "#E5ECF6",
              "width": 0.5
             }
            },
            "type": "barpolar"
           }
          ],
          "carpet": [
           {
            "aaxis": {
             "endlinecolor": "#2a3f5f",
             "gridcolor": "white",
             "linecolor": "white",
             "minorgridcolor": "white",
             "startlinecolor": "#2a3f5f"
            },
            "baxis": {
             "endlinecolor": "#2a3f5f",
             "gridcolor": "white",
             "linecolor": "white",
             "minorgridcolor": "white",
             "startlinecolor": "#2a3f5f"
            },
            "type": "carpet"
           }
          ],
          "choropleth": [
           {
            "colorbar": {
             "outlinewidth": 0,
             "ticks": ""
            },
            "type": "choropleth"
           }
          ],
          "contour": [
           {
            "colorbar": {
             "outlinewidth": 0,
             "ticks": ""
            },
            "colorscale": [
             [
              0.0,
              "#0d0887"
             ],
             [
              0.1111111111111111,
              "#46039f"
             ],
             [
              0.2222222222222222,
              "#7201a8"
             ],
             [
              0.3333333333333333,
              "#9c179e"
             ],
             [
              0.4444444444444444,
              "#bd3786"
             ],
             [
              0.5555555555555556,
              "#d8576b"
             ],
             [
              0.6666666666666666,
              "#ed7953"
             ],
             [
              0.7777777777777778,
              "#fb9f3a"
             ],
             [
              0.8888888888888888,
              "#fdca26"
             ],
             [
              1.0,
              "#f0f921"
             ]
            ],
            "type": "contour"
           }
          ],
          "contourcarpet": [
           {
            "colorbar": {
             "outlinewidth": 0,
             "ticks": ""
            },
            "type": "contourcarpet"
           }
          ],
          "heatmap": [
           {
            "colorbar": {
             "outlinewidth": 0,
             "ticks": ""
            },
            "colorscale": [
             [
              0.0,
              "#0d0887"
             ],
             [
              0.1111111111111111,
              "#46039f"
             ],
             [
              0.2222222222222222,
              "#7201a8"
             ],
             [
              0.3333333333333333,
              "#9c179e"
             ],
             [
              0.4444444444444444,
              "#bd3786"
             ],
             [
              0.5555555555555556,
              "#d8576b"
             ],
             [
              0.6666666666666666,
              "#ed7953"
             ],
             [
              0.7777777777777778,
              "#fb9f3a"
             ],
             [
              0.8888888888888888,
              "#fdca26"
             ],
             [
              1.0,
              "#f0f921"
             ]
            ],
            "type": "heatmap"
           }
          ],
          "heatmapgl": [
           {
            "colorbar": {
             "outlinewidth": 0,
             "ticks": ""
            },
            "colorscale": [
             [
              0.0,
              "#0d0887"
             ],
             [
              0.1111111111111111,
              "#46039f"
             ],
             [
              0.2222222222222222,
              "#7201a8"
             ],
             [
              0.3333333333333333,
              "#9c179e"
             ],
             [
              0.4444444444444444,
              "#bd3786"
             ],
             [
              0.5555555555555556,
              "#d8576b"
             ],
             [
              0.6666666666666666,
              "#ed7953"
             ],
             [
              0.7777777777777778,
              "#fb9f3a"
             ],
             [
              0.8888888888888888,
              "#fdca26"
             ],
             [
              1.0,
              "#f0f921"
             ]
            ],
            "type": "heatmapgl"
           }
          ],
          "histogram": [
           {
            "marker": {
             "colorbar": {
              "outlinewidth": 0,
              "ticks": ""
             }
            },
            "type": "histogram"
           }
          ],
          "histogram2d": [
           {
            "colorbar": {
             "outlinewidth": 0,
             "ticks": ""
            },
            "colorscale": [
             [
              0.0,
              "#0d0887"
             ],
             [
              0.1111111111111111,
              "#46039f"
             ],
             [
              0.2222222222222222,
              "#7201a8"
             ],
             [
              0.3333333333333333,
              "#9c179e"
             ],
             [
              0.4444444444444444,
              "#bd3786"
             ],
             [
              0.5555555555555556,
              "#d8576b"
             ],
             [
              0.6666666666666666,
              "#ed7953"
             ],
             [
              0.7777777777777778,
              "#fb9f3a"
             ],
             [
              0.8888888888888888,
              "#fdca26"
             ],
             [
              1.0,
              "#f0f921"
             ]
            ],
            "type": "histogram2d"
           }
          ],
          "histogram2dcontour": [
           {
            "colorbar": {
             "outlinewidth": 0,
             "ticks": ""
            },
            "colorscale": [
             [
              0.0,
              "#0d0887"
             ],
             [
              0.1111111111111111,
              "#46039f"
             ],
             [
              0.2222222222222222,
              "#7201a8"
             ],
             [
              0.3333333333333333,
              "#9c179e"
             ],
             [
              0.4444444444444444,
              "#bd3786"
             ],
             [
              0.5555555555555556,
              "#d8576b"
             ],
             [
              0.6666666666666666,
              "#ed7953"
             ],
             [
              0.7777777777777778,
              "#fb9f3a"
             ],
             [
              0.8888888888888888,
              "#fdca26"
             ],
             [
              1.0,
              "#f0f921"
             ]
            ],
            "type": "histogram2dcontour"
           }
          ],
          "mesh3d": [
           {
            "colorbar": {
             "outlinewidth": 0,
             "ticks": ""
            },
            "type": "mesh3d"
           }
          ],
          "parcoords": [
           {
            "line": {
             "colorbar": {
              "outlinewidth": 0,
              "ticks": ""
             }
            },
            "type": "parcoords"
           }
          ],
          "pie": [
           {
            "automargin": true,
            "type": "pie"
           }
          ],
          "scatter": [
           {
            "marker": {
             "colorbar": {
              "outlinewidth": 0,
              "ticks": ""
             }
            },
            "type": "scatter"
           }
          ],
          "scatter3d": [
           {
            "line": {
             "colorbar": {
              "outlinewidth": 0,
              "ticks": ""
             }
            },
            "marker": {
             "colorbar": {
              "outlinewidth": 0,
              "ticks": ""
             }
            },
            "type": "scatter3d"
           }
          ],
          "scattercarpet": [
           {
            "marker": {
             "colorbar": {
              "outlinewidth": 0,
              "ticks": ""
             }
            },
            "type": "scattercarpet"
           }
          ],
          "scattergeo": [
           {
            "marker": {
             "colorbar": {
              "outlinewidth": 0,
              "ticks": ""
             }
            },
            "type": "scattergeo"
           }
          ],
          "scattergl": [
           {
            "marker": {
             "colorbar": {
              "outlinewidth": 0,
              "ticks": ""
             }
            },
            "type": "scattergl"
           }
          ],
          "scattermapbox": [
           {
            "marker": {
             "colorbar": {
              "outlinewidth": 0,
              "ticks": ""
             }
            },
            "type": "scattermapbox"
           }
          ],
          "scatterpolar": [
           {
            "marker": {
             "colorbar": {
              "outlinewidth": 0,
              "ticks": ""
             }
            },
            "type": "scatterpolar"
           }
          ],
          "scatterpolargl": [
           {
            "marker": {
             "colorbar": {
              "outlinewidth": 0,
              "ticks": ""
             }
            },
            "type": "scatterpolargl"
           }
          ],
          "scatterternary": [
           {
            "marker": {
             "colorbar": {
              "outlinewidth": 0,
              "ticks": ""
             }
            },
            "type": "scatterternary"
           }
          ],
          "surface": [
           {
            "colorbar": {
             "outlinewidth": 0,
             "ticks": ""
            },
            "colorscale": [
             [
              0.0,
              "#0d0887"
             ],
             [
              0.1111111111111111,
              "#46039f"
             ],
             [
              0.2222222222222222,
              "#7201a8"
             ],
             [
              0.3333333333333333,
              "#9c179e"
             ],
             [
              0.4444444444444444,
              "#bd3786"
             ],
             [
              0.5555555555555556,
              "#d8576b"
             ],
             [
              0.6666666666666666,
              "#ed7953"
             ],
             [
              0.7777777777777778,
              "#fb9f3a"
             ],
             [
              0.8888888888888888,
              "#fdca26"
             ],
             [
              1.0,
              "#f0f921"
             ]
            ],
            "type": "surface"
           }
          ],
          "table": [
           {
            "cells": {
             "fill": {
              "color": "#EBF0F8"
             },
             "line": {
              "color": "white"
             }
            },
            "header": {
             "fill": {
              "color": "#C8D4E3"
             },
             "line": {
              "color": "white"
             }
            },
            "type": "table"
           }
          ]
         },
         "layout": {
          "annotationdefaults": {
           "arrowcolor": "#2a3f5f",
           "arrowhead": 0,
           "arrowwidth": 1
          },
          "coloraxis": {
           "colorbar": {
            "outlinewidth": 0,
            "ticks": ""
           }
          },
          "colorscale": {
           "diverging": [
            [
             0,
             "#8e0152"
            ],
            [
             0.1,
             "#c51b7d"
            ],
            [
             0.2,
             "#de77ae"
            ],
            [
             0.3,
             "#f1b6da"
            ],
            [
             0.4,
             "#fde0ef"
            ],
            [
             0.5,
             "#f7f7f7"
            ],
            [
             0.6,
             "#e6f5d0"
            ],
            [
             0.7,
             "#b8e186"
            ],
            [
             0.8,
             "#7fbc41"
            ],
            [
             0.9,
             "#4d9221"
            ],
            [
             1,
             "#276419"
            ]
           ],
           "sequential": [
            [
             0.0,
             "#0d0887"
            ],
            [
             0.1111111111111111,
             "#46039f"
            ],
            [
             0.2222222222222222,
             "#7201a8"
            ],
            [
             0.3333333333333333,
             "#9c179e"
            ],
            [
             0.4444444444444444,
             "#bd3786"
            ],
            [
             0.5555555555555556,
             "#d8576b"
            ],
            [
             0.6666666666666666,
             "#ed7953"
            ],
            [
             0.7777777777777778,
             "#fb9f3a"
            ],
            [
             0.8888888888888888,
             "#fdca26"
            ],
            [
             1.0,
             "#f0f921"
            ]
           ],
           "sequentialminus": [
            [
             0.0,
             "#0d0887"
            ],
            [
             0.1111111111111111,
             "#46039f"
            ],
            [
             0.2222222222222222,
             "#7201a8"
            ],
            [
             0.3333333333333333,
             "#9c179e"
            ],
            [
             0.4444444444444444,
             "#bd3786"
            ],
            [
             0.5555555555555556,
             "#d8576b"
            ],
            [
             0.6666666666666666,
             "#ed7953"
            ],
            [
             0.7777777777777778,
             "#fb9f3a"
            ],
            [
             0.8888888888888888,
             "#fdca26"
            ],
            [
             1.0,
             "#f0f921"
            ]
           ]
          },
          "colorway": [
           "#636efa",
           "#EF553B",
           "#00cc96",
           "#ab63fa",
           "#FFA15A",
           "#19d3f3",
           "#FF6692",
           "#B6E880",
           "#FF97FF",
           "#FECB52"
          ],
          "font": {
           "color": "#2a3f5f"
          },
          "geo": {
           "bgcolor": "white",
           "lakecolor": "white",
           "landcolor": "#E5ECF6",
           "showlakes": true,
           "showland": true,
           "subunitcolor": "white"
          },
          "hoverlabel": {
           "align": "left"
          },
          "hovermode": "closest",
          "mapbox": {
           "style": "light"
          },
          "paper_bgcolor": "white",
          "plot_bgcolor": "#E5ECF6",
          "polar": {
           "angularaxis": {
            "gridcolor": "white",
            "linecolor": "white",
            "ticks": ""
           },
           "bgcolor": "#E5ECF6",
           "radialaxis": {
            "gridcolor": "white",
            "linecolor": "white",
            "ticks": ""
           }
          },
          "scene": {
           "xaxis": {
            "backgroundcolor": "#E5ECF6",
            "gridcolor": "white",
            "gridwidth": 2,
            "linecolor": "white",
            "showbackground": true,
            "ticks": "",
            "zerolinecolor": "white"
           },
           "yaxis": {
            "backgroundcolor": "#E5ECF6",
            "gridcolor": "white",
            "gridwidth": 2,
            "linecolor": "white",
            "showbackground": true,
            "ticks": "",
            "zerolinecolor": "white"
           },
           "zaxis": {
            "backgroundcolor": "#E5ECF6",
            "gridcolor": "white",
            "gridwidth": 2,
            "linecolor": "white",
            "showbackground": true,
            "ticks": "",
            "zerolinecolor": "white"
           }
          },
          "shapedefaults": {
           "line": {
            "color": "#2a3f5f"
           }
          },
          "ternary": {
           "aaxis": {
            "gridcolor": "white",
            "linecolor": "white",
            "ticks": ""
           },
           "baxis": {
            "gridcolor": "white",
            "linecolor": "white",
            "ticks": ""
           },
           "bgcolor": "#E5ECF6",
           "caxis": {
            "gridcolor": "white",
            "linecolor": "white",
            "ticks": ""
           }
          },
          "title": {
           "x": 0.05
          },
          "xaxis": {
           "automargin": true,
           "gridcolor": "white",
           "linecolor": "white",
           "ticks": "",
           "title": {
            "standoff": 15
           },
           "zerolinecolor": "white",
           "zerolinewidth": 2
          },
          "yaxis": {
           "automargin": true,
           "gridcolor": "white",
           "linecolor": "white",
           "ticks": "",
           "title": {
            "standoff": 15
           },
           "zerolinecolor": "white",
           "zerolinewidth": 2
          }
         }
        },
        "title": {
         "text": "Salary Range For Each Sector"
        }
       }
      },
      "text/html": [
       "<div>\n",
       "        \n",
       "        \n",
       "            <div id=\"d7901f54-2136-46a0-878e-3bab0a56d4ce\" class=\"plotly-graph-div\" style=\"height:525px; width:100%;\"></div>\n",
       "            <script type=\"text/javascript\">\n",
       "                require([\"plotly\"], function(Plotly) {\n",
       "                    window.PLOTLYENV=window.PLOTLYENV || {};\n",
       "                    \n",
       "                if (document.getElementById(\"d7901f54-2136-46a0-878e-3bab0a56d4ce\")) {\n",
       "                    Plotly.newPlot(\n",
       "                        'd7901f54-2136-46a0-878e-3bab0a56d4ce',\n",
       "                        [{\"marker\": {\"color\": \"rgb(55, 83, 109)\", \"line\": {\"color\": \"rgb(0,0,0)\", \"width\": 1.5}}, \"name\": \"Max Salary\", \"type\": \"bar\", \"x\": [\"Biotech & Pharmaceuticals\", \"Real Estate\", \"Arts, Entertainment & Recreation\", \"Information Technology\", \"Accounting & Legal\", \"Health Care\", \"Business Services\", \"Consumer Services\", \"Telecommunications\", \"Construction, Repair & Maintenance\", \"Manufacturing\", \"Education\", \"Insurance\", \"Transportation & Logistics\", \"Media\", \"Aerospace & Defense\", \"Finance\", \"Retail\", \"Oil, Gas, Energy & Utilities\", \"Mining & Metals\", \"Restaurants, Bars & Food Services\", \"Travel & Tourism\"], \"y\": [104.84848484848484, 104.58333333333333, 100.85714285714286, 93.19649122807017, 91.93023255813954, 90.25165562913908, 89.86832061068702, 89.85714285714286, 89.0, 88.125, 87.9, 87.32692307692308, 85.6078431372549, 85.3, 85.11904761904762, 85.04545454545455, 84.64497041420118, 84.28947368421052, 78.53846153846153, 78.0, 69.0, 67.0]}, {\"marker\": {\"color\": \"indianred\", \"line\": {\"color\": \"rgb(0,0,0)\", \"width\": 1.5}}, \"name\": \"Min Salary\", \"type\": \"bar\", \"x\": [\"Biotech & Pharmaceuticals\", \"Real Estate\", \"Arts, Entertainment & Recreation\", \"Information Technology\", \"Accounting & Legal\", \"Health Care\", \"Business Services\", \"Consumer Services\", \"Telecommunications\", \"Construction, Repair & Maintenance\", \"Manufacturing\", \"Education\", \"Insurance\", \"Transportation & Logistics\", \"Media\", \"Aerospace & Defense\", \"Finance\", \"Retail\", \"Oil, Gas, Energy & Utilities\", \"Mining & Metals\", \"Restaurants, Bars & Food Services\", \"Travel & Tourism\"], \"y\": [61.36363636363637, 57.25, 60.42857142857143, 55.29824561403509, 58.51162790697674, 55.36423841059602, 54.404580152671755, 53.142857142857146, 51.72727272727273, 53.8125, 56.25, 51.80769230769231, 54.90196078431372, 53.4, 51.833333333333336, 51.95454545454545, 50.64497041420118, 49.078947368421055, 48.0, 41.0, 39.0, 57.0]}],\n",
       "                        {\"barmode\": \"group\", \"template\": {\"data\": {\"bar\": [{\"error_x\": {\"color\": \"#2a3f5f\"}, \"error_y\": {\"color\": \"#2a3f5f\"}, \"marker\": {\"line\": {\"color\": \"#E5ECF6\", \"width\": 0.5}}, \"type\": \"bar\"}], \"barpolar\": [{\"marker\": {\"line\": {\"color\": \"#E5ECF6\", \"width\": 0.5}}, \"type\": \"barpolar\"}], \"carpet\": [{\"aaxis\": {\"endlinecolor\": \"#2a3f5f\", \"gridcolor\": \"white\", \"linecolor\": \"white\", \"minorgridcolor\": \"white\", \"startlinecolor\": \"#2a3f5f\"}, \"baxis\": {\"endlinecolor\": \"#2a3f5f\", \"gridcolor\": \"white\", \"linecolor\": \"white\", \"minorgridcolor\": \"white\", \"startlinecolor\": \"#2a3f5f\"}, \"type\": \"carpet\"}], \"choropleth\": [{\"colorbar\": {\"outlinewidth\": 0, \"ticks\": \"\"}, \"type\": \"choropleth\"}], \"contour\": [{\"colorbar\": {\"outlinewidth\": 0, \"ticks\": \"\"}, \"colorscale\": [[0.0, \"#0d0887\"], [0.1111111111111111, \"#46039f\"], [0.2222222222222222, \"#7201a8\"], [0.3333333333333333, \"#9c179e\"], [0.4444444444444444, \"#bd3786\"], [0.5555555555555556, \"#d8576b\"], [0.6666666666666666, \"#ed7953\"], [0.7777777777777778, \"#fb9f3a\"], [0.8888888888888888, \"#fdca26\"], [1.0, \"#f0f921\"]], \"type\": \"contour\"}], \"contourcarpet\": [{\"colorbar\": {\"outlinewidth\": 0, \"ticks\": \"\"}, \"type\": \"contourcarpet\"}], \"heatmap\": [{\"colorbar\": {\"outlinewidth\": 0, \"ticks\": \"\"}, \"colorscale\": [[0.0, \"#0d0887\"], [0.1111111111111111, \"#46039f\"], [0.2222222222222222, \"#7201a8\"], [0.3333333333333333, \"#9c179e\"], [0.4444444444444444, \"#bd3786\"], [0.5555555555555556, \"#d8576b\"], [0.6666666666666666, \"#ed7953\"], [0.7777777777777778, \"#fb9f3a\"], [0.8888888888888888, \"#fdca26\"], [1.0, \"#f0f921\"]], \"type\": \"heatmap\"}], \"heatmapgl\": [{\"colorbar\": {\"outlinewidth\": 0, \"ticks\": \"\"}, \"colorscale\": [[0.0, \"#0d0887\"], [0.1111111111111111, \"#46039f\"], [0.2222222222222222, \"#7201a8\"], [0.3333333333333333, \"#9c179e\"], [0.4444444444444444, \"#bd3786\"], [0.5555555555555556, \"#d8576b\"], [0.6666666666666666, \"#ed7953\"], [0.7777777777777778, \"#fb9f3a\"], [0.8888888888888888, \"#fdca26\"], [1.0, \"#f0f921\"]], \"type\": \"heatmapgl\"}], \"histogram\": [{\"marker\": {\"colorbar\": {\"outlinewidth\": 0, \"ticks\": \"\"}}, \"type\": \"histogram\"}], \"histogram2d\": [{\"colorbar\": {\"outlinewidth\": 0, \"ticks\": \"\"}, \"colorscale\": [[0.0, \"#0d0887\"], [0.1111111111111111, \"#46039f\"], [0.2222222222222222, \"#7201a8\"], [0.3333333333333333, \"#9c179e\"], [0.4444444444444444, \"#bd3786\"], [0.5555555555555556, \"#d8576b\"], [0.6666666666666666, \"#ed7953\"], [0.7777777777777778, \"#fb9f3a\"], [0.8888888888888888, \"#fdca26\"], [1.0, \"#f0f921\"]], \"type\": \"histogram2d\"}], \"histogram2dcontour\": [{\"colorbar\": {\"outlinewidth\": 0, \"ticks\": \"\"}, \"colorscale\": [[0.0, \"#0d0887\"], [0.1111111111111111, \"#46039f\"], [0.2222222222222222, \"#7201a8\"], [0.3333333333333333, \"#9c179e\"], [0.4444444444444444, \"#bd3786\"], [0.5555555555555556, \"#d8576b\"], [0.6666666666666666, \"#ed7953\"], [0.7777777777777778, \"#fb9f3a\"], [0.8888888888888888, \"#fdca26\"], [1.0, \"#f0f921\"]], \"type\": \"histogram2dcontour\"}], \"mesh3d\": [{\"colorbar\": {\"outlinewidth\": 0, \"ticks\": \"\"}, \"type\": \"mesh3d\"}], \"parcoords\": [{\"line\": {\"colorbar\": {\"outlinewidth\": 0, \"ticks\": \"\"}}, \"type\": \"parcoords\"}], \"pie\": [{\"automargin\": true, \"type\": \"pie\"}], \"scatter\": [{\"marker\": {\"colorbar\": {\"outlinewidth\": 0, \"ticks\": \"\"}}, \"type\": \"scatter\"}], \"scatter3d\": [{\"line\": {\"colorbar\": {\"outlinewidth\": 0, \"ticks\": \"\"}}, \"marker\": {\"colorbar\": {\"outlinewidth\": 0, \"ticks\": \"\"}}, \"type\": \"scatter3d\"}], \"scattercarpet\": [{\"marker\": {\"colorbar\": {\"outlinewidth\": 0, \"ticks\": \"\"}}, \"type\": \"scattercarpet\"}], \"scattergeo\": [{\"marker\": {\"colorbar\": {\"outlinewidth\": 0, \"ticks\": \"\"}}, \"type\": \"scattergeo\"}], \"scattergl\": [{\"marker\": {\"colorbar\": {\"outlinewidth\": 0, \"ticks\": \"\"}}, \"type\": \"scattergl\"}], \"scattermapbox\": [{\"marker\": {\"colorbar\": {\"outlinewidth\": 0, \"ticks\": \"\"}}, \"type\": \"scattermapbox\"}], \"scatterpolar\": [{\"marker\": {\"colorbar\": {\"outlinewidth\": 0, \"ticks\": \"\"}}, \"type\": \"scatterpolar\"}], \"scatterpolargl\": [{\"marker\": {\"colorbar\": {\"outlinewidth\": 0, \"ticks\": \"\"}}, \"type\": \"scatterpolargl\"}], \"scatterternary\": [{\"marker\": {\"colorbar\": {\"outlinewidth\": 0, \"ticks\": \"\"}}, \"type\": \"scatterternary\"}], \"surface\": [{\"colorbar\": {\"outlinewidth\": 0, \"ticks\": \"\"}, \"colorscale\": [[0.0, \"#0d0887\"], [0.1111111111111111, \"#46039f\"], [0.2222222222222222, \"#7201a8\"], [0.3333333333333333, \"#9c179e\"], [0.4444444444444444, \"#bd3786\"], [0.5555555555555556, \"#d8576b\"], [0.6666666666666666, \"#ed7953\"], [0.7777777777777778, \"#fb9f3a\"], [0.8888888888888888, \"#fdca26\"], [1.0, \"#f0f921\"]], \"type\": \"surface\"}], \"table\": [{\"cells\": {\"fill\": {\"color\": \"#EBF0F8\"}, \"line\": {\"color\": \"white\"}}, \"header\": {\"fill\": {\"color\": \"#C8D4E3\"}, \"line\": {\"color\": \"white\"}}, \"type\": \"table\"}]}, \"layout\": {\"annotationdefaults\": {\"arrowcolor\": \"#2a3f5f\", \"arrowhead\": 0, \"arrowwidth\": 1}, \"coloraxis\": {\"colorbar\": {\"outlinewidth\": 0, \"ticks\": \"\"}}, \"colorscale\": {\"diverging\": [[0, \"#8e0152\"], [0.1, \"#c51b7d\"], [0.2, \"#de77ae\"], [0.3, \"#f1b6da\"], [0.4, \"#fde0ef\"], [0.5, \"#f7f7f7\"], [0.6, \"#e6f5d0\"], [0.7, \"#b8e186\"], [0.8, \"#7fbc41\"], [0.9, \"#4d9221\"], [1, \"#276419\"]], \"sequential\": [[0.0, \"#0d0887\"], [0.1111111111111111, \"#46039f\"], [0.2222222222222222, \"#7201a8\"], [0.3333333333333333, \"#9c179e\"], [0.4444444444444444, \"#bd3786\"], [0.5555555555555556, \"#d8576b\"], [0.6666666666666666, \"#ed7953\"], [0.7777777777777778, \"#fb9f3a\"], [0.8888888888888888, \"#fdca26\"], [1.0, \"#f0f921\"]], \"sequentialminus\": [[0.0, \"#0d0887\"], [0.1111111111111111, \"#46039f\"], [0.2222222222222222, \"#7201a8\"], [0.3333333333333333, \"#9c179e\"], [0.4444444444444444, \"#bd3786\"], [0.5555555555555556, \"#d8576b\"], [0.6666666666666666, \"#ed7953\"], [0.7777777777777778, \"#fb9f3a\"], [0.8888888888888888, \"#fdca26\"], [1.0, \"#f0f921\"]]}, \"colorway\": [\"#636efa\", \"#EF553B\", \"#00cc96\", \"#ab63fa\", \"#FFA15A\", \"#19d3f3\", \"#FF6692\", \"#B6E880\", \"#FF97FF\", \"#FECB52\"], \"font\": {\"color\": \"#2a3f5f\"}, \"geo\": {\"bgcolor\": \"white\", \"lakecolor\": \"white\", \"landcolor\": \"#E5ECF6\", \"showlakes\": true, \"showland\": true, \"subunitcolor\": \"white\"}, \"hoverlabel\": {\"align\": \"left\"}, \"hovermode\": \"closest\", \"mapbox\": {\"style\": \"light\"}, \"paper_bgcolor\": \"white\", \"plot_bgcolor\": \"#E5ECF6\", \"polar\": {\"angularaxis\": {\"gridcolor\": \"white\", \"linecolor\": \"white\", \"ticks\": \"\"}, \"bgcolor\": \"#E5ECF6\", \"radialaxis\": {\"gridcolor\": \"white\", \"linecolor\": \"white\", \"ticks\": \"\"}}, \"scene\": {\"xaxis\": {\"backgroundcolor\": \"#E5ECF6\", \"gridcolor\": \"white\", \"gridwidth\": 2, \"linecolor\": \"white\", \"showbackground\": true, \"ticks\": \"\", \"zerolinecolor\": \"white\"}, \"yaxis\": {\"backgroundcolor\": \"#E5ECF6\", \"gridcolor\": \"white\", \"gridwidth\": 2, \"linecolor\": \"white\", \"showbackground\": true, \"ticks\": \"\", \"zerolinecolor\": \"white\"}, \"zaxis\": {\"backgroundcolor\": \"#E5ECF6\", \"gridcolor\": \"white\", \"gridwidth\": 2, \"linecolor\": \"white\", \"showbackground\": true, \"ticks\": \"\", \"zerolinecolor\": \"white\"}}, \"shapedefaults\": {\"line\": {\"color\": \"#2a3f5f\"}}, \"ternary\": {\"aaxis\": {\"gridcolor\": \"white\", \"linecolor\": \"white\", \"ticks\": \"\"}, \"baxis\": {\"gridcolor\": \"white\", \"linecolor\": \"white\", \"ticks\": \"\"}, \"bgcolor\": \"#E5ECF6\", \"caxis\": {\"gridcolor\": \"white\", \"linecolor\": \"white\", \"ticks\": \"\"}}, \"title\": {\"x\": 0.05}, \"xaxis\": {\"automargin\": true, \"gridcolor\": \"white\", \"linecolor\": \"white\", \"ticks\": \"\", \"title\": {\"standoff\": 15}, \"zerolinecolor\": \"white\", \"zerolinewidth\": 2}, \"yaxis\": {\"automargin\": true, \"gridcolor\": \"white\", \"linecolor\": \"white\", \"ticks\": \"\", \"title\": {\"standoff\": 15}, \"zerolinecolor\": \"white\", \"zerolinewidth\": 2}}}, \"title\": {\"text\": \"Salary Range For Each Sector\"}},\n",
       "                        {\"responsive\": true}\n",
       "                    ).then(function(){\n",
       "                            \n",
       "var gd = document.getElementById('d7901f54-2136-46a0-878e-3bab0a56d4ce');\n",
       "var x = new MutationObserver(function (mutations, observer) {{\n",
       "        var display = window.getComputedStyle(gd).display;\n",
       "        if (!display || display === 'none') {{\n",
       "            console.log([gd, 'removed!']);\n",
       "            Plotly.purge(gd);\n",
       "            observer.disconnect();\n",
       "        }}\n",
       "}});\n",
       "\n",
       "// Listen for the removal of the full notebook cells\n",
       "var notebookContainer = gd.closest('#notebook-container');\n",
       "if (notebookContainer) {{\n",
       "    x.observe(notebookContainer, {childList: true});\n",
       "}}\n",
       "\n",
       "// Listen for the clearing of the current output cell\n",
       "var outputEl = gd.closest('.output');\n",
       "if (outputEl) {{\n",
       "    x.observe(outputEl, {childList: true});\n",
       "}}\n",
       "\n",
       "                        })\n",
       "                };\n",
       "                });\n",
       "            </script>\n",
       "        </div>"
      ]
     },
     "metadata": {},
     "output_type": "display_data"
    }
   ],
   "source": [
    "# Visualization in bar graph with plotly\n",
    "\n",
    "# Create Trace 1\n",
    "trace1 = go.Bar(x = df_mean_salary['Sector'],\n",
    "                y = df_mean_salary['Max Salary'],\n",
    "                name = 'Max Salary',\n",
    "                marker = dict(color ='rgb(55, 83, 109)',\n",
    "                             line = dict(color = 'rgb(0,0,0)', width = 1.5)))\n",
    "\n",
    "# Create Trace 2\n",
    "trace2 = go.Bar(x = df_mean_salary['Sector'],\n",
    "                y = df_mean_salary['Min Salary'],\n",
    "                name = 'Min Salary',\n",
    "                marker = dict(color = 'indianred',\n",
    "                             line = dict(color = 'rgb(0,0,0)', width = 1.5)))\n",
    "\n",
    "data = [trace1, trace2]\n",
    "\n",
    "layout = go.Layout(title = 'Salary Range For Each Sector', \n",
    "                   barmode = 'group')\n",
    "\n",
    "chart = go.Figure(data = data, layout = layout)\n",
    "iplot(chart)\n"
   ]
  },
  {
   "cell_type": "markdown",
   "metadata": {
    "papermill": {
     "duration": 0.064636,
     "end_time": "2020-10-18T23:25:58.331845",
     "exception": false,
     "start_time": "2020-10-18T23:25:58.267209",
     "status": "completed"
    },
    "tags": []
   },
   "source": [
    "# Distribution of Job Offers as a Data Analyst in the Territory of the United States"
   ]
  },
  {
   "cell_type": "code",
   "execution_count": 21,
   "metadata": {
    "execution": {
     "iopub.execute_input": "2020-10-18T23:25:58.483119Z",
     "iopub.status.busy": "2020-10-18T23:25:58.482242Z",
     "iopub.status.idle": "2020-10-18T23:25:58.485766Z",
     "shell.execute_reply": "2020-10-18T23:25:58.486301Z"
    },
    "papermill": {
     "duration": 0.08923,
     "end_time": "2020-10-18T23:25:58.486426",
     "exception": false,
     "start_time": "2020-10-18T23:25:58.397196",
     "status": "completed"
    },
    "tags": []
   },
   "outputs": [
    {
     "data": {
      "text/html": [
       "<div>\n",
       "<style scoped>\n",
       "    .dataframe tbody tr th:only-of-type {\n",
       "        vertical-align: middle;\n",
       "    }\n",
       "\n",
       "    .dataframe tbody tr th {\n",
       "        vertical-align: top;\n",
       "    }\n",
       "\n",
       "    .dataframe thead th {\n",
       "        text-align: right;\n",
       "    }\n",
       "</style>\n",
       "<table border=\"1\" class=\"dataframe\">\n",
       "  <thead>\n",
       "    <tr style=\"text-align: right;\">\n",
       "      <th></th>\n",
       "      <th>Sector</th>\n",
       "      <th>Location</th>\n",
       "      <th>Mean Salary</th>\n",
       "    </tr>\n",
       "  </thead>\n",
       "  <tbody>\n",
       "    <tr>\n",
       "      <th>0</th>\n",
       "      <td>Non-Profit</td>\n",
       "      <td>New York, NY</td>\n",
       "      <td>51.5</td>\n",
       "    </tr>\n",
       "    <tr>\n",
       "      <th>1</th>\n",
       "      <td>Health Care</td>\n",
       "      <td>New York, NY</td>\n",
       "      <td>51.5</td>\n",
       "    </tr>\n",
       "    <tr>\n",
       "      <th>2</th>\n",
       "      <td>Information Technology</td>\n",
       "      <td>New York, NY</td>\n",
       "      <td>51.5</td>\n",
       "    </tr>\n",
       "    <tr>\n",
       "      <th>3</th>\n",
       "      <td>Information Technology</td>\n",
       "      <td>New York, NY</td>\n",
       "      <td>51.5</td>\n",
       "    </tr>\n",
       "    <tr>\n",
       "      <th>4</th>\n",
       "      <td>Arts, Entertainment &amp; Recreation</td>\n",
       "      <td>New York, NY</td>\n",
       "      <td>51.5</td>\n",
       "    </tr>\n",
       "  </tbody>\n",
       "</table>\n",
       "</div>"
      ],
      "text/plain": [
       "                             Sector      Location  Mean Salary\n",
       "0                        Non-Profit  New York, NY         51.5\n",
       "1                       Health Care  New York, NY         51.5\n",
       "2            Information Technology  New York, NY         51.5\n",
       "3            Information Technology  New York, NY         51.5\n",
       "4  Arts, Entertainment & Recreation  New York, NY         51.5"
      ]
     },
     "execution_count": 21,
     "metadata": {},
     "output_type": "execute_result"
    }
   ],
   "source": [
    "# Create a DataFrame with features (Mean Salary, Location and Mean Salary) \n",
    "df_states = pd.DataFrame()\n",
    "dftemp = df1.copy()\n",
    "dftemp['Mean Salary'] = (df1['Max Salary'] + df1['Min Salary']) / 2\n",
    "df_states = pd.concat([df1['Sector'],df1['Location'], dftemp['Mean Salary']], axis = 1)\n",
    "df_states.head()"
   ]
  },
  {
   "cell_type": "code",
   "execution_count": 22,
   "metadata": {
    "execution": {
     "iopub.execute_input": "2020-10-18T23:25:58.655625Z",
     "iopub.status.busy": "2020-10-18T23:25:58.654750Z",
     "iopub.status.idle": "2020-10-18T23:25:58.670699Z",
     "shell.execute_reply": "2020-10-18T23:25:58.670112Z"
    },
    "papermill": {
     "duration": 0.109043,
     "end_time": "2020-10-18T23:25:58.670807",
     "exception": false,
     "start_time": "2020-10-18T23:25:58.561764",
     "status": "completed"
    },
    "tags": []
   },
   "outputs": [
    {
     "name": "stderr",
     "output_type": "stream",
     "text": [
      "/opt/conda/lib/python3.7/site-packages/ipykernel_launcher.py:2: FutureWarning:\n",
      "\n",
      "Columnar iteration over characters will be deprecated in future releases.\n",
      "\n"
     ]
    },
    {
     "data": {
      "text/html": [
       "<div>\n",
       "<style scoped>\n",
       "    .dataframe tbody tr th:only-of-type {\n",
       "        vertical-align: middle;\n",
       "    }\n",
       "\n",
       "    .dataframe tbody tr th {\n",
       "        vertical-align: top;\n",
       "    }\n",
       "\n",
       "    .dataframe thead th {\n",
       "        text-align: right;\n",
       "    }\n",
       "</style>\n",
       "<table border=\"1\" class=\"dataframe\">\n",
       "  <thead>\n",
       "    <tr style=\"text-align: right;\">\n",
       "      <th></th>\n",
       "      <th>Sector</th>\n",
       "      <th>Mean Salary</th>\n",
       "      <th>City</th>\n",
       "      <th>Acronym State</th>\n",
       "    </tr>\n",
       "  </thead>\n",
       "  <tbody>\n",
       "    <tr>\n",
       "      <th>0</th>\n",
       "      <td>Non-Profit</td>\n",
       "      <td>51.5</td>\n",
       "      <td>New York</td>\n",
       "      <td>NY</td>\n",
       "    </tr>\n",
       "    <tr>\n",
       "      <th>1</th>\n",
       "      <td>Health Care</td>\n",
       "      <td>51.5</td>\n",
       "      <td>New York</td>\n",
       "      <td>NY</td>\n",
       "    </tr>\n",
       "    <tr>\n",
       "      <th>2</th>\n",
       "      <td>Information Technology</td>\n",
       "      <td>51.5</td>\n",
       "      <td>New York</td>\n",
       "      <td>NY</td>\n",
       "    </tr>\n",
       "    <tr>\n",
       "      <th>3</th>\n",
       "      <td>Information Technology</td>\n",
       "      <td>51.5</td>\n",
       "      <td>New York</td>\n",
       "      <td>NY</td>\n",
       "    </tr>\n",
       "    <tr>\n",
       "      <th>4</th>\n",
       "      <td>Arts, Entertainment &amp; Recreation</td>\n",
       "      <td>51.5</td>\n",
       "      <td>New York</td>\n",
       "      <td>NY</td>\n",
       "    </tr>\n",
       "  </tbody>\n",
       "</table>\n",
       "</div>"
      ],
      "text/plain": [
       "                             Sector  Mean Salary      City Acronym State\n",
       "0                        Non-Profit         51.5  New York            NY\n",
       "1                       Health Care         51.5  New York            NY\n",
       "2            Information Technology         51.5  New York            NY\n",
       "3            Information Technology         51.5  New York            NY\n",
       "4  Arts, Entertainment & Recreation         51.5  New York            NY"
      ]
     },
     "execution_count": 22,
     "metadata": {},
     "output_type": "execute_result"
    }
   ],
   "source": [
    "# Seperate Acronym and City from Location Field\n",
    "df_states['City'], df_states['Acronym State'] = df_states['Location'].str.split(',', 1).str\n",
    "# Remove field \"Location\" and values '-1' in field sector:\n",
    "df_states = df_states.drop('Location', axis = 1) \\\n",
    "                     .drop(df_states[df_states['Sector'] == '-1'].index, axis = 0)\n",
    "df_states.head()"
   ]
  },
  {
   "cell_type": "code",
   "execution_count": 23,
   "metadata": {
    "execution": {
     "iopub.execute_input": "2020-10-18T23:25:58.863721Z",
     "iopub.status.busy": "2020-10-18T23:25:58.862728Z",
     "iopub.status.idle": "2020-10-18T23:25:58.879440Z",
     "shell.execute_reply": "2020-10-18T23:25:58.880214Z"
    },
    "papermill": {
     "duration": 0.141737,
     "end_time": "2020-10-18T23:25:58.880360",
     "exception": false,
     "start_time": "2020-10-18T23:25:58.738623",
     "status": "completed"
    },
    "tags": []
   },
   "outputs": [
    {
     "data": {
      "text/html": [
       "<div>\n",
       "<style scoped>\n",
       "    .dataframe tbody tr th:only-of-type {\n",
       "        vertical-align: middle;\n",
       "    }\n",
       "\n",
       "    .dataframe tbody tr th {\n",
       "        vertical-align: top;\n",
       "    }\n",
       "\n",
       "    .dataframe thead th {\n",
       "        text-align: right;\n",
       "    }\n",
       "</style>\n",
       "<table border=\"1\" class=\"dataframe\">\n",
       "  <thead>\n",
       "    <tr style=\"text-align: right;\">\n",
       "      <th></th>\n",
       "      <th>Acronym State</th>\n",
       "      <th>Sector</th>\n",
       "      <th>Mean Salary</th>\n",
       "    </tr>\n",
       "  </thead>\n",
       "  <tbody>\n",
       "    <tr>\n",
       "      <th>0</th>\n",
       "      <td>AZ</td>\n",
       "      <td>80</td>\n",
       "      <td>70.918750</td>\n",
       "    </tr>\n",
       "    <tr>\n",
       "      <th>1</th>\n",
       "      <td>Arapahoe, CO</td>\n",
       "      <td>7</td>\n",
       "      <td>71.357143</td>\n",
       "    </tr>\n",
       "    <tr>\n",
       "      <th>2</th>\n",
       "      <td>CA</td>\n",
       "      <td>519</td>\n",
       "      <td>89.186898</td>\n",
       "    </tr>\n",
       "    <tr>\n",
       "      <th>3</th>\n",
       "      <td>CO</td>\n",
       "      <td>79</td>\n",
       "      <td>73.018987</td>\n",
       "    </tr>\n",
       "    <tr>\n",
       "      <th>4</th>\n",
       "      <td>DE</td>\n",
       "      <td>9</td>\n",
       "      <td>59.166667</td>\n",
       "    </tr>\n",
       "  </tbody>\n",
       "</table>\n",
       "</div>"
      ],
      "text/plain": [
       "   Acronym State  Sector  Mean Salary\n",
       "0             AZ      80    70.918750\n",
       "1   Arapahoe, CO       7    71.357143\n",
       "2             CA     519    89.186898\n",
       "3             CO      79    73.018987\n",
       "4             DE       9    59.166667"
      ]
     },
     "execution_count": 23,
     "metadata": {},
     "output_type": "execute_result"
    }
   ],
   "source": [
    "# Apply Groupy with DataFrame both in the count and the mean values, after concated fields in the new DataFrame:\n",
    "df_states_group = df_states.groupby(['Acronym State']).count().reset_index()\n",
    "df_salary_group = df_states.groupby(['Acronym State']).mean().reset_index()\n",
    "\n",
    "# New Dataframe \n",
    "df_map = pd.DataFrame()\n",
    "df_map = pd.concat([df_states_group['Acronym State'], \n",
    "                    df_states_group['Sector'], \n",
    "                    df_salary_group['Mean Salary']], \n",
    "                   axis = 1)\n",
    "df_map.head()"
   ]
  },
  {
   "cell_type": "code",
   "execution_count": 24,
   "metadata": {
    "execution": {
     "iopub.execute_input": "2020-10-18T23:25:59.045277Z",
     "iopub.status.busy": "2020-10-18T23:25:59.044360Z",
     "iopub.status.idle": "2020-10-18T23:25:59.048648Z",
     "shell.execute_reply": "2020-10-18T23:25:59.048085Z"
    },
    "papermill": {
     "duration": 0.093028,
     "end_time": "2020-10-18T23:25:59.048760",
     "exception": false,
     "start_time": "2020-10-18T23:25:58.955732",
     "status": "completed"
    },
    "tags": []
   },
   "outputs": [
    {
     "data": {
      "text/html": [
       "<div>\n",
       "<style scoped>\n",
       "    .dataframe tbody tr th:only-of-type {\n",
       "        vertical-align: middle;\n",
       "    }\n",
       "\n",
       "    .dataframe tbody tr th {\n",
       "        vertical-align: top;\n",
       "    }\n",
       "\n",
       "    .dataframe thead th {\n",
       "        text-align: right;\n",
       "    }\n",
       "</style>\n",
       "<table border=\"1\" class=\"dataframe\">\n",
       "  <thead>\n",
       "    <tr style=\"text-align: right;\">\n",
       "      <th></th>\n",
       "      <th>Acronym State</th>\n",
       "      <th>Nº Offers Jobs</th>\n",
       "      <th>Mean Salary</th>\n",
       "    </tr>\n",
       "  </thead>\n",
       "  <tbody>\n",
       "    <tr>\n",
       "      <th>0</th>\n",
       "      <td>AZ</td>\n",
       "      <td>80</td>\n",
       "      <td>70.92</td>\n",
       "    </tr>\n",
       "    <tr>\n",
       "      <th>2</th>\n",
       "      <td>CA</td>\n",
       "      <td>519</td>\n",
       "      <td>89.19</td>\n",
       "    </tr>\n",
       "    <tr>\n",
       "      <th>3</th>\n",
       "      <td>CO</td>\n",
       "      <td>79</td>\n",
       "      <td>73.02</td>\n",
       "    </tr>\n",
       "    <tr>\n",
       "      <th>4</th>\n",
       "      <td>DE</td>\n",
       "      <td>9</td>\n",
       "      <td>59.17</td>\n",
       "    </tr>\n",
       "    <tr>\n",
       "      <th>5</th>\n",
       "      <td>FL</td>\n",
       "      <td>24</td>\n",
       "      <td>51.33</td>\n",
       "    </tr>\n",
       "  </tbody>\n",
       "</table>\n",
       "</div>"
      ],
      "text/plain": [
       "  Acronym State  Nº Offers Jobs  Mean Salary\n",
       "0            AZ              80        70.92\n",
       "2            CA             519        89.19\n",
       "3            CO              79        73.02\n",
       "4            DE               9        59.17\n",
       "5            FL              24        51.33"
      ]
     },
     "execution_count": 24,
     "metadata": {},
     "output_type": "execute_result"
    }
   ],
   "source": [
    "# Round Mean Salary Value with Lambda function and remove row in 'Araphone, CO' Value of \"Sector\" field\n",
    "df_map = df_map.drop([1], axis = 0).rename(columns = {'Sector': 'Nº Offers Jobs'})\n",
    "df_map['Mean Salary'] = df_map['Mean Salary'].apply(lambda x: round(x, 2))\n",
    "df_map.head()"
   ]
  },
  {
   "cell_type": "code",
   "execution_count": 25,
   "metadata": {
    "execution": {
     "iopub.execute_input": "2020-10-18T23:25:59.217503Z",
     "iopub.status.busy": "2020-10-18T23:25:59.216611Z",
     "iopub.status.idle": "2020-10-18T23:25:59.220865Z",
     "shell.execute_reply": "2020-10-18T23:25:59.220345Z"
    },
    "papermill": {
     "duration": 0.095359,
     "end_time": "2020-10-18T23:25:59.221033",
     "exception": false,
     "start_time": "2020-10-18T23:25:59.125674",
     "status": "completed"
    },
    "tags": []
   },
   "outputs": [
    {
     "data": {
      "text/html": [
       "<div>\n",
       "<style scoped>\n",
       "    .dataframe tbody tr th:only-of-type {\n",
       "        vertical-align: middle;\n",
       "    }\n",
       "\n",
       "    .dataframe tbody tr th {\n",
       "        vertical-align: top;\n",
       "    }\n",
       "\n",
       "    .dataframe thead th {\n",
       "        text-align: right;\n",
       "    }\n",
       "</style>\n",
       "<table border=\"1\" class=\"dataframe\">\n",
       "  <thead>\n",
       "    <tr style=\"text-align: right;\">\n",
       "      <th></th>\n",
       "      <th>Acronym State</th>\n",
       "      <th>Nº Offers Jobs</th>\n",
       "      <th>Mean Salary</th>\n",
       "      <th>Text</th>\n",
       "    </tr>\n",
       "  </thead>\n",
       "  <tbody>\n",
       "    <tr>\n",
       "      <th>0</th>\n",
       "      <td>AZ</td>\n",
       "      <td>80</td>\n",
       "      <td>$70.92/Year</td>\n",
       "      <td>AZ&lt;br&gt;Nª Offers Jobs: 80&lt;br&gt;Mean Salary from ...</td>\n",
       "    </tr>\n",
       "    <tr>\n",
       "      <th>2</th>\n",
       "      <td>CA</td>\n",
       "      <td>519</td>\n",
       "      <td>$89.19/Year</td>\n",
       "      <td>CA&lt;br&gt;Nª Offers Jobs: 519&lt;br&gt;Mean Salary from...</td>\n",
       "    </tr>\n",
       "    <tr>\n",
       "      <th>3</th>\n",
       "      <td>CO</td>\n",
       "      <td>79</td>\n",
       "      <td>$73.02/Year</td>\n",
       "      <td>CO&lt;br&gt;Nª Offers Jobs: 79&lt;br&gt;Mean Salary from ...</td>\n",
       "    </tr>\n",
       "    <tr>\n",
       "      <th>4</th>\n",
       "      <td>DE</td>\n",
       "      <td>9</td>\n",
       "      <td>$59.17/Year</td>\n",
       "      <td>DE&lt;br&gt;Nª Offers Jobs: 9&lt;br&gt;Mean Salary from t...</td>\n",
       "    </tr>\n",
       "    <tr>\n",
       "      <th>5</th>\n",
       "      <td>FL</td>\n",
       "      <td>24</td>\n",
       "      <td>$51.33/Year</td>\n",
       "      <td>FL&lt;br&gt;Nª Offers Jobs: 24&lt;br&gt;Mean Salary from ...</td>\n",
       "    </tr>\n",
       "  </tbody>\n",
       "</table>\n",
       "</div>"
      ],
      "text/plain": [
       "  Acronym State Nº Offers Jobs  Mean Salary  \\\n",
       "0            AZ             80  $70.92/Year   \n",
       "2            CA            519  $89.19/Year   \n",
       "3            CO             79  $73.02/Year   \n",
       "4            DE              9  $59.17/Year   \n",
       "5            FL             24  $51.33/Year   \n",
       "\n",
       "                                                Text  \n",
       "0   AZ<br>Nª Offers Jobs: 80<br>Mean Salary from ...  \n",
       "2   CA<br>Nª Offers Jobs: 519<br>Mean Salary from...  \n",
       "3   CO<br>Nª Offers Jobs: 79<br>Mean Salary from ...  \n",
       "4   DE<br>Nª Offers Jobs: 9<br>Mean Salary from t...  \n",
       "5   FL<br>Nª Offers Jobs: 24<br>Mean Salary from ...  "
      ]
     },
     "execution_count": 25,
     "metadata": {},
     "output_type": "execute_result"
    }
   ],
   "source": [
    "# Plot Map of United States with Plotly in module graph_objects:\n",
    "locations = list(df_map['Acronym State'])\n",
    "\n",
    "# Remove withe space in \"Acronym State\" field\n",
    "for i in range(0, len(locations)):\n",
    "    locations[i] = locations[i].replace(\" \", \"\")\n",
    "\n",
    "qjobs = list(df_map['Nº Offers Jobs'])\n",
    "\n",
    "# Create text that displays the basic data when the cursor is over the chart status \n",
    "df_map_str = df_map.copy()\n",
    "for col in df_map_str.columns:\n",
    "    df_map_str[col] = df_map_str[col].astype(str)\n",
    "    \n",
    "# Apply '$' symbol in Mean Salary values\n",
    "df_map_str['Mean Salary'] = df_map_str['Mean Salary'].apply(lambda x: \"$\" + x + \"/Year\")\n",
    "# Text visualization:\n",
    "df_map_str['Text'] = df_map_str['Acronym State']  + '<br>' + \\\n",
    "    \"Nª Offers Jobs: \" + df_map_str['Nº Offers Jobs'] + '<br>' \\\n",
    "        \"Mean Salary from the Jobs as Data Analyst: \" + '<br>' + df_map_str['Mean Salary'] + \" (Thousands)\"\n",
    "df_map_str.head()"
   ]
  },
  {
   "cell_type": "code",
   "execution_count": 26,
   "metadata": {
    "execution": {
     "iopub.execute_input": "2020-10-18T23:25:59.366170Z",
     "iopub.status.busy": "2020-10-18T23:25:59.365577Z",
     "iopub.status.idle": "2020-10-18T23:25:59.414589Z",
     "shell.execute_reply": "2020-10-18T23:25:59.415066Z"
    },
    "papermill": {
     "duration": 0.125071,
     "end_time": "2020-10-18T23:25:59.415180",
     "exception": false,
     "start_time": "2020-10-18T23:25:59.290109",
     "status": "completed"
    },
    "tags": []
   },
   "outputs": [
    {
     "data": {
      "application/vnd.plotly.v1+json": {
       "config": {
        "plotlyServerURL": "https://plot.ly"
       },
       "data": [
        {
         "colorbar": {
          "title": {
           "text": "Nº Offers Jobs"
          }
         },
         "locationmode": "USA-states",
         "locations": [
          "AZ",
          "CA",
          "CO",
          "DE",
          "FL",
          "GA",
          "IL",
          "IN",
          "KS",
          "NC",
          "NJ",
          "NY",
          "OH",
          "PA",
          "SC",
          "TX",
          "UT",
          "VA",
          "WA"
         ],
         "marker": {
          "line": {
           "color": "black"
          }
         },
         "text": [
          " AZ<br>Nª Offers Jobs: 80<br>Mean Salary from the Jobs as Data Analyst: <br>$70.92/Year (Thousands)",
          " CA<br>Nª Offers Jobs: 519<br>Mean Salary from the Jobs as Data Analyst: <br>$89.19/Year (Thousands)",
          " CO<br>Nª Offers Jobs: 79<br>Mean Salary from the Jobs as Data Analyst: <br>$73.02/Year (Thousands)",
          " DE<br>Nª Offers Jobs: 9<br>Mean Salary from the Jobs as Data Analyst: <br>$59.17/Year (Thousands)",
          " FL<br>Nª Offers Jobs: 24<br>Mean Salary from the Jobs as Data Analyst: <br>$51.33/Year (Thousands)",
          " GA<br>Nª Offers Jobs: 4<br>Mean Salary from the Jobs as Data Analyst: <br>$44.0/Year (Thousands)",
          " IL<br>Nª Offers Jobs: 141<br>Mean Salary from the Jobs as Data Analyst: <br>$77.65/Year (Thousands)",
          " IN<br>Nª Offers Jobs: 22<br>Mean Salary from the Jobs as Data Analyst: <br>$47.5/Year (Thousands)",
          " KS<br>Nª Offers Jobs: 2<br>Mean Salary from the Jobs as Data Analyst: <br>$51.5/Year (Thousands)",
          " NC<br>Nª Offers Jobs: 76<br>Mean Salary from the Jobs as Data Analyst: <br>$67.88/Year (Thousands)",
          " NJ<br>Nª Offers Jobs: 73<br>Mean Salary from the Jobs as Data Analyst: <br>$71.42/Year (Thousands)",
          " NY<br>Nª Offers Jobs: 284<br>Mean Salary from the Jobs as Data Analyst: <br>$71.3/Year (Thousands)",
          " OH<br>Nª Offers Jobs: 28<br>Mean Salary from the Jobs as Data Analyst: <br>$43.71/Year (Thousands)",
          " PA<br>Nª Offers Jobs: 98<br>Mean Salary from the Jobs as Data Analyst: <br>$61.51/Year (Thousands)",
          " SC<br>Nª Offers Jobs: 2<br>Mean Salary from the Jobs as Data Analyst: <br>$70.25/Year (Thousands)",
          " TX<br>Nª Offers Jobs: 343<br>Mean Salary from the Jobs as Data Analyst: <br>$58.88/Year (Thousands)",
          " UT<br>Nª Offers Jobs: 24<br>Mean Salary from the Jobs as Data Analyst: <br>$37.92/Year (Thousands)",
          " VA<br>Nª Offers Jobs: 41<br>Mean Salary from the Jobs as Data Analyst: <br>$64.37/Year (Thousands)",
          " WA<br>Nª Offers Jobs: 44<br>Mean Salary from the Jobs as Data Analyst: <br>$62.12/Year (Thousands)"
         ],
         "type": "choropleth",
         "z": [
          80,
          519,
          79,
          9,
          24,
          4,
          141,
          22,
          2,
          76,
          73,
          284,
          28,
          98,
          2,
          343,
          24,
          41,
          44
         ]
        }
       ],
       "layout": {
        "geo": {
         "lakecolor": "rgb(255,255,255)",
         "projection": {
          "type": "albers usa"
         },
         "scope": "usa",
         "showlakes": true
        },
        "template": {
         "data": {
          "bar": [
           {
            "error_x": {
             "color": "#2a3f5f"
            },
            "error_y": {
             "color": "#2a3f5f"
            },
            "marker": {
             "line": {
              "color": "#E5ECF6",
              "width": 0.5
             }
            },
            "type": "bar"
           }
          ],
          "barpolar": [
           {
            "marker": {
             "line": {
              "color": "#E5ECF6",
              "width": 0.5
             }
            },
            "type": "barpolar"
           }
          ],
          "carpet": [
           {
            "aaxis": {
             "endlinecolor": "#2a3f5f",
             "gridcolor": "white",
             "linecolor": "white",
             "minorgridcolor": "white",
             "startlinecolor": "#2a3f5f"
            },
            "baxis": {
             "endlinecolor": "#2a3f5f",
             "gridcolor": "white",
             "linecolor": "white",
             "minorgridcolor": "white",
             "startlinecolor": "#2a3f5f"
            },
            "type": "carpet"
           }
          ],
          "choropleth": [
           {
            "colorbar": {
             "outlinewidth": 0,
             "ticks": ""
            },
            "type": "choropleth"
           }
          ],
          "contour": [
           {
            "colorbar": {
             "outlinewidth": 0,
             "ticks": ""
            },
            "colorscale": [
             [
              0.0,
              "#0d0887"
             ],
             [
              0.1111111111111111,
              "#46039f"
             ],
             [
              0.2222222222222222,
              "#7201a8"
             ],
             [
              0.3333333333333333,
              "#9c179e"
             ],
             [
              0.4444444444444444,
              "#bd3786"
             ],
             [
              0.5555555555555556,
              "#d8576b"
             ],
             [
              0.6666666666666666,
              "#ed7953"
             ],
             [
              0.7777777777777778,
              "#fb9f3a"
             ],
             [
              0.8888888888888888,
              "#fdca26"
             ],
             [
              1.0,
              "#f0f921"
             ]
            ],
            "type": "contour"
           }
          ],
          "contourcarpet": [
           {
            "colorbar": {
             "outlinewidth": 0,
             "ticks": ""
            },
            "type": "contourcarpet"
           }
          ],
          "heatmap": [
           {
            "colorbar": {
             "outlinewidth": 0,
             "ticks": ""
            },
            "colorscale": [
             [
              0.0,
              "#0d0887"
             ],
             [
              0.1111111111111111,
              "#46039f"
             ],
             [
              0.2222222222222222,
              "#7201a8"
             ],
             [
              0.3333333333333333,
              "#9c179e"
             ],
             [
              0.4444444444444444,
              "#bd3786"
             ],
             [
              0.5555555555555556,
              "#d8576b"
             ],
             [
              0.6666666666666666,
              "#ed7953"
             ],
             [
              0.7777777777777778,
              "#fb9f3a"
             ],
             [
              0.8888888888888888,
              "#fdca26"
             ],
             [
              1.0,
              "#f0f921"
             ]
            ],
            "type": "heatmap"
           }
          ],
          "heatmapgl": [
           {
            "colorbar": {
             "outlinewidth": 0,
             "ticks": ""
            },
            "colorscale": [
             [
              0.0,
              "#0d0887"
             ],
             [
              0.1111111111111111,
              "#46039f"
             ],
             [
              0.2222222222222222,
              "#7201a8"
             ],
             [
              0.3333333333333333,
              "#9c179e"
             ],
             [
              0.4444444444444444,
              "#bd3786"
             ],
             [
              0.5555555555555556,
              "#d8576b"
             ],
             [
              0.6666666666666666,
              "#ed7953"
             ],
             [
              0.7777777777777778,
              "#fb9f3a"
             ],
             [
              0.8888888888888888,
              "#fdca26"
             ],
             [
              1.0,
              "#f0f921"
             ]
            ],
            "type": "heatmapgl"
           }
          ],
          "histogram": [
           {
            "marker": {
             "colorbar": {
              "outlinewidth": 0,
              "ticks": ""
             }
            },
            "type": "histogram"
           }
          ],
          "histogram2d": [
           {
            "colorbar": {
             "outlinewidth": 0,
             "ticks": ""
            },
            "colorscale": [
             [
              0.0,
              "#0d0887"
             ],
             [
              0.1111111111111111,
              "#46039f"
             ],
             [
              0.2222222222222222,
              "#7201a8"
             ],
             [
              0.3333333333333333,
              "#9c179e"
             ],
             [
              0.4444444444444444,
              "#bd3786"
             ],
             [
              0.5555555555555556,
              "#d8576b"
             ],
             [
              0.6666666666666666,
              "#ed7953"
             ],
             [
              0.7777777777777778,
              "#fb9f3a"
             ],
             [
              0.8888888888888888,
              "#fdca26"
             ],
             [
              1.0,
              "#f0f921"
             ]
            ],
            "type": "histogram2d"
           }
          ],
          "histogram2dcontour": [
           {
            "colorbar": {
             "outlinewidth": 0,
             "ticks": ""
            },
            "colorscale": [
             [
              0.0,
              "#0d0887"
             ],
             [
              0.1111111111111111,
              "#46039f"
             ],
             [
              0.2222222222222222,
              "#7201a8"
             ],
             [
              0.3333333333333333,
              "#9c179e"
             ],
             [
              0.4444444444444444,
              "#bd3786"
             ],
             [
              0.5555555555555556,
              "#d8576b"
             ],
             [
              0.6666666666666666,
              "#ed7953"
             ],
             [
              0.7777777777777778,
              "#fb9f3a"
             ],
             [
              0.8888888888888888,
              "#fdca26"
             ],
             [
              1.0,
              "#f0f921"
             ]
            ],
            "type": "histogram2dcontour"
           }
          ],
          "mesh3d": [
           {
            "colorbar": {
             "outlinewidth": 0,
             "ticks": ""
            },
            "type": "mesh3d"
           }
          ],
          "parcoords": [
           {
            "line": {
             "colorbar": {
              "outlinewidth": 0,
              "ticks": ""
             }
            },
            "type": "parcoords"
           }
          ],
          "pie": [
           {
            "automargin": true,
            "type": "pie"
           }
          ],
          "scatter": [
           {
            "marker": {
             "colorbar": {
              "outlinewidth": 0,
              "ticks": ""
             }
            },
            "type": "scatter"
           }
          ],
          "scatter3d": [
           {
            "line": {
             "colorbar": {
              "outlinewidth": 0,
              "ticks": ""
             }
            },
            "marker": {
             "colorbar": {
              "outlinewidth": 0,
              "ticks": ""
             }
            },
            "type": "scatter3d"
           }
          ],
          "scattercarpet": [
           {
            "marker": {
             "colorbar": {
              "outlinewidth": 0,
              "ticks": ""
             }
            },
            "type": "scattercarpet"
           }
          ],
          "scattergeo": [
           {
            "marker": {
             "colorbar": {
              "outlinewidth": 0,
              "ticks": ""
             }
            },
            "type": "scattergeo"
           }
          ],
          "scattergl": [
           {
            "marker": {
             "colorbar": {
              "outlinewidth": 0,
              "ticks": ""
             }
            },
            "type": "scattergl"
           }
          ],
          "scattermapbox": [
           {
            "marker": {
             "colorbar": {
              "outlinewidth": 0,
              "ticks": ""
             }
            },
            "type": "scattermapbox"
           }
          ],
          "scatterpolar": [
           {
            "marker": {
             "colorbar": {
              "outlinewidth": 0,
              "ticks": ""
             }
            },
            "type": "scatterpolar"
           }
          ],
          "scatterpolargl": [
           {
            "marker": {
             "colorbar": {
              "outlinewidth": 0,
              "ticks": ""
             }
            },
            "type": "scatterpolargl"
           }
          ],
          "scatterternary": [
           {
            "marker": {
             "colorbar": {
              "outlinewidth": 0,
              "ticks": ""
             }
            },
            "type": "scatterternary"
           }
          ],
          "surface": [
           {
            "colorbar": {
             "outlinewidth": 0,
             "ticks": ""
            },
            "colorscale": [
             [
              0.0,
              "#0d0887"
             ],
             [
              0.1111111111111111,
              "#46039f"
             ],
             [
              0.2222222222222222,
              "#7201a8"
             ],
             [
              0.3333333333333333,
              "#9c179e"
             ],
             [
              0.4444444444444444,
              "#bd3786"
             ],
             [
              0.5555555555555556,
              "#d8576b"
             ],
             [
              0.6666666666666666,
              "#ed7953"
             ],
             [
              0.7777777777777778,
              "#fb9f3a"
             ],
             [
              0.8888888888888888,
              "#fdca26"
             ],
             [
              1.0,
              "#f0f921"
             ]
            ],
            "type": "surface"
           }
          ],
          "table": [
           {
            "cells": {
             "fill": {
              "color": "#EBF0F8"
             },
             "line": {
              "color": "white"
             }
            },
            "header": {
             "fill": {
              "color": "#C8D4E3"
             },
             "line": {
              "color": "white"
             }
            },
            "type": "table"
           }
          ]
         },
         "layout": {
          "annotationdefaults": {
           "arrowcolor": "#2a3f5f",
           "arrowhead": 0,
           "arrowwidth": 1
          },
          "coloraxis": {
           "colorbar": {
            "outlinewidth": 0,
            "ticks": ""
           }
          },
          "colorscale": {
           "diverging": [
            [
             0,
             "#8e0152"
            ],
            [
             0.1,
             "#c51b7d"
            ],
            [
             0.2,
             "#de77ae"
            ],
            [
             0.3,
             "#f1b6da"
            ],
            [
             0.4,
             "#fde0ef"
            ],
            [
             0.5,
             "#f7f7f7"
            ],
            [
             0.6,
             "#e6f5d0"
            ],
            [
             0.7,
             "#b8e186"
            ],
            [
             0.8,
             "#7fbc41"
            ],
            [
             0.9,
             "#4d9221"
            ],
            [
             1,
             "#276419"
            ]
           ],
           "sequential": [
            [
             0.0,
             "#0d0887"
            ],
            [
             0.1111111111111111,
             "#46039f"
            ],
            [
             0.2222222222222222,
             "#7201a8"
            ],
            [
             0.3333333333333333,
             "#9c179e"
            ],
            [
             0.4444444444444444,
             "#bd3786"
            ],
            [
             0.5555555555555556,
             "#d8576b"
            ],
            [
             0.6666666666666666,
             "#ed7953"
            ],
            [
             0.7777777777777778,
             "#fb9f3a"
            ],
            [
             0.8888888888888888,
             "#fdca26"
            ],
            [
             1.0,
             "#f0f921"
            ]
           ],
           "sequentialminus": [
            [
             0.0,
             "#0d0887"
            ],
            [
             0.1111111111111111,
             "#46039f"
            ],
            [
             0.2222222222222222,
             "#7201a8"
            ],
            [
             0.3333333333333333,
             "#9c179e"
            ],
            [
             0.4444444444444444,
             "#bd3786"
            ],
            [
             0.5555555555555556,
             "#d8576b"
            ],
            [
             0.6666666666666666,
             "#ed7953"
            ],
            [
             0.7777777777777778,
             "#fb9f3a"
            ],
            [
             0.8888888888888888,
             "#fdca26"
            ],
            [
             1.0,
             "#f0f921"
            ]
           ]
          },
          "colorway": [
           "#636efa",
           "#EF553B",
           "#00cc96",
           "#ab63fa",
           "#FFA15A",
           "#19d3f3",
           "#FF6692",
           "#B6E880",
           "#FF97FF",
           "#FECB52"
          ],
          "font": {
           "color": "#2a3f5f"
          },
          "geo": {
           "bgcolor": "white",
           "lakecolor": "white",
           "landcolor": "#E5ECF6",
           "showlakes": true,
           "showland": true,
           "subunitcolor": "white"
          },
          "hoverlabel": {
           "align": "left"
          },
          "hovermode": "closest",
          "mapbox": {
           "style": "light"
          },
          "paper_bgcolor": "white",
          "plot_bgcolor": "#E5ECF6",
          "polar": {
           "angularaxis": {
            "gridcolor": "white",
            "linecolor": "white",
            "ticks": ""
           },
           "bgcolor": "#E5ECF6",
           "radialaxis": {
            "gridcolor": "white",
            "linecolor": "white",
            "ticks": ""
           }
          },
          "scene": {
           "xaxis": {
            "backgroundcolor": "#E5ECF6",
            "gridcolor": "white",
            "gridwidth": 2,
            "linecolor": "white",
            "showbackground": true,
            "ticks": "",
            "zerolinecolor": "white"
           },
           "yaxis": {
            "backgroundcolor": "#E5ECF6",
            "gridcolor": "white",
            "gridwidth": 2,
            "linecolor": "white",
            "showbackground": true,
            "ticks": "",
            "zerolinecolor": "white"
           },
           "zaxis": {
            "backgroundcolor": "#E5ECF6",
            "gridcolor": "white",
            "gridwidth": 2,
            "linecolor": "white",
            "showbackground": true,
            "ticks": "",
            "zerolinecolor": "white"
           }
          },
          "shapedefaults": {
           "line": {
            "color": "#2a3f5f"
           }
          },
          "ternary": {
           "aaxis": {
            "gridcolor": "white",
            "linecolor": "white",
            "ticks": ""
           },
           "baxis": {
            "gridcolor": "white",
            "linecolor": "white",
            "ticks": ""
           },
           "bgcolor": "#E5ECF6",
           "caxis": {
            "gridcolor": "white",
            "linecolor": "white",
            "ticks": ""
           }
          },
          "title": {
           "x": 0.05
          },
          "xaxis": {
           "automargin": true,
           "gridcolor": "white",
           "linecolor": "white",
           "ticks": "",
           "title": {
            "standoff": 15
           },
           "zerolinecolor": "white",
           "zerolinewidth": 2
          },
          "yaxis": {
           "automargin": true,
           "gridcolor": "white",
           "linecolor": "white",
           "ticks": "",
           "title": {
            "standoff": 15
           },
           "zerolinecolor": "white",
           "zerolinewidth": 2
          }
         }
        },
        "title": {
         "text": "Nº Offers Jobs as Data Analyst<br>United States of America"
        }
       }
      },
      "text/html": [
       "<div>\n",
       "        \n",
       "        \n",
       "            <div id=\"52123210-fe37-4f50-903b-77a7ebd32b4d\" class=\"plotly-graph-div\" style=\"height:525px; width:100%;\"></div>\n",
       "            <script type=\"text/javascript\">\n",
       "                require([\"plotly\"], function(Plotly) {\n",
       "                    window.PLOTLYENV=window.PLOTLYENV || {};\n",
       "                    \n",
       "                if (document.getElementById(\"52123210-fe37-4f50-903b-77a7ebd32b4d\")) {\n",
       "                    Plotly.newPlot(\n",
       "                        '52123210-fe37-4f50-903b-77a7ebd32b4d',\n",
       "                        [{\"colorbar\": {\"title\": {\"text\": \"N\\u00ba Offers Jobs\"}}, \"locationmode\": \"USA-states\", \"locations\": [\"AZ\", \"CA\", \"CO\", \"DE\", \"FL\", \"GA\", \"IL\", \"IN\", \"KS\", \"NC\", \"NJ\", \"NY\", \"OH\", \"PA\", \"SC\", \"TX\", \"UT\", \"VA\", \"WA\"], \"marker\": {\"line\": {\"color\": \"black\"}}, \"text\": [\" AZ<br>N\\u00aa Offers Jobs: 80<br>Mean Salary from the Jobs as Data Analyst: <br>$70.92/Year (Thousands)\", \" CA<br>N\\u00aa Offers Jobs: 519<br>Mean Salary from the Jobs as Data Analyst: <br>$89.19/Year (Thousands)\", \" CO<br>N\\u00aa Offers Jobs: 79<br>Mean Salary from the Jobs as Data Analyst: <br>$73.02/Year (Thousands)\", \" DE<br>N\\u00aa Offers Jobs: 9<br>Mean Salary from the Jobs as Data Analyst: <br>$59.17/Year (Thousands)\", \" FL<br>N\\u00aa Offers Jobs: 24<br>Mean Salary from the Jobs as Data Analyst: <br>$51.33/Year (Thousands)\", \" GA<br>N\\u00aa Offers Jobs: 4<br>Mean Salary from the Jobs as Data Analyst: <br>$44.0/Year (Thousands)\", \" IL<br>N\\u00aa Offers Jobs: 141<br>Mean Salary from the Jobs as Data Analyst: <br>$77.65/Year (Thousands)\", \" IN<br>N\\u00aa Offers Jobs: 22<br>Mean Salary from the Jobs as Data Analyst: <br>$47.5/Year (Thousands)\", \" KS<br>N\\u00aa Offers Jobs: 2<br>Mean Salary from the Jobs as Data Analyst: <br>$51.5/Year (Thousands)\", \" NC<br>N\\u00aa Offers Jobs: 76<br>Mean Salary from the Jobs as Data Analyst: <br>$67.88/Year (Thousands)\", \" NJ<br>N\\u00aa Offers Jobs: 73<br>Mean Salary from the Jobs as Data Analyst: <br>$71.42/Year (Thousands)\", \" NY<br>N\\u00aa Offers Jobs: 284<br>Mean Salary from the Jobs as Data Analyst: <br>$71.3/Year (Thousands)\", \" OH<br>N\\u00aa Offers Jobs: 28<br>Mean Salary from the Jobs as Data Analyst: <br>$43.71/Year (Thousands)\", \" PA<br>N\\u00aa Offers Jobs: 98<br>Mean Salary from the Jobs as Data Analyst: <br>$61.51/Year (Thousands)\", \" SC<br>N\\u00aa Offers Jobs: 2<br>Mean Salary from the Jobs as Data Analyst: <br>$70.25/Year (Thousands)\", \" TX<br>N\\u00aa Offers Jobs: 343<br>Mean Salary from the Jobs as Data Analyst: <br>$58.88/Year (Thousands)\", \" UT<br>N\\u00aa Offers Jobs: 24<br>Mean Salary from the Jobs as Data Analyst: <br>$37.92/Year (Thousands)\", \" VA<br>N\\u00aa Offers Jobs: 41<br>Mean Salary from the Jobs as Data Analyst: <br>$64.37/Year (Thousands)\", \" WA<br>N\\u00aa Offers Jobs: 44<br>Mean Salary from the Jobs as Data Analyst: <br>$62.12/Year (Thousands)\"], \"type\": \"choropleth\", \"z\": [80, 519, 79, 9, 24, 4, 141, 22, 2, 76, 73, 284, 28, 98, 2, 343, 24, 41, 44]}],\n",
       "                        {\"geo\": {\"lakecolor\": \"rgb(255,255,255)\", \"projection\": {\"type\": \"albers usa\"}, \"scope\": \"usa\", \"showlakes\": true}, \"template\": {\"data\": {\"bar\": [{\"error_x\": {\"color\": \"#2a3f5f\"}, \"error_y\": {\"color\": \"#2a3f5f\"}, \"marker\": {\"line\": {\"color\": \"#E5ECF6\", \"width\": 0.5}}, \"type\": \"bar\"}], \"barpolar\": [{\"marker\": {\"line\": {\"color\": \"#E5ECF6\", \"width\": 0.5}}, \"type\": \"barpolar\"}], \"carpet\": [{\"aaxis\": {\"endlinecolor\": \"#2a3f5f\", \"gridcolor\": \"white\", \"linecolor\": \"white\", \"minorgridcolor\": \"white\", \"startlinecolor\": \"#2a3f5f\"}, \"baxis\": {\"endlinecolor\": \"#2a3f5f\", \"gridcolor\": \"white\", \"linecolor\": \"white\", \"minorgridcolor\": \"white\", \"startlinecolor\": \"#2a3f5f\"}, \"type\": \"carpet\"}], \"choropleth\": [{\"colorbar\": {\"outlinewidth\": 0, \"ticks\": \"\"}, \"type\": \"choropleth\"}], \"contour\": [{\"colorbar\": {\"outlinewidth\": 0, \"ticks\": \"\"}, \"colorscale\": [[0.0, \"#0d0887\"], [0.1111111111111111, \"#46039f\"], [0.2222222222222222, \"#7201a8\"], [0.3333333333333333, \"#9c179e\"], [0.4444444444444444, \"#bd3786\"], [0.5555555555555556, \"#d8576b\"], [0.6666666666666666, \"#ed7953\"], [0.7777777777777778, \"#fb9f3a\"], [0.8888888888888888, \"#fdca26\"], [1.0, \"#f0f921\"]], \"type\": \"contour\"}], \"contourcarpet\": [{\"colorbar\": {\"outlinewidth\": 0, \"ticks\": \"\"}, \"type\": \"contourcarpet\"}], \"heatmap\": [{\"colorbar\": {\"outlinewidth\": 0, \"ticks\": \"\"}, \"colorscale\": [[0.0, \"#0d0887\"], [0.1111111111111111, \"#46039f\"], [0.2222222222222222, \"#7201a8\"], [0.3333333333333333, \"#9c179e\"], [0.4444444444444444, \"#bd3786\"], [0.5555555555555556, \"#d8576b\"], [0.6666666666666666, \"#ed7953\"], [0.7777777777777778, \"#fb9f3a\"], [0.8888888888888888, \"#fdca26\"], [1.0, \"#f0f921\"]], \"type\": \"heatmap\"}], \"heatmapgl\": [{\"colorbar\": {\"outlinewidth\": 0, \"ticks\": \"\"}, \"colorscale\": [[0.0, \"#0d0887\"], [0.1111111111111111, \"#46039f\"], [0.2222222222222222, \"#7201a8\"], [0.3333333333333333, \"#9c179e\"], [0.4444444444444444, \"#bd3786\"], [0.5555555555555556, \"#d8576b\"], [0.6666666666666666, \"#ed7953\"], [0.7777777777777778, \"#fb9f3a\"], [0.8888888888888888, \"#fdca26\"], [1.0, \"#f0f921\"]], \"type\": \"heatmapgl\"}], \"histogram\": [{\"marker\": {\"colorbar\": {\"outlinewidth\": 0, \"ticks\": \"\"}}, \"type\": \"histogram\"}], \"histogram2d\": [{\"colorbar\": {\"outlinewidth\": 0, \"ticks\": \"\"}, \"colorscale\": [[0.0, \"#0d0887\"], [0.1111111111111111, \"#46039f\"], [0.2222222222222222, \"#7201a8\"], [0.3333333333333333, \"#9c179e\"], [0.4444444444444444, \"#bd3786\"], [0.5555555555555556, \"#d8576b\"], [0.6666666666666666, \"#ed7953\"], [0.7777777777777778, \"#fb9f3a\"], [0.8888888888888888, \"#fdca26\"], [1.0, \"#f0f921\"]], \"type\": \"histogram2d\"}], \"histogram2dcontour\": [{\"colorbar\": {\"outlinewidth\": 0, \"ticks\": \"\"}, \"colorscale\": [[0.0, \"#0d0887\"], [0.1111111111111111, \"#46039f\"], [0.2222222222222222, \"#7201a8\"], [0.3333333333333333, \"#9c179e\"], [0.4444444444444444, \"#bd3786\"], [0.5555555555555556, \"#d8576b\"], [0.6666666666666666, \"#ed7953\"], [0.7777777777777778, \"#fb9f3a\"], [0.8888888888888888, \"#fdca26\"], [1.0, \"#f0f921\"]], \"type\": \"histogram2dcontour\"}], \"mesh3d\": [{\"colorbar\": {\"outlinewidth\": 0, \"ticks\": \"\"}, \"type\": \"mesh3d\"}], \"parcoords\": [{\"line\": {\"colorbar\": {\"outlinewidth\": 0, \"ticks\": \"\"}}, \"type\": \"parcoords\"}], \"pie\": [{\"automargin\": true, \"type\": \"pie\"}], \"scatter\": [{\"marker\": {\"colorbar\": {\"outlinewidth\": 0, \"ticks\": \"\"}}, \"type\": \"scatter\"}], \"scatter3d\": [{\"line\": {\"colorbar\": {\"outlinewidth\": 0, \"ticks\": \"\"}}, \"marker\": {\"colorbar\": {\"outlinewidth\": 0, \"ticks\": \"\"}}, \"type\": \"scatter3d\"}], \"scattercarpet\": [{\"marker\": {\"colorbar\": {\"outlinewidth\": 0, \"ticks\": \"\"}}, \"type\": \"scattercarpet\"}], \"scattergeo\": [{\"marker\": {\"colorbar\": {\"outlinewidth\": 0, \"ticks\": \"\"}}, \"type\": \"scattergeo\"}], \"scattergl\": [{\"marker\": {\"colorbar\": {\"outlinewidth\": 0, \"ticks\": \"\"}}, \"type\": \"scattergl\"}], \"scattermapbox\": [{\"marker\": {\"colorbar\": {\"outlinewidth\": 0, \"ticks\": \"\"}}, \"type\": \"scattermapbox\"}], \"scatterpolar\": [{\"marker\": {\"colorbar\": {\"outlinewidth\": 0, \"ticks\": \"\"}}, \"type\": \"scatterpolar\"}], \"scatterpolargl\": [{\"marker\": {\"colorbar\": {\"outlinewidth\": 0, \"ticks\": \"\"}}, \"type\": \"scatterpolargl\"}], \"scatterternary\": [{\"marker\": {\"colorbar\": {\"outlinewidth\": 0, \"ticks\": \"\"}}, \"type\": \"scatterternary\"}], \"surface\": [{\"colorbar\": {\"outlinewidth\": 0, \"ticks\": \"\"}, \"colorscale\": [[0.0, \"#0d0887\"], [0.1111111111111111, \"#46039f\"], [0.2222222222222222, \"#7201a8\"], [0.3333333333333333, \"#9c179e\"], [0.4444444444444444, \"#bd3786\"], [0.5555555555555556, \"#d8576b\"], [0.6666666666666666, \"#ed7953\"], [0.7777777777777778, \"#fb9f3a\"], [0.8888888888888888, \"#fdca26\"], [1.0, \"#f0f921\"]], \"type\": \"surface\"}], \"table\": [{\"cells\": {\"fill\": {\"color\": \"#EBF0F8\"}, \"line\": {\"color\": \"white\"}}, \"header\": {\"fill\": {\"color\": \"#C8D4E3\"}, \"line\": {\"color\": \"white\"}}, \"type\": \"table\"}]}, \"layout\": {\"annotationdefaults\": {\"arrowcolor\": \"#2a3f5f\", \"arrowhead\": 0, \"arrowwidth\": 1}, \"coloraxis\": {\"colorbar\": {\"outlinewidth\": 0, \"ticks\": \"\"}}, \"colorscale\": {\"diverging\": [[0, \"#8e0152\"], [0.1, \"#c51b7d\"], [0.2, \"#de77ae\"], [0.3, \"#f1b6da\"], [0.4, \"#fde0ef\"], [0.5, \"#f7f7f7\"], [0.6, \"#e6f5d0\"], [0.7, \"#b8e186\"], [0.8, \"#7fbc41\"], [0.9, \"#4d9221\"], [1, \"#276419\"]], \"sequential\": [[0.0, \"#0d0887\"], [0.1111111111111111, \"#46039f\"], [0.2222222222222222, \"#7201a8\"], [0.3333333333333333, \"#9c179e\"], [0.4444444444444444, \"#bd3786\"], [0.5555555555555556, \"#d8576b\"], [0.6666666666666666, \"#ed7953\"], [0.7777777777777778, \"#fb9f3a\"], [0.8888888888888888, \"#fdca26\"], [1.0, \"#f0f921\"]], \"sequentialminus\": [[0.0, \"#0d0887\"], [0.1111111111111111, \"#46039f\"], [0.2222222222222222, \"#7201a8\"], [0.3333333333333333, \"#9c179e\"], [0.4444444444444444, \"#bd3786\"], [0.5555555555555556, \"#d8576b\"], [0.6666666666666666, \"#ed7953\"], [0.7777777777777778, \"#fb9f3a\"], [0.8888888888888888, \"#fdca26\"], [1.0, \"#f0f921\"]]}, \"colorway\": [\"#636efa\", \"#EF553B\", \"#00cc96\", \"#ab63fa\", \"#FFA15A\", \"#19d3f3\", \"#FF6692\", \"#B6E880\", \"#FF97FF\", \"#FECB52\"], \"font\": {\"color\": \"#2a3f5f\"}, \"geo\": {\"bgcolor\": \"white\", \"lakecolor\": \"white\", \"landcolor\": \"#E5ECF6\", \"showlakes\": true, \"showland\": true, \"subunitcolor\": \"white\"}, \"hoverlabel\": {\"align\": \"left\"}, \"hovermode\": \"closest\", \"mapbox\": {\"style\": \"light\"}, \"paper_bgcolor\": \"white\", \"plot_bgcolor\": \"#E5ECF6\", \"polar\": {\"angularaxis\": {\"gridcolor\": \"white\", \"linecolor\": \"white\", \"ticks\": \"\"}, \"bgcolor\": \"#E5ECF6\", \"radialaxis\": {\"gridcolor\": \"white\", \"linecolor\": \"white\", \"ticks\": \"\"}}, \"scene\": {\"xaxis\": {\"backgroundcolor\": \"#E5ECF6\", \"gridcolor\": \"white\", \"gridwidth\": 2, \"linecolor\": \"white\", \"showbackground\": true, \"ticks\": \"\", \"zerolinecolor\": \"white\"}, \"yaxis\": {\"backgroundcolor\": \"#E5ECF6\", \"gridcolor\": \"white\", \"gridwidth\": 2, \"linecolor\": \"white\", \"showbackground\": true, \"ticks\": \"\", \"zerolinecolor\": \"white\"}, \"zaxis\": {\"backgroundcolor\": \"#E5ECF6\", \"gridcolor\": \"white\", \"gridwidth\": 2, \"linecolor\": \"white\", \"showbackground\": true, \"ticks\": \"\", \"zerolinecolor\": \"white\"}}, \"shapedefaults\": {\"line\": {\"color\": \"#2a3f5f\"}}, \"ternary\": {\"aaxis\": {\"gridcolor\": \"white\", \"linecolor\": \"white\", \"ticks\": \"\"}, \"baxis\": {\"gridcolor\": \"white\", \"linecolor\": \"white\", \"ticks\": \"\"}, \"bgcolor\": \"#E5ECF6\", \"caxis\": {\"gridcolor\": \"white\", \"linecolor\": \"white\", \"ticks\": \"\"}}, \"title\": {\"x\": 0.05}, \"xaxis\": {\"automargin\": true, \"gridcolor\": \"white\", \"linecolor\": \"white\", \"ticks\": \"\", \"title\": {\"standoff\": 15}, \"zerolinecolor\": \"white\", \"zerolinewidth\": 2}, \"yaxis\": {\"automargin\": true, \"gridcolor\": \"white\", \"linecolor\": \"white\", \"ticks\": \"\", \"title\": {\"standoff\": 15}, \"zerolinecolor\": \"white\", \"zerolinewidth\": 2}}}, \"title\": {\"text\": \"N\\u00ba Offers Jobs as Data Analyst<br>United States of America\"}},\n",
       "                        {\"responsive\": true}\n",
       "                    ).then(function(){\n",
       "                            \n",
       "var gd = document.getElementById('52123210-fe37-4f50-903b-77a7ebd32b4d');\n",
       "var x = new MutationObserver(function (mutations, observer) {{\n",
       "        var display = window.getComputedStyle(gd).display;\n",
       "        if (!display || display === 'none') {{\n",
       "            console.log([gd, 'removed!']);\n",
       "            Plotly.purge(gd);\n",
       "            observer.disconnect();\n",
       "        }}\n",
       "}});\n",
       "\n",
       "// Listen for the removal of the full notebook cells\n",
       "var notebookContainer = gd.closest('#notebook-container');\n",
       "if (notebookContainer) {{\n",
       "    x.observe(notebookContainer, {childList: true});\n",
       "}}\n",
       "\n",
       "// Listen for the clearing of the current output cell\n",
       "var outputEl = gd.closest('.output');\n",
       "if (outputEl) {{\n",
       "    x.observe(outputEl, {childList: true});\n",
       "}}\n",
       "\n",
       "                        })\n",
       "                };\n",
       "                });\n",
       "            </script>\n",
       "        </div>"
      ]
     },
     "metadata": {},
     "output_type": "display_data"
    }
   ],
   "source": [
    "# Plot Map in plotly\n",
    "import plotly.graph_objects as go\n",
    "\n",
    "\n",
    "fig = go.Figure(data = go.Choropleth(locations = locations,\n",
    "                                    z = qjobs,\n",
    "                                    locationmode = 'USA-states',\n",
    "                                    text = df_map_str['Text'],\n",
    "                                    marker_line_color = 'black',\n",
    "                                    colorbar_title = 'Nº Offers Jobs'),) \n",
    "\n",
    "fig.update_layout(title_text = 'Nº Offers Jobs as Data Analyst<br>United States of America',\n",
    "                 geo = dict(scope = 'usa',\n",
    "                           projection = go.layout.geo.Projection(type = 'albers usa'),\n",
    "                           showlakes = True,\n",
    "                           lakecolor = 'rgb(255,255,255)'),)\n",
    "fig.show()"
   ]
  },
  {
   "cell_type": "code",
   "execution_count": 27,
   "metadata": {
    "execution": {
     "iopub.execute_input": "2020-10-18T23:25:59.575782Z",
     "iopub.status.busy": "2020-10-18T23:25:59.574799Z",
     "iopub.status.idle": "2020-10-18T23:25:59.590965Z",
     "shell.execute_reply": "2020-10-18T23:25:59.591617Z"
    },
    "papermill": {
     "duration": 0.10032,
     "end_time": "2020-10-18T23:25:59.591751",
     "exception": false,
     "start_time": "2020-10-18T23:25:59.491431",
     "status": "completed"
    },
    "tags": []
   },
   "outputs": [
    {
     "data": {
      "text/html": [
       "<div>\n",
       "<style scoped>\n",
       "    .dataframe tbody tr th:only-of-type {\n",
       "        vertical-align: middle;\n",
       "    }\n",
       "\n",
       "    .dataframe tbody tr th {\n",
       "        vertical-align: top;\n",
       "    }\n",
       "\n",
       "    .dataframe thead th {\n",
       "        text-align: right;\n",
       "    }\n",
       "</style>\n",
       "<table border=\"1\" class=\"dataframe\">\n",
       "  <thead>\n",
       "    <tr style=\"text-align: right;\">\n",
       "      <th></th>\n",
       "      <th>Acronym State</th>\n",
       "      <th>Nº Offers Jobs</th>\n",
       "      <th>Mean Salary</th>\n",
       "      <th>Jobs Percentage</th>\n",
       "    </tr>\n",
       "  </thead>\n",
       "  <tbody>\n",
       "    <tr>\n",
       "      <th>0</th>\n",
       "      <td>VA</td>\n",
       "      <td>41</td>\n",
       "      <td>64.37</td>\n",
       "      <td>2.2</td>\n",
       "    </tr>\n",
       "    <tr>\n",
       "      <th>1</th>\n",
       "      <td>WA</td>\n",
       "      <td>44</td>\n",
       "      <td>62.12</td>\n",
       "      <td>2.3</td>\n",
       "    </tr>\n",
       "    <tr>\n",
       "      <th>2</th>\n",
       "      <td>NJ</td>\n",
       "      <td>73</td>\n",
       "      <td>71.42</td>\n",
       "      <td>3.9</td>\n",
       "    </tr>\n",
       "    <tr>\n",
       "      <th>3</th>\n",
       "      <td>NC</td>\n",
       "      <td>76</td>\n",
       "      <td>67.88</td>\n",
       "      <td>4.0</td>\n",
       "    </tr>\n",
       "    <tr>\n",
       "      <th>4</th>\n",
       "      <td>CO</td>\n",
       "      <td>79</td>\n",
       "      <td>73.02</td>\n",
       "      <td>4.2</td>\n",
       "    </tr>\n",
       "    <tr>\n",
       "      <th>5</th>\n",
       "      <td>AZ</td>\n",
       "      <td>80</td>\n",
       "      <td>70.92</td>\n",
       "      <td>4.2</td>\n",
       "    </tr>\n",
       "    <tr>\n",
       "      <th>6</th>\n",
       "      <td>PA</td>\n",
       "      <td>98</td>\n",
       "      <td>61.51</td>\n",
       "      <td>5.2</td>\n",
       "    </tr>\n",
       "    <tr>\n",
       "      <th>7</th>\n",
       "      <td>IL</td>\n",
       "      <td>141</td>\n",
       "      <td>77.65</td>\n",
       "      <td>7.4</td>\n",
       "    </tr>\n",
       "    <tr>\n",
       "      <th>8</th>\n",
       "      <td>NY</td>\n",
       "      <td>284</td>\n",
       "      <td>71.30</td>\n",
       "      <td>15.0</td>\n",
       "    </tr>\n",
       "    <tr>\n",
       "      <th>9</th>\n",
       "      <td>TX</td>\n",
       "      <td>343</td>\n",
       "      <td>58.88</td>\n",
       "      <td>18.1</td>\n",
       "    </tr>\n",
       "    <tr>\n",
       "      <th>10</th>\n",
       "      <td>CA</td>\n",
       "      <td>519</td>\n",
       "      <td>89.19</td>\n",
       "      <td>27.4</td>\n",
       "    </tr>\n",
       "  </tbody>\n",
       "</table>\n",
       "</div>"
      ],
      "text/plain": [
       "   Acronym State  Nº Offers Jobs  Mean Salary  Jobs Percentage\n",
       "0             VA              41        64.37              2.2\n",
       "1             WA              44        62.12              2.3\n",
       "2             NJ              73        71.42              3.9\n",
       "3             NC              76        67.88              4.0\n",
       "4             CO              79        73.02              4.2\n",
       "5             AZ              80        70.92              4.2\n",
       "6             PA              98        61.51              5.2\n",
       "7             IL             141        77.65              7.4\n",
       "8             NY             284        71.30             15.0\n",
       "9             TX             343        58.88             18.1\n",
       "10            CA             519        89.19             27.4"
      ]
     },
     "execution_count": 27,
     "metadata": {},
     "output_type": "execute_result"
    }
   ],
   "source": [
    "# Created new dataframe for view jobs percentage as well as its mean salary year for each state\n",
    "df_map2 = df_map.copy()\n",
    "df_map2['Jobs Percentage'] = (df_map2['Nº Offers Jobs'] / df_map2['Nº Offers Jobs'].sum()) * 100\n",
    "df_map2['Jobs Percentage'] = df_map2['Jobs Percentage'].apply(lambda x: round(x, 1))\n",
    "df_map2 = df_map2.sort_values('Jobs Percentage', ascending = True) \\\n",
    "                 .drop(df_map2[df_map2['Jobs Percentage'] <= 2.0].index, axis = 0) \\\n",
    "                 .reset_index() \\\n",
    "                 .drop('index', axis = 1)\n",
    "df_map2.head(11)"
   ]
  },
  {
   "cell_type": "code",
   "execution_count": 28,
   "metadata": {
    "execution": {
     "iopub.execute_input": "2020-10-18T23:25:59.774179Z",
     "iopub.status.busy": "2020-10-18T23:25:59.761969Z",
     "iopub.status.idle": "2020-10-18T23:25:59.836273Z",
     "shell.execute_reply": "2020-10-18T23:25:59.836750Z"
    },
    "papermill": {
     "duration": 0.164142,
     "end_time": "2020-10-18T23:25:59.836862",
     "exception": false,
     "start_time": "2020-10-18T23:25:59.672720",
     "status": "completed"
    },
    "tags": []
   },
   "outputs": [
    {
     "data": {
      "application/vnd.plotly.v1+json": {
       "config": {
        "plotlyServerURL": "https://plot.ly"
       },
       "data": [
        {
         "marker": {
          "color": "rgba(50, 171, 40, 0.7)",
          "line": {
           "color": "rgba(60, 171, 120, 1.0)",
           "width": 1
          }
         },
         "name": "Percentage Jobs",
         "orientation": "h",
         "type": "bar",
         "x": [
          2.2,
          2.3,
          3.9,
          4.0,
          4.2,
          4.2,
          5.2,
          7.4,
          15.0,
          18.1,
          27.4
         ],
         "xaxis": "x",
         "y": [
          " VA",
          " WA",
          " NJ",
          " NC",
          " CO",
          " AZ",
          " PA",
          " IL",
          " NY",
          " TX",
          " CA"
         ],
         "yaxis": "y"
        },
        {
         "line": {
          "color": "rgb(128, 0, 128)"
         },
         "mode": "lines+markers",
         "name": "Mean Salary",
         "type": "scatter",
         "x": [
          64.37,
          62.12,
          71.42,
          67.88,
          73.02,
          70.92,
          61.51,
          77.65,
          71.3,
          58.88,
          89.19
         ],
         "xaxis": "x2",
         "y": [
          " VA",
          " WA",
          " NJ",
          " NC",
          " CO",
          " AZ",
          " PA",
          " IL",
          " NY",
          " TX",
          " CA"
         ],
         "yaxis": "y2"
        }
       ],
       "layout": {
        "legend": {
         "font": {
          "size": 12
         },
         "x": 0.02,
         "y": 1.07
        },
        "margin": {
         "b": 70,
         "l": 100,
         "r": 20,
         "t": 70
        },
        "paper_bgcolor": "rgb(250, 248, 255)",
        "plot_bgcolor": "rgb(250, 248, 255)",
        "template": {
         "data": {
          "bar": [
           {
            "error_x": {
             "color": "#2a3f5f"
            },
            "error_y": {
             "color": "#2a3f5f"
            },
            "marker": {
             "line": {
              "color": "#E5ECF6",
              "width": 0.5
             }
            },
            "type": "bar"
           }
          ],
          "barpolar": [
           {
            "marker": {
             "line": {
              "color": "#E5ECF6",
              "width": 0.5
             }
            },
            "type": "barpolar"
           }
          ],
          "carpet": [
           {
            "aaxis": {
             "endlinecolor": "#2a3f5f",
             "gridcolor": "white",
             "linecolor": "white",
             "minorgridcolor": "white",
             "startlinecolor": "#2a3f5f"
            },
            "baxis": {
             "endlinecolor": "#2a3f5f",
             "gridcolor": "white",
             "linecolor": "white",
             "minorgridcolor": "white",
             "startlinecolor": "#2a3f5f"
            },
            "type": "carpet"
           }
          ],
          "choropleth": [
           {
            "colorbar": {
             "outlinewidth": 0,
             "ticks": ""
            },
            "type": "choropleth"
           }
          ],
          "contour": [
           {
            "colorbar": {
             "outlinewidth": 0,
             "ticks": ""
            },
            "colorscale": [
             [
              0.0,
              "#0d0887"
             ],
             [
              0.1111111111111111,
              "#46039f"
             ],
             [
              0.2222222222222222,
              "#7201a8"
             ],
             [
              0.3333333333333333,
              "#9c179e"
             ],
             [
              0.4444444444444444,
              "#bd3786"
             ],
             [
              0.5555555555555556,
              "#d8576b"
             ],
             [
              0.6666666666666666,
              "#ed7953"
             ],
             [
              0.7777777777777778,
              "#fb9f3a"
             ],
             [
              0.8888888888888888,
              "#fdca26"
             ],
             [
              1.0,
              "#f0f921"
             ]
            ],
            "type": "contour"
           }
          ],
          "contourcarpet": [
           {
            "colorbar": {
             "outlinewidth": 0,
             "ticks": ""
            },
            "type": "contourcarpet"
           }
          ],
          "heatmap": [
           {
            "colorbar": {
             "outlinewidth": 0,
             "ticks": ""
            },
            "colorscale": [
             [
              0.0,
              "#0d0887"
             ],
             [
              0.1111111111111111,
              "#46039f"
             ],
             [
              0.2222222222222222,
              "#7201a8"
             ],
             [
              0.3333333333333333,
              "#9c179e"
             ],
             [
              0.4444444444444444,
              "#bd3786"
             ],
             [
              0.5555555555555556,
              "#d8576b"
             ],
             [
              0.6666666666666666,
              "#ed7953"
             ],
             [
              0.7777777777777778,
              "#fb9f3a"
             ],
             [
              0.8888888888888888,
              "#fdca26"
             ],
             [
              1.0,
              "#f0f921"
             ]
            ],
            "type": "heatmap"
           }
          ],
          "heatmapgl": [
           {
            "colorbar": {
             "outlinewidth": 0,
             "ticks": ""
            },
            "colorscale": [
             [
              0.0,
              "#0d0887"
             ],
             [
              0.1111111111111111,
              "#46039f"
             ],
             [
              0.2222222222222222,
              "#7201a8"
             ],
             [
              0.3333333333333333,
              "#9c179e"
             ],
             [
              0.4444444444444444,
              "#bd3786"
             ],
             [
              0.5555555555555556,
              "#d8576b"
             ],
             [
              0.6666666666666666,
              "#ed7953"
             ],
             [
              0.7777777777777778,
              "#fb9f3a"
             ],
             [
              0.8888888888888888,
              "#fdca26"
             ],
             [
              1.0,
              "#f0f921"
             ]
            ],
            "type": "heatmapgl"
           }
          ],
          "histogram": [
           {
            "marker": {
             "colorbar": {
              "outlinewidth": 0,
              "ticks": ""
             }
            },
            "type": "histogram"
           }
          ],
          "histogram2d": [
           {
            "colorbar": {
             "outlinewidth": 0,
             "ticks": ""
            },
            "colorscale": [
             [
              0.0,
              "#0d0887"
             ],
             [
              0.1111111111111111,
              "#46039f"
             ],
             [
              0.2222222222222222,
              "#7201a8"
             ],
             [
              0.3333333333333333,
              "#9c179e"
             ],
             [
              0.4444444444444444,
              "#bd3786"
             ],
             [
              0.5555555555555556,
              "#d8576b"
             ],
             [
              0.6666666666666666,
              "#ed7953"
             ],
             [
              0.7777777777777778,
              "#fb9f3a"
             ],
             [
              0.8888888888888888,
              "#fdca26"
             ],
             [
              1.0,
              "#f0f921"
             ]
            ],
            "type": "histogram2d"
           }
          ],
          "histogram2dcontour": [
           {
            "colorbar": {
             "outlinewidth": 0,
             "ticks": ""
            },
            "colorscale": [
             [
              0.0,
              "#0d0887"
             ],
             [
              0.1111111111111111,
              "#46039f"
             ],
             [
              0.2222222222222222,
              "#7201a8"
             ],
             [
              0.3333333333333333,
              "#9c179e"
             ],
             [
              0.4444444444444444,
              "#bd3786"
             ],
             [
              0.5555555555555556,
              "#d8576b"
             ],
             [
              0.6666666666666666,
              "#ed7953"
             ],
             [
              0.7777777777777778,
              "#fb9f3a"
             ],
             [
              0.8888888888888888,
              "#fdca26"
             ],
             [
              1.0,
              "#f0f921"
             ]
            ],
            "type": "histogram2dcontour"
           }
          ],
          "mesh3d": [
           {
            "colorbar": {
             "outlinewidth": 0,
             "ticks": ""
            },
            "type": "mesh3d"
           }
          ],
          "parcoords": [
           {
            "line": {
             "colorbar": {
              "outlinewidth": 0,
              "ticks": ""
             }
            },
            "type": "parcoords"
           }
          ],
          "pie": [
           {
            "automargin": true,
            "type": "pie"
           }
          ],
          "scatter": [
           {
            "marker": {
             "colorbar": {
              "outlinewidth": 0,
              "ticks": ""
             }
            },
            "type": "scatter"
           }
          ],
          "scatter3d": [
           {
            "line": {
             "colorbar": {
              "outlinewidth": 0,
              "ticks": ""
             }
            },
            "marker": {
             "colorbar": {
              "outlinewidth": 0,
              "ticks": ""
             }
            },
            "type": "scatter3d"
           }
          ],
          "scattercarpet": [
           {
            "marker": {
             "colorbar": {
              "outlinewidth": 0,
              "ticks": ""
             }
            },
            "type": "scattercarpet"
           }
          ],
          "scattergeo": [
           {
            "marker": {
             "colorbar": {
              "outlinewidth": 0,
              "ticks": ""
             }
            },
            "type": "scattergeo"
           }
          ],
          "scattergl": [
           {
            "marker": {
             "colorbar": {
              "outlinewidth": 0,
              "ticks": ""
             }
            },
            "type": "scattergl"
           }
          ],
          "scattermapbox": [
           {
            "marker": {
             "colorbar": {
              "outlinewidth": 0,
              "ticks": ""
             }
            },
            "type": "scattermapbox"
           }
          ],
          "scatterpolar": [
           {
            "marker": {
             "colorbar": {
              "outlinewidth": 0,
              "ticks": ""
             }
            },
            "type": "scatterpolar"
           }
          ],
          "scatterpolargl": [
           {
            "marker": {
             "colorbar": {
              "outlinewidth": 0,
              "ticks": ""
             }
            },
            "type": "scatterpolargl"
           }
          ],
          "scatterternary": [
           {
            "marker": {
             "colorbar": {
              "outlinewidth": 0,
              "ticks": ""
             }
            },
            "type": "scatterternary"
           }
          ],
          "surface": [
           {
            "colorbar": {
             "outlinewidth": 0,
             "ticks": ""
            },
            "colorscale": [
             [
              0.0,
              "#0d0887"
             ],
             [
              0.1111111111111111,
              "#46039f"
             ],
             [
              0.2222222222222222,
              "#7201a8"
             ],
             [
              0.3333333333333333,
              "#9c179e"
             ],
             [
              0.4444444444444444,
              "#bd3786"
             ],
             [
              0.5555555555555556,
              "#d8576b"
             ],
             [
              0.6666666666666666,
              "#ed7953"
             ],
             [
              0.7777777777777778,
              "#fb9f3a"
             ],
             [
              0.8888888888888888,
              "#fdca26"
             ],
             [
              1.0,
              "#f0f921"
             ]
            ],
            "type": "surface"
           }
          ],
          "table": [
           {
            "cells": {
             "fill": {
              "color": "#EBF0F8"
             },
             "line": {
              "color": "white"
             }
            },
            "header": {
             "fill": {
              "color": "#C8D4E3"
             },
             "line": {
              "color": "white"
             }
            },
            "type": "table"
           }
          ]
         },
         "layout": {
          "annotationdefaults": {
           "arrowcolor": "#2a3f5f",
           "arrowhead": 0,
           "arrowwidth": 1
          },
          "coloraxis": {
           "colorbar": {
            "outlinewidth": 0,
            "ticks": ""
           }
          },
          "colorscale": {
           "diverging": [
            [
             0,
             "#8e0152"
            ],
            [
             0.1,
             "#c51b7d"
            ],
            [
             0.2,
             "#de77ae"
            ],
            [
             0.3,
             "#f1b6da"
            ],
            [
             0.4,
             "#fde0ef"
            ],
            [
             0.5,
             "#f7f7f7"
            ],
            [
             0.6,
             "#e6f5d0"
            ],
            [
             0.7,
             "#b8e186"
            ],
            [
             0.8,
             "#7fbc41"
            ],
            [
             0.9,
             "#4d9221"
            ],
            [
             1,
             "#276419"
            ]
           ],
           "sequential": [
            [
             0.0,
             "#0d0887"
            ],
            [
             0.1111111111111111,
             "#46039f"
            ],
            [
             0.2222222222222222,
             "#7201a8"
            ],
            [
             0.3333333333333333,
             "#9c179e"
            ],
            [
             0.4444444444444444,
             "#bd3786"
            ],
            [
             0.5555555555555556,
             "#d8576b"
            ],
            [
             0.6666666666666666,
             "#ed7953"
            ],
            [
             0.7777777777777778,
             "#fb9f3a"
            ],
            [
             0.8888888888888888,
             "#fdca26"
            ],
            [
             1.0,
             "#f0f921"
            ]
           ],
           "sequentialminus": [
            [
             0.0,
             "#0d0887"
            ],
            [
             0.1111111111111111,
             "#46039f"
            ],
            [
             0.2222222222222222,
             "#7201a8"
            ],
            [
             0.3333333333333333,
             "#9c179e"
            ],
            [
             0.4444444444444444,
             "#bd3786"
            ],
            [
             0.5555555555555556,
             "#d8576b"
            ],
            [
             0.6666666666666666,
             "#ed7953"
            ],
            [
             0.7777777777777778,
             "#fb9f3a"
            ],
            [
             0.8888888888888888,
             "#fdca26"
            ],
            [
             1.0,
             "#f0f921"
            ]
           ]
          },
          "colorway": [
           "#636efa",
           "#EF553B",
           "#00cc96",
           "#ab63fa",
           "#FFA15A",
           "#19d3f3",
           "#FF6692",
           "#B6E880",
           "#FF97FF",
           "#FECB52"
          ],
          "font": {
           "color": "#2a3f5f"
          },
          "geo": {
           "bgcolor": "white",
           "lakecolor": "white",
           "landcolor": "#E5ECF6",
           "showlakes": true,
           "showland": true,
           "subunitcolor": "white"
          },
          "hoverlabel": {
           "align": "left"
          },
          "hovermode": "closest",
          "mapbox": {
           "style": "light"
          },
          "paper_bgcolor": "white",
          "plot_bgcolor": "#E5ECF6",
          "polar": {
           "angularaxis": {
            "gridcolor": "white",
            "linecolor": "white",
            "ticks": ""
           },
           "bgcolor": "#E5ECF6",
           "radialaxis": {
            "gridcolor": "white",
            "linecolor": "white",
            "ticks": ""
           }
          },
          "scene": {
           "xaxis": {
            "backgroundcolor": "#E5ECF6",
            "gridcolor": "white",
            "gridwidth": 2,
            "linecolor": "white",
            "showbackground": true,
            "ticks": "",
            "zerolinecolor": "white"
           },
           "yaxis": {
            "backgroundcolor": "#E5ECF6",
            "gridcolor": "white",
            "gridwidth": 2,
            "linecolor": "white",
            "showbackground": true,
            "ticks": "",
            "zerolinecolor": "white"
           },
           "zaxis": {
            "backgroundcolor": "#E5ECF6",
            "gridcolor": "white",
            "gridwidth": 2,
            "linecolor": "white",
            "showbackground": true,
            "ticks": "",
            "zerolinecolor": "white"
           }
          },
          "shapedefaults": {
           "line": {
            "color": "#2a3f5f"
           }
          },
          "ternary": {
           "aaxis": {
            "gridcolor": "white",
            "linecolor": "white",
            "ticks": ""
           },
           "baxis": {
            "gridcolor": "white",
            "linecolor": "white",
            "ticks": ""
           },
           "bgcolor": "#E5ECF6",
           "caxis": {
            "gridcolor": "white",
            "linecolor": "white",
            "ticks": ""
           }
          },
          "title": {
           "x": 0.05
          },
          "xaxis": {
           "automargin": true,
           "gridcolor": "white",
           "linecolor": "white",
           "ticks": "",
           "title": {
            "standoff": 15
           },
           "zerolinecolor": "white",
           "zerolinewidth": 2
          },
          "yaxis": {
           "automargin": true,
           "gridcolor": "white",
           "linecolor": "white",
           "ticks": "",
           "title": {
            "standoff": 15
           },
           "zerolinecolor": "white",
           "zerolinewidth": 2
          }
         }
        },
        "title": {
         "text": "Distribution of the Offers Jobs From in United States"
        },
        "xaxis": {
         "anchor": "y",
         "domain": [
          0,
          0.4
         ],
         "dtick": 5,
         "showgrid": true,
         "showline": false,
         "showticklabels": true,
         "zeroline": false
        },
        "xaxis2": {
         "anchor": "y2",
         "domain": [
          0.47,
          1
         ],
         "dtick": 8,
         "showgrid": true,
         "showline": false,
         "showticklabels": true,
         "side": "top",
         "zeroline": false
        },
        "yaxis": {
         "anchor": "x",
         "domain": [
          0,
          0.94
         ],
         "linecolor": "rgba(102,102,102,0.8)",
         "linewidth": 2,
         "showgrid": true,
         "showline": true,
         "showticklabels": true
        },
        "yaxis2": {
         "anchor": "x2",
         "domain": [
          0,
          0.94
         ],
         "linecolor": "rgba(102,102,102,0.8)",
         "linewidth": 1,
         "showgrid": true,
         "showline": true,
         "showticklabels": false
        }
       }
      },
      "text/html": [
       "<div>\n",
       "        \n",
       "        \n",
       "            <div id=\"9d4d3423-3605-4ef9-bf0f-bc57ff741209\" class=\"plotly-graph-div\" style=\"height:525px; width:100%;\"></div>\n",
       "            <script type=\"text/javascript\">\n",
       "                require([\"plotly\"], function(Plotly) {\n",
       "                    window.PLOTLYENV=window.PLOTLYENV || {};\n",
       "                    \n",
       "                if (document.getElementById(\"9d4d3423-3605-4ef9-bf0f-bc57ff741209\")) {\n",
       "                    Plotly.newPlot(\n",
       "                        '9d4d3423-3605-4ef9-bf0f-bc57ff741209',\n",
       "                        [{\"marker\": {\"color\": \"rgba(50, 171, 40, 0.7)\", \"line\": {\"color\": \"rgba(60, 171, 120, 1.0)\", \"width\": 1}}, \"name\": \"Percentage Jobs\", \"orientation\": \"h\", \"type\": \"bar\", \"x\": [2.2, 2.3, 3.9, 4.0, 4.2, 4.2, 5.2, 7.4, 15.0, 18.1, 27.4], \"xaxis\": \"x\", \"y\": [\" VA\", \" WA\", \" NJ\", \" NC\", \" CO\", \" AZ\", \" PA\", \" IL\", \" NY\", \" TX\", \" CA\"], \"yaxis\": \"y\"}, {\"line\": {\"color\": \"rgb(128, 0, 128)\"}, \"mode\": \"lines+markers\", \"name\": \"Mean Salary\", \"type\": \"scatter\", \"x\": [64.37, 62.12, 71.42, 67.88, 73.02, 70.92, 61.51, 77.65, 71.3, 58.88, 89.19], \"xaxis\": \"x2\", \"y\": [\" VA\", \" WA\", \" NJ\", \" NC\", \" CO\", \" AZ\", \" PA\", \" IL\", \" NY\", \" TX\", \" CA\"], \"yaxis\": \"y2\"}],\n",
       "                        {\"legend\": {\"font\": {\"size\": 12}, \"x\": 0.02, \"y\": 1.07}, \"margin\": {\"b\": 70, \"l\": 100, \"r\": 20, \"t\": 70}, \"paper_bgcolor\": \"rgb(250, 248, 255)\", \"plot_bgcolor\": \"rgb(250, 248, 255)\", \"template\": {\"data\": {\"bar\": [{\"error_x\": {\"color\": \"#2a3f5f\"}, \"error_y\": {\"color\": \"#2a3f5f\"}, \"marker\": {\"line\": {\"color\": \"#E5ECF6\", \"width\": 0.5}}, \"type\": \"bar\"}], \"barpolar\": [{\"marker\": {\"line\": {\"color\": \"#E5ECF6\", \"width\": 0.5}}, \"type\": \"barpolar\"}], \"carpet\": [{\"aaxis\": {\"endlinecolor\": \"#2a3f5f\", \"gridcolor\": \"white\", \"linecolor\": \"white\", \"minorgridcolor\": \"white\", \"startlinecolor\": \"#2a3f5f\"}, \"baxis\": {\"endlinecolor\": \"#2a3f5f\", \"gridcolor\": \"white\", \"linecolor\": \"white\", \"minorgridcolor\": \"white\", \"startlinecolor\": \"#2a3f5f\"}, \"type\": \"carpet\"}], \"choropleth\": [{\"colorbar\": {\"outlinewidth\": 0, \"ticks\": \"\"}, \"type\": \"choropleth\"}], \"contour\": [{\"colorbar\": {\"outlinewidth\": 0, \"ticks\": \"\"}, \"colorscale\": [[0.0, \"#0d0887\"], [0.1111111111111111, \"#46039f\"], [0.2222222222222222, \"#7201a8\"], [0.3333333333333333, \"#9c179e\"], [0.4444444444444444, \"#bd3786\"], [0.5555555555555556, \"#d8576b\"], [0.6666666666666666, \"#ed7953\"], [0.7777777777777778, \"#fb9f3a\"], [0.8888888888888888, \"#fdca26\"], [1.0, \"#f0f921\"]], \"type\": \"contour\"}], \"contourcarpet\": [{\"colorbar\": {\"outlinewidth\": 0, \"ticks\": \"\"}, \"type\": \"contourcarpet\"}], \"heatmap\": [{\"colorbar\": {\"outlinewidth\": 0, \"ticks\": \"\"}, \"colorscale\": [[0.0, \"#0d0887\"], [0.1111111111111111, \"#46039f\"], [0.2222222222222222, \"#7201a8\"], [0.3333333333333333, \"#9c179e\"], [0.4444444444444444, \"#bd3786\"], [0.5555555555555556, \"#d8576b\"], [0.6666666666666666, \"#ed7953\"], [0.7777777777777778, \"#fb9f3a\"], [0.8888888888888888, \"#fdca26\"], [1.0, \"#f0f921\"]], \"type\": \"heatmap\"}], \"heatmapgl\": [{\"colorbar\": {\"outlinewidth\": 0, \"ticks\": \"\"}, \"colorscale\": [[0.0, \"#0d0887\"], [0.1111111111111111, \"#46039f\"], [0.2222222222222222, \"#7201a8\"], [0.3333333333333333, \"#9c179e\"], [0.4444444444444444, \"#bd3786\"], [0.5555555555555556, \"#d8576b\"], [0.6666666666666666, \"#ed7953\"], [0.7777777777777778, \"#fb9f3a\"], [0.8888888888888888, \"#fdca26\"], [1.0, \"#f0f921\"]], \"type\": \"heatmapgl\"}], \"histogram\": [{\"marker\": {\"colorbar\": {\"outlinewidth\": 0, \"ticks\": \"\"}}, \"type\": \"histogram\"}], \"histogram2d\": [{\"colorbar\": {\"outlinewidth\": 0, \"ticks\": \"\"}, \"colorscale\": [[0.0, \"#0d0887\"], [0.1111111111111111, \"#46039f\"], [0.2222222222222222, \"#7201a8\"], [0.3333333333333333, \"#9c179e\"], [0.4444444444444444, \"#bd3786\"], [0.5555555555555556, \"#d8576b\"], [0.6666666666666666, \"#ed7953\"], [0.7777777777777778, \"#fb9f3a\"], [0.8888888888888888, \"#fdca26\"], [1.0, \"#f0f921\"]], \"type\": \"histogram2d\"}], \"histogram2dcontour\": [{\"colorbar\": {\"outlinewidth\": 0, \"ticks\": \"\"}, \"colorscale\": [[0.0, \"#0d0887\"], [0.1111111111111111, \"#46039f\"], [0.2222222222222222, \"#7201a8\"], [0.3333333333333333, \"#9c179e\"], [0.4444444444444444, \"#bd3786\"], [0.5555555555555556, \"#d8576b\"], [0.6666666666666666, \"#ed7953\"], [0.7777777777777778, \"#fb9f3a\"], [0.8888888888888888, \"#fdca26\"], [1.0, \"#f0f921\"]], \"type\": \"histogram2dcontour\"}], \"mesh3d\": [{\"colorbar\": {\"outlinewidth\": 0, \"ticks\": \"\"}, \"type\": \"mesh3d\"}], \"parcoords\": [{\"line\": {\"colorbar\": {\"outlinewidth\": 0, \"ticks\": \"\"}}, \"type\": \"parcoords\"}], \"pie\": [{\"automargin\": true, \"type\": \"pie\"}], \"scatter\": [{\"marker\": {\"colorbar\": {\"outlinewidth\": 0, \"ticks\": \"\"}}, \"type\": \"scatter\"}], \"scatter3d\": [{\"line\": {\"colorbar\": {\"outlinewidth\": 0, \"ticks\": \"\"}}, \"marker\": {\"colorbar\": {\"outlinewidth\": 0, \"ticks\": \"\"}}, \"type\": \"scatter3d\"}], \"scattercarpet\": [{\"marker\": {\"colorbar\": {\"outlinewidth\": 0, \"ticks\": \"\"}}, \"type\": \"scattercarpet\"}], \"scattergeo\": [{\"marker\": {\"colorbar\": {\"outlinewidth\": 0, \"ticks\": \"\"}}, \"type\": \"scattergeo\"}], \"scattergl\": [{\"marker\": {\"colorbar\": {\"outlinewidth\": 0, \"ticks\": \"\"}}, \"type\": \"scattergl\"}], \"scattermapbox\": [{\"marker\": {\"colorbar\": {\"outlinewidth\": 0, \"ticks\": \"\"}}, \"type\": \"scattermapbox\"}], \"scatterpolar\": [{\"marker\": {\"colorbar\": {\"outlinewidth\": 0, \"ticks\": \"\"}}, \"type\": \"scatterpolar\"}], \"scatterpolargl\": [{\"marker\": {\"colorbar\": {\"outlinewidth\": 0, \"ticks\": \"\"}}, \"type\": \"scatterpolargl\"}], \"scatterternary\": [{\"marker\": {\"colorbar\": {\"outlinewidth\": 0, \"ticks\": \"\"}}, \"type\": \"scatterternary\"}], \"surface\": [{\"colorbar\": {\"outlinewidth\": 0, \"ticks\": \"\"}, \"colorscale\": [[0.0, \"#0d0887\"], [0.1111111111111111, \"#46039f\"], [0.2222222222222222, \"#7201a8\"], [0.3333333333333333, \"#9c179e\"], [0.4444444444444444, \"#bd3786\"], [0.5555555555555556, \"#d8576b\"], [0.6666666666666666, \"#ed7953\"], [0.7777777777777778, \"#fb9f3a\"], [0.8888888888888888, \"#fdca26\"], [1.0, \"#f0f921\"]], \"type\": \"surface\"}], \"table\": [{\"cells\": {\"fill\": {\"color\": \"#EBF0F8\"}, \"line\": {\"color\": \"white\"}}, \"header\": {\"fill\": {\"color\": \"#C8D4E3\"}, \"line\": {\"color\": \"white\"}}, \"type\": \"table\"}]}, \"layout\": {\"annotationdefaults\": {\"arrowcolor\": \"#2a3f5f\", \"arrowhead\": 0, \"arrowwidth\": 1}, \"coloraxis\": {\"colorbar\": {\"outlinewidth\": 0, \"ticks\": \"\"}}, \"colorscale\": {\"diverging\": [[0, \"#8e0152\"], [0.1, \"#c51b7d\"], [0.2, \"#de77ae\"], [0.3, \"#f1b6da\"], [0.4, \"#fde0ef\"], [0.5, \"#f7f7f7\"], [0.6, \"#e6f5d0\"], [0.7, \"#b8e186\"], [0.8, \"#7fbc41\"], [0.9, \"#4d9221\"], [1, \"#276419\"]], \"sequential\": [[0.0, \"#0d0887\"], [0.1111111111111111, \"#46039f\"], [0.2222222222222222, \"#7201a8\"], [0.3333333333333333, \"#9c179e\"], [0.4444444444444444, \"#bd3786\"], [0.5555555555555556, \"#d8576b\"], [0.6666666666666666, \"#ed7953\"], [0.7777777777777778, \"#fb9f3a\"], [0.8888888888888888, \"#fdca26\"], [1.0, \"#f0f921\"]], \"sequentialminus\": [[0.0, \"#0d0887\"], [0.1111111111111111, \"#46039f\"], [0.2222222222222222, \"#7201a8\"], [0.3333333333333333, \"#9c179e\"], [0.4444444444444444, \"#bd3786\"], [0.5555555555555556, \"#d8576b\"], [0.6666666666666666, \"#ed7953\"], [0.7777777777777778, \"#fb9f3a\"], [0.8888888888888888, \"#fdca26\"], [1.0, \"#f0f921\"]]}, \"colorway\": [\"#636efa\", \"#EF553B\", \"#00cc96\", \"#ab63fa\", \"#FFA15A\", \"#19d3f3\", \"#FF6692\", \"#B6E880\", \"#FF97FF\", \"#FECB52\"], \"font\": {\"color\": \"#2a3f5f\"}, \"geo\": {\"bgcolor\": \"white\", \"lakecolor\": \"white\", \"landcolor\": \"#E5ECF6\", \"showlakes\": true, \"showland\": true, \"subunitcolor\": \"white\"}, \"hoverlabel\": {\"align\": \"left\"}, \"hovermode\": \"closest\", \"mapbox\": {\"style\": \"light\"}, \"paper_bgcolor\": \"white\", \"plot_bgcolor\": \"#E5ECF6\", \"polar\": {\"angularaxis\": {\"gridcolor\": \"white\", \"linecolor\": \"white\", \"ticks\": \"\"}, \"bgcolor\": \"#E5ECF6\", \"radialaxis\": {\"gridcolor\": \"white\", \"linecolor\": \"white\", \"ticks\": \"\"}}, \"scene\": {\"xaxis\": {\"backgroundcolor\": \"#E5ECF6\", \"gridcolor\": \"white\", \"gridwidth\": 2, \"linecolor\": \"white\", \"showbackground\": true, \"ticks\": \"\", \"zerolinecolor\": \"white\"}, \"yaxis\": {\"backgroundcolor\": \"#E5ECF6\", \"gridcolor\": \"white\", \"gridwidth\": 2, \"linecolor\": \"white\", \"showbackground\": true, \"ticks\": \"\", \"zerolinecolor\": \"white\"}, \"zaxis\": {\"backgroundcolor\": \"#E5ECF6\", \"gridcolor\": \"white\", \"gridwidth\": 2, \"linecolor\": \"white\", \"showbackground\": true, \"ticks\": \"\", \"zerolinecolor\": \"white\"}}, \"shapedefaults\": {\"line\": {\"color\": \"#2a3f5f\"}}, \"ternary\": {\"aaxis\": {\"gridcolor\": \"white\", \"linecolor\": \"white\", \"ticks\": \"\"}, \"baxis\": {\"gridcolor\": \"white\", \"linecolor\": \"white\", \"ticks\": \"\"}, \"bgcolor\": \"#E5ECF6\", \"caxis\": {\"gridcolor\": \"white\", \"linecolor\": \"white\", \"ticks\": \"\"}}, \"title\": {\"x\": 0.05}, \"xaxis\": {\"automargin\": true, \"gridcolor\": \"white\", \"linecolor\": \"white\", \"ticks\": \"\", \"title\": {\"standoff\": 15}, \"zerolinecolor\": \"white\", \"zerolinewidth\": 2}, \"yaxis\": {\"automargin\": true, \"gridcolor\": \"white\", \"linecolor\": \"white\", \"ticks\": \"\", \"title\": {\"standoff\": 15}, \"zerolinecolor\": \"white\", \"zerolinewidth\": 2}}}, \"title\": {\"text\": \"Distribution of the Offers Jobs From in United States\"}, \"xaxis\": {\"anchor\": \"y\", \"domain\": [0, 0.4], \"dtick\": 5, \"showgrid\": true, \"showline\": false, \"showticklabels\": true, \"zeroline\": false}, \"xaxis2\": {\"anchor\": \"y2\", \"domain\": [0.47, 1], \"dtick\": 8, \"showgrid\": true, \"showline\": false, \"showticklabels\": true, \"side\": \"top\", \"zeroline\": false}, \"yaxis\": {\"anchor\": \"x\", \"domain\": [0, 0.94], \"linecolor\": \"rgba(102,102,102,0.8)\", \"linewidth\": 2, \"showgrid\": true, \"showline\": true, \"showticklabels\": true}, \"yaxis2\": {\"anchor\": \"x2\", \"domain\": [0, 0.94], \"linecolor\": \"rgba(102,102,102,0.8)\", \"linewidth\": 1, \"showgrid\": true, \"showline\": true, \"showticklabels\": false}},\n",
       "                        {\"responsive\": true}\n",
       "                    ).then(function(){\n",
       "                            \n",
       "var gd = document.getElementById('9d4d3423-3605-4ef9-bf0f-bc57ff741209');\n",
       "var x = new MutationObserver(function (mutations, observer) {{\n",
       "        var display = window.getComputedStyle(gd).display;\n",
       "        if (!display || display === 'none') {{\n",
       "            console.log([gd, 'removed!']);\n",
       "            Plotly.purge(gd);\n",
       "            observer.disconnect();\n",
       "        }}\n",
       "}});\n",
       "\n",
       "// Listen for the removal of the full notebook cells\n",
       "var notebookContainer = gd.closest('#notebook-container');\n",
       "if (notebookContainer) {{\n",
       "    x.observe(notebookContainer, {childList: true});\n",
       "}}\n",
       "\n",
       "// Listen for the clearing of the current output cell\n",
       "var outputEl = gd.closest('.output');\n",
       "if (outputEl) {{\n",
       "    x.observe(outputEl, {childList: true});\n",
       "}}\n",
       "\n",
       "                        })\n",
       "                };\n",
       "                });\n",
       "            </script>\n",
       "        </div>"
      ]
     },
     "metadata": {},
     "output_type": "display_data"
    }
   ],
   "source": [
    "# Create two Subplots:\n",
    "fig_states = make_subplots(rows = 1, cols = 2, specs = [[{},{}]], shared_xaxes = True,\n",
    "                          shared_yaxes = False, vertical_spacing = 0.001)\n",
    "\n",
    "fig_states.append_trace(go.Bar(x = df_map2['Jobs Percentage'],\n",
    "                       y = df_map2['Acronym State'],\n",
    "                       marker = dict(color = 'rgba(50, 171, 40, 0.7)',\n",
    "                                    line = dict(color='rgba(60, 171, 120, 1.0)',\n",
    "                                               width = 1,)\n",
    "                                    ),\n",
    "                       name = 'Percentage Jobs',\n",
    "                       orientation = 'h',\n",
    "                       ),\n",
    "                1, 1)\n",
    "\n",
    "fig_states.append_trace(go.Scatter(x = df_map2['Mean Salary'],\n",
    "                                  y = df_map2['Acronym State'],\n",
    "                                  mode = 'lines+markers',\n",
    "                                  line_color = 'rgb(128, 0, 128)',\n",
    "                                  name = 'Mean Salary'),\n",
    "                       1, 2)\n",
    "\n",
    "fig_states.update_layout(title = 'Distribution of the Offers Jobs From in United States',\n",
    "                        yaxis = dict(showgrid = True,\n",
    "                                    showline = True,\n",
    "                                    showticklabels = True,\n",
    "                                    linecolor = 'rgba(102,102,102,0.8)',\n",
    "                                    linewidth = 2,\n",
    "                                    domain = [0, 0.94],\n",
    "                                    ),\n",
    "                        yaxis2 = dict(showgrid = True,\n",
    "                                     showline = True,\n",
    "                                     showticklabels = False,\n",
    "                                     linecolor = 'rgba(102,102,102,0.8)',\n",
    "                                     linewidth = 1,\n",
    "                                     domain = [0, 0.94],\n",
    "                                     ),\n",
    "                        xaxis = dict(zeroline = False,\n",
    "                                    showline = False,\n",
    "                                    showticklabels = True,\n",
    "                                    showgrid = True,\n",
    "                                    domain = [0, 0.40],\n",
    "                                    dtick = 5,\n",
    "                                    ),\n",
    "                        xaxis2 = dict(zeroline = False,\n",
    "                                     showline = False,\n",
    "                                     showticklabels = True,\n",
    "                                     showgrid = True,\n",
    "                                     domain = [0.47, 1],\n",
    "                                     side = 'top',\n",
    "                                     dtick =8,\n",
    "                                     ),\n",
    "                        legend = dict(x = 0.02, y = 1.07, font_size = 12),\n",
    "                        margin = dict(l = 100, r = 20, t = 70, b = 70),\n",
    "                        paper_bgcolor='rgb(250, 248, 255)',\n",
    "                        plot_bgcolor='rgb(250, 248, 255)',)\n",
    "\n",
    "fig_states.show()"
   ]
  },
  {
   "cell_type": "markdown",
   "metadata": {
    "papermill": {
     "duration": 0.083338,
     "end_time": "2020-10-18T23:26:00.003853",
     "exception": false,
     "start_time": "2020-10-18T23:25:59.920515",
     "status": "completed"
    },
    "tags": []
   },
   "source": [
    "# Hard Skills That it is Most Requested per The Companies"
   ]
  },
  {
   "cell_type": "code",
   "execution_count": 29,
   "metadata": {
    "execution": {
     "iopub.execute_input": "2020-10-18T23:26:00.217075Z",
     "iopub.status.busy": "2020-10-18T23:26:00.211803Z",
     "iopub.status.idle": "2020-10-18T23:26:05.498004Z",
     "shell.execute_reply": "2020-10-18T23:26:05.496968Z"
    },
    "papermill": {
     "duration": 5.410699,
     "end_time": "2020-10-18T23:26:05.498142",
     "exception": false,
     "start_time": "2020-10-18T23:26:00.087443",
     "status": "completed"
    },
    "tags": []
   },
   "outputs": [
    {
     "data": {
      "text/html": [
       "<div>\n",
       "<style scoped>\n",
       "    .dataframe tbody tr th:only-of-type {\n",
       "        vertical-align: middle;\n",
       "    }\n",
       "\n",
       "    .dataframe tbody tr th {\n",
       "        vertical-align: top;\n",
       "    }\n",
       "\n",
       "    .dataframe thead th {\n",
       "        text-align: right;\n",
       "    }\n",
       "</style>\n",
       "<table border=\"1\" class=\"dataframe\">\n",
       "  <thead>\n",
       "    <tr style=\"text-align: right;\">\n",
       "      <th></th>\n",
       "      <th>Skills</th>\n",
       "      <th>Count</th>\n",
       "      <th>Relative Frecuency</th>\n",
       "    </tr>\n",
       "  </thead>\n",
       "  <tbody>\n",
       "    <tr>\n",
       "      <th>0</th>\n",
       "      <td>SQL</td>\n",
       "      <td>1389</td>\n",
       "      <td>20.13</td>\n",
       "    </tr>\n",
       "    <tr>\n",
       "      <th>1</th>\n",
       "      <td>Excel</td>\n",
       "      <td>1354</td>\n",
       "      <td>19.62</td>\n",
       "    </tr>\n",
       "    <tr>\n",
       "      <th>2</th>\n",
       "      <td>Python</td>\n",
       "      <td>637</td>\n",
       "      <td>9.23</td>\n",
       "    </tr>\n",
       "    <tr>\n",
       "      <th>3</th>\n",
       "      <td>Tableau</td>\n",
       "      <td>620</td>\n",
       "      <td>8.99</td>\n",
       "    </tr>\n",
       "    <tr>\n",
       "      <th>4</th>\n",
       "      <td>Dashboard</td>\n",
       "      <td>473</td>\n",
       "      <td>6.86</td>\n",
       "    </tr>\n",
       "    <tr>\n",
       "      <th>5</th>\n",
       "      <td>R</td>\n",
       "      <td>375</td>\n",
       "      <td>5.43</td>\n",
       "    </tr>\n",
       "    <tr>\n",
       "      <th>6</th>\n",
       "      <td>SAS</td>\n",
       "      <td>338</td>\n",
       "      <td>4.90</td>\n",
       "    </tr>\n",
       "    <tr>\n",
       "      <th>7</th>\n",
       "      <td>Java</td>\n",
       "      <td>204</td>\n",
       "      <td>2.96</td>\n",
       "    </tr>\n",
       "    <tr>\n",
       "      <th>8</th>\n",
       "      <td>Scala</td>\n",
       "      <td>197</td>\n",
       "      <td>2.86</td>\n",
       "    </tr>\n",
       "    <tr>\n",
       "      <th>9</th>\n",
       "      <td>PowerBI</td>\n",
       "      <td>180</td>\n",
       "      <td>2.61</td>\n",
       "    </tr>\n",
       "    <tr>\n",
       "      <th>10</th>\n",
       "      <td>SPSS</td>\n",
       "      <td>154</td>\n",
       "      <td>2.23</td>\n",
       "    </tr>\n",
       "    <tr>\n",
       "      <th>11</th>\n",
       "      <td>Big Data</td>\n",
       "      <td>137</td>\n",
       "      <td>1.99</td>\n",
       "    </tr>\n",
       "    <tr>\n",
       "      <th>12</th>\n",
       "      <td>Hadoop</td>\n",
       "      <td>136</td>\n",
       "      <td>1.97</td>\n",
       "    </tr>\n",
       "    <tr>\n",
       "      <th>13</th>\n",
       "      <td>AWS</td>\n",
       "      <td>132</td>\n",
       "      <td>1.91</td>\n",
       "    </tr>\n",
       "    <tr>\n",
       "      <th>14</th>\n",
       "      <td>Looker</td>\n",
       "      <td>108</td>\n",
       "      <td>1.57</td>\n",
       "    </tr>\n",
       "    <tr>\n",
       "      <th>15</th>\n",
       "      <td>Spark</td>\n",
       "      <td>89</td>\n",
       "      <td>1.29</td>\n",
       "    </tr>\n",
       "  </tbody>\n",
       "</table>\n",
       "</div>"
      ],
      "text/plain": [
       "       Skills  Count  Relative Frecuency\n",
       "0         SQL   1389               20.13\n",
       "1       Excel   1354               19.62\n",
       "2      Python    637                9.23\n",
       "3     Tableau    620                8.99\n",
       "4   Dashboard    473                6.86\n",
       "5           R    375                5.43\n",
       "6         SAS    338                4.90\n",
       "7        Java    204                2.96\n",
       "8       Scala    197                2.86\n",
       "9     PowerBI    180                2.61\n",
       "10       SPSS    154                2.23\n",
       "11   Big Data    137                1.99\n",
       "12     Hadoop    136                1.97\n",
       "13        AWS    132                1.91\n",
       "14     Looker    108                1.57\n",
       "15      Spark     89                1.29"
      ]
     },
     "execution_count": 29,
     "metadata": {},
     "output_type": "execute_result"
    }
   ],
   "source": [
    "# A dictionary is created with a list of hard skills to search in the job description fields\n",
    "import re #Library for regular expresions \n",
    "\n",
    "hard_skills_dict = {\n",
    "    'Python': r\"python\",\n",
    "    'R': r\"[\\b\\s/]r[\\s,\\.]\",\n",
    "    'Excel': r\"excel\",\n",
    "    'SQL': r\"sql\",\n",
    "    'NoSQL': r\"\\bNo[\\s,-]sql[\\s]\",\n",
    "    'PowerBI': r\"power[\\s]BI\",\n",
    "    'Tableau': r\"tableau\",\n",
    "    'SPSS': r'\\bSPSS\\b',\n",
    "    'Big Data': r\"\\sbig\\sdata\\s\",\n",
    "    'SAP BI': r\"SAP[\\s]BI\",\n",
    "    'MongoDB': r\"MongoDB\",\n",
    "    'Hadoop': r\"Hadoop\",\n",
    "    'SAS': r\"\\bSAS\\b\",\n",
    "    'VBA': r\"\\bvba\\b\",\n",
    "    'AWS': r\"\\baws\\b\",\n",
    "    'Git': r\"\\bGit\",\n",
    "    'QlikView': r\"\\bQlikView\",\n",
    "    'Oracle BI': r\"oracle[\\n]BI\",\n",
    "    'Scala': r\"Scala\",\n",
    "    'Dashboard': r\"\\bDashboard[s]\",\n",
    "    'Spark': r\"Spark\",\n",
    "    'Matlab': r\"Matplotlib\",\n",
    "    'Linux': r\"linux\",\n",
    "    'Unix': r\"unix\",\n",
    "    'Looker': r\"looker\",\n",
    "    'C# or C++': r\"\\bC[#\\+\\+]\",\n",
    "    'Java': r\"java\",\n",
    "    'PowerPivot': r\"Power[\\s]Pivot\",\n",
    "    'PowerQuery': r\"Power[\\s]Query\",\n",
    "    'BigQuery': r\"Big[\\s]Query\",\n",
    "    'Apache Cassandra': r\"[\\b\\s]Cassandra[\\b\\s]\",\n",
    "    'Neo4j': r\"Neo4j\",\n",
    "    'TensorFlow': r\"TensorFlow\"\n",
    "}\n",
    "\n",
    "hard_skills_count = {}\n",
    "\n",
    "# Loop through skills for count the frecuency in Jobs Description Field.\n",
    "for key, search in hard_skills_dict.items():\n",
    "    hard_skills_count[key] = df1['Job Description'].str.contains(search, flags = re.IGNORECASE).sum()\n",
    "\n",
    "df_skills = pd.DataFrame.from_dict(hard_skills_count, orient = 'index') \\\n",
    "                        .sort_values(0, ascending = False) \\\n",
    "                        .reset_index() \\\n",
    "                        .rename(columns = {'index': 'Skills', 0: 'Count'})\n",
    "\n",
    "df_skills['Relative Frecuency'] = (df_skills['Count'] / sum(df_skills['Count'])) *100\n",
    "df_skills['Relative Frecuency'] = df_skills['Relative Frecuency'].apply(lambda x: round(x, 2))\n",
    "\n",
    "# Remove values less than '1' per cent in its Relative Frequency\n",
    "df_skills = df_skills.drop(df_skills[df_skills['Relative Frecuency'] < 1.00].index, axis = 0)\n",
    "\n",
    "df_skills.head(df_skills.shape[0])"
   ]
  },
  {
   "cell_type": "code",
   "execution_count": 30,
   "metadata": {
    "execution": {
     "iopub.execute_input": "2020-10-18T23:26:05.722426Z",
     "iopub.status.busy": "2020-10-18T23:26:05.703551Z",
     "iopub.status.idle": "2020-10-18T23:26:05.731188Z",
     "shell.execute_reply": "2020-10-18T23:26:05.731677Z"
    },
    "papermill": {
     "duration": 0.147153,
     "end_time": "2020-10-18T23:26:05.731797",
     "exception": false,
     "start_time": "2020-10-18T23:26:05.584644",
     "status": "completed"
    },
    "tags": []
   },
   "outputs": [
    {
     "data": {
      "application/vnd.plotly.v1+json": {
       "config": {
        "plotlyServerURL": "https://plot.ly"
       },
       "data": [
        {
         "alignmentgroup": "True",
         "hovertemplate": "Hard Skills=%{x}<br>Nº of Requests=%{y}<br>Relative Frecuency=%{marker.color}<extra></extra>",
         "legendgroup": "",
         "marker": {
          "color": [
           20.13,
           19.62,
           9.23,
           8.99,
           6.86,
           5.43,
           4.9,
           2.96,
           2.86,
           2.61,
           2.23,
           1.99,
           1.97,
           1.91,
           1.57,
           1.29
          ],
          "coloraxis": "coloraxis"
         },
         "name": "",
         "offsetgroup": "",
         "orientation": "v",
         "showlegend": false,
         "textposition": "auto",
         "type": "bar",
         "x": [
          "SQL",
          "Excel",
          "Python",
          "Tableau",
          "Dashboard",
          "R",
          "SAS",
          "Java",
          "Scala",
          "PowerBI",
          "SPSS",
          "Big Data",
          "Hadoop",
          "AWS",
          "Looker",
          "Spark"
         ],
         "xaxis": "x",
         "y": [
          1389,
          1354,
          637,
          620,
          473,
          375,
          338,
          204,
          197,
          180,
          154,
          137,
          136,
          132,
          108,
          89
         ],
         "yaxis": "y"
        }
       ],
       "layout": {
        "barmode": "relative",
        "coloraxis": {
         "colorbar": {
          "title": {
           "text": "Relative Frecuency"
          }
         },
         "colorscale": [
          [
           0.0,
           "#0d0887"
          ],
          [
           0.1111111111111111,
           "#46039f"
          ],
          [
           0.2222222222222222,
           "#7201a8"
          ],
          [
           0.3333333333333333,
           "#9c179e"
          ],
          [
           0.4444444444444444,
           "#bd3786"
          ],
          [
           0.5555555555555556,
           "#d8576b"
          ],
          [
           0.6666666666666666,
           "#ed7953"
          ],
          [
           0.7777777777777778,
           "#fb9f3a"
          ],
          [
           0.8888888888888888,
           "#fdca26"
          ],
          [
           1.0,
           "#f0f921"
          ]
         ]
        },
        "legend": {
         "tracegroupgap": 0
        },
        "margin": {
         "t": 60
        },
        "template": {
         "data": {
          "bar": [
           {
            "error_x": {
             "color": "#2a3f5f"
            },
            "error_y": {
             "color": "#2a3f5f"
            },
            "marker": {
             "line": {
              "color": "#E5ECF6",
              "width": 0.5
             }
            },
            "type": "bar"
           }
          ],
          "barpolar": [
           {
            "marker": {
             "line": {
              "color": "#E5ECF6",
              "width": 0.5
             }
            },
            "type": "barpolar"
           }
          ],
          "carpet": [
           {
            "aaxis": {
             "endlinecolor": "#2a3f5f",
             "gridcolor": "white",
             "linecolor": "white",
             "minorgridcolor": "white",
             "startlinecolor": "#2a3f5f"
            },
            "baxis": {
             "endlinecolor": "#2a3f5f",
             "gridcolor": "white",
             "linecolor": "white",
             "minorgridcolor": "white",
             "startlinecolor": "#2a3f5f"
            },
            "type": "carpet"
           }
          ],
          "choropleth": [
           {
            "colorbar": {
             "outlinewidth": 0,
             "ticks": ""
            },
            "type": "choropleth"
           }
          ],
          "contour": [
           {
            "colorbar": {
             "outlinewidth": 0,
             "ticks": ""
            },
            "colorscale": [
             [
              0.0,
              "#0d0887"
             ],
             [
              0.1111111111111111,
              "#46039f"
             ],
             [
              0.2222222222222222,
              "#7201a8"
             ],
             [
              0.3333333333333333,
              "#9c179e"
             ],
             [
              0.4444444444444444,
              "#bd3786"
             ],
             [
              0.5555555555555556,
              "#d8576b"
             ],
             [
              0.6666666666666666,
              "#ed7953"
             ],
             [
              0.7777777777777778,
              "#fb9f3a"
             ],
             [
              0.8888888888888888,
              "#fdca26"
             ],
             [
              1.0,
              "#f0f921"
             ]
            ],
            "type": "contour"
           }
          ],
          "contourcarpet": [
           {
            "colorbar": {
             "outlinewidth": 0,
             "ticks": ""
            },
            "type": "contourcarpet"
           }
          ],
          "heatmap": [
           {
            "colorbar": {
             "outlinewidth": 0,
             "ticks": ""
            },
            "colorscale": [
             [
              0.0,
              "#0d0887"
             ],
             [
              0.1111111111111111,
              "#46039f"
             ],
             [
              0.2222222222222222,
              "#7201a8"
             ],
             [
              0.3333333333333333,
              "#9c179e"
             ],
             [
              0.4444444444444444,
              "#bd3786"
             ],
             [
              0.5555555555555556,
              "#d8576b"
             ],
             [
              0.6666666666666666,
              "#ed7953"
             ],
             [
              0.7777777777777778,
              "#fb9f3a"
             ],
             [
              0.8888888888888888,
              "#fdca26"
             ],
             [
              1.0,
              "#f0f921"
             ]
            ],
            "type": "heatmap"
           }
          ],
          "heatmapgl": [
           {
            "colorbar": {
             "outlinewidth": 0,
             "ticks": ""
            },
            "colorscale": [
             [
              0.0,
              "#0d0887"
             ],
             [
              0.1111111111111111,
              "#46039f"
             ],
             [
              0.2222222222222222,
              "#7201a8"
             ],
             [
              0.3333333333333333,
              "#9c179e"
             ],
             [
              0.4444444444444444,
              "#bd3786"
             ],
             [
              0.5555555555555556,
              "#d8576b"
             ],
             [
              0.6666666666666666,
              "#ed7953"
             ],
             [
              0.7777777777777778,
              "#fb9f3a"
             ],
             [
              0.8888888888888888,
              "#fdca26"
             ],
             [
              1.0,
              "#f0f921"
             ]
            ],
            "type": "heatmapgl"
           }
          ],
          "histogram": [
           {
            "marker": {
             "colorbar": {
              "outlinewidth": 0,
              "ticks": ""
             }
            },
            "type": "histogram"
           }
          ],
          "histogram2d": [
           {
            "colorbar": {
             "outlinewidth": 0,
             "ticks": ""
            },
            "colorscale": [
             [
              0.0,
              "#0d0887"
             ],
             [
              0.1111111111111111,
              "#46039f"
             ],
             [
              0.2222222222222222,
              "#7201a8"
             ],
             [
              0.3333333333333333,
              "#9c179e"
             ],
             [
              0.4444444444444444,
              "#bd3786"
             ],
             [
              0.5555555555555556,
              "#d8576b"
             ],
             [
              0.6666666666666666,
              "#ed7953"
             ],
             [
              0.7777777777777778,
              "#fb9f3a"
             ],
             [
              0.8888888888888888,
              "#fdca26"
             ],
             [
              1.0,
              "#f0f921"
             ]
            ],
            "type": "histogram2d"
           }
          ],
          "histogram2dcontour": [
           {
            "colorbar": {
             "outlinewidth": 0,
             "ticks": ""
            },
            "colorscale": [
             [
              0.0,
              "#0d0887"
             ],
             [
              0.1111111111111111,
              "#46039f"
             ],
             [
              0.2222222222222222,
              "#7201a8"
             ],
             [
              0.3333333333333333,
              "#9c179e"
             ],
             [
              0.4444444444444444,
              "#bd3786"
             ],
             [
              0.5555555555555556,
              "#d8576b"
             ],
             [
              0.6666666666666666,
              "#ed7953"
             ],
             [
              0.7777777777777778,
              "#fb9f3a"
             ],
             [
              0.8888888888888888,
              "#fdca26"
             ],
             [
              1.0,
              "#f0f921"
             ]
            ],
            "type": "histogram2dcontour"
           }
          ],
          "mesh3d": [
           {
            "colorbar": {
             "outlinewidth": 0,
             "ticks": ""
            },
            "type": "mesh3d"
           }
          ],
          "parcoords": [
           {
            "line": {
             "colorbar": {
              "outlinewidth": 0,
              "ticks": ""
             }
            },
            "type": "parcoords"
           }
          ],
          "pie": [
           {
            "automargin": true,
            "type": "pie"
           }
          ],
          "scatter": [
           {
            "marker": {
             "colorbar": {
              "outlinewidth": 0,
              "ticks": ""
             }
            },
            "type": "scatter"
           }
          ],
          "scatter3d": [
           {
            "line": {
             "colorbar": {
              "outlinewidth": 0,
              "ticks": ""
             }
            },
            "marker": {
             "colorbar": {
              "outlinewidth": 0,
              "ticks": ""
             }
            },
            "type": "scatter3d"
           }
          ],
          "scattercarpet": [
           {
            "marker": {
             "colorbar": {
              "outlinewidth": 0,
              "ticks": ""
             }
            },
            "type": "scattercarpet"
           }
          ],
          "scattergeo": [
           {
            "marker": {
             "colorbar": {
              "outlinewidth": 0,
              "ticks": ""
             }
            },
            "type": "scattergeo"
           }
          ],
          "scattergl": [
           {
            "marker": {
             "colorbar": {
              "outlinewidth": 0,
              "ticks": ""
             }
            },
            "type": "scattergl"
           }
          ],
          "scattermapbox": [
           {
            "marker": {
             "colorbar": {
              "outlinewidth": 0,
              "ticks": ""
             }
            },
            "type": "scattermapbox"
           }
          ],
          "scatterpolar": [
           {
            "marker": {
             "colorbar": {
              "outlinewidth": 0,
              "ticks": ""
             }
            },
            "type": "scatterpolar"
           }
          ],
          "scatterpolargl": [
           {
            "marker": {
             "colorbar": {
              "outlinewidth": 0,
              "ticks": ""
             }
            },
            "type": "scatterpolargl"
           }
          ],
          "scatterternary": [
           {
            "marker": {
             "colorbar": {
              "outlinewidth": 0,
              "ticks": ""
             }
            },
            "type": "scatterternary"
           }
          ],
          "surface": [
           {
            "colorbar": {
             "outlinewidth": 0,
             "ticks": ""
            },
            "colorscale": [
             [
              0.0,
              "#0d0887"
             ],
             [
              0.1111111111111111,
              "#46039f"
             ],
             [
              0.2222222222222222,
              "#7201a8"
             ],
             [
              0.3333333333333333,
              "#9c179e"
             ],
             [
              0.4444444444444444,
              "#bd3786"
             ],
             [
              0.5555555555555556,
              "#d8576b"
             ],
             [
              0.6666666666666666,
              "#ed7953"
             ],
             [
              0.7777777777777778,
              "#fb9f3a"
             ],
             [
              0.8888888888888888,
              "#fdca26"
             ],
             [
              1.0,
              "#f0f921"
             ]
            ],
            "type": "surface"
           }
          ],
          "table": [
           {
            "cells": {
             "fill": {
              "color": "#EBF0F8"
             },
             "line": {
              "color": "white"
             }
            },
            "header": {
             "fill": {
              "color": "#C8D4E3"
             },
             "line": {
              "color": "white"
             }
            },
            "type": "table"
           }
          ]
         },
         "layout": {
          "annotationdefaults": {
           "arrowcolor": "#2a3f5f",
           "arrowhead": 0,
           "arrowwidth": 1
          },
          "coloraxis": {
           "colorbar": {
            "outlinewidth": 0,
            "ticks": ""
           }
          },
          "colorscale": {
           "diverging": [
            [
             0,
             "#8e0152"
            ],
            [
             0.1,
             "#c51b7d"
            ],
            [
             0.2,
             "#de77ae"
            ],
            [
             0.3,
             "#f1b6da"
            ],
            [
             0.4,
             "#fde0ef"
            ],
            [
             0.5,
             "#f7f7f7"
            ],
            [
             0.6,
             "#e6f5d0"
            ],
            [
             0.7,
             "#b8e186"
            ],
            [
             0.8,
             "#7fbc41"
            ],
            [
             0.9,
             "#4d9221"
            ],
            [
             1,
             "#276419"
            ]
           ],
           "sequential": [
            [
             0.0,
             "#0d0887"
            ],
            [
             0.1111111111111111,
             "#46039f"
            ],
            [
             0.2222222222222222,
             "#7201a8"
            ],
            [
             0.3333333333333333,
             "#9c179e"
            ],
            [
             0.4444444444444444,
             "#bd3786"
            ],
            [
             0.5555555555555556,
             "#d8576b"
            ],
            [
             0.6666666666666666,
             "#ed7953"
            ],
            [
             0.7777777777777778,
             "#fb9f3a"
            ],
            [
             0.8888888888888888,
             "#fdca26"
            ],
            [
             1.0,
             "#f0f921"
            ]
           ],
           "sequentialminus": [
            [
             0.0,
             "#0d0887"
            ],
            [
             0.1111111111111111,
             "#46039f"
            ],
            [
             0.2222222222222222,
             "#7201a8"
            ],
            [
             0.3333333333333333,
             "#9c179e"
            ],
            [
             0.4444444444444444,
             "#bd3786"
            ],
            [
             0.5555555555555556,
             "#d8576b"
            ],
            [
             0.6666666666666666,
             "#ed7953"
            ],
            [
             0.7777777777777778,
             "#fb9f3a"
            ],
            [
             0.8888888888888888,
             "#fdca26"
            ],
            [
             1.0,
             "#f0f921"
            ]
           ]
          },
          "colorway": [
           "#636efa",
           "#EF553B",
           "#00cc96",
           "#ab63fa",
           "#FFA15A",
           "#19d3f3",
           "#FF6692",
           "#B6E880",
           "#FF97FF",
           "#FECB52"
          ],
          "font": {
           "color": "#2a3f5f"
          },
          "geo": {
           "bgcolor": "white",
           "lakecolor": "white",
           "landcolor": "#E5ECF6",
           "showlakes": true,
           "showland": true,
           "subunitcolor": "white"
          },
          "hoverlabel": {
           "align": "left"
          },
          "hovermode": "closest",
          "mapbox": {
           "style": "light"
          },
          "paper_bgcolor": "white",
          "plot_bgcolor": "#E5ECF6",
          "polar": {
           "angularaxis": {
            "gridcolor": "white",
            "linecolor": "white",
            "ticks": ""
           },
           "bgcolor": "#E5ECF6",
           "radialaxis": {
            "gridcolor": "white",
            "linecolor": "white",
            "ticks": ""
           }
          },
          "scene": {
           "xaxis": {
            "backgroundcolor": "#E5ECF6",
            "gridcolor": "white",
            "gridwidth": 2,
            "linecolor": "white",
            "showbackground": true,
            "ticks": "",
            "zerolinecolor": "white"
           },
           "yaxis": {
            "backgroundcolor": "#E5ECF6",
            "gridcolor": "white",
            "gridwidth": 2,
            "linecolor": "white",
            "showbackground": true,
            "ticks": "",
            "zerolinecolor": "white"
           },
           "zaxis": {
            "backgroundcolor": "#E5ECF6",
            "gridcolor": "white",
            "gridwidth": 2,
            "linecolor": "white",
            "showbackground": true,
            "ticks": "",
            "zerolinecolor": "white"
           }
          },
          "shapedefaults": {
           "line": {
            "color": "#2a3f5f"
           }
          },
          "ternary": {
           "aaxis": {
            "gridcolor": "white",
            "linecolor": "white",
            "ticks": ""
           },
           "baxis": {
            "gridcolor": "white",
            "linecolor": "white",
            "ticks": ""
           },
           "bgcolor": "#E5ECF6",
           "caxis": {
            "gridcolor": "white",
            "linecolor": "white",
            "ticks": ""
           }
          },
          "title": {
           "x": 0.05
          },
          "xaxis": {
           "automargin": true,
           "gridcolor": "white",
           "linecolor": "white",
           "ticks": "",
           "title": {
            "standoff": 15
           },
           "zerolinecolor": "white",
           "zerolinewidth": 2
          },
          "yaxis": {
           "automargin": true,
           "gridcolor": "white",
           "linecolor": "white",
           "ticks": "",
           "title": {
            "standoff": 15
           },
           "zerolinecolor": "white",
           "zerolinewidth": 2
          }
         }
        },
        "xaxis": {
         "anchor": "y",
         "domain": [
          0.0,
          1.0
         ],
         "title": {
          "text": "Hard Skills"
         }
        },
        "yaxis": {
         "anchor": "x",
         "domain": [
          0.0,
          1.0
         ],
         "title": {
          "text": "Nº of Requests"
         }
        }
       }
      },
      "text/html": [
       "<div>\n",
       "        \n",
       "        \n",
       "            <div id=\"385d3d5f-ebaa-432a-a0cd-0e83304aa36b\" class=\"plotly-graph-div\" style=\"height:525px; width:100%;\"></div>\n",
       "            <script type=\"text/javascript\">\n",
       "                require([\"plotly\"], function(Plotly) {\n",
       "                    window.PLOTLYENV=window.PLOTLYENV || {};\n",
       "                    \n",
       "                if (document.getElementById(\"385d3d5f-ebaa-432a-a0cd-0e83304aa36b\")) {\n",
       "                    Plotly.newPlot(\n",
       "                        '385d3d5f-ebaa-432a-a0cd-0e83304aa36b',\n",
       "                        [{\"alignmentgroup\": \"True\", \"hovertemplate\": \"Hard Skills=%{x}<br>N\\u00ba of Requests=%{y}<br>Relative Frecuency=%{marker.color}<extra></extra>\", \"legendgroup\": \"\", \"marker\": {\"color\": [20.13, 19.62, 9.23, 8.99, 6.86, 5.43, 4.9, 2.96, 2.86, 2.61, 2.23, 1.99, 1.97, 1.91, 1.57, 1.29], \"coloraxis\": \"coloraxis\"}, \"name\": \"\", \"offsetgroup\": \"\", \"orientation\": \"v\", \"showlegend\": false, \"textposition\": \"auto\", \"type\": \"bar\", \"x\": [\"SQL\", \"Excel\", \"Python\", \"Tableau\", \"Dashboard\", \"R\", \"SAS\", \"Java\", \"Scala\", \"PowerBI\", \"SPSS\", \"Big Data\", \"Hadoop\", \"AWS\", \"Looker\", \"Spark\"], \"xaxis\": \"x\", \"y\": [1389, 1354, 637, 620, 473, 375, 338, 204, 197, 180, 154, 137, 136, 132, 108, 89], \"yaxis\": \"y\"}],\n",
       "                        {\"barmode\": \"relative\", \"coloraxis\": {\"colorbar\": {\"title\": {\"text\": \"Relative Frecuency\"}}, \"colorscale\": [[0.0, \"#0d0887\"], [0.1111111111111111, \"#46039f\"], [0.2222222222222222, \"#7201a8\"], [0.3333333333333333, \"#9c179e\"], [0.4444444444444444, \"#bd3786\"], [0.5555555555555556, \"#d8576b\"], [0.6666666666666666, \"#ed7953\"], [0.7777777777777778, \"#fb9f3a\"], [0.8888888888888888, \"#fdca26\"], [1.0, \"#f0f921\"]]}, \"legend\": {\"tracegroupgap\": 0}, \"margin\": {\"t\": 60}, \"template\": {\"data\": {\"bar\": [{\"error_x\": {\"color\": \"#2a3f5f\"}, \"error_y\": {\"color\": \"#2a3f5f\"}, \"marker\": {\"line\": {\"color\": \"#E5ECF6\", \"width\": 0.5}}, \"type\": \"bar\"}], \"barpolar\": [{\"marker\": {\"line\": {\"color\": \"#E5ECF6\", \"width\": 0.5}}, \"type\": \"barpolar\"}], \"carpet\": [{\"aaxis\": {\"endlinecolor\": \"#2a3f5f\", \"gridcolor\": \"white\", \"linecolor\": \"white\", \"minorgridcolor\": \"white\", \"startlinecolor\": \"#2a3f5f\"}, \"baxis\": {\"endlinecolor\": \"#2a3f5f\", \"gridcolor\": \"white\", \"linecolor\": \"white\", \"minorgridcolor\": \"white\", \"startlinecolor\": \"#2a3f5f\"}, \"type\": \"carpet\"}], \"choropleth\": [{\"colorbar\": {\"outlinewidth\": 0, \"ticks\": \"\"}, \"type\": \"choropleth\"}], \"contour\": [{\"colorbar\": {\"outlinewidth\": 0, \"ticks\": \"\"}, \"colorscale\": [[0.0, \"#0d0887\"], [0.1111111111111111, \"#46039f\"], [0.2222222222222222, \"#7201a8\"], [0.3333333333333333, \"#9c179e\"], [0.4444444444444444, \"#bd3786\"], [0.5555555555555556, \"#d8576b\"], [0.6666666666666666, \"#ed7953\"], [0.7777777777777778, \"#fb9f3a\"], [0.8888888888888888, \"#fdca26\"], [1.0, \"#f0f921\"]], \"type\": \"contour\"}], \"contourcarpet\": [{\"colorbar\": {\"outlinewidth\": 0, \"ticks\": \"\"}, \"type\": \"contourcarpet\"}], \"heatmap\": [{\"colorbar\": {\"outlinewidth\": 0, \"ticks\": \"\"}, \"colorscale\": [[0.0, \"#0d0887\"], [0.1111111111111111, \"#46039f\"], [0.2222222222222222, \"#7201a8\"], [0.3333333333333333, \"#9c179e\"], [0.4444444444444444, \"#bd3786\"], [0.5555555555555556, \"#d8576b\"], [0.6666666666666666, \"#ed7953\"], [0.7777777777777778, \"#fb9f3a\"], [0.8888888888888888, \"#fdca26\"], [1.0, \"#f0f921\"]], \"type\": \"heatmap\"}], \"heatmapgl\": [{\"colorbar\": {\"outlinewidth\": 0, \"ticks\": \"\"}, \"colorscale\": [[0.0, \"#0d0887\"], [0.1111111111111111, \"#46039f\"], [0.2222222222222222, \"#7201a8\"], [0.3333333333333333, \"#9c179e\"], [0.4444444444444444, \"#bd3786\"], [0.5555555555555556, \"#d8576b\"], [0.6666666666666666, \"#ed7953\"], [0.7777777777777778, \"#fb9f3a\"], [0.8888888888888888, \"#fdca26\"], [1.0, \"#f0f921\"]], \"type\": \"heatmapgl\"}], \"histogram\": [{\"marker\": {\"colorbar\": {\"outlinewidth\": 0, \"ticks\": \"\"}}, \"type\": \"histogram\"}], \"histogram2d\": [{\"colorbar\": {\"outlinewidth\": 0, \"ticks\": \"\"}, \"colorscale\": [[0.0, \"#0d0887\"], [0.1111111111111111, \"#46039f\"], [0.2222222222222222, \"#7201a8\"], [0.3333333333333333, \"#9c179e\"], [0.4444444444444444, \"#bd3786\"], [0.5555555555555556, \"#d8576b\"], [0.6666666666666666, \"#ed7953\"], [0.7777777777777778, \"#fb9f3a\"], [0.8888888888888888, \"#fdca26\"], [1.0, \"#f0f921\"]], \"type\": \"histogram2d\"}], \"histogram2dcontour\": [{\"colorbar\": {\"outlinewidth\": 0, \"ticks\": \"\"}, \"colorscale\": [[0.0, \"#0d0887\"], [0.1111111111111111, \"#46039f\"], [0.2222222222222222, \"#7201a8\"], [0.3333333333333333, \"#9c179e\"], [0.4444444444444444, \"#bd3786\"], [0.5555555555555556, \"#d8576b\"], [0.6666666666666666, \"#ed7953\"], [0.7777777777777778, \"#fb9f3a\"], [0.8888888888888888, \"#fdca26\"], [1.0, \"#f0f921\"]], \"type\": \"histogram2dcontour\"}], \"mesh3d\": [{\"colorbar\": {\"outlinewidth\": 0, \"ticks\": \"\"}, \"type\": \"mesh3d\"}], \"parcoords\": [{\"line\": {\"colorbar\": {\"outlinewidth\": 0, \"ticks\": \"\"}}, \"type\": \"parcoords\"}], \"pie\": [{\"automargin\": true, \"type\": \"pie\"}], \"scatter\": [{\"marker\": {\"colorbar\": {\"outlinewidth\": 0, \"ticks\": \"\"}}, \"type\": \"scatter\"}], \"scatter3d\": [{\"line\": {\"colorbar\": {\"outlinewidth\": 0, \"ticks\": \"\"}}, \"marker\": {\"colorbar\": {\"outlinewidth\": 0, \"ticks\": \"\"}}, \"type\": \"scatter3d\"}], \"scattercarpet\": [{\"marker\": {\"colorbar\": {\"outlinewidth\": 0, \"ticks\": \"\"}}, \"type\": \"scattercarpet\"}], \"scattergeo\": [{\"marker\": {\"colorbar\": {\"outlinewidth\": 0, \"ticks\": \"\"}}, \"type\": \"scattergeo\"}], \"scattergl\": [{\"marker\": {\"colorbar\": {\"outlinewidth\": 0, \"ticks\": \"\"}}, \"type\": \"scattergl\"}], \"scattermapbox\": [{\"marker\": {\"colorbar\": {\"outlinewidth\": 0, \"ticks\": \"\"}}, \"type\": \"scattermapbox\"}], \"scatterpolar\": [{\"marker\": {\"colorbar\": {\"outlinewidth\": 0, \"ticks\": \"\"}}, \"type\": \"scatterpolar\"}], \"scatterpolargl\": [{\"marker\": {\"colorbar\": {\"outlinewidth\": 0, \"ticks\": \"\"}}, \"type\": \"scatterpolargl\"}], \"scatterternary\": [{\"marker\": {\"colorbar\": {\"outlinewidth\": 0, \"ticks\": \"\"}}, \"type\": \"scatterternary\"}], \"surface\": [{\"colorbar\": {\"outlinewidth\": 0, \"ticks\": \"\"}, \"colorscale\": [[0.0, \"#0d0887\"], [0.1111111111111111, \"#46039f\"], [0.2222222222222222, \"#7201a8\"], [0.3333333333333333, \"#9c179e\"], [0.4444444444444444, \"#bd3786\"], [0.5555555555555556, \"#d8576b\"], [0.6666666666666666, \"#ed7953\"], [0.7777777777777778, \"#fb9f3a\"], [0.8888888888888888, \"#fdca26\"], [1.0, \"#f0f921\"]], \"type\": \"surface\"}], \"table\": [{\"cells\": {\"fill\": {\"color\": \"#EBF0F8\"}, \"line\": {\"color\": \"white\"}}, \"header\": {\"fill\": {\"color\": \"#C8D4E3\"}, \"line\": {\"color\": \"white\"}}, \"type\": \"table\"}]}, \"layout\": {\"annotationdefaults\": {\"arrowcolor\": \"#2a3f5f\", \"arrowhead\": 0, \"arrowwidth\": 1}, \"coloraxis\": {\"colorbar\": {\"outlinewidth\": 0, \"ticks\": \"\"}}, \"colorscale\": {\"diverging\": [[0, \"#8e0152\"], [0.1, \"#c51b7d\"], [0.2, \"#de77ae\"], [0.3, \"#f1b6da\"], [0.4, \"#fde0ef\"], [0.5, \"#f7f7f7\"], [0.6, \"#e6f5d0\"], [0.7, \"#b8e186\"], [0.8, \"#7fbc41\"], [0.9, \"#4d9221\"], [1, \"#276419\"]], \"sequential\": [[0.0, \"#0d0887\"], [0.1111111111111111, \"#46039f\"], [0.2222222222222222, \"#7201a8\"], [0.3333333333333333, \"#9c179e\"], [0.4444444444444444, \"#bd3786\"], [0.5555555555555556, \"#d8576b\"], [0.6666666666666666, \"#ed7953\"], [0.7777777777777778, \"#fb9f3a\"], [0.8888888888888888, \"#fdca26\"], [1.0, \"#f0f921\"]], \"sequentialminus\": [[0.0, \"#0d0887\"], [0.1111111111111111, \"#46039f\"], [0.2222222222222222, \"#7201a8\"], [0.3333333333333333, \"#9c179e\"], [0.4444444444444444, \"#bd3786\"], [0.5555555555555556, \"#d8576b\"], [0.6666666666666666, \"#ed7953\"], [0.7777777777777778, \"#fb9f3a\"], [0.8888888888888888, \"#fdca26\"], [1.0, \"#f0f921\"]]}, \"colorway\": [\"#636efa\", \"#EF553B\", \"#00cc96\", \"#ab63fa\", \"#FFA15A\", \"#19d3f3\", \"#FF6692\", \"#B6E880\", \"#FF97FF\", \"#FECB52\"], \"font\": {\"color\": \"#2a3f5f\"}, \"geo\": {\"bgcolor\": \"white\", \"lakecolor\": \"white\", \"landcolor\": \"#E5ECF6\", \"showlakes\": true, \"showland\": true, \"subunitcolor\": \"white\"}, \"hoverlabel\": {\"align\": \"left\"}, \"hovermode\": \"closest\", \"mapbox\": {\"style\": \"light\"}, \"paper_bgcolor\": \"white\", \"plot_bgcolor\": \"#E5ECF6\", \"polar\": {\"angularaxis\": {\"gridcolor\": \"white\", \"linecolor\": \"white\", \"ticks\": \"\"}, \"bgcolor\": \"#E5ECF6\", \"radialaxis\": {\"gridcolor\": \"white\", \"linecolor\": \"white\", \"ticks\": \"\"}}, \"scene\": {\"xaxis\": {\"backgroundcolor\": \"#E5ECF6\", \"gridcolor\": \"white\", \"gridwidth\": 2, \"linecolor\": \"white\", \"showbackground\": true, \"ticks\": \"\", \"zerolinecolor\": \"white\"}, \"yaxis\": {\"backgroundcolor\": \"#E5ECF6\", \"gridcolor\": \"white\", \"gridwidth\": 2, \"linecolor\": \"white\", \"showbackground\": true, \"ticks\": \"\", \"zerolinecolor\": \"white\"}, \"zaxis\": {\"backgroundcolor\": \"#E5ECF6\", \"gridcolor\": \"white\", \"gridwidth\": 2, \"linecolor\": \"white\", \"showbackground\": true, \"ticks\": \"\", \"zerolinecolor\": \"white\"}}, \"shapedefaults\": {\"line\": {\"color\": \"#2a3f5f\"}}, \"ternary\": {\"aaxis\": {\"gridcolor\": \"white\", \"linecolor\": \"white\", \"ticks\": \"\"}, \"baxis\": {\"gridcolor\": \"white\", \"linecolor\": \"white\", \"ticks\": \"\"}, \"bgcolor\": \"#E5ECF6\", \"caxis\": {\"gridcolor\": \"white\", \"linecolor\": \"white\", \"ticks\": \"\"}}, \"title\": {\"x\": 0.05}, \"xaxis\": {\"automargin\": true, \"gridcolor\": \"white\", \"linecolor\": \"white\", \"ticks\": \"\", \"title\": {\"standoff\": 15}, \"zerolinecolor\": \"white\", \"zerolinewidth\": 2}, \"yaxis\": {\"automargin\": true, \"gridcolor\": \"white\", \"linecolor\": \"white\", \"ticks\": \"\", \"title\": {\"standoff\": 15}, \"zerolinecolor\": \"white\", \"zerolinewidth\": 2}}}, \"xaxis\": {\"anchor\": \"y\", \"domain\": [0.0, 1.0], \"title\": {\"text\": \"Hard Skills\"}}, \"yaxis\": {\"anchor\": \"x\", \"domain\": [0.0, 1.0], \"title\": {\"text\": \"N\\u00ba of Requests\"}}},\n",
       "                        {\"responsive\": true}\n",
       "                    ).then(function(){\n",
       "                            \n",
       "var gd = document.getElementById('385d3d5f-ebaa-432a-a0cd-0e83304aa36b');\n",
       "var x = new MutationObserver(function (mutations, observer) {{\n",
       "        var display = window.getComputedStyle(gd).display;\n",
       "        if (!display || display === 'none') {{\n",
       "            console.log([gd, 'removed!']);\n",
       "            Plotly.purge(gd);\n",
       "            observer.disconnect();\n",
       "        }}\n",
       "}});\n",
       "\n",
       "// Listen for the removal of the full notebook cells\n",
       "var notebookContainer = gd.closest('#notebook-container');\n",
       "if (notebookContainer) {{\n",
       "    x.observe(notebookContainer, {childList: true});\n",
       "}}\n",
       "\n",
       "// Listen for the clearing of the current output cell\n",
       "var outputEl = gd.closest('.output');\n",
       "if (outputEl) {{\n",
       "    x.observe(outputEl, {childList: true});\n",
       "}}\n",
       "\n",
       "                        })\n",
       "                };\n",
       "                });\n",
       "            </script>\n",
       "        </div>"
      ]
     },
     "metadata": {},
     "output_type": "display_data"
    }
   ],
   "source": [
    "# Plot visualization the tops hards skills.\n",
    "chart_skills = px.bar(df_skills, x = 'Skills', y = 'Count',\n",
    "                     color = 'Relative Frecuency',\n",
    "                     labels = {'Skills': 'Hard Skills','Count': 'Nº of Requests'})\n",
    "chart_skills.show()"
   ]
  },
  {
   "cell_type": "markdown",
   "metadata": {
    "papermill": {
     "duration": 0.097114,
     "end_time": "2020-10-18T23:26:05.923228",
     "exception": false,
     "start_time": "2020-10-18T23:26:05.826114",
     "status": "completed"
    },
    "tags": []
   },
   "source": [
    "# Cluster Analysis (K-Means) and PCA"
   ]
  },
  {
   "cell_type": "code",
   "execution_count": 31,
   "metadata": {
    "execution": {
     "iopub.execute_input": "2020-10-18T23:26:06.113608Z",
     "iopub.status.busy": "2020-10-18T23:26:06.112869Z",
     "iopub.status.idle": "2020-10-18T23:26:06.461628Z",
     "shell.execute_reply": "2020-10-18T23:26:06.462531Z"
    },
    "papermill": {
     "duration": 0.445195,
     "end_time": "2020-10-18T23:26:06.462768",
     "exception": false,
     "start_time": "2020-10-18T23:26:06.017573",
     "status": "completed"
    },
    "tags": []
   },
   "outputs": [],
   "source": [
    "# A cluster study is performed in a data frame for the data in order to find similarities\n",
    "# In addition, this is supported with PCA study\n",
    "# Import Library\n",
    "from sklearn.decomposition import PCA # For PCA dimensionality reduction\n",
    "from sklearn.cluster import KMeans    # Method for Cluster Kmeans\n",
    "from sklearn.preprocessing import QuantileTransformer #Realize Scaler Data\n",
    "# For visualization from 3D plot\n",
    "import plotly.express as px"
   ]
  },
  {
   "cell_type": "code",
   "execution_count": 32,
   "metadata": {
    "execution": {
     "iopub.execute_input": "2020-10-18T23:26:06.738167Z",
     "iopub.status.busy": "2020-10-18T23:26:06.737313Z",
     "iopub.status.idle": "2020-10-18T23:26:06.766007Z",
     "shell.execute_reply": "2020-10-18T23:26:06.767702Z"
    },
    "papermill": {
     "duration": 0.17164,
     "end_time": "2020-10-18T23:26:06.767904",
     "exception": false,
     "start_time": "2020-10-18T23:26:06.596264",
     "status": "completed"
    },
    "tags": []
   },
   "outputs": [
    {
     "data": {
      "text/html": [
       "<div>\n",
       "<style scoped>\n",
       "    .dataframe tbody tr th:only-of-type {\n",
       "        vertical-align: middle;\n",
       "    }\n",
       "\n",
       "    .dataframe tbody tr th {\n",
       "        vertical-align: top;\n",
       "    }\n",
       "\n",
       "    .dataframe thead th {\n",
       "        text-align: right;\n",
       "    }\n",
       "</style>\n",
       "<table border=\"1\" class=\"dataframe\">\n",
       "  <thead>\n",
       "    <tr style=\"text-align: right;\">\n",
       "      <th></th>\n",
       "      <th>Rating</th>\n",
       "      <th>Mean Salary</th>\n",
       "      <th>Years Founded</th>\n",
       "    </tr>\n",
       "  </thead>\n",
       "  <tbody>\n",
       "    <tr>\n",
       "      <th>0</th>\n",
       "      <td>3.2</td>\n",
       "      <td>51.5</td>\n",
       "      <td>59</td>\n",
       "    </tr>\n",
       "    <tr>\n",
       "      <th>1</th>\n",
       "      <td>3.8</td>\n",
       "      <td>51.5</td>\n",
       "      <td>127</td>\n",
       "    </tr>\n",
       "    <tr>\n",
       "      <th>2</th>\n",
       "      <td>3.4</td>\n",
       "      <td>51.5</td>\n",
       "      <td>17</td>\n",
       "    </tr>\n",
       "    <tr>\n",
       "      <th>3</th>\n",
       "      <td>4.1</td>\n",
       "      <td>51.5</td>\n",
       "      <td>18</td>\n",
       "    </tr>\n",
       "    <tr>\n",
       "      <th>4</th>\n",
       "      <td>3.9</td>\n",
       "      <td>51.5</td>\n",
       "      <td>11</td>\n",
       "    </tr>\n",
       "  </tbody>\n",
       "</table>\n",
       "</div>"
      ],
      "text/plain": [
       "   Rating  Mean Salary  Years Founded\n",
       "0     3.2         51.5             59\n",
       "1     3.8         51.5            127\n",
       "2     3.4         51.5             17\n",
       "3     4.1         51.5             18\n",
       "4     3.9         51.5             11"
      ]
     },
     "execution_count": 32,
     "metadata": {},
     "output_type": "execute_result"
    }
   ],
   "source": [
    "# Create Data Frame with \"Mean Salary, Founded Years and Rating\" for cluster method and PCA\n",
    "df2 = df1.copy()\n",
    "df2 = df2.drop(df2[df2['Founded'] == -1].index, axis = 0)\n",
    "df2 = df2.drop(df2[df2['Rating'] == -1.0].index, axis = 0)\n",
    "df2['Years Founded'] = (2020 - df2['Founded'])\n",
    "df2['Mean Salary'] = (df2['Max Salary'] + df2['Min Salary']) / 2\n",
    "\n",
    "# Create DataFrame\n",
    "df3 = pd.DataFrame()\n",
    "df3 = pd.concat([df2['Rating'], df2['Mean Salary'], df2['Years Founded']], axis = 1)\n",
    "df3.head()"
   ]
  },
  {
   "cell_type": "code",
   "execution_count": 33,
   "metadata": {
    "execution": {
     "iopub.execute_input": "2020-10-18T23:26:07.111040Z",
     "iopub.status.busy": "2020-10-18T23:26:07.110152Z",
     "iopub.status.idle": "2020-10-18T23:26:07.130594Z",
     "shell.execute_reply": "2020-10-18T23:26:07.132172Z"
    },
    "papermill": {
     "duration": 0.220142,
     "end_time": "2020-10-18T23:26:07.132430",
     "exception": false,
     "start_time": "2020-10-18T23:26:06.912288",
     "status": "completed"
    },
    "tags": []
   },
   "outputs": [
    {
     "name": "stdout",
     "output_type": "stream",
     "text": [
      "[[0.16766767 0.16616617 0.8023023 ]\n",
      " [0.55005005 0.16616617 0.92495974]\n",
      " [0.26576577 0.16616617 0.31381381]\n",
      " ...\n",
      " [0.07157157 0.81031031 0.87287287]\n",
      " [0.10810811 0.81031031 0.66266266]\n",
      " [0.26576577 0.81031031 0.95695696]]\n"
     ]
    }
   ],
   "source": [
    "# Rescale values with QuantileTransformer class\n",
    "df3_scaler = QuantileTransformer().fit_transform(df3)\n",
    "print(df3_scaler)"
   ]
  },
  {
   "cell_type": "code",
   "execution_count": 34,
   "metadata": {
    "execution": {
     "iopub.execute_input": "2020-10-18T23:26:07.402203Z",
     "iopub.status.busy": "2020-10-18T23:26:07.401179Z",
     "iopub.status.idle": "2020-10-18T23:26:07.455208Z",
     "shell.execute_reply": "2020-10-18T23:26:07.456312Z"
    },
    "papermill": {
     "duration": 0.181192,
     "end_time": "2020-10-18T23:26:07.456471",
     "exception": false,
     "start_time": "2020-10-18T23:26:07.275279",
     "status": "completed"
    },
    "tags": []
   },
   "outputs": [
    {
     "name": "stdout",
     "output_type": "stream",
     "text": [
      "(1573, 2) (1573, 3)\n"
     ]
    }
   ],
   "source": [
    "# PCA calculation is performed with a reduction of dimensionality equal to 2\n",
    "pca = PCA(n_components = 2)\n",
    "df_component = pca.fit_transform(df3_scaler)\n",
    "print(df_component.shape, df3_scaler.shape)"
   ]
  },
  {
   "cell_type": "code",
   "execution_count": 35,
   "metadata": {
    "execution": {
     "iopub.execute_input": "2020-10-18T23:26:07.715948Z",
     "iopub.status.busy": "2020-10-18T23:26:07.715058Z",
     "iopub.status.idle": "2020-10-18T23:26:08.899669Z",
     "shell.execute_reply": "2020-10-18T23:26:08.900733Z"
    },
    "papermill": {
     "duration": 1.305857,
     "end_time": "2020-10-18T23:26:08.900899",
     "exception": false,
     "start_time": "2020-10-18T23:26:07.595042",
     "status": "completed"
    },
    "tags": []
   },
   "outputs": [],
   "source": [
    "# The clusters numbers is determined to minimize inertian infracluster through elbow method\n",
    "wcss = []\n",
    "for i in range(1, 11):\n",
    "    kmeans = KMeans(n_clusters = i, init = 'k-means++', n_init = 10, \n",
    "                   max_iter = 300, random_state = 0)\n",
    "    kmeans.fit(df3_scaler)\n",
    "    wcss.append(kmeans.inertia_)"
   ]
  },
  {
   "cell_type": "code",
   "execution_count": 36,
   "metadata": {
    "execution": {
     "iopub.execute_input": "2020-10-18T23:26:09.164325Z",
     "iopub.status.busy": "2020-10-18T23:26:09.160260Z",
     "iopub.status.idle": "2020-10-18T23:26:09.437464Z",
     "shell.execute_reply": "2020-10-18T23:26:09.438008Z"
    },
    "papermill": {
     "duration": 0.408677,
     "end_time": "2020-10-18T23:26:09.438155",
     "exception": false,
     "start_time": "2020-10-18T23:26:09.029478",
     "status": "completed"
    },
    "tags": []
   },
   "outputs": [
    {
     "data": {
      "text/plain": [
       "Text(0.5, 1.0, 'Elbow Method')"
      ]
     },
     "execution_count": 36,
     "metadata": {},
     "output_type": "execute_result"
    },
    {
     "data": {
      "image/png": "[encoded data removed]",
      "text/plain": [
       "<Figure size 576x504 with 1 Axes>"
      ]
     },
     "metadata": {},
     "output_type": "display_data"
    }
   ],
   "source": [
    "#Plot curve inertian infracluster\n",
    "fig = plt.figure(figsize = (8,7))\n",
    "plt.plot(range(1,11), wcss)\n",
    "plt.scatter(4, wcss[3], c = 'red',s = 200)\n",
    "plt.text(4 + 0.4, wcss[3], s = '4 - Clusters', fontsize = 14)\n",
    "plt.xlabel('Nº Clusters', fontsize = 14)\n",
    "plt.ylabel('Inertian Infraclusters', fontsize = 14)\n",
    "plt.title('Elbow Method', fontsize = 14)"
   ]
  },
  {
   "cell_type": "code",
   "execution_count": 37,
   "metadata": {
    "execution": {
     "iopub.execute_input": "2020-10-18T23:26:09.645301Z",
     "iopub.status.busy": "2020-10-18T23:26:09.644364Z",
     "iopub.status.idle": "2020-10-18T23:26:09.744900Z",
     "shell.execute_reply": "2020-10-18T23:26:09.745603Z"
    },
    "papermill": {
     "duration": 0.206805,
     "end_time": "2020-10-18T23:26:09.745757",
     "exception": false,
     "start_time": "2020-10-18T23:26:09.538952",
     "status": "completed"
    },
    "tags": []
   },
   "outputs": [
    {
     "name": "stdout",
     "output_type": "stream",
     "text": [
      "[3 3 1 ... 0 0 0]\n"
     ]
    }
   ],
   "source": [
    "# 4 clusters are selected, at that elbow point an optimized cluster can be achieved.\n",
    "kmeans = KMeans(n_clusters = 4, init = 'k-means++', n_init = 10, \n",
    "                max_iter = 300, random_state = 0)\n",
    "kmeans.fit(df3_scaler)\n",
    "y_predict = kmeans.predict(df3_scaler)\n",
    "print(y_predict)"
   ]
  },
  {
   "cell_type": "code",
   "execution_count": 38,
   "metadata": {
    "execution": {
     "iopub.execute_input": "2020-10-18T23:26:09.989826Z",
     "iopub.status.busy": "2020-10-18T23:26:09.988858Z",
     "iopub.status.idle": "2020-10-18T23:26:10.144859Z",
     "shell.execute_reply": "2020-10-18T23:26:10.145399Z"
    },
    "papermill": {
     "duration": 0.277099,
     "end_time": "2020-10-18T23:26:10.145526",
     "exception": false,
     "start_time": "2020-10-18T23:26:09.868427",
     "status": "completed"
    },
    "tags": []
   },
   "outputs": [
    {
     "data": {
      "application/vnd.plotly.v1+json": {
       "config": {
        "plotlyServerURL": "https://plot.ly"
       },
       "data": [
        {
         "hovertemplate": "color=Cluster-4<br>Rating=%{x}<br>Mean Salary=%{y}<br>Years Founded=%{z}<extra></extra>",
         "legendgroup": "Cluster-4",
         "marker": {
          "color": "crimson",
          "opacity": 0.9,
          "symbol": "circle"
         },
         "mode": "markers",
         "name": "Cluster-4",
         "scene": "scene",
         "showlegend": true,
         "type": "scatter3d",
         "x": [
          3.2,
          3.8,
          3.7,
          4.0,
          4.0,
          3.7,
          3.0,
          3.8,
          3.9,
          3.3,
          3.7,
          4.0,
          2.9,
          4.0,
          3.8,
          3.7,
          3.6,
          4.0,
          3.2,
          3.8,
          4.1,
          3.7,
          3.7,
          4.1,
          3.6,
          3.8,
          3.9,
          3.7,
          3.5,
          3.8,
          3.4,
          3.5,
          3.7,
          3.6,
          3.9,
          4.0,
          3.3,
          3.8,
          3.3,
          3.3,
          3.4,
          2.5,
          3.6,
          3.6,
          3.8,
          3.6,
          3.8,
          3.3,
          3.5,
          3.7,
          4.0,
          3.4,
          3.6,
          3.4,
          4.2,
          2.7,
          3.1,
          4.1,
          3.0,
          2.7,
          3.1,
          3.9,
          3.8,
          3.3,
          3.1,
          3.6,
          3.9,
          4.0,
          3.1,
          3.2,
          3.3,
          3.6,
          3.6,
          3.7,
          4.1,
          3.3,
          3.4,
          3.1,
          3.7,
          3.9,
          4.1,
          3.3,
          3.0,
          3.4,
          3.2,
          2.7,
          3.5,
          3.9,
          4.1,
          3.1,
          3.1,
          3.5,
          3.9,
          2.4,
          3.6,
          3.2,
          3.6,
          3.0,
          3.8,
          3.2,
          3.2,
          3.9,
          4.2,
          3.6,
          4.0,
          3.6,
          2.9,
          3.4,
          3.8,
          2.7,
          3.3,
          2.9,
          3.5,
          3.3,
          2.5,
          2.7,
          2.7,
          3.1,
          3.8,
          1.0,
          3.5,
          3.2,
          3.5,
          3.2,
          4.3,
          3.1,
          3.3,
          3.3,
          4.1,
          3.1,
          3.9,
          3.5,
          4.2,
          3.1,
          3.9,
          3.9,
          3.9,
          3.9,
          3.5,
          3.1,
          4.0,
          3.8,
          3.8,
          3.6,
          3.6,
          3.4,
          4.1,
          3.1,
          3.7,
          3.6,
          2.7,
          3.4,
          3.1,
          3.6,
          3.3,
          3.6,
          3.8,
          4.1,
          3.6,
          3.4,
          3.1,
          3.1,
          3.9,
          4.0,
          4.1,
          3.9,
          3.4,
          3.4,
          3.3,
          4.0,
          4.1,
          3.3,
          3.2,
          3.3,
          3.1,
          3.5,
          3.3,
          3.8,
          3.7,
          3.2,
          3.6,
          4.1,
          3.3,
          2.8,
          3.6,
          3.5,
          2.9,
          4.1,
          3.7,
          3.5,
          3.3,
          4.1,
          2.8,
          3.6,
          2.7,
          3.4,
          3.1,
          3.2,
          4.0,
          3.6,
          2.5,
          3.6,
          3.8,
          3.5,
          3.0,
          3.5,
          3.6,
          3.4,
          3.6,
          3.7,
          3.3,
          3.6,
          4.0,
          4.3,
          3.1,
          3.5,
          3.4,
          3.7,
          3.7,
          4.1,
          3.8,
          2.9,
          3.1,
          3.1,
          2.8,
          2.9,
          3.6,
          3.6,
          3.7,
          3.5,
          3.8,
          4.3,
          3.8,
          3.5,
          3.2,
          2.4,
          4.3,
          3.1,
          3.9,
          2.4,
          4.3,
          2.7,
          3.5,
          3.2,
          2.7,
          3.8,
          4.3,
          3.7,
          4.3,
          3.4,
          2.4,
          3.8,
          3.2,
          3.9,
          3.7,
          3.5,
          3.5,
          2.7,
          4.1,
          3.6,
          3.2,
          4.0,
          4.1,
          3.4,
          3.1,
          3.9,
          3.4,
          4.3,
          2.8,
          3.5,
          3.3,
          4.1,
          2.9,
          4.0,
          3.5,
          4.3,
          3.5,
          4.3,
          3.3,
          3.1,
          3.3,
          4.0,
          3.7,
          3.7,
          4.0,
          3.4,
          3.3,
          4.1,
          3.5,
          3.4,
          2.8,
          2.9,
          4.0,
          3.8,
          3.3,
          4.1,
          3.3,
          3.4,
          4.1,
          3.6,
          2.9,
          3.5,
          3.6,
          3.8,
          3.7,
          2.6,
          4.0,
          3.5,
          3.8,
          2.8,
          3.9,
          4.1,
          3.4,
          3.7,
          3.4,
          3.1,
          3.4,
          2.9,
          2.5,
          4.2,
          3.7,
          3.5,
          2.5,
          3.3,
          3.9,
          3.3,
          3.5,
          4.1,
          4.1,
          3.7,
          4.2,
          3.1,
          3.4,
          3.2,
          3.6,
          3.8,
          4.1,
          2.9,
          3.9,
          4.0,
          3.5,
          2.8,
          2.6,
          2.8,
          2.8,
          3.9,
          2.8,
          3.4,
          3.5,
          2.7,
          3.3,
          3.8,
          3.5,
          3.8,
          3.8,
          3.7,
          3.1,
          3.7,
          2.8,
          3.3,
          3.3,
          2.8,
          3.3,
          2.8,
          3.5,
          3.0,
          3.5,
          3.5,
          3.7,
          3.5,
          3.5,
          3.9,
          3.5,
          2.9,
          3.3,
          3.8,
          3.9,
          3.8,
          3.9,
          3.7,
          2.9,
          3.5,
          3.9,
          3.8,
          3.6,
          3.7,
          3.7,
          3.6,
          3.7,
          3.9,
          3.6,
          3.9,
          3.8,
          4.1,
          3.9,
          3.9,
          3.4,
          3.7,
          3.5,
          4.1,
          3.9,
          3.9,
          2.8,
          3.4,
          3.8,
          3.6,
          2.9,
          3.2,
          4.1,
          3.4,
          3.9,
          3.7,
          3.1,
          3.0,
          3.6,
          3.6,
          3.3,
          3.3,
          3.8,
          3.8,
          3.9,
          3.4,
          3.6,
          3.2,
          3.4,
          3.6,
          3.2,
          3.5,
          2.8,
          3.1,
          3.5,
          3.4,
          2.9,
          3.5,
          2.7,
          3.3,
          3.3,
          4.3,
          3.6,
          4.0,
          4.3,
          4.0,
          3.7,
          2.9,
          3.2,
          3.9,
          2.9,
          3.0,
          3.7,
          4.1,
          4.2,
          3.4,
          4.0,
          2.9,
          3.2,
          3.4,
          3.5,
          3.7,
          3.8,
          3.6,
          4.1,
          3.5,
          3.6,
          4.3
         ],
         "y": [
          51.5,
          51.5,
          51.5,
          51.5,
          51.5,
          51.5,
          51.5,
          51.5,
          51.5,
          51.5,
          66.5,
          66.5,
          66.5,
          66.5,
          66.5,
          66.5,
          66.5,
          66.5,
          66.5,
          66.5,
          69.5,
          69.5,
          69.5,
          69.5,
          69.0,
          69.0,
          69.0,
          69.0,
          69.0,
          69.0,
          69.0,
          72.0,
          72.0,
          72.0,
          72.0,
          59.5,
          59.5,
          59.5,
          59.5,
          59.5,
          59.5,
          59.5,
          59.5,
          59.5,
          59.5,
          59.5,
          59.5,
          59.5,
          59.5,
          59.5,
          59.5,
          59.5,
          59.5,
          59.5,
          59.5,
          59.5,
          59.5,
          59.5,
          59.5,
          59.5,
          59.5,
          59.5,
          66.5,
          66.5,
          66.5,
          66.5,
          66.5,
          66.5,
          39.5,
          39.5,
          39.5,
          39.5,
          39.5,
          39.5,
          39.5,
          39.5,
          39.5,
          39.5,
          39.5,
          39.5,
          39.5,
          39.5,
          39.5,
          39.5,
          39.5,
          58.0,
          58.0,
          58.0,
          58.0,
          58.0,
          58.0,
          58.0,
          58.0,
          58.0,
          58.0,
          58.0,
          58.0,
          58.0,
          72.0,
          72.0,
          72.0,
          72.0,
          36.5,
          36.5,
          36.5,
          36.5,
          36.5,
          36.5,
          36.5,
          36.5,
          36.5,
          45.0,
          64.0,
          64.0,
          56.0,
          56.0,
          56.0,
          56.0,
          56.0,
          56.0,
          56.0,
          56.0,
          56.0,
          56.0,
          42.0,
          42.0,
          42.0,
          42.0,
          53.5,
          53.5,
          53.5,
          53.5,
          53.5,
          53.5,
          53.5,
          53.5,
          53.5,
          53.5,
          53.5,
          53.5,
          40.0,
          40.0,
          40.0,
          40.0,
          40.0,
          40.0,
          40.0,
          40.0,
          40.0,
          40.0,
          40.0,
          40.0,
          40.0,
          54.0,
          54.0,
          54.0,
          54.0,
          54.0,
          54.0,
          54.0,
          54.0,
          54.0,
          73.0,
          73.0,
          73.0,
          63.0,
          63.0,
          63.0,
          63.0,
          63.0,
          63.0,
          63.0,
          63.0,
          63.0,
          63.0,
          63.0,
          63.0,
          63.0,
          63.0,
          63.0,
          59.0,
          59.0,
          59.0,
          59.0,
          59.0,
          59.0,
          59.0,
          59.0,
          59.0,
          59.0,
          59.0,
          33.5,
          33.5,
          33.5,
          33.5,
          33.5,
          33.5,
          33.5,
          33.5,
          33.5,
          33.5,
          33.5,
          61.5,
          61.5,
          61.5,
          61.5,
          61.5,
          61.5,
          61.5,
          61.5,
          61.5,
          61.5,
          73.5,
          74.0,
          68.5,
          68.5,
          68.5,
          68.5,
          68.5,
          68.5,
          61.5,
          61.5,
          61.5,
          61.5,
          61.5,
          61.5,
          59.5,
          59.5,
          59.5,
          59.5,
          59.5,
          59.5,
          59.5,
          59.5,
          53.0,
          53.0,
          53.0,
          53.0,
          53.0,
          53.0,
          53.0,
          53.0,
          53.0,
          53.0,
          53.0,
          53.0,
          40.5,
          40.5,
          40.5,
          40.5,
          40.5,
          40.5,
          40.5,
          40.5,
          40.5,
          40.5,
          40.5,
          40.5,
          40.5,
          40.5,
          71.5,
          71.5,
          71.5,
          52.5,
          52.5,
          52.5,
          52.5,
          52.5,
          52.5,
          52.5,
          52.5,
          52.5,
          52.5,
          52.5,
          52.5,
          47.5,
          47.5,
          36.0,
          36.0,
          36.0,
          36.0,
          36.0,
          36.0,
          36.0,
          36.0,
          36.0,
          36.0,
          36.0,
          36.0,
          36.0,
          36.0,
          36.0,
          36.0,
          36.0,
          41.5,
          41.5,
          41.5,
          41.5,
          41.5,
          41.5,
          41.5,
          41.5,
          41.5,
          41.5,
          41.5,
          41.5,
          41.5,
          41.5,
          41.5,
          41.5,
          63.5,
          63.5,
          63.5,
          63.5,
          63.5,
          63.5,
          63.5,
          63.5,
          63.5,
          63.0,
          63.0,
          63.0,
          63.0,
          63.0,
          63.0,
          63.0,
          63.0,
          68.0,
          68.0,
          68.0,
          68.0,
          68.0,
          68.0,
          61.0,
          61.0,
          61.0,
          61.0,
          61.0,
          72.0,
          75.5,
          59.0,
          59.0,
          59.0,
          59.0,
          59.0,
          59.0,
          59.0,
          59.0,
          59.0,
          38.5,
          38.5,
          38.5,
          38.5,
          38.5,
          38.5,
          38.5,
          38.5,
          38.5,
          38.5,
          38.5,
          38.5,
          38.5,
          38.5,
          60.0,
          60.0,
          56.0,
          56.0,
          56.0,
          56.0,
          56.0,
          56.0,
          56.0,
          56.0,
          56.0,
          68.0,
          68.0,
          68.0,
          68.0,
          51.0,
          40.0,
          40.0,
          40.0,
          40.0,
          40.0,
          40.0,
          40.0,
          40.0,
          40.0,
          66.0,
          66.0,
          68.0,
          68.0,
          68.0,
          68.0,
          68.0,
          68.0,
          68.0,
          68.0,
          68.0,
          68.0,
          68.0,
          68.0,
          64.5,
          64.5,
          64.5,
          64.5,
          64.5,
          64.5,
          64.5,
          64.5,
          64.5,
          76.0,
          57.0,
          57.0,
          57.0,
          57.0,
          57.0,
          57.0,
          66.0,
          60.5,
          60.5,
          60.5,
          60.5,
          60.5,
          60.5,
          60.5,
          47.5,
          47.5,
          47.5,
          47.5,
          47.5,
          47.5,
          47.5,
          47.5,
          47.5,
          51.0,
          51.0,
          51.0,
          51.0,
          51.0,
          51.0,
          51.0,
          51.0,
          51.0,
          51.0,
          51.0,
          51.0,
          51.0,
          51.0,
          78.0,
          44.0,
          51.5,
          62.0,
          62.0,
          62.0,
          62.0,
          62.0,
          62.0,
          62.0,
          70.0,
          70.0,
          70.0,
          70.0,
          70.0
         ],
         "z": [
          59,
          127,
          106,
          124,
          179,
          136,
          16,
          24,
          62,
          51,
          116,
          179,
          64,
          97,
          30,
          30,
          51,
          97,
          69,
          39,
          54,
          81,
          208,
          75,
          58,
          25,
          221,
          102,
          72,
          53,
          125,
          175,
          109,
          188,
          82,
          179,
          28,
          43,
          20,
          28,
          36,
          134,
          158,
          21,
          114,
          22,
          39,
          54,
          52,
          208,
          97,
          53,
          51,
          21,
          39,
          161,
          24,
          36,
          35,
          23,
          74,
          221,
          53,
          202,
          74,
          88,
          82,
          97,
          27,
          236,
          164,
          43,
          31,
          31,
          54,
          42,
          24,
          74,
          208,
          221,
          36,
          108,
          35,
          19,
          22,
          23,
          23,
          221,
          35,
          63,
          74,
          23,
          221,
          83,
          38,
          56,
          88,
          36,
          53,
          236,
          236,
          58,
          170,
          37,
          151,
          20,
          25,
          73,
          24,
          19,
          26,
          25,
          72,
          52,
          152,
          28,
          24,
          84,
          106,
          85,
          22,
          18,
          58,
          28,
          167,
          24,
          36,
          36,
          132,
          18,
          118,
          49,
          140,
          47,
          97,
          38,
          118,
          89,
          82,
          42,
          75,
          37,
          47,
          66,
          66,
          22,
          54,
          40,
          109,
          40,
          72,
          59,
          40,
          26,
          22,
          66,
          81,
          44,
          66,
          25,
          18,
          40,
          85,
          148,
          81,
          29,
          74,
          74,
          34,
          130,
          134,
          41,
          138,
          56,
          49,
          137,
          183,
          73,
          203,
          138,
          192,
          54,
          114,
          19,
          22,
          137,
          59,
          38,
          131,
          137,
          122,
          36,
          15,
          26,
          13,
          54,
          58,
          236,
          65,
          71,
          54,
          52,
          53,
          21,
          50,
          72,
          40,
          54,
          198,
          35,
          36,
          71,
          60,
          135,
          156,
          50,
          131,
          66,
          106,
          54,
          24,
          69,
          81,
          156,
          28,
          57,
          52,
          26,
          54,
          50,
          25,
          280,
          31,
          72,
          15,
          33,
          280,
          37,
          221,
          116,
          280,
          13,
          27,
          45,
          22,
          28,
          280,
          165,
          280,
          19,
          33,
          25,
          45,
          165,
          104,
          28,
          63,
          22,
          54,
          26,
          236,
          46,
          54,
          29,
          24,
          34,
          35,
          115,
          19,
          29,
          25,
          54,
          55,
          59,
          24,
          60,
          34,
          44,
          26,
          47,
          21,
          151,
          63,
          106,
          151,
          101,
          26,
          155,
          50,
          21,
          22,
          22,
          99,
          53,
          153,
          54,
          153,
          131,
          107,
          49,
          87,
          23,
          106,
          114,
          208,
          54,
          151,
          33,
          25,
          22,
          57,
          36,
          53,
          208,
          73,
          146,
          24,
          87,
          53,
          53,
          24,
          29,
          53,
          74,
          221,
          29,
          58,
          54,
          54,
          208,
          53,
          82,
          73,
          25,
          97,
          25,
          54,
          108,
          63,
          75,
          25,
          22,
          24,
          108,
          108,
          83,
          108,
          40,
          72,
          33,
          21,
          29,
          84,
          24,
          106,
          23,
          24,
          35,
          108,
          21,
          21,
          63,
          36,
          63,
          50,
          26,
          72,
          150,
          39,
          22,
          150,
          99,
          150,
          30,
          97,
          29,
          85,
          25,
          34,
          128,
          35,
          128,
          221,
          51,
          132,
          128,
          128,
          132,
          128,
          221,
          168,
          31,
          52,
          54,
          37,
          28,
          40,
          52,
          72,
          54,
          37,
          37,
          85,
          53,
          25,
          23,
          64,
          322,
          54,
          53,
          37,
          116,
          156,
          16,
          23,
          45,
          74,
          74,
          37,
          73,
          39,
          19,
          168,
          24,
          23,
          40,
          19,
          22,
          22,
          22,
          130,
          69,
          23,
          145,
          41,
          24,
          23,
          45,
          103,
          44,
          45,
          44,
          24,
          20,
          28,
          45,
          75,
          22,
          24,
          144,
          235,
          23,
          38,
          75,
          27,
          23,
          111,
          104,
          25,
          47,
          54,
          99,
          63,
          231
         ]
        },
        {
         "hovertemplate": "color=Cluster-2<br>Rating=%{x}<br>Mean Salary=%{y}<br>Years Founded=%{z}<extra></extra>",
         "legendgroup": "Cluster-2",
         "marker": {
          "color": "yellow",
          "opacity": 0.9,
          "symbol": "circle"
         },
         "mode": "markers",
         "name": "Cluster-2",
         "scene": "scene",
         "showlegend": true,
         "type": "scatter3d",
         "x": [
          3.4,
          4.1,
          3.9,
          3.9,
          4.4,
          4.4,
          3.4,
          3.8,
          4.9,
          4.4,
          5.0,
          4.8,
          3.6,
          5.0,
          3.6,
          3.9,
          3.6,
          3.9,
          4.8,
          3.9,
          4.4,
          4.7,
          3.8,
          4.6,
          4.0,
          5.0,
          3.6,
          3.4,
          3.4,
          3.2,
          3.8,
          4.1,
          2.9,
          3.9,
          3.3,
          3.7,
          5.0,
          5.0,
          4.5,
          4.8,
          3.5,
          3.9,
          3.5,
          4.0,
          4.3,
          4.0,
          4.1,
          4.8,
          3.7,
          4.6,
          4.0,
          3.9,
          4.3,
          3.7,
          3.8,
          3.6,
          4.0,
          4.0,
          4.0,
          4.1,
          4.5,
          4.6,
          4.1,
          4.5,
          3.5,
          4.1,
          4.0,
          3.5,
          4.2,
          4.3,
          5.0,
          4.9,
          5.0,
          4.9,
          3.8,
          5.0,
          5.0,
          3.8,
          4.9,
          3.5,
          3.8,
          4.9,
          5.0,
          5.0,
          5.0,
          5.0,
          3.7,
          3.8,
          3.8,
          4.1,
          3.7,
          4.7,
          4.0,
          5.0,
          5.0,
          4.9,
          3.7,
          3.0,
          3.5,
          4.6,
          3.8,
          3.7,
          4.0,
          4.9,
          4.3,
          4.2,
          3.9,
          3.8,
          3.8,
          3.7,
          3.7,
          5.0,
          3.8,
          3.7,
          3.9,
          4.6,
          4.6,
          4.7,
          4.3,
          3.8,
          4.8,
          4.2,
          3.2,
          4.8,
          4.1,
          4.5,
          5.0,
          3.9,
          3.9,
          4.8,
          4.3,
          4.1,
          3.9,
          3.9,
          4.8,
          5.0,
          4.7,
          4.8,
          4.1,
          3.9,
          3.7,
          3.8,
          4.1,
          4.0,
          4.5,
          3.6,
          3.2,
          4.7,
          3.9,
          3.9,
          3.9,
          3.8,
          5.0,
          4.2,
          3.3,
          4.1,
          3.9,
          5.0,
          4.2,
          3.9,
          3.9,
          3.1,
          4.5,
          4.1,
          3.5,
          4.0,
          3.9,
          4.7,
          4.2,
          3.7,
          4.5,
          3.9,
          3.9,
          4.0,
          3.9,
          3.7,
          4.1,
          3.4,
          5.0,
          4.0,
          4.5,
          3.7,
          4.0,
          3.3,
          3.7,
          4.1,
          4.1,
          4.9,
          3.9,
          4.4,
          5.0,
          3.8,
          3.6,
          4.6,
          3.6,
          3.8,
          4.1,
          5.0,
          4.5,
          4.4,
          4.3,
          4.2,
          4.2,
          3.4,
          3.8,
          3.6,
          3.6,
          3.7,
          3.4,
          4.2,
          3.9,
          4.3,
          3.9,
          4.5,
          3.9,
          4.6,
          3.8,
          4.6,
          4.1,
          4.1,
          4.9,
          4.7,
          4.0,
          4.6,
          4.3,
          5.0,
          3.2,
          3.8,
          5.0,
          4.0,
          3.5,
          3.9,
          5.0,
          3.5,
          3.5,
          2.7,
          5.0,
          5.0,
          5.0,
          5.0,
          3.9,
          5.0,
          4.2,
          4.8,
          4.8,
          4.2,
          3.6,
          5.0,
          5.0,
          3.4,
          4.5,
          5.0,
          4.5,
          5.0,
          4.0,
          4.5,
          4.5,
          3.8,
          3.8,
          4.1,
          5.0,
          3.9,
          3.6,
          3.7,
          4.1,
          3.5,
          3.5,
          4.3,
          5.0,
          4.0,
          3.8,
          3.8,
          4.5,
          4.8,
          3.9,
          3.9,
          3.9,
          4.4,
          3.9,
          3.6,
          5.0,
          4.4,
          4.4,
          4.9,
          4.3,
          4.8,
          3.4,
          4.6,
          3.8,
          4.6,
          3.8,
          4.6,
          4.6,
          5.0,
          3.3,
          4.2,
          3.8,
          5.0,
          3.6,
          4.6,
          5.0,
          4.0,
          5.0,
          4.3,
          4.6,
          3.5,
          5.0,
          4.7,
          5.0,
          4.4,
          5.0,
          5.0,
          5.0,
          3.8,
          3.8,
          3.6,
          4.0,
          3.8,
          4.3,
          3.8,
          5.0,
          4.1,
          3.9,
          4.0,
          5.0,
          3.7,
          3.6,
          5.0,
          4.6,
          3.5,
          3.7
         ],
         "y": [
          51.5,
          51.5,
          51.5,
          51.5,
          51.5,
          51.5,
          51.5,
          51.5,
          51.5,
          51.5,
          51.5,
          51.5,
          66.5,
          66.5,
          66.5,
          66.5,
          66.5,
          66.5,
          69.5,
          69.5,
          69.0,
          69.0,
          69.0,
          69.0,
          69.0,
          69.0,
          59.5,
          59.5,
          59.5,
          59.5,
          59.5,
          59.5,
          59.5,
          59.5,
          59.5,
          59.5,
          59.5,
          59.5,
          59.5,
          59.5,
          59.5,
          66.5,
          39.5,
          39.5,
          39.5,
          39.5,
          39.5,
          39.5,
          39.5,
          39.5,
          58.0,
          58.0,
          58.0,
          58.0,
          58.0,
          58.0,
          58.0,
          58.0,
          58.0,
          36.5,
          36.5,
          36.5,
          36.5,
          36.5,
          36.5,
          36.5,
          45.0,
          45.0,
          45.0,
          56.0,
          56.0,
          56.0,
          56.0,
          56.0,
          56.0,
          56.0,
          56.0,
          56.0,
          56.0,
          56.0,
          56.0,
          56.0,
          42.0,
          42.0,
          42.0,
          42.0,
          53.5,
          53.5,
          53.5,
          53.5,
          53.5,
          53.5,
          53.5,
          53.5,
          40.0,
          40.0,
          40.0,
          40.0,
          40.0,
          40.0,
          40.0,
          54.0,
          54.0,
          54.0,
          54.0,
          54.0,
          54.0,
          54.0,
          54.0,
          63.0,
          63.0,
          63.0,
          63.0,
          63.0,
          63.0,
          63.0,
          63.0,
          63.0,
          63.0,
          63.0,
          59.0,
          59.0,
          59.0,
          59.0,
          59.0,
          59.0,
          59.0,
          33.5,
          33.5,
          33.5,
          33.5,
          33.5,
          33.5,
          33.5,
          33.5,
          61.5,
          61.5,
          61.5,
          61.5,
          68.5,
          68.5,
          68.5,
          61.5,
          61.5,
          61.5,
          59.5,
          59.5,
          59.5,
          59.5,
          59.5,
          59.5,
          59.5,
          59.5,
          59.5,
          59.5,
          59.5,
          59.5,
          53.0,
          53.0,
          53.0,
          53.0,
          53.0,
          53.0,
          53.0,
          53.0,
          40.5,
          40.5,
          40.5,
          40.5,
          40.5,
          40.5,
          40.5,
          71.5,
          52.5,
          52.5,
          52.5,
          52.5,
          52.5,
          52.5,
          52.5,
          52.5,
          52.5,
          52.5,
          47.5,
          47.5,
          36.0,
          36.0,
          36.0,
          36.0,
          36.0,
          36.0,
          41.5,
          41.5,
          41.5,
          41.5,
          41.5,
          41.5,
          41.5,
          63.5,
          63.5,
          63.5,
          63.5,
          63.5,
          63.5,
          63.0,
          63.0,
          63.0,
          63.0,
          63.0,
          63.0,
          68.0,
          68.0,
          61.0,
          61.0,
          72.0,
          59.0,
          59.0,
          59.0,
          59.0,
          59.0,
          59.0,
          59.0,
          59.0,
          59.0,
          59.0,
          59.0,
          59.0,
          59.0,
          59.0,
          59.0,
          38.5,
          38.5,
          38.5,
          38.5,
          38.5,
          38.5,
          56.0,
          56.0,
          56.0,
          56.0,
          56.0,
          68.0,
          51.0,
          51.0,
          51.0,
          40.0,
          40.0,
          40.0,
          40.0,
          40.0,
          40.0,
          40.0,
          40.0,
          40.0,
          40.0,
          40.0,
          66.0,
          68.0,
          68.0,
          68.0,
          68.0,
          68.0,
          64.5,
          64.5,
          64.5,
          64.5,
          64.5,
          64.5,
          64.5,
          64.5,
          57.0,
          57.0,
          66.0,
          66.0,
          66.0,
          66.0,
          66.0,
          66.0,
          66.0,
          66.0,
          66.0,
          66.0,
          66.0,
          66.0,
          60.5,
          60.5,
          60.5,
          60.5,
          60.5,
          60.5,
          60.5,
          60.5,
          60.5,
          60.5,
          47.5,
          47.5,
          47.5,
          47.5,
          47.5,
          47.5,
          47.5,
          47.5,
          47.5,
          51.0,
          51.0,
          51.0,
          51.0,
          51.0,
          51.0,
          0.5,
          44.0,
          44.0,
          44.0,
          51.5,
          62.0,
          62.0,
          62.0,
          62.0,
          62.0,
          62.0,
          62.0,
          62.0,
          62.0,
          62.0,
          62.0,
          62.0,
          62.0,
          62.0,
          62.0,
          70.0,
          70.0
         ],
         "z": [
          17,
          18,
          11,
          6,
          19,
          7,
          4,
          19,
          14,
          22,
          9,
          3,
          15,
          4,
          13,
          18,
          5,
          20,
          3,
          15,
          9,
          3,
          8,
          9,
          16,
          6,
          7,
          7,
          7,
          11,
          5,
          22,
          5,
          18,
          12,
          5,
          12,
          8,
          30,
          9,
          12,
          18,
          18,
          22,
          12,
          16,
          22,
          9,
          11,
          24,
          16,
          18,
          14,
          17,
          8,
          2,
          16,
          16,
          16,
          2,
          9,
          19,
          22,
          9,
          9,
          9,
          14,
          9,
          16,
          36,
          12,
          20,
          12,
          20,
          23,
          5,
          12,
          23,
          20,
          6,
          23,
          20,
          12,
          12,
          12,
          12,
          20,
          7,
          13,
          4,
          17,
          33,
          6,
          12,
          12,
          15,
          17,
          7,
          14,
          19,
          4,
          4,
          24,
          15,
          24,
          26,
          10,
          9,
          4,
          20,
          13,
          21,
          19,
          9,
          20,
          10,
          10,
          26,
          23,
          21,
          6,
          17,
          13,
          9,
          19,
          12,
          12,
          20,
          23,
          6,
          8,
          17,
          20,
          16,
          10,
          12,
          34,
          10,
          17,
          18,
          16,
          13,
          13,
          20,
          12,
          12,
          3,
          7,
          16,
          20,
          20,
          18,
          12,
          28,
          7,
          29,
          20,
          12,
          6,
          20,
          20,
          5,
          9,
          29,
          14,
          8,
          9,
          24,
          30,
          15,
          9,
          9,
          9,
          10,
          18,
          9,
          6,
          10,
          12,
          21,
          4,
          21,
          17,
          2,
          16,
          32,
          32,
          5,
          20,
          25,
          12,
          15,
          3,
          21,
          3,
          10,
          16,
          12,
          30,
          21,
          12,
          12,
          22,
          8,
          15,
          3,
          7,
          21,
          5,
          12,
          18,
          9,
          19,
          7,
          7,
          3,
          4,
          6,
          12,
          13,
          15,
          10,
          10,
          3,
          21,
          12,
          8,
          22,
          12,
          7,
          14,
          14,
          12,
          13,
          13,
          5,
          12,
          12,
          12,
          38,
          18,
          14,
          22,
          21,
          21,
          21,
          8,
          12,
          12,
          16,
          20,
          23,
          12,
          12,
          21,
          12,
          26,
          3,
          15,
          21,
          12,
          18,
          15,
          21,
          24,
          1,
          4,
          37,
          12,
          10,
          3,
          22,
          23,
          7,
          18,
          18,
          18,
          9,
          15,
          16,
          12,
          13,
          25,
          19,
          16,
          7,
          8,
          20,
          5,
          20,
          5,
          20,
          20,
          22,
          6,
          8,
          5,
          12,
          19,
          10,
          12,
          10,
          12,
          9,
          19,
          12,
          12,
          23,
          12,
          19,
          12,
          12,
          12,
          5,
          19,
          10,
          12,
          15,
          23,
          20,
          2,
          29,
          7,
          5,
          12,
          16,
          15,
          12,
          27,
          8,
          16
         ]
        },
        {
         "hovertemplate": "color=Cluster-1<br>Rating=%{x}<br>Mean Salary=%{y}<br>Years Founded=%{z}<extra></extra>",
         "legendgroup": "Cluster-1",
         "marker": {
          "color": "indigo",
          "opacity": 0.9,
          "symbol": "circle"
         },
         "mode": "markers",
         "name": "Cluster-1",
         "scene": "scene",
         "showlegend": true,
         "type": "scatter3d",
         "x": [
          3.2,
          3.0,
          3.6,
          3.6,
          3.6,
          3.7,
          3.5,
          3.3,
          3.1,
          3.4,
          3.0,
          2.8,
          3.6,
          3.5,
          3.3,
          2.9,
          3.2,
          2.7,
          3.1,
          3.7,
          3.1,
          3.7,
          3.7,
          3.6,
          3.6,
          3.7,
          3.1,
          3.8,
          3.7,
          3.7,
          3.2,
          3.5,
          3.0,
          3.8,
          3.6,
          3.2,
          2.9,
          3.1,
          3.8,
          3.0,
          2.4,
          2.8,
          2.8,
          3.5,
          2.0,
          3.3,
          3.4,
          3.6,
          2.8,
          3.0,
          3.9,
          3.4,
          3.2,
          2.8,
          3.2,
          3.4,
          3.4,
          3.5,
          3.3,
          3.6,
          2.7,
          3.2,
          3.0,
          3.1,
          3.7,
          3.3,
          3.1,
          3.1,
          3.2,
          3.4,
          3.7,
          3.5,
          3.2,
          3.4,
          3.1,
          3.4,
          3.5,
          3.6,
          3.6,
          3.3,
          3.3,
          3.1,
          3.6,
          3.7,
          3.2,
          3.6,
          3.9,
          3.5,
          3.2,
          3.4,
          3.2,
          3.9,
          3.1,
          3.3,
          3.0,
          3.4,
          3.5,
          3.5,
          3.4,
          2.1,
          2.5,
          3.5,
          3.8,
          3.0,
          3.3,
          3.3,
          3.5,
          3.0,
          3.2,
          3.1,
          3.3,
          2.9,
          3.3,
          3.2,
          3.3,
          2.8,
          3.9,
          3.4,
          3.1,
          3.1,
          3.3,
          2.9,
          3.6,
          3.4,
          3.2,
          2.8,
          3.3,
          3.2,
          3.9,
          3.4,
          3.5,
          3.5,
          3.5,
          3.2,
          3.9,
          3.9,
          2.7,
          3.4,
          3.2,
          3.8,
          3.5,
          3.0,
          3.0,
          3.7,
          3.7,
          3.6,
          2.9,
          2.5,
          2.5,
          2.5,
          3.3,
          3.7,
          3.4,
          3.8,
          3.2,
          3.2,
          3.5,
          3.0,
          3.3,
          3.0,
          2.7,
          3.2,
          2.7,
          3.3,
          3.3,
          2.8,
          3.7,
          3.8,
          3.0,
          3.4,
          2.5,
          2.4,
          2.9,
          2.7,
          2.8,
          3.4,
          3.6,
          3.6,
          3.2,
          3.6,
          3.2,
          3.6,
          3.3,
          3.1,
          2.2,
          3.1,
          3.2,
          3.7,
          3.5,
          3.2,
          3.5,
          3.6,
          3.0,
          3.2,
          3.6,
          3.6,
          3.6,
          3.1,
          3.1,
          3.4,
          2.9,
          3.6,
          2.9,
          3.4,
          3.4,
          3.1,
          3.1,
          3.1,
          2.5,
          3.2,
          3.5,
          3.0,
          3.5,
          3.0,
          2.7,
          2.9,
          3.6,
          3.6,
          2.3,
          3.6,
          3.5,
          2.4,
          3.7,
          3.2,
          3.5,
          3.7,
          3.9,
          3.6,
          3.4,
          3.4,
          3.3,
          3.7,
          2.8,
          2.7,
          3.5,
          3.6,
          3.1,
          3.3,
          2.6,
          3.3,
          3.8,
          3.3,
          3.1,
          3.1,
          3.6,
          3.3,
          3.0,
          3.7,
          3.7,
          3.4,
          3.2,
          3.0,
          3.4,
          3.2,
          2.8,
          3.5,
          3.5,
          3.6,
          3.3,
          3.4,
          3.7,
          3.3,
          3.5,
          3.3,
          2.5,
          3.3,
          3.7,
          3.7,
          3.5,
          3.0,
          1.9,
          2.8,
          3.4,
          2.1,
          3.0,
          3.2,
          3.7,
          3.2,
          3.3,
          2.8,
          3.2,
          3.5,
          3.3,
          3.1,
          3.4,
          3.4,
          3.5,
          3.6,
          3.6,
          3.8,
          2.4,
          3.2,
          3.3,
          3.5,
          3.2,
          3.5,
          3.3,
          3.1,
          3.8,
          3.4,
          3.1,
          3.3,
          3.3,
          3.3,
          3.4,
          3.5,
          3.7,
          2.2,
          3.1,
          3.7,
          3.3,
          3.5,
          3.6,
          3.3,
          3.6,
          3.3,
          2.9,
          3.6,
          2.6,
          1.9,
          3.3,
          2.8,
          3.2,
          3.7,
          2.6,
          2.8,
          2.8,
          3.3,
          2.6,
          3.3,
          3.1,
          2.9,
          3.6,
          3.4,
          3.4,
          3.6,
          3.2,
          3.3,
          3.3,
          3.2,
          3.3,
          2.8,
          1.8,
          3.3,
          3.7,
          3.6,
          3.0,
          3.5,
          3.3,
          3.6,
          3.7,
          2.3,
          3.3,
          3.8,
          3.6,
          3.4,
          3.4,
          3.2,
          3.7,
          3.2,
          3.7,
          3.2,
          3.2,
          3.4,
          3.2,
          3.3,
          3.0,
          3.2,
          3.7,
          3.2,
          2.8,
          3.4,
          3.5,
          3.3,
          3.5,
          2.7,
          3.0,
          3.2,
          3.5,
          3.0,
          3.9,
          3.7,
          3.7,
          3.5,
          3.6,
          3.1,
          3.3,
          3.7,
          3.1,
          3.8,
          3.5,
          3.5,
          3.5,
          3.3,
          3.0,
          3.7,
          3.6,
          3.5,
          2.9,
          2.6,
          3.7,
          3.3,
          2.7,
          3.0,
          2.8,
          3.6,
          3.6,
          3.3,
          3.5,
          3.0,
          2.8,
          2.9,
          3.1,
          3.4
         ],
         "y": [
          66.5,
          66.5,
          69.5,
          69.5,
          69.5,
          69.5,
          69.5,
          69.5,
          69.5,
          69.5,
          69.0,
          69.0,
          69.0,
          72.0,
          72.0,
          72.0,
          72.0,
          72.0,
          72.0,
          85.0,
          85.0,
          85.0,
          85.0,
          85.0,
          85.0,
          85.0,
          85.0,
          85.0,
          85.0,
          85.0,
          85.0,
          85.0,
          66.5,
          100.0,
          100.0,
          100.0,
          100.0,
          100.0,
          87.0,
          87.0,
          104.5,
          104.5,
          104.5,
          104.5,
          104.5,
          104.5,
          104.5,
          104.5,
          104.5,
          104.5,
          104.5,
          104.5,
          106.0,
          106.0,
          106.0,
          106.0,
          106.0,
          106.0,
          106.0,
          106.0,
          106.0,
          106.0,
          106.0,
          106.0,
          106.0,
          72.0,
          72.0,
          72.0,
          72.0,
          72.0,
          80.5,
          80.5,
          80.5,
          80.5,
          80.5,
          80.5,
          80.5,
          80.5,
          80.5,
          80.5,
          80.5,
          79.0,
          79.0,
          79.0,
          79.0,
          79.0,
          79.0,
          79.0,
          79.0,
          79.0,
          80.0,
          80.0,
          80.0,
          80.0,
          80.0,
          80.0,
          80.0,
          80.0,
          80.0,
          80.0,
          73.0,
          73.0,
          73.0,
          73.0,
          73.0,
          73.0,
          73.0,
          73.0,
          73.0,
          73.0,
          73.0,
          122.5,
          122.5,
          122.5,
          122.5,
          122.5,
          122.5,
          122.5,
          122.5,
          122.5,
          122.5,
          122.5,
          122.5,
          122.5,
          63.0,
          63.0,
          63.0,
          77.5,
          77.5,
          77.5,
          77.5,
          77.5,
          77.5,
          77.5,
          77.5,
          79.5,
          79.5,
          79.5,
          79.5,
          79.5,
          79.5,
          79.5,
          79.5,
          79.5,
          79.5,
          79.5,
          79.5,
          79.5,
          59.0,
          59.0,
          113.0,
          113.0,
          113.0,
          113.0,
          113.0,
          113.0,
          113.0,
          113.0,
          113.0,
          113.0,
          113.0,
          113.0,
          77.5,
          77.5,
          77.5,
          77.5,
          77.5,
          77.5,
          77.5,
          77.5,
          61.5,
          61.5,
          61.5,
          61.5,
          61.5,
          98.5,
          98.5,
          98.5,
          98.5,
          98.5,
          98.5,
          98.5,
          98.5,
          98.5,
          98.5,
          73.5,
          73.5,
          73.5,
          73.5,
          73.5,
          73.5,
          73.5,
          73.5,
          73.5,
          73.5,
          73.5,
          73.5,
          73.5,
          73.5,
          73.5,
          73.5,
          74.0,
          74.0,
          74.0,
          74.0,
          74.0,
          74.0,
          74.0,
          74.0,
          74.0,
          74.0,
          74.0,
          74.0,
          68.5,
          68.5,
          68.5,
          68.5,
          68.5,
          59.5,
          88.5,
          88.5,
          88.5,
          88.5,
          88.5,
          88.5,
          88.5,
          88.5,
          88.5,
          88.5,
          88.5,
          88.5,
          88.5,
          88.5,
          88.5,
          71.5,
          71.5,
          71.5,
          81.0,
          81.0,
          81.0,
          81.0,
          81.0,
          81.0,
          81.0,
          99.0,
          99.0,
          99.0,
          99.0,
          99.0,
          99.0,
          99.0,
          99.0,
          99.0,
          99.0,
          99.0,
          99.0,
          99.0,
          99.0,
          92.0,
          92.0,
          92.0,
          92.0,
          92.0,
          92.0,
          92.0,
          92.0,
          92.0,
          92.0,
          92.0,
          63.5,
          63.5,
          63.5,
          63.5,
          63.0,
          68.0,
          68.0,
          68.0,
          68.0,
          68.0,
          68.0,
          68.0,
          68.0,
          150.0,
          150.0,
          150.0,
          150.0,
          150.0,
          150.0,
          150.0,
          120.0,
          120.0,
          120.0,
          98.0,
          98.0,
          98.0,
          98.0,
          98.0,
          72.0,
          72.0,
          72.0,
          72.0,
          72.0,
          72.0,
          72.0,
          75.5,
          75.5,
          75.5,
          75.5,
          75.5,
          75.5,
          75.5,
          75.5,
          75.5,
          89.5,
          89.5,
          89.5,
          89.5,
          89.5,
          59.0,
          59.0,
          78.5,
          78.5,
          78.5,
          78.5,
          78.5,
          78.5,
          78.5,
          78.5,
          78.5,
          78.5,
          68.0,
          68.0,
          63.5,
          66.0,
          68.0,
          68.0,
          68.0,
          68.0,
          76.0,
          76.0,
          76.0,
          76.0,
          76.0,
          76.0,
          76.0,
          80.5,
          80.5,
          80.5,
          80.5,
          80.5,
          80.5,
          80.5,
          138.5,
          138.5,
          138.5,
          138.5,
          126.0,
          126.0,
          126.0,
          126.0,
          126.0,
          126.0,
          126.0,
          126.0,
          126.0,
          99.0,
          99.0,
          99.0,
          99.0,
          92.5,
          92.5,
          92.5,
          92.5,
          92.5,
          92.5,
          66.0,
          66.0,
          66.0,
          66.0,
          60.5,
          78.0,
          78.0,
          78.0,
          78.0,
          78.0,
          62.0,
          62.0,
          70.0,
          70.0,
          70.0,
          70.0,
          70.0,
          70.0,
          70.0,
          78.5,
          78.5,
          78.5,
          78.5,
          78.5,
          78.5,
          78.5,
          78.5,
          78.5,
          78.5,
          78.5,
          78.5,
          78.5,
          78.5,
          91.0,
          91.0,
          91.0,
          91.0,
          91.0,
          91.0
         ],
         "z": [
          9,
          7,
          22,
          22,
          22,
          21,
          35,
          17,
          9,
          13,
          53,
          26,
          16,
          52,
          25,
          5,
          11,
          86,
          30,
          23,
          9,
          39,
          208,
          51,
          158,
          27,
          9,
          85,
          30,
          136,
          49,
          31,
          36,
          53,
          22,
          236,
          64,
          24,
          124,
          35,
          83,
          16,
          20,
          72,
          43,
          53,
          2,
          30,
          42,
          35,
          221,
          24,
          36,
          20,
          236,
          38,
          7,
          18,
          25,
          43,
          35,
          236,
          36,
          9,
          38,
          27,
          31,
          9,
          2,
          2,
          114,
          58,
          18,
          2,
          18,
          2,
          22,
          58,
          19,
          20,
          20,
          24,
          10,
          24,
          24,
          20,
          118,
          72,
          8,
          76,
          24,
          118,
          23,
          19,
          49,
          22,
          72,
          72,
          41,
          8,
          26,
          41,
          38,
          30,
          17,
          17,
          14,
          30,
          43,
          40,
          101,
          94,
          101,
          43,
          56,
          29,
          97,
          165,
          40,
          40,
          56,
          7,
          61,
          59,
          19,
          21,
          21,
          5,
          37,
          76,
          7,
          13,
          137,
          5,
          37,
          183,
          22,
          85,
          37,
          31,
          112,
          17,
          54,
          61,
          203,
          32,
          23,
          38,
          15,
          15,
          44,
          92,
          54,
          53,
          5,
          107,
          72,
          119,
          21,
          104,
          22,
          163,
          22,
          161,
          36,
          7,
          23,
          32,
          119,
          175,
          21,
          15,
          11,
          22,
          15,
          54,
          26,
          71,
          236,
          71,
          8,
          71,
          9,
          65,
          40,
          156,
          81,
          45,
          50,
          81,
          72,
          28,
          17,
          26,
          18,
          21,
          47,
          156,
          156,
          72,
          35,
          16,
          69,
          98,
          22,
          63,
          75,
          156,
          19,
          45,
          19,
          15,
          40,
          17,
          3,
          69,
          23,
          24,
          17,
          26,
          50,
          116,
          54,
          45,
          50,
          23,
          190,
          26,
          33,
          33,
          133,
          23,
          16,
          22,
          50,
          13,
          37,
          15,
          29,
          17,
          46,
          25,
          30,
          30,
          58,
          67,
          30,
          23,
          54,
          17,
          67,
          30,
          20,
          11,
          16,
          68,
          21,
          123,
          31,
          74,
          54,
          36,
          10,
          2,
          31,
          37,
          30,
          54,
          24,
          13,
          23,
          25,
          15,
          25,
          42,
          24,
          21,
          13,
          26,
          25,
          13,
          14,
          23,
          30,
          74,
          17,
          23,
          20,
          20,
          43,
          5,
          28,
          213,
          10,
          23,
          72,
          14,
          6,
          25,
          60,
          42,
          18,
          24,
          18,
          74,
          24,
          23,
          11,
          42,
          21,
          18,
          17,
          20,
          18,
          24,
          18,
          11,
          14,
          6,
          5,
          21,
          108,
          16,
          82,
          32,
          22,
          108,
          36,
          24,
          14,
          28,
          28,
          21,
          16,
          16,
          23,
          45,
          18,
          18,
          30,
          74,
          85,
          14,
          74,
          21,
          14,
          23,
          18,
          56,
          22,
          114,
          18,
          13,
          96,
          20,
          16,
          19,
          20,
          35,
          24,
          39,
          4,
          21,
          118,
          13,
          6,
          21,
          24,
          27,
          11,
          146,
          16,
          7,
          68,
          13,
          6,
          21,
          21,
          21,
          17,
          45,
          21,
          21,
          28,
          30,
          24,
          15,
          20,
          13,
          25,
          13,
          18,
          13,
          26,
          90,
          23,
          57,
          30,
          7,
          29,
          20,
          14,
          22,
          90,
          83,
          57,
          48,
          26,
          50,
          90,
          16,
          85,
          36,
          156
         ]
        },
        {
         "hovertemplate": "color=Cluster-3<br>Rating=%{x}<br>Mean Salary=%{y}<br>Years Founded=%{z}<extra></extra>",
         "legendgroup": "Cluster-3",
         "marker": {
          "color": "lightseagreen",
          "opacity": 0.9,
          "symbol": "circle"
         },
         "mode": "markers",
         "name": "Cluster-3",
         "scene": "scene",
         "showlegend": true,
         "type": "scatter3d",
         "x": [
          4.9,
          3.9,
          4.1,
          4.5,
          4.1,
          5.0,
          4.0,
          4.0,
          4.1,
          4.2,
          3.9,
          4.2,
          3.9,
          4.1,
          4.5,
          4.1,
          3.6,
          4.9,
          4.5,
          3.9,
          4.1,
          3.8,
          3.9,
          4.0,
          4.8,
          3.8,
          3.9,
          5.0,
          3.7,
          4.2,
          5.0,
          4.0,
          4.0,
          3.7,
          4.5,
          4.4,
          4.3,
          5.0,
          4.8,
          4.2,
          4.2,
          4.0,
          5.0,
          4.5,
          3.8,
          5.0,
          5.0,
          5.0,
          5.0,
          3.6,
          4.3,
          4.3,
          4.5,
          4.3,
          5.0,
          4.7,
          4.0,
          4.5,
          3.7,
          4.6,
          4.5,
          3.9,
          3.9,
          4.0,
          4.5,
          4.0,
          3.8,
          4.7,
          3.8,
          4.7,
          5.0,
          4.1,
          3.7,
          4.6,
          3.8,
          4.2,
          4.6,
          3.7,
          4.1,
          5.0,
          3.6,
          3.9,
          5.0,
          4.7,
          4.6,
          3.9,
          4.8,
          4.5,
          4.0,
          4.0,
          3.8,
          3.9,
          3.9,
          4.3,
          4.0,
          4.5,
          3.9,
          5.0,
          4.3,
          4.6,
          3.5,
          4.1,
          4.5,
          4.7,
          4.0,
          4.0,
          3.8,
          4.0,
          5.0,
          5.0,
          3.7,
          3.8,
          4.8,
          4.4,
          4.9,
          4.1,
          4.6,
          3.9,
          4.6,
          3.9,
          3.9,
          3.8,
          3.7,
          5.0,
          4.5,
          4.0,
          4.9,
          4.3,
          4.5,
          4.1,
          4.4,
          4.2,
          4.2,
          4.3,
          4.2,
          3.9,
          4.6,
          4.8,
          5.0,
          4.2,
          4.5,
          3.9,
          4.1,
          3.8,
          4.0,
          3.9,
          4.3,
          4.2,
          4.2,
          5.0,
          4.4,
          4.8,
          3.8,
          3.9,
          5.0,
          4.0,
          3.9,
          4.3,
          4.2,
          4.6,
          4.4,
          4.4,
          4.1,
          4.2,
          4.3,
          5.0,
          4.3,
          4.1,
          4.2,
          4.9,
          4.5,
          4.6,
          3.9,
          4.0,
          3.8,
          4.0,
          3.9,
          3.8,
          5.0,
          4.4,
          3.9,
          4.0,
          3.9,
          3.9,
          4.4,
          3.9,
          4.1,
          3.8,
          3.7,
          4.0,
          4.1,
          3.9,
          4.5,
          4.8,
          3.9,
          4.0,
          5.0,
          4.1,
          4.1,
          4.5,
          4.6,
          5.0,
          4.0,
          4.3,
          4.1,
          4.5,
          4.1,
          4.7,
          4.1,
          4.2,
          4.8,
          3.9,
          3.7,
          3.8,
          3.9,
          4.7,
          4.4,
          4.1,
          4.4,
          4.8,
          4.1,
          4.1,
          3.9,
          4.4,
          3.9,
          4.1,
          4.8,
          4.4,
          4.4,
          4.5,
          3.7,
          3.7,
          3.7,
          4.0,
          3.7,
          5.0,
          4.5,
          3.9,
          4.1,
          4.4,
          4.8,
          4.1,
          3.8,
          3.9,
          3.8,
          3.7,
          3.9,
          3.9,
          4.1,
          3.7,
          4.5,
          4.5,
          4.6,
          3.9,
          3.7,
          3.7,
          4.4,
          5.0,
          4.1,
          4.7,
          4.1,
          4.1,
          4.3,
          5.0,
          4.4,
          4.1,
          3.8,
          4.3,
          4.0,
          3.9,
          4.0,
          5.0,
          3.8,
          4.6,
          4.1,
          4.8,
          3.7,
          3.6,
          3.9,
          3.8,
          4.0,
          4.9,
          4.6,
          3.8,
          4.0,
          4.5,
          4.1,
          4.0,
          3.6,
          5.0,
          4.4,
          4.1,
          4.6,
          4.2,
          4.3,
          3.7,
          4.0,
          3.9,
          3.9,
          4.1,
          4.6,
          4.0,
          4.1,
          3.9,
          3.8,
          4.1,
          3.7,
          4.1,
          4.1,
          4.8,
          4.5,
          4.1,
          5.0,
          3.9,
          4.0,
          4.6,
          3.9,
          3.8,
          3.8,
          4.0,
          4.4,
          3.6,
          3.9,
          4.0,
          4.4,
          4.5,
          3.9,
          3.7,
          3.8,
          5.0,
          3.7,
          4.6,
          4.0,
          4.1,
          4.5,
          3.9,
          3.8,
          4.0,
          4.1,
          4.1,
          4.3,
          4.4,
          4.0,
          3.6,
          4.3,
          4.6,
          4.3,
          5.0,
          4.2,
          4.6,
          4.5,
          4.4,
          4.1,
          5.0,
          4.7,
          5.0,
          4.2,
          4.1,
          4.0,
          5.0,
          5.0,
          3.8,
          3.8,
          4.0
         ],
         "y": [
          66.5,
          69.5,
          69.5,
          69.5,
          69.0,
          72.0,
          72.0,
          72.0,
          72.0,
          72.0,
          72.0,
          72.0,
          72.0,
          85.0,
          85.0,
          85.0,
          85.0,
          100.0,
          100.0,
          87.0,
          87.0,
          87.0,
          87.0,
          87.0,
          87.0,
          87.0,
          104.5,
          104.5,
          104.5,
          104.5,
          104.5,
          104.5,
          106.0,
          106.0,
          106.0,
          106.0,
          106.0,
          106.0,
          106.0,
          106.0,
          106.0,
          106.0,
          72.0,
          72.0,
          80.5,
          80.5,
          79.0,
          79.0,
          79.0,
          79.0,
          79.0,
          79.0,
          79.0,
          79.0,
          79.0,
          79.0,
          79.0,
          80.0,
          80.0,
          80.0,
          80.0,
          80.0,
          80.0,
          80.0,
          80.0,
          80.0,
          80.0,
          73.0,
          73.0,
          73.0,
          122.5,
          122.5,
          122.5,
          122.5,
          122.5,
          77.5,
          77.5,
          77.5,
          77.5,
          77.5,
          77.5,
          77.5,
          77.5,
          77.5,
          77.5,
          77.5,
          77.5,
          79.5,
          79.5,
          79.5,
          79.5,
          79.5,
          79.5,
          79.5,
          79.5,
          113.0,
          113.0,
          113.0,
          113.0,
          113.0,
          113.0,
          77.5,
          98.5,
          98.5,
          98.5,
          98.5,
          98.5,
          98.5,
          98.5,
          98.5,
          98.5,
          98.5,
          98.5,
          73.5,
          73.5,
          73.5,
          73.5,
          73.5,
          73.5,
          73.5,
          74.0,
          74.0,
          74.0,
          74.0,
          74.0,
          74.0,
          68.5,
          68.5,
          68.5,
          68.5,
          88.5,
          88.5,
          88.5,
          88.5,
          88.5,
          88.5,
          71.5,
          71.5,
          71.5,
          71.5,
          71.5,
          81.0,
          81.0,
          81.0,
          81.0,
          81.0,
          99.0,
          99.0,
          99.0,
          99.0,
          99.0,
          99.0,
          99.0,
          99.0,
          99.0,
          92.0,
          92.0,
          92.0,
          92.0,
          92.0,
          92.0,
          92.0,
          92.0,
          92.0,
          92.0,
          92.0,
          92.0,
          92.0,
          92.0,
          92.0,
          150.0,
          150.0,
          150.0,
          150.0,
          150.0,
          150.0,
          150.0,
          150.0,
          150.0,
          150.0,
          150.0,
          150.0,
          150.0,
          150.0,
          120.0,
          120.0,
          120.0,
          120.0,
          120.0,
          120.0,
          120.0,
          120.0,
          120.0,
          120.0,
          120.0,
          120.0,
          120.0,
          120.0,
          120.0,
          120.0,
          120.0,
          120.0,
          120.0,
          98.0,
          98.0,
          98.0,
          98.0,
          98.0,
          98.0,
          98.0,
          98.0,
          98.0,
          98.0,
          98.0,
          98.0,
          98.0,
          98.0,
          98.0,
          98.0,
          72.0,
          72.0,
          72.0,
          72.0,
          72.0,
          72.0,
          72.0,
          72.0,
          72.0,
          72.0,
          75.5,
          75.5,
          75.5,
          75.5,
          75.5,
          75.5,
          75.5,
          75.5,
          75.5,
          75.5,
          75.5,
          75.5,
          75.5,
          89.5,
          89.5,
          89.5,
          89.5,
          89.5,
          89.5,
          89.5,
          89.5,
          78.5,
          78.5,
          78.5,
          78.5,
          78.5,
          78.5,
          68.0,
          68.0,
          68.0,
          68.0,
          76.0,
          76.0,
          76.0,
          76.0,
          76.0,
          76.0,
          76.0,
          76.0,
          80.5,
          80.5,
          80.5,
          80.5,
          80.5,
          80.5,
          80.5,
          80.5,
          80.5,
          80.5,
          80.5,
          80.5,
          80.5,
          80.5,
          80.5,
          80.5,
          80.5,
          80.5,
          138.5,
          138.5,
          138.5,
          138.5,
          138.5,
          138.5,
          138.5,
          138.5,
          138.5,
          138.5,
          138.5,
          138.5,
          138.5,
          138.5,
          138.5,
          138.5,
          138.5,
          126.0,
          126.0,
          126.0,
          126.0,
          126.0,
          126.0,
          126.0,
          126.0,
          126.0,
          126.0,
          126.0,
          126.0,
          126.0,
          99.0,
          99.0,
          99.0,
          99.0,
          99.0,
          99.0,
          99.0,
          99.0,
          99.0,
          99.0,
          99.0,
          92.5,
          92.5,
          92.5,
          92.5,
          92.5,
          92.5,
          92.5,
          92.5,
          92.5,
          92.5,
          92.5,
          92.5,
          92.5,
          78.0,
          78.0,
          78.0,
          78.0,
          78.0,
          78.0,
          78.0,
          78.0,
          78.0,
          78.0,
          78.0,
          78.0,
          70.0,
          70.0,
          70.0,
          70.0,
          78.5,
          78.5,
          78.5,
          78.5,
          78.5,
          78.5,
          78.5,
          91.0
         ],
         "z": [
          30,
          18,
          36,
          16,
          24,
          12,
          23,
          16,
          22,
          12,
          18,
          57,
          26,
          8,
          16,
          17,
          2,
          2,
          12,
          18,
          8,
          20,
          18,
          23,
          9,
          22,
          15,
          12,
          12,
          9,
          28,
          179,
          16,
          21,
          12,
          7,
          11,
          28,
          9,
          16,
          21,
          16,
          12,
          12,
          23,
          5,
          6,
          12,
          2,
          3,
          24,
          6,
          23,
          4,
          9,
          13,
          6,
          30,
          4,
          5,
          31,
          23,
          11,
          1,
          3,
          101,
          7,
          6,
          19,
          13,
          7,
          81,
          17,
          21,
          4,
          21,
          9,
          8,
          3,
          12,
          5,
          18,
          12,
          26,
          24,
          29,
          6,
          16,
          130,
          20,
          19,
          16,
          20,
          24,
          55,
          16,
          21,
          2,
          25,
          8,
          7,
          38,
          40,
          34,
          22,
          16,
          22,
          48,
          13,
          2,
          21,
          20,
          10,
          10,
          15,
          34,
          1,
          18,
          1,
          26,
          20,
          18,
          16,
          2,
          16,
          21,
          15,
          17,
          34,
          20,
          26,
          28,
          30,
          11,
          30,
          18,
          25,
          18,
          12,
          30,
          9,
          18,
          54,
          21,
          21,
          19,
          60,
          152,
          10,
          12,
          10,
          6,
          14,
          22,
          12,
          75,
          22,
          60,
          20,
          7,
          37,
          37,
          35,
          20,
          60,
          12,
          60,
          58,
          30,
          18,
          10,
          27,
          31,
          8,
          18,
          14,
          11,
          24,
          4,
          4,
          18,
          9,
          23,
          18,
          5,
          23,
          44,
          32,
          16,
          26,
          29,
          14,
          7,
          9,
          28,
          22,
          12,
          44,
          44,
          13,
          48,
          12,
          25,
          129,
          32,
          4,
          44,
          7,
          44,
          21,
          26,
          18,
          20,
          24,
          7,
          20,
          5,
          44,
          25,
          9,
          44,
          32,
          26,
          9,
          9,
          17,
          14,
          25,
          37,
          13,
          6,
          6,
          18,
          10,
          18,
          12,
          20,
          14,
          44,
          22,
          14,
          32,
          10,
          19,
          25,
          20,
          16,
          18,
          44,
          16,
          16,
          4,
          27,
          5,
          15,
          10,
          25,
          39,
          29,
          23,
          29,
          54,
          37,
          12,
          9,
          14,
          22,
          37,
          38,
          12,
          38,
          6,
          12,
          9,
          9,
          6,
          9,
          6,
          15,
          20,
          4,
          3,
          10,
          20,
          8,
          8,
          6,
          8,
          8,
          4,
          6,
          113,
          11,
          8,
          8,
          16,
          8,
          11,
          28,
          113,
          13,
          14,
          156,
          18,
          31,
          24,
          8,
          9,
          4,
          7,
          13,
          12,
          12,
          18,
          14,
          20,
          24,
          5,
          10,
          8,
          6,
          9,
          10,
          11,
          6,
          27,
          24,
          3,
          14,
          12,
          18,
          19,
          11,
          54,
          7,
          18,
          25,
          8,
          4,
          338,
          45,
          19,
          44,
          4,
          45,
          19,
          45,
          12,
          30,
          8,
          14,
          19,
          29,
          19,
          15,
          19,
          31,
          39,
          75,
          12,
          12,
          25,
          25,
          21
         ]
        }
       ],
       "layout": {
        "legend": {
         "title": {
          "text": "color"
         },
         "tracegroupgap": 0
        },
        "margin": {
         "b": 0,
         "l": 0,
         "r": 0,
         "t": 0
        },
        "scene": {
         "domain": {
          "x": [
           0.0,
           1.0
          ],
          "y": [
           0.0,
           1.0
          ]
         },
         "xaxis": {
          "title": {
           "text": "Rating"
          }
         },
         "yaxis": {
          "title": {
           "text": "Mean Salary"
          }
         },
         "zaxis": {
          "title": {
           "text": "Years Founded"
          }
         }
        },
        "template": {
         "data": {
          "bar": [
           {
            "error_x": {
             "color": "#2a3f5f"
            },
            "error_y": {
             "color": "#2a3f5f"
            },
            "marker": {
             "line": {
              "color": "#E5ECF6",
              "width": 0.5
             }
            },
            "type": "bar"
           }
          ],
          "barpolar": [
           {
            "marker": {
             "line": {
              "color": "#E5ECF6",
              "width": 0.5
             }
            },
            "type": "barpolar"
           }
          ],
          "carpet": [
           {
            "aaxis": {
             "endlinecolor": "#2a3f5f",
             "gridcolor": "white",
             "linecolor": "white",
             "minorgridcolor": "white",
             "startlinecolor": "#2a3f5f"
            },
            "baxis": {
             "endlinecolor": "#2a3f5f",
             "gridcolor": "white",
             "linecolor": "white",
             "minorgridcolor": "white",
             "startlinecolor": "#2a3f5f"
            },
            "type": "carpet"
           }
          ],
          "choropleth": [
           {
            "colorbar": {
             "outlinewidth": 0,
             "ticks": ""
            },
            "type": "choropleth"
           }
          ],
          "contour": [
           {
            "colorbar": {
             "outlinewidth": 0,
             "ticks": ""
            },
            "colorscale": [
             [
              0.0,
              "#0d0887"
             ],
             [
              0.1111111111111111,
              "#46039f"
             ],
             [
              0.2222222222222222,
              "#7201a8"
             ],
             [
              0.3333333333333333,
              "#9c179e"
             ],
             [
              0.4444444444444444,
              "#bd3786"
             ],
             [
              0.5555555555555556,
              "#d8576b"
             ],
             [
              0.6666666666666666,
              "#ed7953"
             ],
             [
              0.7777777777777778,
              "#fb9f3a"
             ],
             [
              0.8888888888888888,
              "#fdca26"
             ],
             [
              1.0,
              "#f0f921"
             ]
            ],
            "type": "contour"
           }
          ],
          "contourcarpet": [
           {
            "colorbar": {
             "outlinewidth": 0,
             "ticks": ""
            },
            "type": "contourcarpet"
           }
          ],
          "heatmap": [
           {
            "colorbar": {
             "outlinewidth": 0,
             "ticks": ""
            },
            "colorscale": [
             [
              0.0,
              "#0d0887"
             ],
             [
              0.1111111111111111,
              "#46039f"
             ],
             [
              0.2222222222222222,
              "#7201a8"
             ],
             [
              0.3333333333333333,
              "#9c179e"
             ],
             [
              0.4444444444444444,
              "#bd3786"
             ],
             [
              0.5555555555555556,
              "#d8576b"
             ],
             [
              0.6666666666666666,
              "#ed7953"
             ],
             [
              0.7777777777777778,
              "#fb9f3a"
             ],
             [
              0.8888888888888888,
              "#fdca26"
             ],
             [
              1.0,
              "#f0f921"
             ]
            ],
            "type": "heatmap"
           }
          ],
          "heatmapgl": [
           {
            "colorbar": {
             "outlinewidth": 0,
             "ticks": ""
            },
            "colorscale": [
             [
              0.0,
              "#0d0887"
             ],
             [
              0.1111111111111111,
              "#46039f"
             ],
             [
              0.2222222222222222,
              "#7201a8"
             ],
             [
              0.3333333333333333,
              "#9c179e"
             ],
             [
              0.4444444444444444,
              "#bd3786"
             ],
             [
              0.5555555555555556,
              "#d8576b"
             ],
             [
              0.6666666666666666,
              "#ed7953"
             ],
             [
              0.7777777777777778,
              "#fb9f3a"
             ],
             [
              0.8888888888888888,
              "#fdca26"
             ],
             [
              1.0,
              "#f0f921"
             ]
            ],
            "type": "heatmapgl"
           }
          ],
          "histogram": [
           {
            "marker": {
             "colorbar": {
              "outlinewidth": 0,
              "ticks": ""
             }
            },
            "type": "histogram"
           }
          ],
          "histogram2d": [
           {
            "colorbar": {
             "outlinewidth": 0,
             "ticks": ""
            },
            "colorscale": [
             [
              0.0,
              "#0d0887"
             ],
             [
              0.1111111111111111,
              "#46039f"
             ],
             [
              0.2222222222222222,
              "#7201a8"
             ],
             [
              0.3333333333333333,
              "#9c179e"
             ],
             [
              0.4444444444444444,
              "#bd3786"
             ],
             [
              0.5555555555555556,
              "#d8576b"
             ],
             [
              0.6666666666666666,
              "#ed7953"
             ],
             [
              0.7777777777777778,
              "#fb9f3a"
             ],
             [
              0.8888888888888888,
              "#fdca26"
             ],
             [
              1.0,
              "#f0f921"
             ]
            ],
            "type": "histogram2d"
           }
          ],
          "histogram2dcontour": [
           {
            "colorbar": {
             "outlinewidth": 0,
             "ticks": ""
            },
            "colorscale": [
             [
              0.0,
              "#0d0887"
             ],
             [
              0.1111111111111111,
              "#46039f"
             ],
             [
              0.2222222222222222,
              "#7201a8"
             ],
             [
              0.3333333333333333,
              "#9c179e"
             ],
             [
              0.4444444444444444,
              "#bd3786"
             ],
             [
              0.5555555555555556,
              "#d8576b"
             ],
             [
              0.6666666666666666,
              "#ed7953"
             ],
             [
              0.7777777777777778,
              "#fb9f3a"
             ],
             [
              0.8888888888888888,
              "#fdca26"
             ],
             [
              1.0,
              "#f0f921"
             ]
            ],
            "type": "histogram2dcontour"
           }
          ],
          "mesh3d": [
           {
            "colorbar": {
             "outlinewidth": 0,
             "ticks": ""
            },
            "type": "mesh3d"
           }
          ],
          "parcoords": [
           {
            "line": {
             "colorbar": {
              "outlinewidth": 0,
              "ticks": ""
             }
            },
            "type": "parcoords"
           }
          ],
          "pie": [
           {
            "automargin": true,
            "type": "pie"
           }
          ],
          "scatter": [
           {
            "marker": {
             "colorbar": {
              "outlinewidth": 0,
              "ticks": ""
             }
            },
            "type": "scatter"
           }
          ],
          "scatter3d": [
           {
            "line": {
             "colorbar": {
              "outlinewidth": 0,
              "ticks": ""
             }
            },
            "marker": {
             "colorbar": {
              "outlinewidth": 0,
              "ticks": ""
             }
            },
            "type": "scatter3d"
           }
          ],
          "scattercarpet": [
           {
            "marker": {
             "colorbar": {
              "outlinewidth": 0,
              "ticks": ""
             }
            },
            "type": "scattercarpet"
           }
          ],
          "scattergeo": [
           {
            "marker": {
             "colorbar": {
              "outlinewidth": 0,
              "ticks": ""
             }
            },
            "type": "scattergeo"
           }
          ],
          "scattergl": [
           {
            "marker": {
             "colorbar": {
              "outlinewidth": 0,
              "ticks": ""
             }
            },
            "type": "scattergl"
           }
          ],
          "scattermapbox": [
           {
            "marker": {
             "colorbar": {
              "outlinewidth": 0,
              "ticks": ""
             }
            },
            "type": "scattermapbox"
           }
          ],
          "scatterpolar": [
           {
            "marker": {
             "colorbar": {
              "outlinewidth": 0,
              "ticks": ""
             }
            },
            "type": "scatterpolar"
           }
          ],
          "scatterpolargl": [
           {
            "marker": {
             "colorbar": {
              "outlinewidth": 0,
              "ticks": ""
             }
            },
            "type": "scatterpolargl"
           }
          ],
          "scatterternary": [
           {
            "marker": {
             "colorbar": {
              "outlinewidth": 0,
              "ticks": ""
             }
            },
            "type": "scatterternary"
           }
          ],
          "surface": [
           {
            "colorbar": {
             "outlinewidth": 0,
             "ticks": ""
            },
            "colorscale": [
             [
              0.0,
              "#0d0887"
             ],
             [
              0.1111111111111111,
              "#46039f"
             ],
             [
              0.2222222222222222,
              "#7201a8"
             ],
             [
              0.3333333333333333,
              "#9c179e"
             ],
             [
              0.4444444444444444,
              "#bd3786"
             ],
             [
              0.5555555555555556,
              "#d8576b"
             ],
             [
              0.6666666666666666,
              "#ed7953"
             ],
             [
              0.7777777777777778,
              "#fb9f3a"
             ],
             [
              0.8888888888888888,
              "#fdca26"
             ],
             [
              1.0,
              "#f0f921"
             ]
            ],
            "type": "surface"
           }
          ],
          "table": [
           {
            "cells": {
             "fill": {
              "color": "#EBF0F8"
             },
             "line": {
              "color": "white"
             }
            },
            "header": {
             "fill": {
              "color": "#C8D4E3"
             },
             "line": {
              "color": "white"
             }
            },
            "type": "table"
           }
          ]
         },
         "layout": {
          "annotationdefaults": {
           "arrowcolor": "#2a3f5f",
           "arrowhead": 0,
           "arrowwidth": 1
          },
          "coloraxis": {
           "colorbar": {
            "outlinewidth": 0,
            "ticks": ""
           }
          },
          "colorscale": {
           "diverging": [
            [
             0,
             "#8e0152"
            ],
            [
             0.1,
             "#c51b7d"
            ],
            [
             0.2,
             "#de77ae"
            ],
            [
             0.3,
             "#f1b6da"
            ],
            [
             0.4,
             "#fde0ef"
            ],
            [
             0.5,
             "#f7f7f7"
            ],
            [
             0.6,
             "#e6f5d0"
            ],
            [
             0.7,
             "#b8e186"
            ],
            [
             0.8,
             "#7fbc41"
            ],
            [
             0.9,
             "#4d9221"
            ],
            [
             1,
             "#276419"
            ]
           ],
           "sequential": [
            [
             0.0,
             "#0d0887"
            ],
            [
             0.1111111111111111,
             "#46039f"
            ],
            [
             0.2222222222222222,
             "#7201a8"
            ],
            [
             0.3333333333333333,
             "#9c179e"
            ],
            [
             0.4444444444444444,
             "#bd3786"
            ],
            [
             0.5555555555555556,
             "#d8576b"
            ],
            [
             0.6666666666666666,
             "#ed7953"
            ],
            [
             0.7777777777777778,
             "#fb9f3a"
            ],
            [
             0.8888888888888888,
             "#fdca26"
            ],
            [
             1.0,
             "#f0f921"
            ]
           ],
           "sequentialminus": [
            [
             0.0,
             "#0d0887"
            ],
            [
             0.1111111111111111,
             "#46039f"
            ],
            [
             0.2222222222222222,
             "#7201a8"
            ],
            [
             0.3333333333333333,
             "#9c179e"
            ],
            [
             0.4444444444444444,
             "#bd3786"
            ],
            [
             0.5555555555555556,
             "#d8576b"
            ],
            [
             0.6666666666666666,
             "#ed7953"
            ],
            [
             0.7777777777777778,
             "#fb9f3a"
            ],
            [
             0.8888888888888888,
             "#fdca26"
            ],
            [
             1.0,
             "#f0f921"
            ]
           ]
          },
          "colorway": [
           "#636efa",
           "#EF553B",
           "#00cc96",
           "#ab63fa",
           "#FFA15A",
           "#19d3f3",
           "#FF6692",
           "#B6E880",
           "#FF97FF",
           "#FECB52"
          ],
          "font": {
           "color": "#2a3f5f"
          },
          "geo": {
           "bgcolor": "white",
           "lakecolor": "white",
           "landcolor": "#E5ECF6",
           "showlakes": true,
           "showland": true,
           "subunitcolor": "white"
          },
          "hoverlabel": {
           "align": "left"
          },
          "hovermode": "closest",
          "mapbox": {
           "style": "light"
          },
          "paper_bgcolor": "white",
          "plot_bgcolor": "#E5ECF6",
          "polar": {
           "angularaxis": {
            "gridcolor": "white",
            "linecolor": "white",
            "ticks": ""
           },
           "bgcolor": "#E5ECF6",
           "radialaxis": {
            "gridcolor": "white",
            "linecolor": "white",
            "ticks": ""
           }
          },
          "scene": {
           "xaxis": {
            "backgroundcolor": "#E5ECF6",
            "gridcolor": "white",
            "gridwidth": 2,
            "linecolor": "white",
            "showbackground": true,
            "ticks": "",
            "zerolinecolor": "white"
           },
           "yaxis": {
            "backgroundcolor": "#E5ECF6",
            "gridcolor": "white",
            "gridwidth": 2,
            "linecolor": "white",
            "showbackground": true,
            "ticks": "",
            "zerolinecolor": "white"
           },
           "zaxis": {
            "backgroundcolor": "#E5ECF6",
            "gridcolor": "white",
            "gridwidth": 2,
            "linecolor": "white",
            "showbackground": true,
            "ticks": "",
            "zerolinecolor": "white"
           }
          },
          "shapedefaults": {
           "line": {
            "color": "#2a3f5f"
           }
          },
          "ternary": {
           "aaxis": {
            "gridcolor": "white",
            "linecolor": "white",
            "ticks": ""
           },
           "baxis": {
            "gridcolor": "white",
            "linecolor": "white",
            "ticks": ""
           },
           "bgcolor": "#E5ECF6",
           "caxis": {
            "gridcolor": "white",
            "linecolor": "white",
            "ticks": ""
           }
          },
          "title": {
           "x": 0.05
          },
          "xaxis": {
           "automargin": true,
           "gridcolor": "white",
           "linecolor": "white",
           "ticks": "",
           "title": {
            "standoff": 15
           },
           "zerolinecolor": "white",
           "zerolinewidth": 2
          },
          "yaxis": {
           "automargin": true,
           "gridcolor": "white",
           "linecolor": "white",
           "ticks": "",
           "title": {
            "standoff": 15
           },
           "zerolinecolor": "white",
           "zerolinewidth": 2
          }
         }
        }
       }
      },
      "text/html": [
       "<div>\n",
       "        \n",
       "        \n",
       "            <div id=\"0afe9ed1-2767-4775-bd0d-3b5829aa6613\" class=\"plotly-graph-div\" style=\"height:525px; width:100%;\"></div>\n",
       "            <script type=\"text/javascript\">\n",
       "                require([\"plotly\"], function(Plotly) {\n",
       "                    window.PLOTLYENV=window.PLOTLYENV || {};\n",
       "                    \n",
       "                if (document.getElementById(\"0afe9ed1-2767-4775-bd0d-3b5829aa6613\")) {\n",
       "                    Plotly.newPlot(\n",
       "                        '0afe9ed1-2767-4775-bd0d-3b5829aa6613',\n",
       "                        [{\"hovertemplate\": \"color=Cluster-4<br>Rating=%{x}<br>Mean Salary=%{y}<br>Years Founded=%{z}<extra></extra>\", \"legendgroup\": \"Cluster-4\", \"marker\": {\"color\": \"crimson\", \"opacity\": 0.9, \"symbol\": \"circle\"}, \"mode\": \"markers\", \"name\": \"Cluster-4\", \"scene\": \"scene\", \"showlegend\": true, \"type\": \"scatter3d\", \"x\": [3.2, 3.8, 3.7, 4.0, 4.0, 3.7, 3.0, 3.8, 3.9, 3.3, 3.7, 4.0, 2.9, 4.0, 3.8, 3.7, 3.6, 4.0, 3.2, 3.8, 4.1, 3.7, 3.7, 4.1, 3.6, 3.8, 3.9, 3.7, 3.5, 3.8, 3.4, 3.5, 3.7, 3.6, 3.9, 4.0, 3.3, 3.8, 3.3, 3.3, 3.4, 2.5, 3.6, 3.6, 3.8, 3.6, 3.8, 3.3, 3.5, 3.7, 4.0, 3.4, 3.6, 3.4, 4.2, 2.7, 3.1, 4.1, 3.0, 2.7, 3.1, 3.9, 3.8, 3.3, 3.1, 3.6, 3.9, 4.0, 3.1, 3.2, 3.3, 3.6, 3.6, 3.7, 4.1, 3.3, 3.4, 3.1, 3.7, 3.9, 4.1, 3.3, 3.0, 3.4, 3.2, 2.7, 3.5, 3.9, 4.1, 3.1, 3.1, 3.5, 3.9, 2.4, 3.6, 3.2, 3.6, 3.0, 3.8, 3.2, 3.2, 3.9, 4.2, 3.6, 4.0, 3.6, 2.9, 3.4, 3.8, 2.7, 3.3, 2.9, 3.5, 3.3, 2.5, 2.7, 2.7, 3.1, 3.8, 1.0, 3.5, 3.2, 3.5, 3.2, 4.3, 3.1, 3.3, 3.3, 4.1, 3.1, 3.9, 3.5, 4.2, 3.1, 3.9, 3.9, 3.9, 3.9, 3.5, 3.1, 4.0, 3.8, 3.8, 3.6, 3.6, 3.4, 4.1, 3.1, 3.7, 3.6, 2.7, 3.4, 3.1, 3.6, 3.3, 3.6, 3.8, 4.1, 3.6, 3.4, 3.1, 3.1, 3.9, 4.0, 4.1, 3.9, 3.4, 3.4, 3.3, 4.0, 4.1, 3.3, 3.2, 3.3, 3.1, 3.5, 3.3, 3.8, 3.7, 3.2, 3.6, 4.1, 3.3, 2.8, 3.6, 3.5, 2.9, 4.1, 3.7, 3.5, 3.3, 4.1, 2.8, 3.6, 2.7, 3.4, 3.1, 3.2, 4.0, 3.6, 2.5, 3.6, 3.8, 3.5, 3.0, 3.5, 3.6, 3.4, 3.6, 3.7, 3.3, 3.6, 4.0, 4.3, 3.1, 3.5, 3.4, 3.7, 3.7, 4.1, 3.8, 2.9, 3.1, 3.1, 2.8, 2.9, 3.6, 3.6, 3.7, 3.5, 3.8, 4.3, 3.8, 3.5, 3.2, 2.4, 4.3, 3.1, 3.9, 2.4, 4.3, 2.7, 3.5, 3.2, 2.7, 3.8, 4.3, 3.7, 4.3, 3.4, 2.4, 3.8, 3.2, 3.9, 3.7, 3.5, 3.5, 2.7, 4.1, 3.6, 3.2, 4.0, 4.1, 3.4, 3.1, 3.9, 3.4, 4.3, 2.8, 3.5, 3.3, 4.1, 2.9, 4.0, 3.5, 4.3, 3.5, 4.3, 3.3, 3.1, 3.3, 4.0, 3.7, 3.7, 4.0, 3.4, 3.3, 4.1, 3.5, 3.4, 2.8, 2.9, 4.0, 3.8, 3.3, 4.1, 3.3, 3.4, 4.1, 3.6, 2.9, 3.5, 3.6, 3.8, 3.7, 2.6, 4.0, 3.5, 3.8, 2.8, 3.9, 4.1, 3.4, 3.7, 3.4, 3.1, 3.4, 2.9, 2.5, 4.2, 3.7, 3.5, 2.5, 3.3, 3.9, 3.3, 3.5, 4.1, 4.1, 3.7, 4.2, 3.1, 3.4, 3.2, 3.6, 3.8, 4.1, 2.9, 3.9, 4.0, 3.5, 2.8, 2.6, 2.8, 2.8, 3.9, 2.8, 3.4, 3.5, 2.7, 3.3, 3.8, 3.5, 3.8, 3.8, 3.7, 3.1, 3.7, 2.8, 3.3, 3.3, 2.8, 3.3, 2.8, 3.5, 3.0, 3.5, 3.5, 3.7, 3.5, 3.5, 3.9, 3.5, 2.9, 3.3, 3.8, 3.9, 3.8, 3.9, 3.7, 2.9, 3.5, 3.9, 3.8, 3.6, 3.7, 3.7, 3.6, 3.7, 3.9, 3.6, 3.9, 3.8, 4.1, 3.9, 3.9, 3.4, 3.7, 3.5, 4.1, 3.9, 3.9, 2.8, 3.4, 3.8, 3.6, 2.9, 3.2, 4.1, 3.4, 3.9, 3.7, 3.1, 3.0, 3.6, 3.6, 3.3, 3.3, 3.8, 3.8, 3.9, 3.4, 3.6, 3.2, 3.4, 3.6, 3.2, 3.5, 2.8, 3.1, 3.5, 3.4, 2.9, 3.5, 2.7, 3.3, 3.3, 4.3, 3.6, 4.0, 4.3, 4.0, 3.7, 2.9, 3.2, 3.9, 2.9, 3.0, 3.7, 4.1, 4.2, 3.4, 4.0, 2.9, 3.2, 3.4, 3.5, 3.7, 3.8, 3.6, 4.1, 3.5, 3.6, 4.3], \"y\": [51.5, 51.5, 51.5, 51.5, 51.5, 51.5, 51.5, 51.5, 51.5, 51.5, 66.5, 66.5, 66.5, 66.5, 66.5, 66.5, 66.5, 66.5, 66.5, 66.5, 69.5, 69.5, 69.5, 69.5, 69.0, 69.0, 69.0, 69.0, 69.0, 69.0, 69.0, 72.0, 72.0, 72.0, 72.0, 59.5, 59.5, 59.5, 59.5, 59.5, 59.5, 59.5, 59.5, 59.5, 59.5, 59.5, 59.5, 59.5, 59.5, 59.5, 59.5, 59.5, 59.5, 59.5, 59.5, 59.5, 59.5, 59.5, 59.5, 59.5, 59.5, 59.5, 66.5, 66.5, 66.5, 66.5, 66.5, 66.5, 39.5, 39.5, 39.5, 39.5, 39.5, 39.5, 39.5, 39.5, 39.5, 39.5, 39.5, 39.5, 39.5, 39.5, 39.5, 39.5, 39.5, 58.0, 58.0, 58.0, 58.0, 58.0, 58.0, 58.0, 58.0, 58.0, 58.0, 58.0, 58.0, 58.0, 72.0, 72.0, 72.0, 72.0, 36.5, 36.5, 36.5, 36.5, 36.5, 36.5, 36.5, 36.5, 36.5, 45.0, 64.0, 64.0, 56.0, 56.0, 56.0, 56.0, 56.0, 56.0, 56.0, 56.0, 56.0, 56.0, 42.0, 42.0, 42.0, 42.0, 53.5, 53.5, 53.5, 53.5, 53.5, 53.5, 53.5, 53.5, 53.5, 53.5, 53.5, 53.5, 40.0, 40.0, 40.0, 40.0, 40.0, 40.0, 40.0, 40.0, 40.0, 40.0, 40.0, 40.0, 40.0, 54.0, 54.0, 54.0, 54.0, 54.0, 54.0, 54.0, 54.0, 54.0, 73.0, 73.0, 73.0, 63.0, 63.0, 63.0, 63.0, 63.0, 63.0, 63.0, 63.0, 63.0, 63.0, 63.0, 63.0, 63.0, 63.0, 63.0, 59.0, 59.0, 59.0, 59.0, 59.0, 59.0, 59.0, 59.0, 59.0, 59.0, 59.0, 33.5, 33.5, 33.5, 33.5, 33.5, 33.5, 33.5, 33.5, 33.5, 33.5, 33.5, 61.5, 61.5, 61.5, 61.5, 61.5, 61.5, 61.5, 61.5, 61.5, 61.5, 73.5, 74.0, 68.5, 68.5, 68.5, 68.5, 68.5, 68.5, 61.5, 61.5, 61.5, 61.5, 61.5, 61.5, 59.5, 59.5, 59.5, 59.5, 59.5, 59.5, 59.5, 59.5, 53.0, 53.0, 53.0, 53.0, 53.0, 53.0, 53.0, 53.0, 53.0, 53.0, 53.0, 53.0, 40.5, 40.5, 40.5, 40.5, 40.5, 40.5, 40.5, 40.5, 40.5, 40.5, 40.5, 40.5, 40.5, 40.5, 71.5, 71.5, 71.5, 52.5, 52.5, 52.5, 52.5, 52.5, 52.5, 52.5, 52.5, 52.5, 52.5, 52.5, 52.5, 47.5, 47.5, 36.0, 36.0, 36.0, 36.0, 36.0, 36.0, 36.0, 36.0, 36.0, 36.0, 36.0, 36.0, 36.0, 36.0, 36.0, 36.0, 36.0, 41.5, 41.5, 41.5, 41.5, 41.5, 41.5, 41.5, 41.5, 41.5, 41.5, 41.5, 41.5, 41.5, 41.5, 41.5, 41.5, 63.5, 63.5, 63.5, 63.5, 63.5, 63.5, 63.5, 63.5, 63.5, 63.0, 63.0, 63.0, 63.0, 63.0, 63.0, 63.0, 63.0, 68.0, 68.0, 68.0, 68.0, 68.0, 68.0, 61.0, 61.0, 61.0, 61.0, 61.0, 72.0, 75.5, 59.0, 59.0, 59.0, 59.0, 59.0, 59.0, 59.0, 59.0, 59.0, 38.5, 38.5, 38.5, 38.5, 38.5, 38.5, 38.5, 38.5, 38.5, 38.5, 38.5, 38.5, 38.5, 38.5, 60.0, 60.0, 56.0, 56.0, 56.0, 56.0, 56.0, 56.0, 56.0, 56.0, 56.0, 68.0, 68.0, 68.0, 68.0, 51.0, 40.0, 40.0, 40.0, 40.0, 40.0, 40.0, 40.0, 40.0, 40.0, 66.0, 66.0, 68.0, 68.0, 68.0, 68.0, 68.0, 68.0, 68.0, 68.0, 68.0, 68.0, 68.0, 68.0, 64.5, 64.5, 64.5, 64.5, 64.5, 64.5, 64.5, 64.5, 64.5, 76.0, 57.0, 57.0, 57.0, 57.0, 57.0, 57.0, 66.0, 60.5, 60.5, 60.5, 60.5, 60.5, 60.5, 60.5, 47.5, 47.5, 47.5, 47.5, 47.5, 47.5, 47.5, 47.5, 47.5, 51.0, 51.0, 51.0, 51.0, 51.0, 51.0, 51.0, 51.0, 51.0, 51.0, 51.0, 51.0, 51.0, 51.0, 78.0, 44.0, 51.5, 62.0, 62.0, 62.0, 62.0, 62.0, 62.0, 62.0, 70.0, 70.0, 70.0, 70.0, 70.0], \"z\": [59, 127, 106, 124, 179, 136, 16, 24, 62, 51, 116, 179, 64, 97, 30, 30, 51, 97, 69, 39, 54, 81, 208, 75, 58, 25, 221, 102, 72, 53, 125, 175, 109, 188, 82, 179, 28, 43, 20, 28, 36, 134, 158, 21, 114, 22, 39, 54, 52, 208, 97, 53, 51, 21, 39, 161, 24, 36, 35, 23, 74, 221, 53, 202, 74, 88, 82, 97, 27, 236, 164, 43, 31, 31, 54, 42, 24, 74, 208, 221, 36, 108, 35, 19, 22, 23, 23, 221, 35, 63, 74, 23, 221, 83, 38, 56, 88, 36, 53, 236, 236, 58, 170, 37, 151, 20, 25, 73, 24, 19, 26, 25, 72, 52, 152, 28, 24, 84, 106, 85, 22, 18, 58, 28, 167, 24, 36, 36, 132, 18, 118, 49, 140, 47, 97, 38, 118, 89, 82, 42, 75, 37, 47, 66, 66, 22, 54, 40, 109, 40, 72, 59, 40, 26, 22, 66, 81, 44, 66, 25, 18, 40, 85, 148, 81, 29, 74, 74, 34, 130, 134, 41, 138, 56, 49, 137, 183, 73, 203, 138, 192, 54, 114, 19, 22, 137, 59, 38, 131, 137, 122, 36, 15, 26, 13, 54, 58, 236, 65, 71, 54, 52, 53, 21, 50, 72, 40, 54, 198, 35, 36, 71, 60, 135, 156, 50, 131, 66, 106, 54, 24, 69, 81, 156, 28, 57, 52, 26, 54, 50, 25, 280, 31, 72, 15, 33, 280, 37, 221, 116, 280, 13, 27, 45, 22, 28, 280, 165, 280, 19, 33, 25, 45, 165, 104, 28, 63, 22, 54, 26, 236, 46, 54, 29, 24, 34, 35, 115, 19, 29, 25, 54, 55, 59, 24, 60, 34, 44, 26, 47, 21, 151, 63, 106, 151, 101, 26, 155, 50, 21, 22, 22, 99, 53, 153, 54, 153, 131, 107, 49, 87, 23, 106, 114, 208, 54, 151, 33, 25, 22, 57, 36, 53, 208, 73, 146, 24, 87, 53, 53, 24, 29, 53, 74, 221, 29, 58, 54, 54, 208, 53, 82, 73, 25, 97, 25, 54, 108, 63, 75, 25, 22, 24, 108, 108, 83, 108, 40, 72, 33, 21, 29, 84, 24, 106, 23, 24, 35, 108, 21, 21, 63, 36, 63, 50, 26, 72, 150, 39, 22, 150, 99, 150, 30, 97, 29, 85, 25, 34, 128, 35, 128, 221, 51, 132, 128, 128, 132, 128, 221, 168, 31, 52, 54, 37, 28, 40, 52, 72, 54, 37, 37, 85, 53, 25, 23, 64, 322, 54, 53, 37, 116, 156, 16, 23, 45, 74, 74, 37, 73, 39, 19, 168, 24, 23, 40, 19, 22, 22, 22, 130, 69, 23, 145, 41, 24, 23, 45, 103, 44, 45, 44, 24, 20, 28, 45, 75, 22, 24, 144, 235, 23, 38, 75, 27, 23, 111, 104, 25, 47, 54, 99, 63, 231]}, {\"hovertemplate\": \"color=Cluster-2<br>Rating=%{x}<br>Mean Salary=%{y}<br>Years Founded=%{z}<extra></extra>\", \"legendgroup\": \"Cluster-2\", \"marker\": {\"color\": \"yellow\", \"opacity\": 0.9, \"symbol\": \"circle\"}, \"mode\": \"markers\", \"name\": \"Cluster-2\", \"scene\": \"scene\", \"showlegend\": true, \"type\": \"scatter3d\", \"x\": [3.4, 4.1, 3.9, 3.9, 4.4, 4.4, 3.4, 3.8, 4.9, 4.4, 5.0, 4.8, 3.6, 5.0, 3.6, 3.9, 3.6, 3.9, 4.8, 3.9, 4.4, 4.7, 3.8, 4.6, 4.0, 5.0, 3.6, 3.4, 3.4, 3.2, 3.8, 4.1, 2.9, 3.9, 3.3, 3.7, 5.0, 5.0, 4.5, 4.8, 3.5, 3.9, 3.5, 4.0, 4.3, 4.0, 4.1, 4.8, 3.7, 4.6, 4.0, 3.9, 4.3, 3.7, 3.8, 3.6, 4.0, 4.0, 4.0, 4.1, 4.5, 4.6, 4.1, 4.5, 3.5, 4.1, 4.0, 3.5, 4.2, 4.3, 5.0, 4.9, 5.0, 4.9, 3.8, 5.0, 5.0, 3.8, 4.9, 3.5, 3.8, 4.9, 5.0, 5.0, 5.0, 5.0, 3.7, 3.8, 3.8, 4.1, 3.7, 4.7, 4.0, 5.0, 5.0, 4.9, 3.7, 3.0, 3.5, 4.6, 3.8, 3.7, 4.0, 4.9, 4.3, 4.2, 3.9, 3.8, 3.8, 3.7, 3.7, 5.0, 3.8, 3.7, 3.9, 4.6, 4.6, 4.7, 4.3, 3.8, 4.8, 4.2, 3.2, 4.8, 4.1, 4.5, 5.0, 3.9, 3.9, 4.8, 4.3, 4.1, 3.9, 3.9, 4.8, 5.0, 4.7, 4.8, 4.1, 3.9, 3.7, 3.8, 4.1, 4.0, 4.5, 3.6, 3.2, 4.7, 3.9, 3.9, 3.9, 3.8, 5.0, 4.2, 3.3, 4.1, 3.9, 5.0, 4.2, 3.9, 3.9, 3.1, 4.5, 4.1, 3.5, 4.0, 3.9, 4.7, 4.2, 3.7, 4.5, 3.9, 3.9, 4.0, 3.9, 3.7, 4.1, 3.4, 5.0, 4.0, 4.5, 3.7, 4.0, 3.3, 3.7, 4.1, 4.1, 4.9, 3.9, 4.4, 5.0, 3.8, 3.6, 4.6, 3.6, 3.8, 4.1, 5.0, 4.5, 4.4, 4.3, 4.2, 4.2, 3.4, 3.8, 3.6, 3.6, 3.7, 3.4, 4.2, 3.9, 4.3, 3.9, 4.5, 3.9, 4.6, 3.8, 4.6, 4.1, 4.1, 4.9, 4.7, 4.0, 4.6, 4.3, 5.0, 3.2, 3.8, 5.0, 4.0, 3.5, 3.9, 5.0, 3.5, 3.5, 2.7, 5.0, 5.0, 5.0, 5.0, 3.9, 5.0, 4.2, 4.8, 4.8, 4.2, 3.6, 5.0, 5.0, 3.4, 4.5, 5.0, 4.5, 5.0, 4.0, 4.5, 4.5, 3.8, 3.8, 4.1, 5.0, 3.9, 3.6, 3.7, 4.1, 3.5, 3.5, 4.3, 5.0, 4.0, 3.8, 3.8, 4.5, 4.8, 3.9, 3.9, 3.9, 4.4, 3.9, 3.6, 5.0, 4.4, 4.4, 4.9, 4.3, 4.8, 3.4, 4.6, 3.8, 4.6, 3.8, 4.6, 4.6, 5.0, 3.3, 4.2, 3.8, 5.0, 3.6, 4.6, 5.0, 4.0, 5.0, 4.3, 4.6, 3.5, 5.0, 4.7, 5.0, 4.4, 5.0, 5.0, 5.0, 3.8, 3.8, 3.6, 4.0, 3.8, 4.3, 3.8, 5.0, 4.1, 3.9, 4.0, 5.0, 3.7, 3.6, 5.0, 4.6, 3.5, 3.7], \"y\": [51.5, 51.5, 51.5, 51.5, 51.5, 51.5, 51.5, 51.5, 51.5, 51.5, 51.5, 51.5, 66.5, 66.5, 66.5, 66.5, 66.5, 66.5, 69.5, 69.5, 69.0, 69.0, 69.0, 69.0, 69.0, 69.0, 59.5, 59.5, 59.5, 59.5, 59.5, 59.5, 59.5, 59.5, 59.5, 59.5, 59.5, 59.5, 59.5, 59.5, 59.5, 66.5, 39.5, 39.5, 39.5, 39.5, 39.5, 39.5, 39.5, 39.5, 58.0, 58.0, 58.0, 58.0, 58.0, 58.0, 58.0, 58.0, 58.0, 36.5, 36.5, 36.5, 36.5, 36.5, 36.5, 36.5, 45.0, 45.0, 45.0, 56.0, 56.0, 56.0, 56.0, 56.0, 56.0, 56.0, 56.0, 56.0, 56.0, 56.0, 56.0, 56.0, 42.0, 42.0, 42.0, 42.0, 53.5, 53.5, 53.5, 53.5, 53.5, 53.5, 53.5, 53.5, 40.0, 40.0, 40.0, 40.0, 40.0, 40.0, 40.0, 54.0, 54.0, 54.0, 54.0, 54.0, 54.0, 54.0, 54.0, 63.0, 63.0, 63.0, 63.0, 63.0, 63.0, 63.0, 63.0, 63.0, 63.0, 63.0, 59.0, 59.0, 59.0, 59.0, 59.0, 59.0, 59.0, 33.5, 33.5, 33.5, 33.5, 33.5, 33.5, 33.5, 33.5, 61.5, 61.5, 61.5, 61.5, 68.5, 68.5, 68.5, 61.5, 61.5, 61.5, 59.5, 59.5, 59.5, 59.5, 59.5, 59.5, 59.5, 59.5, 59.5, 59.5, 59.5, 59.5, 53.0, 53.0, 53.0, 53.0, 53.0, 53.0, 53.0, 53.0, 40.5, 40.5, 40.5, 40.5, 40.5, 40.5, 40.5, 71.5, 52.5, 52.5, 52.5, 52.5, 52.5, 52.5, 52.5, 52.5, 52.5, 52.5, 47.5, 47.5, 36.0, 36.0, 36.0, 36.0, 36.0, 36.0, 41.5, 41.5, 41.5, 41.5, 41.5, 41.5, 41.5, 63.5, 63.5, 63.5, 63.5, 63.5, 63.5, 63.0, 63.0, 63.0, 63.0, 63.0, 63.0, 68.0, 68.0, 61.0, 61.0, 72.0, 59.0, 59.0, 59.0, 59.0, 59.0, 59.0, 59.0, 59.0, 59.0, 59.0, 59.0, 59.0, 59.0, 59.0, 59.0, 38.5, 38.5, 38.5, 38.5, 38.5, 38.5, 56.0, 56.0, 56.0, 56.0, 56.0, 68.0, 51.0, 51.0, 51.0, 40.0, 40.0, 40.0, 40.0, 40.0, 40.0, 40.0, 40.0, 40.0, 40.0, 40.0, 66.0, 68.0, 68.0, 68.0, 68.0, 68.0, 64.5, 64.5, 64.5, 64.5, 64.5, 64.5, 64.5, 64.5, 57.0, 57.0, 66.0, 66.0, 66.0, 66.0, 66.0, 66.0, 66.0, 66.0, 66.0, 66.0, 66.0, 66.0, 60.5, 60.5, 60.5, 60.5, 60.5, 60.5, 60.5, 60.5, 60.5, 60.5, 47.5, 47.5, 47.5, 47.5, 47.5, 47.5, 47.5, 47.5, 47.5, 51.0, 51.0, 51.0, 51.0, 51.0, 51.0, 0.5, 44.0, 44.0, 44.0, 51.5, 62.0, 62.0, 62.0, 62.0, 62.0, 62.0, 62.0, 62.0, 62.0, 62.0, 62.0, 62.0, 62.0, 62.0, 62.0, 70.0, 70.0], \"z\": [17, 18, 11, 6, 19, 7, 4, 19, 14, 22, 9, 3, 15, 4, 13, 18, 5, 20, 3, 15, 9, 3, 8, 9, 16, 6, 7, 7, 7, 11, 5, 22, 5, 18, 12, 5, 12, 8, 30, 9, 12, 18, 18, 22, 12, 16, 22, 9, 11, 24, 16, 18, 14, 17, 8, 2, 16, 16, 16, 2, 9, 19, 22, 9, 9, 9, 14, 9, 16, 36, 12, 20, 12, 20, 23, 5, 12, 23, 20, 6, 23, 20, 12, 12, 12, 12, 20, 7, 13, 4, 17, 33, 6, 12, 12, 15, 17, 7, 14, 19, 4, 4, 24, 15, 24, 26, 10, 9, 4, 20, 13, 21, 19, 9, 20, 10, 10, 26, 23, 21, 6, 17, 13, 9, 19, 12, 12, 20, 23, 6, 8, 17, 20, 16, 10, 12, 34, 10, 17, 18, 16, 13, 13, 20, 12, 12, 3, 7, 16, 20, 20, 18, 12, 28, 7, 29, 20, 12, 6, 20, 20, 5, 9, 29, 14, 8, 9, 24, 30, 15, 9, 9, 9, 10, 18, 9, 6, 10, 12, 21, 4, 21, 17, 2, 16, 32, 32, 5, 20, 25, 12, 15, 3, 21, 3, 10, 16, 12, 30, 21, 12, 12, 22, 8, 15, 3, 7, 21, 5, 12, 18, 9, 19, 7, 7, 3, 4, 6, 12, 13, 15, 10, 10, 3, 21, 12, 8, 22, 12, 7, 14, 14, 12, 13, 13, 5, 12, 12, 12, 38, 18, 14, 22, 21, 21, 21, 8, 12, 12, 16, 20, 23, 12, 12, 21, 12, 26, 3, 15, 21, 12, 18, 15, 21, 24, 1, 4, 37, 12, 10, 3, 22, 23, 7, 18, 18, 18, 9, 15, 16, 12, 13, 25, 19, 16, 7, 8, 20, 5, 20, 5, 20, 20, 22, 6, 8, 5, 12, 19, 10, 12, 10, 12, 9, 19, 12, 12, 23, 12, 19, 12, 12, 12, 5, 19, 10, 12, 15, 23, 20, 2, 29, 7, 5, 12, 16, 15, 12, 27, 8, 16]}, {\"hovertemplate\": \"color=Cluster-1<br>Rating=%{x}<br>Mean Salary=%{y}<br>Years Founded=%{z}<extra></extra>\", \"legendgroup\": \"Cluster-1\", \"marker\": {\"color\": \"indigo\", \"opacity\": 0.9, \"symbol\": \"circle\"}, \"mode\": \"markers\", \"name\": \"Cluster-1\", \"scene\": \"scene\", \"showlegend\": true, \"type\": \"scatter3d\", \"x\": [3.2, 3.0, 3.6, 3.6, 3.6, 3.7, 3.5, 3.3, 3.1, 3.4, 3.0, 2.8, 3.6, 3.5, 3.3, 2.9, 3.2, 2.7, 3.1, 3.7, 3.1, 3.7, 3.7, 3.6, 3.6, 3.7, 3.1, 3.8, 3.7, 3.7, 3.2, 3.5, 3.0, 3.8, 3.6, 3.2, 2.9, 3.1, 3.8, 3.0, 2.4, 2.8, 2.8, 3.5, 2.0, 3.3, 3.4, 3.6, 2.8, 3.0, 3.9, 3.4, 3.2, 2.8, 3.2, 3.4, 3.4, 3.5, 3.3, 3.6, 2.7, 3.2, 3.0, 3.1, 3.7, 3.3, 3.1, 3.1, 3.2, 3.4, 3.7, 3.5, 3.2, 3.4, 3.1, 3.4, 3.5, 3.6, 3.6, 3.3, 3.3, 3.1, 3.6, 3.7, 3.2, 3.6, 3.9, 3.5, 3.2, 3.4, 3.2, 3.9, 3.1, 3.3, 3.0, 3.4, 3.5, 3.5, 3.4, 2.1, 2.5, 3.5, 3.8, 3.0, 3.3, 3.3, 3.5, 3.0, 3.2, 3.1, 3.3, 2.9, 3.3, 3.2, 3.3, 2.8, 3.9, 3.4, 3.1, 3.1, 3.3, 2.9, 3.6, 3.4, 3.2, 2.8, 3.3, 3.2, 3.9, 3.4, 3.5, 3.5, 3.5, 3.2, 3.9, 3.9, 2.7, 3.4, 3.2, 3.8, 3.5, 3.0, 3.0, 3.7, 3.7, 3.6, 2.9, 2.5, 2.5, 2.5, 3.3, 3.7, 3.4, 3.8, 3.2, 3.2, 3.5, 3.0, 3.3, 3.0, 2.7, 3.2, 2.7, 3.3, 3.3, 2.8, 3.7, 3.8, 3.0, 3.4, 2.5, 2.4, 2.9, 2.7, 2.8, 3.4, 3.6, 3.6, 3.2, 3.6, 3.2, 3.6, 3.3, 3.1, 2.2, 3.1, 3.2, 3.7, 3.5, 3.2, 3.5, 3.6, 3.0, 3.2, 3.6, 3.6, 3.6, 3.1, 3.1, 3.4, 2.9, 3.6, 2.9, 3.4, 3.4, 3.1, 3.1, 3.1, 2.5, 3.2, 3.5, 3.0, 3.5, 3.0, 2.7, 2.9, 3.6, 3.6, 2.3, 3.6, 3.5, 2.4, 3.7, 3.2, 3.5, 3.7, 3.9, 3.6, 3.4, 3.4, 3.3, 3.7, 2.8, 2.7, 3.5, 3.6, 3.1, 3.3, 2.6, 3.3, 3.8, 3.3, 3.1, 3.1, 3.6, 3.3, 3.0, 3.7, 3.7, 3.4, 3.2, 3.0, 3.4, 3.2, 2.8, 3.5, 3.5, 3.6, 3.3, 3.4, 3.7, 3.3, 3.5, 3.3, 2.5, 3.3, 3.7, 3.7, 3.5, 3.0, 1.9, 2.8, 3.4, 2.1, 3.0, 3.2, 3.7, 3.2, 3.3, 2.8, 3.2, 3.5, 3.3, 3.1, 3.4, 3.4, 3.5, 3.6, 3.6, 3.8, 2.4, 3.2, 3.3, 3.5, 3.2, 3.5, 3.3, 3.1, 3.8, 3.4, 3.1, 3.3, 3.3, 3.3, 3.4, 3.5, 3.7, 2.2, 3.1, 3.7, 3.3, 3.5, 3.6, 3.3, 3.6, 3.3, 2.9, 3.6, 2.6, 1.9, 3.3, 2.8, 3.2, 3.7, 2.6, 2.8, 2.8, 3.3, 2.6, 3.3, 3.1, 2.9, 3.6, 3.4, 3.4, 3.6, 3.2, 3.3, 3.3, 3.2, 3.3, 2.8, 1.8, 3.3, 3.7, 3.6, 3.0, 3.5, 3.3, 3.6, 3.7, 2.3, 3.3, 3.8, 3.6, 3.4, 3.4, 3.2, 3.7, 3.2, 3.7, 3.2, 3.2, 3.4, 3.2, 3.3, 3.0, 3.2, 3.7, 3.2, 2.8, 3.4, 3.5, 3.3, 3.5, 2.7, 3.0, 3.2, 3.5, 3.0, 3.9, 3.7, 3.7, 3.5, 3.6, 3.1, 3.3, 3.7, 3.1, 3.8, 3.5, 3.5, 3.5, 3.3, 3.0, 3.7, 3.6, 3.5, 2.9, 2.6, 3.7, 3.3, 2.7, 3.0, 2.8, 3.6, 3.6, 3.3, 3.5, 3.0, 2.8, 2.9, 3.1, 3.4], \"y\": [66.5, 66.5, 69.5, 69.5, 69.5, 69.5, 69.5, 69.5, 69.5, 69.5, 69.0, 69.0, 69.0, 72.0, 72.0, 72.0, 72.0, 72.0, 72.0, 85.0, 85.0, 85.0, 85.0, 85.0, 85.0, 85.0, 85.0, 85.0, 85.0, 85.0, 85.0, 85.0, 66.5, 100.0, 100.0, 100.0, 100.0, 100.0, 87.0, 87.0, 104.5, 104.5, 104.5, 104.5, 104.5, 104.5, 104.5, 104.5, 104.5, 104.5, 104.5, 104.5, 106.0, 106.0, 106.0, 106.0, 106.0, 106.0, 106.0, 106.0, 106.0, 106.0, 106.0, 106.0, 106.0, 72.0, 72.0, 72.0, 72.0, 72.0, 80.5, 80.5, 80.5, 80.5, 80.5, 80.5, 80.5, 80.5, 80.5, 80.5, 80.5, 79.0, 79.0, 79.0, 79.0, 79.0, 79.0, 79.0, 79.0, 79.0, 80.0, 80.0, 80.0, 80.0, 80.0, 80.0, 80.0, 80.0, 80.0, 80.0, 73.0, 73.0, 73.0, 73.0, 73.0, 73.0, 73.0, 73.0, 73.0, 73.0, 73.0, 122.5, 122.5, 122.5, 122.5, 122.5, 122.5, 122.5, 122.5, 122.5, 122.5, 122.5, 122.5, 122.5, 63.0, 63.0, 63.0, 77.5, 77.5, 77.5, 77.5, 77.5, 77.5, 77.5, 77.5, 79.5, 79.5, 79.5, 79.5, 79.5, 79.5, 79.5, 79.5, 79.5, 79.5, 79.5, 79.5, 79.5, 59.0, 59.0, 113.0, 113.0, 113.0, 113.0, 113.0, 113.0, 113.0, 113.0, 113.0, 113.0, 113.0, 113.0, 77.5, 77.5, 77.5, 77.5, 77.5, 77.5, 77.5, 77.5, 61.5, 61.5, 61.5, 61.5, 61.5, 98.5, 98.5, 98.5, 98.5, 98.5, 98.5, 98.5, 98.5, 98.5, 98.5, 73.5, 73.5, 73.5, 73.5, 73.5, 73.5, 73.5, 73.5, 73.5, 73.5, 73.5, 73.5, 73.5, 73.5, 73.5, 73.5, 74.0, 74.0, 74.0, 74.0, 74.0, 74.0, 74.0, 74.0, 74.0, 74.0, 74.0, 74.0, 68.5, 68.5, 68.5, 68.5, 68.5, 59.5, 88.5, 88.5, 88.5, 88.5, 88.5, 88.5, 88.5, 88.5, 88.5, 88.5, 88.5, 88.5, 88.5, 88.5, 88.5, 71.5, 71.5, 71.5, 81.0, 81.0, 81.0, 81.0, 81.0, 81.0, 81.0, 99.0, 99.0, 99.0, 99.0, 99.0, 99.0, 99.0, 99.0, 99.0, 99.0, 99.0, 99.0, 99.0, 99.0, 92.0, 92.0, 92.0, 92.0, 92.0, 92.0, 92.0, 92.0, 92.0, 92.0, 92.0, 63.5, 63.5, 63.5, 63.5, 63.0, 68.0, 68.0, 68.0, 68.0, 68.0, 68.0, 68.0, 68.0, 150.0, 150.0, 150.0, 150.0, 150.0, 150.0, 150.0, 120.0, 120.0, 120.0, 98.0, 98.0, 98.0, 98.0, 98.0, 72.0, 72.0, 72.0, 72.0, 72.0, 72.0, 72.0, 75.5, 75.5, 75.5, 75.5, 75.5, 75.5, 75.5, 75.5, 75.5, 89.5, 89.5, 89.5, 89.5, 89.5, 59.0, 59.0, 78.5, 78.5, 78.5, 78.5, 78.5, 78.5, 78.5, 78.5, 78.5, 78.5, 68.0, 68.0, 63.5, 66.0, 68.0, 68.0, 68.0, 68.0, 76.0, 76.0, 76.0, 76.0, 76.0, 76.0, 76.0, 80.5, 80.5, 80.5, 80.5, 80.5, 80.5, 80.5, 138.5, 138.5, 138.5, 138.5, 126.0, 126.0, 126.0, 126.0, 126.0, 126.0, 126.0, 126.0, 126.0, 99.0, 99.0, 99.0, 99.0, 92.5, 92.5, 92.5, 92.5, 92.5, 92.5, 66.0, 66.0, 66.0, 66.0, 60.5, 78.0, 78.0, 78.0, 78.0, 78.0, 62.0, 62.0, 70.0, 70.0, 70.0, 70.0, 70.0, 70.0, 70.0, 78.5, 78.5, 78.5, 78.5, 78.5, 78.5, 78.5, 78.5, 78.5, 78.5, 78.5, 78.5, 78.5, 78.5, 91.0, 91.0, 91.0, 91.0, 91.0, 91.0], \"z\": [9, 7, 22, 22, 22, 21, 35, 17, 9, 13, 53, 26, 16, 52, 25, 5, 11, 86, 30, 23, 9, 39, 208, 51, 158, 27, 9, 85, 30, 136, 49, 31, 36, 53, 22, 236, 64, 24, 124, 35, 83, 16, 20, 72, 43, 53, 2, 30, 42, 35, 221, 24, 36, 20, 236, 38, 7, 18, 25, 43, 35, 236, 36, 9, 38, 27, 31, 9, 2, 2, 114, 58, 18, 2, 18, 2, 22, 58, 19, 20, 20, 24, 10, 24, 24, 20, 118, 72, 8, 76, 24, 118, 23, 19, 49, 22, 72, 72, 41, 8, 26, 41, 38, 30, 17, 17, 14, 30, 43, 40, 101, 94, 101, 43, 56, 29, 97, 165, 40, 40, 56, 7, 61, 59, 19, 21, 21, 5, 37, 76, 7, 13, 137, 5, 37, 183, 22, 85, 37, 31, 112, 17, 54, 61, 203, 32, 23, 38, 15, 15, 44, 92, 54, 53, 5, 107, 72, 119, 21, 104, 22, 163, 22, 161, 36, 7, 23, 32, 119, 175, 21, 15, 11, 22, 15, 54, 26, 71, 236, 71, 8, 71, 9, 65, 40, 156, 81, 45, 50, 81, 72, 28, 17, 26, 18, 21, 47, 156, 156, 72, 35, 16, 69, 98, 22, 63, 75, 156, 19, 45, 19, 15, 40, 17, 3, 69, 23, 24, 17, 26, 50, 116, 54, 45, 50, 23, 190, 26, 33, 33, 133, 23, 16, 22, 50, 13, 37, 15, 29, 17, 46, 25, 30, 30, 58, 67, 30, 23, 54, 17, 67, 30, 20, 11, 16, 68, 21, 123, 31, 74, 54, 36, 10, 2, 31, 37, 30, 54, 24, 13, 23, 25, 15, 25, 42, 24, 21, 13, 26, 25, 13, 14, 23, 30, 74, 17, 23, 20, 20, 43, 5, 28, 213, 10, 23, 72, 14, 6, 25, 60, 42, 18, 24, 18, 74, 24, 23, 11, 42, 21, 18, 17, 20, 18, 24, 18, 11, 14, 6, 5, 21, 108, 16, 82, 32, 22, 108, 36, 24, 14, 28, 28, 21, 16, 16, 23, 45, 18, 18, 30, 74, 85, 14, 74, 21, 14, 23, 18, 56, 22, 114, 18, 13, 96, 20, 16, 19, 20, 35, 24, 39, 4, 21, 118, 13, 6, 21, 24, 27, 11, 146, 16, 7, 68, 13, 6, 21, 21, 21, 17, 45, 21, 21, 28, 30, 24, 15, 20, 13, 25, 13, 18, 13, 26, 90, 23, 57, 30, 7, 29, 20, 14, 22, 90, 83, 57, 48, 26, 50, 90, 16, 85, 36, 156]}, {\"hovertemplate\": \"color=Cluster-3<br>Rating=%{x}<br>Mean Salary=%{y}<br>Years Founded=%{z}<extra></extra>\", \"legendgroup\": \"Cluster-3\", \"marker\": {\"color\": \"lightseagreen\", \"opacity\": 0.9, \"symbol\": \"circle\"}, \"mode\": \"markers\", \"name\": \"Cluster-3\", \"scene\": \"scene\", \"showlegend\": true, \"type\": \"scatter3d\", \"x\": [4.9, 3.9, 4.1, 4.5, 4.1, 5.0, 4.0, 4.0, 4.1, 4.2, 3.9, 4.2, 3.9, 4.1, 4.5, 4.1, 3.6, 4.9, 4.5, 3.9, 4.1, 3.8, 3.9, 4.0, 4.8, 3.8, 3.9, 5.0, 3.7, 4.2, 5.0, 4.0, 4.0, 3.7, 4.5, 4.4, 4.3, 5.0, 4.8, 4.2, 4.2, 4.0, 5.0, 4.5, 3.8, 5.0, 5.0, 5.0, 5.0, 3.6, 4.3, 4.3, 4.5, 4.3, 5.0, 4.7, 4.0, 4.5, 3.7, 4.6, 4.5, 3.9, 3.9, 4.0, 4.5, 4.0, 3.8, 4.7, 3.8, 4.7, 5.0, 4.1, 3.7, 4.6, 3.8, 4.2, 4.6, 3.7, 4.1, 5.0, 3.6, 3.9, 5.0, 4.7, 4.6, 3.9, 4.8, 4.5, 4.0, 4.0, 3.8, 3.9, 3.9, 4.3, 4.0, 4.5, 3.9, 5.0, 4.3, 4.6, 3.5, 4.1, 4.5, 4.7, 4.0, 4.0, 3.8, 4.0, 5.0, 5.0, 3.7, 3.8, 4.8, 4.4, 4.9, 4.1, 4.6, 3.9, 4.6, 3.9, 3.9, 3.8, 3.7, 5.0, 4.5, 4.0, 4.9, 4.3, 4.5, 4.1, 4.4, 4.2, 4.2, 4.3, 4.2, 3.9, 4.6, 4.8, 5.0, 4.2, 4.5, 3.9, 4.1, 3.8, 4.0, 3.9, 4.3, 4.2, 4.2, 5.0, 4.4, 4.8, 3.8, 3.9, 5.0, 4.0, 3.9, 4.3, 4.2, 4.6, 4.4, 4.4, 4.1, 4.2, 4.3, 5.0, 4.3, 4.1, 4.2, 4.9, 4.5, 4.6, 3.9, 4.0, 3.8, 4.0, 3.9, 3.8, 5.0, 4.4, 3.9, 4.0, 3.9, 3.9, 4.4, 3.9, 4.1, 3.8, 3.7, 4.0, 4.1, 3.9, 4.5, 4.8, 3.9, 4.0, 5.0, 4.1, 4.1, 4.5, 4.6, 5.0, 4.0, 4.3, 4.1, 4.5, 4.1, 4.7, 4.1, 4.2, 4.8, 3.9, 3.7, 3.8, 3.9, 4.7, 4.4, 4.1, 4.4, 4.8, 4.1, 4.1, 3.9, 4.4, 3.9, 4.1, 4.8, 4.4, 4.4, 4.5, 3.7, 3.7, 3.7, 4.0, 3.7, 5.0, 4.5, 3.9, 4.1, 4.4, 4.8, 4.1, 3.8, 3.9, 3.8, 3.7, 3.9, 3.9, 4.1, 3.7, 4.5, 4.5, 4.6, 3.9, 3.7, 3.7, 4.4, 5.0, 4.1, 4.7, 4.1, 4.1, 4.3, 5.0, 4.4, 4.1, 3.8, 4.3, 4.0, 3.9, 4.0, 5.0, 3.8, 4.6, 4.1, 4.8, 3.7, 3.6, 3.9, 3.8, 4.0, 4.9, 4.6, 3.8, 4.0, 4.5, 4.1, 4.0, 3.6, 5.0, 4.4, 4.1, 4.6, 4.2, 4.3, 3.7, 4.0, 3.9, 3.9, 4.1, 4.6, 4.0, 4.1, 3.9, 3.8, 4.1, 3.7, 4.1, 4.1, 4.8, 4.5, 4.1, 5.0, 3.9, 4.0, 4.6, 3.9, 3.8, 3.8, 4.0, 4.4, 3.6, 3.9, 4.0, 4.4, 4.5, 3.9, 3.7, 3.8, 5.0, 3.7, 4.6, 4.0, 4.1, 4.5, 3.9, 3.8, 4.0, 4.1, 4.1, 4.3, 4.4, 4.0, 3.6, 4.3, 4.6, 4.3, 5.0, 4.2, 4.6, 4.5, 4.4, 4.1, 5.0, 4.7, 5.0, 4.2, 4.1, 4.0, 5.0, 5.0, 3.8, 3.8, 4.0], \"y\": [66.5, 69.5, 69.5, 69.5, 69.0, 72.0, 72.0, 72.0, 72.0, 72.0, 72.0, 72.0, 72.0, 85.0, 85.0, 85.0, 85.0, 100.0, 100.0, 87.0, 87.0, 87.0, 87.0, 87.0, 87.0, 87.0, 104.5, 104.5, 104.5, 104.5, 104.5, 104.5, 106.0, 106.0, 106.0, 106.0, 106.0, 106.0, 106.0, 106.0, 106.0, 106.0, 72.0, 72.0, 80.5, 80.5, 79.0, 79.0, 79.0, 79.0, 79.0, 79.0, 79.0, 79.0, 79.0, 79.0, 79.0, 80.0, 80.0, 80.0, 80.0, 80.0, 80.0, 80.0, 80.0, 80.0, 80.0, 73.0, 73.0, 73.0, 122.5, 122.5, 122.5, 122.5, 122.5, 77.5, 77.5, 77.5, 77.5, 77.5, 77.5, 77.5, 77.5, 77.5, 77.5, 77.5, 77.5, 79.5, 79.5, 79.5, 79.5, 79.5, 79.5, 79.5, 79.5, 113.0, 113.0, 113.0, 113.0, 113.0, 113.0, 77.5, 98.5, 98.5, 98.5, 98.5, 98.5, 98.5, 98.5, 98.5, 98.5, 98.5, 98.5, 73.5, 73.5, 73.5, 73.5, 73.5, 73.5, 73.5, 74.0, 74.0, 74.0, 74.0, 74.0, 74.0, 68.5, 68.5, 68.5, 68.5, 88.5, 88.5, 88.5, 88.5, 88.5, 88.5, 71.5, 71.5, 71.5, 71.5, 71.5, 81.0, 81.0, 81.0, 81.0, 81.0, 99.0, 99.0, 99.0, 99.0, 99.0, 99.0, 99.0, 99.0, 99.0, 92.0, 92.0, 92.0, 92.0, 92.0, 92.0, 92.0, 92.0, 92.0, 92.0, 92.0, 92.0, 92.0, 92.0, 92.0, 150.0, 150.0, 150.0, 150.0, 150.0, 150.0, 150.0, 150.0, 150.0, 150.0, 150.0, 150.0, 150.0, 150.0, 120.0, 120.0, 120.0, 120.0, 120.0, 120.0, 120.0, 120.0, 120.0, 120.0, 120.0, 120.0, 120.0, 120.0, 120.0, 120.0, 120.0, 120.0, 120.0, 98.0, 98.0, 98.0, 98.0, 98.0, 98.0, 98.0, 98.0, 98.0, 98.0, 98.0, 98.0, 98.0, 98.0, 98.0, 98.0, 72.0, 72.0, 72.0, 72.0, 72.0, 72.0, 72.0, 72.0, 72.0, 72.0, 75.5, 75.5, 75.5, 75.5, 75.5, 75.5, 75.5, 75.5, 75.5, 75.5, 75.5, 75.5, 75.5, 89.5, 89.5, 89.5, 89.5, 89.5, 89.5, 89.5, 89.5, 78.5, 78.5, 78.5, 78.5, 78.5, 78.5, 68.0, 68.0, 68.0, 68.0, 76.0, 76.0, 76.0, 76.0, 76.0, 76.0, 76.0, 76.0, 80.5, 80.5, 80.5, 80.5, 80.5, 80.5, 80.5, 80.5, 80.5, 80.5, 80.5, 80.5, 80.5, 80.5, 80.5, 80.5, 80.5, 80.5, 138.5, 138.5, 138.5, 138.5, 138.5, 138.5, 138.5, 138.5, 138.5, 138.5, 138.5, 138.5, 138.5, 138.5, 138.5, 138.5, 138.5, 126.0, 126.0, 126.0, 126.0, 126.0, 126.0, 126.0, 126.0, 126.0, 126.0, 126.0, 126.0, 126.0, 99.0, 99.0, 99.0, 99.0, 99.0, 99.0, 99.0, 99.0, 99.0, 99.0, 99.0, 92.5, 92.5, 92.5, 92.5, 92.5, 92.5, 92.5, 92.5, 92.5, 92.5, 92.5, 92.5, 92.5, 78.0, 78.0, 78.0, 78.0, 78.0, 78.0, 78.0, 78.0, 78.0, 78.0, 78.0, 78.0, 70.0, 70.0, 70.0, 70.0, 78.5, 78.5, 78.5, 78.5, 78.5, 78.5, 78.5, 91.0], \"z\": [30, 18, 36, 16, 24, 12, 23, 16, 22, 12, 18, 57, 26, 8, 16, 17, 2, 2, 12, 18, 8, 20, 18, 23, 9, 22, 15, 12, 12, 9, 28, 179, 16, 21, 12, 7, 11, 28, 9, 16, 21, 16, 12, 12, 23, 5, 6, 12, 2, 3, 24, 6, 23, 4, 9, 13, 6, 30, 4, 5, 31, 23, 11, 1, 3, 101, 7, 6, 19, 13, 7, 81, 17, 21, 4, 21, 9, 8, 3, 12, 5, 18, 12, 26, 24, 29, 6, 16, 130, 20, 19, 16, 20, 24, 55, 16, 21, 2, 25, 8, 7, 38, 40, 34, 22, 16, 22, 48, 13, 2, 21, 20, 10, 10, 15, 34, 1, 18, 1, 26, 20, 18, 16, 2, 16, 21, 15, 17, 34, 20, 26, 28, 30, 11, 30, 18, 25, 18, 12, 30, 9, 18, 54, 21, 21, 19, 60, 152, 10, 12, 10, 6, 14, 22, 12, 75, 22, 60, 20, 7, 37, 37, 35, 20, 60, 12, 60, 58, 30, 18, 10, 27, 31, 8, 18, 14, 11, 24, 4, 4, 18, 9, 23, 18, 5, 23, 44, 32, 16, 26, 29, 14, 7, 9, 28, 22, 12, 44, 44, 13, 48, 12, 25, 129, 32, 4, 44, 7, 44, 21, 26, 18, 20, 24, 7, 20, 5, 44, 25, 9, 44, 32, 26, 9, 9, 17, 14, 25, 37, 13, 6, 6, 18, 10, 18, 12, 20, 14, 44, 22, 14, 32, 10, 19, 25, 20, 16, 18, 44, 16, 16, 4, 27, 5, 15, 10, 25, 39, 29, 23, 29, 54, 37, 12, 9, 14, 22, 37, 38, 12, 38, 6, 12, 9, 9, 6, 9, 6, 15, 20, 4, 3, 10, 20, 8, 8, 6, 8, 8, 4, 6, 113, 11, 8, 8, 16, 8, 11, 28, 113, 13, 14, 156, 18, 31, 24, 8, 9, 4, 7, 13, 12, 12, 18, 14, 20, 24, 5, 10, 8, 6, 9, 10, 11, 6, 27, 24, 3, 14, 12, 18, 19, 11, 54, 7, 18, 25, 8, 4, 338, 45, 19, 44, 4, 45, 19, 45, 12, 30, 8, 14, 19, 29, 19, 15, 19, 31, 39, 75, 12, 12, 25, 25, 21]}],\n",
       "                        {\"legend\": {\"title\": {\"text\": \"color\"}, \"tracegroupgap\": 0}, \"margin\": {\"b\": 0, \"l\": 0, \"r\": 0, \"t\": 0}, \"scene\": {\"domain\": {\"x\": [0.0, 1.0], \"y\": [0.0, 1.0]}, \"xaxis\": {\"title\": {\"text\": \"Rating\"}}, \"yaxis\": {\"title\": {\"text\": \"Mean Salary\"}}, \"zaxis\": {\"title\": {\"text\": \"Years Founded\"}}}, \"template\": {\"data\": {\"bar\": [{\"error_x\": {\"color\": \"#2a3f5f\"}, \"error_y\": {\"color\": \"#2a3f5f\"}, \"marker\": {\"line\": {\"color\": \"#E5ECF6\", \"width\": 0.5}}, \"type\": \"bar\"}], \"barpolar\": [{\"marker\": {\"line\": {\"color\": \"#E5ECF6\", \"width\": 0.5}}, \"type\": \"barpolar\"}], \"carpet\": [{\"aaxis\": {\"endlinecolor\": \"#2a3f5f\", \"gridcolor\": \"white\", \"linecolor\": \"white\", \"minorgridcolor\": \"white\", \"startlinecolor\": \"#2a3f5f\"}, \"baxis\": {\"endlinecolor\": \"#2a3f5f\", \"gridcolor\": \"white\", \"linecolor\": \"white\", \"minorgridcolor\": \"white\", \"startlinecolor\": \"#2a3f5f\"}, \"type\": \"carpet\"}], \"choropleth\": [{\"colorbar\": {\"outlinewidth\": 0, \"ticks\": \"\"}, \"type\": \"choropleth\"}], \"contour\": [{\"colorbar\": {\"outlinewidth\": 0, \"ticks\": \"\"}, \"colorscale\": [[0.0, \"#0d0887\"], [0.1111111111111111, \"#46039f\"], [0.2222222222222222, \"#7201a8\"], [0.3333333333333333, \"#9c179e\"], [0.4444444444444444, \"#bd3786\"], [0.5555555555555556, \"#d8576b\"], [0.6666666666666666, \"#ed7953\"], [0.7777777777777778, \"#fb9f3a\"], [0.8888888888888888, \"#fdca26\"], [1.0, \"#f0f921\"]], \"type\": \"contour\"}], \"contourcarpet\": [{\"colorbar\": {\"outlinewidth\": 0, \"ticks\": \"\"}, \"type\": \"contourcarpet\"}], \"heatmap\": [{\"colorbar\": {\"outlinewidth\": 0, \"ticks\": \"\"}, \"colorscale\": [[0.0, \"#0d0887\"], [0.1111111111111111, \"#46039f\"], [0.2222222222222222, \"#7201a8\"], [0.3333333333333333, \"#9c179e\"], [0.4444444444444444, \"#bd3786\"], [0.5555555555555556, \"#d8576b\"], [0.6666666666666666, \"#ed7953\"], [0.7777777777777778, \"#fb9f3a\"], [0.8888888888888888, \"#fdca26\"], [1.0, \"#f0f921\"]], \"type\": \"heatmap\"}], \"heatmapgl\": [{\"colorbar\": {\"outlinewidth\": 0, \"ticks\": \"\"}, \"colorscale\": [[0.0, \"#0d0887\"], [0.1111111111111111, \"#46039f\"], [0.2222222222222222, \"#7201a8\"], [0.3333333333333333, \"#9c179e\"], [0.4444444444444444, \"#bd3786\"], [0.5555555555555556, \"#d8576b\"], [0.6666666666666666, \"#ed7953\"], [0.7777777777777778, \"#fb9f3a\"], [0.8888888888888888, \"#fdca26\"], [1.0, \"#f0f921\"]], \"type\": \"heatmapgl\"}], \"histogram\": [{\"marker\": {\"colorbar\": {\"outlinewidth\": 0, \"ticks\": \"\"}}, \"type\": \"histogram\"}], \"histogram2d\": [{\"colorbar\": {\"outlinewidth\": 0, \"ticks\": \"\"}, \"colorscale\": [[0.0, \"#0d0887\"], [0.1111111111111111, \"#46039f\"], [0.2222222222222222, \"#7201a8\"], [0.3333333333333333, \"#9c179e\"], [0.4444444444444444, \"#bd3786\"], [0.5555555555555556, \"#d8576b\"], [0.6666666666666666, \"#ed7953\"], [0.7777777777777778, \"#fb9f3a\"], [0.8888888888888888, \"#fdca26\"], [1.0, \"#f0f921\"]], \"type\": \"histogram2d\"}], \"histogram2dcontour\": [{\"colorbar\": {\"outlinewidth\": 0, \"ticks\": \"\"}, \"colorscale\": [[0.0, \"#0d0887\"], [0.1111111111111111, \"#46039f\"], [0.2222222222222222, \"#7201a8\"], [0.3333333333333333, \"#9c179e\"], [0.4444444444444444, \"#bd3786\"], [0.5555555555555556, \"#d8576b\"], [0.6666666666666666, \"#ed7953\"], [0.7777777777777778, \"#fb9f3a\"], [0.8888888888888888, \"#fdca26\"], [1.0, \"#f0f921\"]], \"type\": \"histogram2dcontour\"}], \"mesh3d\": [{\"colorbar\": {\"outlinewidth\": 0, \"ticks\": \"\"}, \"type\": \"mesh3d\"}], \"parcoords\": [{\"line\": {\"colorbar\": {\"outlinewidth\": 0, \"ticks\": \"\"}}, \"type\": \"parcoords\"}], \"pie\": [{\"automargin\": true, \"type\": \"pie\"}], \"scatter\": [{\"marker\": {\"colorbar\": {\"outlinewidth\": 0, \"ticks\": \"\"}}, \"type\": \"scatter\"}], \"scatter3d\": [{\"line\": {\"colorbar\": {\"outlinewidth\": 0, \"ticks\": \"\"}}, \"marker\": {\"colorbar\": {\"outlinewidth\": 0, \"ticks\": \"\"}}, \"type\": \"scatter3d\"}], \"scattercarpet\": [{\"marker\": {\"colorbar\": {\"outlinewidth\": 0, \"ticks\": \"\"}}, \"type\": \"scattercarpet\"}], \"scattergeo\": [{\"marker\": {\"colorbar\": {\"outlinewidth\": 0, \"ticks\": \"\"}}, \"type\": \"scattergeo\"}], \"scattergl\": [{\"marker\": {\"colorbar\": {\"outlinewidth\": 0, \"ticks\": \"\"}}, \"type\": \"scattergl\"}], \"scattermapbox\": [{\"marker\": {\"colorbar\": {\"outlinewidth\": 0, \"ticks\": \"\"}}, \"type\": \"scattermapbox\"}], \"scatterpolar\": [{\"marker\": {\"colorbar\": {\"outlinewidth\": 0, \"ticks\": \"\"}}, \"type\": \"scatterpolar\"}], \"scatterpolargl\": [{\"marker\": {\"colorbar\": {\"outlinewidth\": 0, \"ticks\": \"\"}}, \"type\": \"scatterpolargl\"}], \"scatterternary\": [{\"marker\": {\"colorbar\": {\"outlinewidth\": 0, \"ticks\": \"\"}}, \"type\": \"scatterternary\"}], \"surface\": [{\"colorbar\": {\"outlinewidth\": 0, \"ticks\": \"\"}, \"colorscale\": [[0.0, \"#0d0887\"], [0.1111111111111111, \"#46039f\"], [0.2222222222222222, \"#7201a8\"], [0.3333333333333333, \"#9c179e\"], [0.4444444444444444, \"#bd3786\"], [0.5555555555555556, \"#d8576b\"], [0.6666666666666666, \"#ed7953\"], [0.7777777777777778, \"#fb9f3a\"], [0.8888888888888888, \"#fdca26\"], [1.0, \"#f0f921\"]], \"type\": \"surface\"}], \"table\": [{\"cells\": {\"fill\": {\"color\": \"#EBF0F8\"}, \"line\": {\"color\": \"white\"}}, \"header\": {\"fill\": {\"color\": \"#C8D4E3\"}, \"line\": {\"color\": \"white\"}}, \"type\": \"table\"}]}, \"layout\": {\"annotationdefaults\": {\"arrowcolor\": \"#2a3f5f\", \"arrowhead\": 0, \"arrowwidth\": 1}, \"coloraxis\": {\"colorbar\": {\"outlinewidth\": 0, \"ticks\": \"\"}}, \"colorscale\": {\"diverging\": [[0, \"#8e0152\"], [0.1, \"#c51b7d\"], [0.2, \"#de77ae\"], [0.3, \"#f1b6da\"], [0.4, \"#fde0ef\"], [0.5, \"#f7f7f7\"], [0.6, \"#e6f5d0\"], [0.7, \"#b8e186\"], [0.8, \"#7fbc41\"], [0.9, \"#4d9221\"], [1, \"#276419\"]], \"sequential\": [[0.0, \"#0d0887\"], [0.1111111111111111, \"#46039f\"], [0.2222222222222222, \"#7201a8\"], [0.3333333333333333, \"#9c179e\"], [0.4444444444444444, \"#bd3786\"], [0.5555555555555556, \"#d8576b\"], [0.6666666666666666, \"#ed7953\"], [0.7777777777777778, \"#fb9f3a\"], [0.8888888888888888, \"#fdca26\"], [1.0, \"#f0f921\"]], \"sequentialminus\": [[0.0, \"#0d0887\"], [0.1111111111111111, \"#46039f\"], [0.2222222222222222, \"#7201a8\"], [0.3333333333333333, \"#9c179e\"], [0.4444444444444444, \"#bd3786\"], [0.5555555555555556, \"#d8576b\"], [0.6666666666666666, \"#ed7953\"], [0.7777777777777778, \"#fb9f3a\"], [0.8888888888888888, \"#fdca26\"], [1.0, \"#f0f921\"]]}, \"colorway\": [\"#636efa\", \"#EF553B\", \"#00cc96\", \"#ab63fa\", \"#FFA15A\", \"#19d3f3\", \"#FF6692\", \"#B6E880\", \"#FF97FF\", \"#FECB52\"], \"font\": {\"color\": \"#2a3f5f\"}, \"geo\": {\"bgcolor\": \"white\", \"lakecolor\": \"white\", \"landcolor\": \"#E5ECF6\", \"showlakes\": true, \"showland\": true, \"subunitcolor\": \"white\"}, \"hoverlabel\": {\"align\": \"left\"}, \"hovermode\": \"closest\", \"mapbox\": {\"style\": \"light\"}, \"paper_bgcolor\": \"white\", \"plot_bgcolor\": \"#E5ECF6\", \"polar\": {\"angularaxis\": {\"gridcolor\": \"white\", \"linecolor\": \"white\", \"ticks\": \"\"}, \"bgcolor\": \"#E5ECF6\", \"radialaxis\": {\"gridcolor\": \"white\", \"linecolor\": \"white\", \"ticks\": \"\"}}, \"scene\": {\"xaxis\": {\"backgroundcolor\": \"#E5ECF6\", \"gridcolor\": \"white\", \"gridwidth\": 2, \"linecolor\": \"white\", \"showbackground\": true, \"ticks\": \"\", \"zerolinecolor\": \"white\"}, \"yaxis\": {\"backgroundcolor\": \"#E5ECF6\", \"gridcolor\": \"white\", \"gridwidth\": 2, \"linecolor\": \"white\", \"showbackground\": true, \"ticks\": \"\", \"zerolinecolor\": \"white\"}, \"zaxis\": {\"backgroundcolor\": \"#E5ECF6\", \"gridcolor\": \"white\", \"gridwidth\": 2, \"linecolor\": \"white\", \"showbackground\": true, \"ticks\": \"\", \"zerolinecolor\": \"white\"}}, \"shapedefaults\": {\"line\": {\"color\": \"#2a3f5f\"}}, \"ternary\": {\"aaxis\": {\"gridcolor\": \"white\", \"linecolor\": \"white\", \"ticks\": \"\"}, \"baxis\": {\"gridcolor\": \"white\", \"linecolor\": \"white\", \"ticks\": \"\"}, \"bgcolor\": \"#E5ECF6\", \"caxis\": {\"gridcolor\": \"white\", \"linecolor\": \"white\", \"ticks\": \"\"}}, \"title\": {\"x\": 0.05}, \"xaxis\": {\"automargin\": true, \"gridcolor\": \"white\", \"linecolor\": \"white\", \"ticks\": \"\", \"title\": {\"standoff\": 15}, \"zerolinecolor\": \"white\", \"zerolinewidth\": 2}, \"yaxis\": {\"automargin\": true, \"gridcolor\": \"white\", \"linecolor\": \"white\", \"ticks\": \"\", \"title\": {\"standoff\": 15}, \"zerolinecolor\": \"white\", \"zerolinewidth\": 2}}}},\n",
       "                        {\"responsive\": true}\n",
       "                    ).then(function(){\n",
       "                            \n",
       "var gd = document.getElementById('0afe9ed1-2767-4775-bd0d-3b5829aa6613');\n",
       "var x = new MutationObserver(function (mutations, observer) {{\n",
       "        var display = window.getComputedStyle(gd).display;\n",
       "        if (!display || display === 'none') {{\n",
       "            console.log([gd, 'removed!']);\n",
       "            Plotly.purge(gd);\n",
       "            observer.disconnect();\n",
       "        }}\n",
       "}});\n",
       "\n",
       "// Listen for the removal of the full notebook cells\n",
       "var notebookContainer = gd.closest('#notebook-container');\n",
       "if (notebookContainer) {{\n",
       "    x.observe(notebookContainer, {childList: true});\n",
       "}}\n",
       "\n",
       "// Listen for the clearing of the current output cell\n",
       "var outputEl = gd.closest('.output');\n",
       "if (outputEl) {{\n",
       "    x.observe(outputEl, {childList: true});\n",
       "}}\n",
       "\n",
       "                        })\n",
       "                };\n",
       "                });\n",
       "            </script>\n",
       "        </div>"
      ]
     },
     "metadata": {},
     "output_type": "display_data"
    }
   ],
   "source": [
    "# First one, 3D visualization are better for show clusters calculated\n",
    "colors = ['crimson','yellow', 'indigo', 'lightseagreen']\n",
    "\n",
    "fig3d = px.scatter_3d(df3, x = 'Rating', y = 'Mean Salary', z = 'Years Founded', \n",
    "                      color = recode(pd.Series(pd.Categorical(y_predict, [0,1,2,3,4])),\n",
    "                                    {0: 'Cluster-1',\n",
    "                                     1: 'Cluster-2',\n",
    "                                     2: 'Cluster-3',\n",
    "                                     3: 'Cluster-4'}),\n",
    "                      color_discrete_sequence= colors,\n",
    "                      opacity = 0.9, \n",
    "                      size_max = 5)\n",
    "\n",
    "fig3d.update_layout(margin=dict(l=0, r=0, b=0, t=0))\n",
    "\n",
    "fig3d.show()"
   ]
  },
  {
   "cell_type": "code",
   "execution_count": 39,
   "metadata": {
    "execution": {
     "iopub.execute_input": "2020-10-18T23:26:10.461066Z",
     "iopub.status.busy": "2020-10-18T23:26:10.460148Z",
     "iopub.status.idle": "2020-10-18T23:26:11.434627Z",
     "shell.execute_reply": "2020-10-18T23:26:11.435122Z"
    },
    "papermill": {
     "duration": 1.154867,
     "end_time": "2020-10-18T23:26:11.435265",
     "exception": false,
     "start_time": "2020-10-18T23:26:10.280398",
     "status": "completed"
    },
    "tags": []
   },
   "outputs": [
    {
     "data": {
      "text/plain": [
       "<seaborn.axisgrid.FacetGrid at 0x7f01b4251290>"
      ]
     },
     "execution_count": 39,
     "metadata": {},
     "output_type": "execute_result"
    },
    {
     "data": {
      "image/png": "[encoded data removed]",
      "text/plain": [
       "<Figure size 440.875x360 with 1 Axes>"
      ]
     },
     "metadata": {},
     "output_type": "display_data"
    }
   ],
   "source": [
    "# Graph PCA component with cluster predict\n",
    "dfsns = pd.DataFrame(df_component)\n",
    "# Rename Columns:\n",
    "dfsns = dfsns.rename(columns = {0: 'Component 1', 1: 'Component 2'})\n",
    "\n",
    "#Plot with Seaborn\n",
    "sns.set_style('darkgrid')\n",
    "sns.relplot(x = 'Component 1', \n",
    "            y = 'Component 2', \n",
    "            hue = recode(pd.Series(pd.Categorical(y_predict, [0,1,2,3,4])),\n",
    "                        {0: 'Cluster-1',\n",
    "                         1: 'Cluster-2',\n",
    "                         2: 'Cluster-3',\n",
    "                         3: 'Cluster-4'}), \n",
    "            data = dfsns, \n",
    "            palette= colors)"
   ]
  },
  {
   "cell_type": "code",
   "execution_count": 40,
   "metadata": {
    "execution": {
     "iopub.execute_input": "2020-10-18T23:26:11.685381Z",
     "iopub.status.busy": "2020-10-18T23:26:11.684336Z",
     "iopub.status.idle": "2020-10-18T23:26:11.690693Z",
     "shell.execute_reply": "2020-10-18T23:26:11.690066Z"
    },
    "papermill": {
     "duration": 0.135249,
     "end_time": "2020-10-18T23:26:11.690798",
     "exception": false,
     "start_time": "2020-10-18T23:26:11.555549",
     "status": "completed"
    },
    "tags": []
   },
   "outputs": [
    {
     "data": {
      "text/html": [
       "<div>\n",
       "<style scoped>\n",
       "    .dataframe tbody tr th:only-of-type {\n",
       "        vertical-align: middle;\n",
       "    }\n",
       "\n",
       "    .dataframe tbody tr th {\n",
       "        vertical-align: top;\n",
       "    }\n",
       "\n",
       "    .dataframe thead th {\n",
       "        text-align: right;\n",
       "    }\n",
       "</style>\n",
       "<table border=\"1\" class=\"dataframe\">\n",
       "  <thead>\n",
       "    <tr style=\"text-align: right;\">\n",
       "      <th></th>\n",
       "      <th>Cluster</th>\n",
       "    </tr>\n",
       "  </thead>\n",
       "  <tbody>\n",
       "    <tr>\n",
       "      <th>0</th>\n",
       "      <td>3</td>\n",
       "    </tr>\n",
       "    <tr>\n",
       "      <th>1</th>\n",
       "      <td>3</td>\n",
       "    </tr>\n",
       "    <tr>\n",
       "      <th>2</th>\n",
       "      <td>1</td>\n",
       "    </tr>\n",
       "    <tr>\n",
       "      <th>3</th>\n",
       "      <td>1</td>\n",
       "    </tr>\n",
       "    <tr>\n",
       "      <th>4</th>\n",
       "      <td>1</td>\n",
       "    </tr>\n",
       "  </tbody>\n",
       "</table>\n",
       "</div>"
      ],
      "text/plain": [
       "   Cluster\n",
       "0        3\n",
       "1        3\n",
       "2        1\n",
       "3        1\n",
       "4        1"
      ]
     },
     "execution_count": 40,
     "metadata": {},
     "output_type": "execute_result"
    }
   ],
   "source": [
    "df_predict = pd.DataFrame(y_predict)\n",
    "df_predict = df_predict.rename(columns = {0 : 'Cluster'})\n",
    "df_predict.head()"
   ]
  },
  {
   "cell_type": "code",
   "execution_count": 41,
   "metadata": {
    "execution": {
     "iopub.execute_input": "2020-10-18T23:26:11.947868Z",
     "iopub.status.busy": "2020-10-18T23:26:11.946957Z",
     "iopub.status.idle": "2020-10-18T23:26:11.961590Z",
     "shell.execute_reply": "2020-10-18T23:26:11.962040Z"
    },
    "papermill": {
     "duration": 0.143584,
     "end_time": "2020-10-18T23:26:11.962165",
     "exception": false,
     "start_time": "2020-10-18T23:26:11.818581",
     "status": "completed"
    },
    "tags": []
   },
   "outputs": [
    {
     "data": {
      "text/html": [
       "<div>\n",
       "<style scoped>\n",
       "    .dataframe tbody tr th:only-of-type {\n",
       "        vertical-align: middle;\n",
       "    }\n",
       "\n",
       "    .dataframe tbody tr th {\n",
       "        vertical-align: top;\n",
       "    }\n",
       "\n",
       "    .dataframe thead th {\n",
       "        text-align: right;\n",
       "    }\n",
       "</style>\n",
       "<table border=\"1\" class=\"dataframe\">\n",
       "  <thead>\n",
       "    <tr style=\"text-align: right;\">\n",
       "      <th></th>\n",
       "      <th>Rating</th>\n",
       "      <th>Mean Salary</th>\n",
       "      <th>Years Founded</th>\n",
       "      <th>Cluster</th>\n",
       "    </tr>\n",
       "  </thead>\n",
       "  <tbody>\n",
       "    <tr>\n",
       "      <th>0</th>\n",
       "      <td>0.167668</td>\n",
       "      <td>0.166166</td>\n",
       "      <td>0.802302</td>\n",
       "      <td>Cluster-4</td>\n",
       "    </tr>\n",
       "    <tr>\n",
       "      <th>1</th>\n",
       "      <td>0.550050</td>\n",
       "      <td>0.166166</td>\n",
       "      <td>0.924960</td>\n",
       "      <td>Cluster-4</td>\n",
       "    </tr>\n",
       "    <tr>\n",
       "      <th>2</th>\n",
       "      <td>0.265766</td>\n",
       "      <td>0.166166</td>\n",
       "      <td>0.313814</td>\n",
       "      <td>Cluster-2</td>\n",
       "    </tr>\n",
       "    <tr>\n",
       "      <th>3</th>\n",
       "      <td>0.754254</td>\n",
       "      <td>0.166166</td>\n",
       "      <td>0.338839</td>\n",
       "      <td>Cluster-2</td>\n",
       "    </tr>\n",
       "    <tr>\n",
       "      <th>4</th>\n",
       "      <td>0.590591</td>\n",
       "      <td>0.166166</td>\n",
       "      <td>0.164665</td>\n",
       "      <td>Cluster-2</td>\n",
       "    </tr>\n",
       "  </tbody>\n",
       "</table>\n",
       "</div>"
      ],
      "text/plain": [
       "     Rating  Mean Salary  Years Founded    Cluster\n",
       "0  0.167668     0.166166       0.802302  Cluster-4\n",
       "1  0.550050     0.166166       0.924960  Cluster-4\n",
       "2  0.265766     0.166166       0.313814  Cluster-2\n",
       "3  0.754254     0.166166       0.338839  Cluster-2\n",
       "4  0.590591     0.166166       0.164665  Cluster-2"
      ]
     },
     "execution_count": 41,
     "metadata": {},
     "output_type": "execute_result"
    }
   ],
   "source": [
    "# Dataframe with cluster classification\n",
    "df3_scaler = pd.DataFrame(df3_scaler)\n",
    "df3_scaler = df3_scaler.rename(columns = {0: 'Rating', 1: 'Mean Salary', 2: 'Years Founded'})\n",
    "df3_scaler['Cluster'] = df_predict['Cluster']\n",
    "df3_scaler['Cluster'] = recode(df3_scaler['Cluster'], \n",
    "                               {0: 'Cluster-1', \n",
    "                                1: 'Cluster-2', \n",
    "                                2: 'Cluster-3',\n",
    "                                3: 'Cluster-4'}\n",
    "                              )\n",
    "df3_scaler.head()"
   ]
  },
  {
   "cell_type": "code",
   "execution_count": 42,
   "metadata": {
    "execution": {
     "iopub.execute_input": "2020-10-18T23:26:12.224446Z",
     "iopub.status.busy": "2020-10-18T23:26:12.223382Z",
     "iopub.status.idle": "2020-10-18T23:26:12.227642Z",
     "shell.execute_reply": "2020-10-18T23:26:12.228080Z"
    },
    "papermill": {
     "duration": 0.138059,
     "end_time": "2020-10-18T23:26:12.228205",
     "exception": false,
     "start_time": "2020-10-18T23:26:12.090146",
     "status": "completed"
    },
    "tags": []
   },
   "outputs": [
    {
     "data": {
      "text/html": [
       "<div>\n",
       "<style scoped>\n",
       "    .dataframe tbody tr th:only-of-type {\n",
       "        vertical-align: middle;\n",
       "    }\n",
       "\n",
       "    .dataframe tbody tr th {\n",
       "        vertical-align: top;\n",
       "    }\n",
       "\n",
       "    .dataframe thead th {\n",
       "        text-align: right;\n",
       "    }\n",
       "</style>\n",
       "<table border=\"1\" class=\"dataframe\">\n",
       "  <thead>\n",
       "    <tr style=\"text-align: right;\">\n",
       "      <th></th>\n",
       "      <th>Rating</th>\n",
       "      <th>Mean Salary</th>\n",
       "      <th>Years Founded</th>\n",
       "    </tr>\n",
       "    <tr>\n",
       "      <th>Cluster</th>\n",
       "      <th></th>\n",
       "      <th></th>\n",
       "      <th></th>\n",
       "    </tr>\n",
       "  </thead>\n",
       "  <tbody>\n",
       "    <tr>\n",
       "      <th>Cluster-1</th>\n",
       "      <td>0.240229</td>\n",
       "      <td>0.716436</td>\n",
       "      <td>0.552065</td>\n",
       "    </tr>\n",
       "    <tr>\n",
       "      <th>Cluster-2</th>\n",
       "      <td>0.698244</td>\n",
       "      <td>0.256176</td>\n",
       "      <td>0.252586</td>\n",
       "    </tr>\n",
       "    <tr>\n",
       "      <th>Cluster-3</th>\n",
       "      <td>0.750158</td>\n",
       "      <td>0.777827</td>\n",
       "      <td>0.352982</td>\n",
       "    </tr>\n",
       "    <tr>\n",
       "      <th>Cluster-4</th>\n",
       "      <td>0.376226</td>\n",
       "      <td>0.263138</td>\n",
       "      <td>0.745334</td>\n",
       "    </tr>\n",
       "  </tbody>\n",
       "</table>\n",
       "</div>"
      ],
      "text/plain": [
       "             Rating  Mean Salary  Years Founded\n",
       "Cluster                                        \n",
       "Cluster-1  0.240229     0.716436       0.552065\n",
       "Cluster-2  0.698244     0.256176       0.252586\n",
       "Cluster-3  0.750158     0.777827       0.352982\n",
       "Cluster-4  0.376226     0.263138       0.745334"
      ]
     },
     "execution_count": 42,
     "metadata": {},
     "output_type": "execute_result"
    }
   ],
   "source": [
    "# Groupby apply\n",
    "df_cluster_group = df3_scaler.groupby('Cluster').mean()\n",
    "df_cluster_group.head(df_cluster_group.shape[0])"
   ]
  },
  {
   "cell_type": "code",
   "execution_count": 43,
   "metadata": {
    "execution": {
     "iopub.execute_input": "2020-10-18T23:26:12.486584Z",
     "iopub.status.busy": "2020-10-18T23:26:12.483486Z",
     "iopub.status.idle": "2020-10-18T23:26:12.512185Z",
     "shell.execute_reply": "2020-10-18T23:26:12.512652Z"
    },
    "papermill": {
     "duration": 0.16223,
     "end_time": "2020-10-18T23:26:12.512774",
     "exception": false,
     "start_time": "2020-10-18T23:26:12.350544",
     "status": "completed"
    },
    "tags": []
   },
   "outputs": [
    {
     "data": {
      "application/vnd.plotly.v1+json": {
       "config": {
        "plotlyServerURL": "https://plot.ly"
       },
       "data": [
        {
         "fill": "toself",
         "marker": {
          "color": "crimson"
         },
         "name": "Cluster-1",
         "r": [
          0.24022920460930053,
          0.7164362430062908,
          0.5520650992730542
         ],
         "theta": [
          "Rating",
          "Mean Salary",
          "Years Founded"
         ],
         "type": "scatterpolar"
        },
        {
         "fill": "toself",
         "marker": {
          "color": "gold"
         },
         "name": "Cluster-2",
         "r": [
          0.6982435607813264,
          0.25617611569273246,
          0.2525864232812873
         ],
         "theta": [
          "Rating",
          "Mean Salary",
          "Years Founded"
         ],
         "type": "scatterpolar"
        },
        {
         "fill": "toself",
         "marker": {
          "color": "darkcyan"
         },
         "name": "Cluster-3",
         "r": [
          0.7501581251581259,
          0.7778272778272793,
          0.3529820116145956
         ],
         "theta": [
          "Rating",
          "Mean Salary",
          "Years Founded"
         ],
         "type": "scatterpolar"
        },
        {
         "fill": "toself",
         "marker": {
          "color": "magenta"
         },
         "name": "Cluster-4",
         "r": [
          0.3762264419592005,
          0.2631376355141926,
          0.7453344163940481
         ],
         "theta": [
          "Rating",
          "Mean Salary",
          "Years Founded"
         ],
         "type": "scatterpolar"
        }
       ],
       "layout": {
        "polar": {
         "radialaxis": {
          "range": [
           0.0,
           0.8
          ],
          "visible": true
         }
        },
        "showlegend": true,
        "template": {
         "data": {
          "bar": [
           {
            "error_x": {
             "color": "#2a3f5f"
            },
            "error_y": {
             "color": "#2a3f5f"
            },
            "marker": {
             "line": {
              "color": "#E5ECF6",
              "width": 0.5
             }
            },
            "type": "bar"
           }
          ],
          "barpolar": [
           {
            "marker": {
             "line": {
              "color": "#E5ECF6",
              "width": 0.5
             }
            },
            "type": "barpolar"
           }
          ],
          "carpet": [
           {
            "aaxis": {
             "endlinecolor": "#2a3f5f",
             "gridcolor": "white",
             "linecolor": "white",
             "minorgridcolor": "white",
             "startlinecolor": "#2a3f5f"
            },
            "baxis": {
             "endlinecolor": "#2a3f5f",
             "gridcolor": "white",
             "linecolor": "white",
             "minorgridcolor": "white",
             "startlinecolor": "#2a3f5f"
            },
            "type": "carpet"
           }
          ],
          "choropleth": [
           {
            "colorbar": {
             "outlinewidth": 0,
             "ticks": ""
            },
            "type": "choropleth"
           }
          ],
          "contour": [
           {
            "colorbar": {
             "outlinewidth": 0,
             "ticks": ""
            },
            "colorscale": [
             [
              0.0,
              "#0d0887"
             ],
             [
              0.1111111111111111,
              "#46039f"
             ],
             [
              0.2222222222222222,
              "#7201a8"
             ],
             [
              0.3333333333333333,
              "#9c179e"
             ],
             [
              0.4444444444444444,
              "#bd3786"
             ],
             [
              0.5555555555555556,
              "#d8576b"
             ],
             [
              0.6666666666666666,
              "#ed7953"
             ],
             [
              0.7777777777777778,
              "#fb9f3a"
             ],
             [
              0.8888888888888888,
              "#fdca26"
             ],
             [
              1.0,
              "#f0f921"
             ]
            ],
            "type": "contour"
           }
          ],
          "contourcarpet": [
           {
            "colorbar": {
             "outlinewidth": 0,
             "ticks": ""
            },
            "type": "contourcarpet"
           }
          ],
          "heatmap": [
           {
            "colorbar": {
             "outlinewidth": 0,
             "ticks": ""
            },
            "colorscale": [
             [
              0.0,
              "#0d0887"
             ],
             [
              0.1111111111111111,
              "#46039f"
             ],
             [
              0.2222222222222222,
              "#7201a8"
             ],
             [
              0.3333333333333333,
              "#9c179e"
             ],
             [
              0.4444444444444444,
              "#bd3786"
             ],
             [
              0.5555555555555556,
              "#d8576b"
             ],
             [
              0.6666666666666666,
              "#ed7953"
             ],
             [
              0.7777777777777778,
              "#fb9f3a"
             ],
             [
              0.8888888888888888,
              "#fdca26"
             ],
             [
              1.0,
              "#f0f921"
             ]
            ],
            "type": "heatmap"
           }
          ],
          "heatmapgl": [
           {
            "colorbar": {
             "outlinewidth": 0,
             "ticks": ""
            },
            "colorscale": [
             [
              0.0,
              "#0d0887"
             ],
             [
              0.1111111111111111,
              "#46039f"
             ],
             [
              0.2222222222222222,
              "#7201a8"
             ],
             [
              0.3333333333333333,
              "#9c179e"
             ],
             [
              0.4444444444444444,
              "#bd3786"
             ],
             [
              0.5555555555555556,
              "#d8576b"
             ],
             [
              0.6666666666666666,
              "#ed7953"
             ],
             [
              0.7777777777777778,
              "#fb9f3a"
             ],
             [
              0.8888888888888888,
              "#fdca26"
             ],
             [
              1.0,
              "#f0f921"
             ]
            ],
            "type": "heatmapgl"
           }
          ],
          "histogram": [
           {
            "marker": {
             "colorbar": {
              "outlinewidth": 0,
              "ticks": ""
             }
            },
            "type": "histogram"
           }
          ],
          "histogram2d": [
           {
            "colorbar": {
             "outlinewidth": 0,
             "ticks": ""
            },
            "colorscale": [
             [
              0.0,
              "#0d0887"
             ],
             [
              0.1111111111111111,
              "#46039f"
             ],
             [
              0.2222222222222222,
              "#7201a8"
             ],
             [
              0.3333333333333333,
              "#9c179e"
             ],
             [
              0.4444444444444444,
              "#bd3786"
             ],
             [
              0.5555555555555556,
              "#d8576b"
             ],
             [
              0.6666666666666666,
              "#ed7953"
             ],
             [
              0.7777777777777778,
              "#fb9f3a"
             ],
             [
              0.8888888888888888,
              "#fdca26"
             ],
             [
              1.0,
              "#f0f921"
             ]
            ],
            "type": "histogram2d"
           }
          ],
          "histogram2dcontour": [
           {
            "colorbar": {
             "outlinewidth": 0,
             "ticks": ""
            },
            "colorscale": [
             [
              0.0,
              "#0d0887"
             ],
             [
              0.1111111111111111,
              "#46039f"
             ],
             [
              0.2222222222222222,
              "#7201a8"
             ],
             [
              0.3333333333333333,
              "#9c179e"
             ],
             [
              0.4444444444444444,
              "#bd3786"
             ],
             [
              0.5555555555555556,
              "#d8576b"
             ],
             [
              0.6666666666666666,
              "#ed7953"
             ],
             [
              0.7777777777777778,
              "#fb9f3a"
             ],
             [
              0.8888888888888888,
              "#fdca26"
             ],
             [
              1.0,
              "#f0f921"
             ]
            ],
            "type": "histogram2dcontour"
           }
          ],
          "mesh3d": [
           {
            "colorbar": {
             "outlinewidth": 0,
             "ticks": ""
            },
            "type": "mesh3d"
           }
          ],
          "parcoords": [
           {
            "line": {
             "colorbar": {
              "outlinewidth": 0,
              "ticks": ""
             }
            },
            "type": "parcoords"
           }
          ],
          "pie": [
           {
            "automargin": true,
            "type": "pie"
           }
          ],
          "scatter": [
           {
            "marker": {
             "colorbar": {
              "outlinewidth": 0,
              "ticks": ""
             }
            },
            "type": "scatter"
           }
          ],
          "scatter3d": [
           {
            "line": {
             "colorbar": {
              "outlinewidth": 0,
              "ticks": ""
             }
            },
            "marker": {
             "colorbar": {
              "outlinewidth": 0,
              "ticks": ""
             }
            },
            "type": "scatter3d"
           }
          ],
          "scattercarpet": [
           {
            "marker": {
             "colorbar": {
              "outlinewidth": 0,
              "ticks": ""
             }
            },
            "type": "scattercarpet"
           }
          ],
          "scattergeo": [
           {
            "marker": {
             "colorbar": {
              "outlinewidth": 0,
              "ticks": ""
             }
            },
            "type": "scattergeo"
           }
          ],
          "scattergl": [
           {
            "marker": {
             "colorbar": {
              "outlinewidth": 0,
              "ticks": ""
             }
            },
            "type": "scattergl"
           }
          ],
          "scattermapbox": [
           {
            "marker": {
             "colorbar": {
              "outlinewidth": 0,
              "ticks": ""
             }
            },
            "type": "scattermapbox"
           }
          ],
          "scatterpolar": [
           {
            "marker": {
             "colorbar": {
              "outlinewidth": 0,
              "ticks": ""
             }
            },
            "type": "scatterpolar"
           }
          ],
          "scatterpolargl": [
           {
            "marker": {
             "colorbar": {
              "outlinewidth": 0,
              "ticks": ""
             }
            },
            "type": "scatterpolargl"
           }
          ],
          "scatterternary": [
           {
            "marker": {
             "colorbar": {
              "outlinewidth": 0,
              "ticks": ""
             }
            },
            "type": "scatterternary"
           }
          ],
          "surface": [
           {
            "colorbar": {
             "outlinewidth": 0,
             "ticks": ""
            },
            "colorscale": [
             [
              0.0,
              "#0d0887"
             ],
             [
              0.1111111111111111,
              "#46039f"
             ],
             [
              0.2222222222222222,
              "#7201a8"
             ],
             [
              0.3333333333333333,
              "#9c179e"
             ],
             [
              0.4444444444444444,
              "#bd3786"
             ],
             [
              0.5555555555555556,
              "#d8576b"
             ],
             [
              0.6666666666666666,
              "#ed7953"
             ],
             [
              0.7777777777777778,
              "#fb9f3a"
             ],
             [
              0.8888888888888888,
              "#fdca26"
             ],
             [
              1.0,
              "#f0f921"
             ]
            ],
            "type": "surface"
           }
          ],
          "table": [
           {
            "cells": {
             "fill": {
              "color": "#EBF0F8"
             },
             "line": {
              "color": "white"
             }
            },
            "header": {
             "fill": {
              "color": "#C8D4E3"
             },
             "line": {
              "color": "white"
             }
            },
            "type": "table"
           }
          ]
         },
         "layout": {
          "annotationdefaults": {
           "arrowcolor": "#2a3f5f",
           "arrowhead": 0,
           "arrowwidth": 1
          },
          "coloraxis": {
           "colorbar": {
            "outlinewidth": 0,
            "ticks": ""
           }
          },
          "colorscale": {
           "diverging": [
            [
             0,
             "#8e0152"
            ],
            [
             0.1,
             "#c51b7d"
            ],
            [
             0.2,
             "#de77ae"
            ],
            [
             0.3,
             "#f1b6da"
            ],
            [
             0.4,
             "#fde0ef"
            ],
            [
             0.5,
             "#f7f7f7"
            ],
            [
             0.6,
             "#e6f5d0"
            ],
            [
             0.7,
             "#b8e186"
            ],
            [
             0.8,
             "#7fbc41"
            ],
            [
             0.9,
             "#4d9221"
            ],
            [
             1,
             "#276419"
            ]
           ],
           "sequential": [
            [
             0.0,
             "#0d0887"
            ],
            [
             0.1111111111111111,
             "#46039f"
            ],
            [
             0.2222222222222222,
             "#7201a8"
            ],
            [
             0.3333333333333333,
             "#9c179e"
            ],
            [
             0.4444444444444444,
             "#bd3786"
            ],
            [
             0.5555555555555556,
             "#d8576b"
            ],
            [
             0.6666666666666666,
             "#ed7953"
            ],
            [
             0.7777777777777778,
             "#fb9f3a"
            ],
            [
             0.8888888888888888,
             "#fdca26"
            ],
            [
             1.0,
             "#f0f921"
            ]
           ],
           "sequentialminus": [
            [
             0.0,
             "#0d0887"
            ],
            [
             0.1111111111111111,
             "#46039f"
            ],
            [
             0.2222222222222222,
             "#7201a8"
            ],
            [
             0.3333333333333333,
             "#9c179e"
            ],
            [
             0.4444444444444444,
             "#bd3786"
            ],
            [
             0.5555555555555556,
             "#d8576b"
            ],
            [
             0.6666666666666666,
             "#ed7953"
            ],
            [
             0.7777777777777778,
             "#fb9f3a"
            ],
            [
             0.8888888888888888,
             "#fdca26"
            ],
            [
             1.0,
             "#f0f921"
            ]
           ]
          },
          "colorway": [
           "#636efa",
           "#EF553B",
           "#00cc96",
           "#ab63fa",
           "#FFA15A",
           "#19d3f3",
           "#FF6692",
           "#B6E880",
           "#FF97FF",
           "#FECB52"
          ],
          "font": {
           "color": "#2a3f5f"
          },
          "geo": {
           "bgcolor": "white",
           "lakecolor": "white",
           "landcolor": "#E5ECF6",
           "showlakes": true,
           "showland": true,
           "subunitcolor": "white"
          },
          "hoverlabel": {
           "align": "left"
          },
          "hovermode": "closest",
          "mapbox": {
           "style": "light"
          },
          "paper_bgcolor": "white",
          "plot_bgcolor": "#E5ECF6",
          "polar": {
           "angularaxis": {
            "gridcolor": "white",
            "linecolor": "white",
            "ticks": ""
           },
           "bgcolor": "#E5ECF6",
           "radialaxis": {
            "gridcolor": "white",
            "linecolor": "white",
            "ticks": ""
           }
          },
          "scene": {
           "xaxis": {
            "backgroundcolor": "#E5ECF6",
            "gridcolor": "white",
            "gridwidth": 2,
            "linecolor": "white",
            "showbackground": true,
            "ticks": "",
            "zerolinecolor": "white"
           },
           "yaxis": {
            "backgroundcolor": "#E5ECF6",
            "gridcolor": "white",
            "gridwidth": 2,
            "linecolor": "white",
            "showbackground": true,
            "ticks": "",
            "zerolinecolor": "white"
           },
           "zaxis": {
            "backgroundcolor": "#E5ECF6",
            "gridcolor": "white",
            "gridwidth": 2,
            "linecolor": "white",
            "showbackground": true,
            "ticks": "",
            "zerolinecolor": "white"
           }
          },
          "shapedefaults": {
           "line": {
            "color": "#2a3f5f"
           }
          },
          "ternary": {
           "aaxis": {
            "gridcolor": "white",
            "linecolor": "white",
            "ticks": ""
           },
           "baxis": {
            "gridcolor": "white",
            "linecolor": "white",
            "ticks": ""
           },
           "bgcolor": "#E5ECF6",
           "caxis": {
            "gridcolor": "white",
            "linecolor": "white",
            "ticks": ""
           }
          },
          "title": {
           "x": 0.05
          },
          "xaxis": {
           "automargin": true,
           "gridcolor": "white",
           "linecolor": "white",
           "ticks": "",
           "title": {
            "standoff": 15
           },
           "zerolinecolor": "white",
           "zerolinewidth": 2
          },
          "yaxis": {
           "automargin": true,
           "gridcolor": "white",
           "linecolor": "white",
           "ticks": "",
           "title": {
            "standoff": 15
           },
           "zerolinecolor": "white",
           "zerolinewidth": 2
          }
         }
        },
        "title": {
         "text": "Graph Radar About Principal Fields"
        }
       }
      },
      "text/html": [
       "<div>\n",
       "        \n",
       "        \n",
       "            <div id=\"49777835-1ed5-4683-b393-43489c14c954\" class=\"plotly-graph-div\" style=\"height:525px; width:100%;\"></div>\n",
       "            <script type=\"text/javascript\">\n",
       "                require([\"plotly\"], function(Plotly) {\n",
       "                    window.PLOTLYENV=window.PLOTLYENV || {};\n",
       "                    \n",
       "                if (document.getElementById(\"49777835-1ed5-4683-b393-43489c14c954\")) {\n",
       "                    Plotly.newPlot(\n",
       "                        '49777835-1ed5-4683-b393-43489c14c954',\n",
       "                        [{\"fill\": \"toself\", \"marker\": {\"color\": \"crimson\"}, \"name\": \"Cluster-1\", \"r\": [0.24022920460930053, 0.7164362430062908, 0.5520650992730542], \"theta\": [\"Rating\", \"Mean Salary\", \"Years Founded\"], \"type\": \"scatterpolar\"}, {\"fill\": \"toself\", \"marker\": {\"color\": \"gold\"}, \"name\": \"Cluster-2\", \"r\": [0.6982435607813264, 0.25617611569273246, 0.2525864232812873], \"theta\": [\"Rating\", \"Mean Salary\", \"Years Founded\"], \"type\": \"scatterpolar\"}, {\"fill\": \"toself\", \"marker\": {\"color\": \"darkcyan\"}, \"name\": \"Cluster-3\", \"r\": [0.7501581251581259, 0.7778272778272793, 0.3529820116145956], \"theta\": [\"Rating\", \"Mean Salary\", \"Years Founded\"], \"type\": \"scatterpolar\"}, {\"fill\": \"toself\", \"marker\": {\"color\": \"magenta\"}, \"name\": \"Cluster-4\", \"r\": [0.3762264419592005, 0.2631376355141926, 0.7453344163940481], \"theta\": [\"Rating\", \"Mean Salary\", \"Years Founded\"], \"type\": \"scatterpolar\"}],\n",
       "                        {\"polar\": {\"radialaxis\": {\"range\": [0.0, 0.8], \"visible\": true}}, \"showlegend\": true, \"template\": {\"data\": {\"bar\": [{\"error_x\": {\"color\": \"#2a3f5f\"}, \"error_y\": {\"color\": \"#2a3f5f\"}, \"marker\": {\"line\": {\"color\": \"#E5ECF6\", \"width\": 0.5}}, \"type\": \"bar\"}], \"barpolar\": [{\"marker\": {\"line\": {\"color\": \"#E5ECF6\", \"width\": 0.5}}, \"type\": \"barpolar\"}], \"carpet\": [{\"aaxis\": {\"endlinecolor\": \"#2a3f5f\", \"gridcolor\": \"white\", \"linecolor\": \"white\", \"minorgridcolor\": \"white\", \"startlinecolor\": \"#2a3f5f\"}, \"baxis\": {\"endlinecolor\": \"#2a3f5f\", \"gridcolor\": \"white\", \"linecolor\": \"white\", \"minorgridcolor\": \"white\", \"startlinecolor\": \"#2a3f5f\"}, \"type\": \"carpet\"}], \"choropleth\": [{\"colorbar\": {\"outlinewidth\": 0, \"ticks\": \"\"}, \"type\": \"choropleth\"}], \"contour\": [{\"colorbar\": {\"outlinewidth\": 0, \"ticks\": \"\"}, \"colorscale\": [[0.0, \"#0d0887\"], [0.1111111111111111, \"#46039f\"], [0.2222222222222222, \"#7201a8\"], [0.3333333333333333, \"#9c179e\"], [0.4444444444444444, \"#bd3786\"], [0.5555555555555556, \"#d8576b\"], [0.6666666666666666, \"#ed7953\"], [0.7777777777777778, \"#fb9f3a\"], [0.8888888888888888, \"#fdca26\"], [1.0, \"#f0f921\"]], \"type\": \"contour\"}], \"contourcarpet\": [{\"colorbar\": {\"outlinewidth\": 0, \"ticks\": \"\"}, \"type\": \"contourcarpet\"}], \"heatmap\": [{\"colorbar\": {\"outlinewidth\": 0, \"ticks\": \"\"}, \"colorscale\": [[0.0, \"#0d0887\"], [0.1111111111111111, \"#46039f\"], [0.2222222222222222, \"#7201a8\"], [0.3333333333333333, \"#9c179e\"], [0.4444444444444444, \"#bd3786\"], [0.5555555555555556, \"#d8576b\"], [0.6666666666666666, \"#ed7953\"], [0.7777777777777778, \"#fb9f3a\"], [0.8888888888888888, \"#fdca26\"], [1.0, \"#f0f921\"]], \"type\": \"heatmap\"}], \"heatmapgl\": [{\"colorbar\": {\"outlinewidth\": 0, \"ticks\": \"\"}, \"colorscale\": [[0.0, \"#0d0887\"], [0.1111111111111111, \"#46039f\"], [0.2222222222222222, \"#7201a8\"], [0.3333333333333333, \"#9c179e\"], [0.4444444444444444, \"#bd3786\"], [0.5555555555555556, \"#d8576b\"], [0.6666666666666666, \"#ed7953\"], [0.7777777777777778, \"#fb9f3a\"], [0.8888888888888888, \"#fdca26\"], [1.0, \"#f0f921\"]], \"type\": \"heatmapgl\"}], \"histogram\": [{\"marker\": {\"colorbar\": {\"outlinewidth\": 0, \"ticks\": \"\"}}, \"type\": \"histogram\"}], \"histogram2d\": [{\"colorbar\": {\"outlinewidth\": 0, \"ticks\": \"\"}, \"colorscale\": [[0.0, \"#0d0887\"], [0.1111111111111111, \"#46039f\"], [0.2222222222222222, \"#7201a8\"], [0.3333333333333333, \"#9c179e\"], [0.4444444444444444, \"#bd3786\"], [0.5555555555555556, \"#d8576b\"], [0.6666666666666666, \"#ed7953\"], [0.7777777777777778, \"#fb9f3a\"], [0.8888888888888888, \"#fdca26\"], [1.0, \"#f0f921\"]], \"type\": \"histogram2d\"}], \"histogram2dcontour\": [{\"colorbar\": {\"outlinewidth\": 0, \"ticks\": \"\"}, \"colorscale\": [[0.0, \"#0d0887\"], [0.1111111111111111, \"#46039f\"], [0.2222222222222222, \"#7201a8\"], [0.3333333333333333, \"#9c179e\"], [0.4444444444444444, \"#bd3786\"], [0.5555555555555556, \"#d8576b\"], [0.6666666666666666, \"#ed7953\"], [0.7777777777777778, \"#fb9f3a\"], [0.8888888888888888, \"#fdca26\"], [1.0, \"#f0f921\"]], \"type\": \"histogram2dcontour\"}], \"mesh3d\": [{\"colorbar\": {\"outlinewidth\": 0, \"ticks\": \"\"}, \"type\": \"mesh3d\"}], \"parcoords\": [{\"line\": {\"colorbar\": {\"outlinewidth\": 0, \"ticks\": \"\"}}, \"type\": \"parcoords\"}], \"pie\": [{\"automargin\": true, \"type\": \"pie\"}], \"scatter\": [{\"marker\": {\"colorbar\": {\"outlinewidth\": 0, \"ticks\": \"\"}}, \"type\": \"scatter\"}], \"scatter3d\": [{\"line\": {\"colorbar\": {\"outlinewidth\": 0, \"ticks\": \"\"}}, \"marker\": {\"colorbar\": {\"outlinewidth\": 0, \"ticks\": \"\"}}, \"type\": \"scatter3d\"}], \"scattercarpet\": [{\"marker\": {\"colorbar\": {\"outlinewidth\": 0, \"ticks\": \"\"}}, \"type\": \"scattercarpet\"}], \"scattergeo\": [{\"marker\": {\"colorbar\": {\"outlinewidth\": 0, \"ticks\": \"\"}}, \"type\": \"scattergeo\"}], \"scattergl\": [{\"marker\": {\"colorbar\": {\"outlinewidth\": 0, \"ticks\": \"\"}}, \"type\": \"scattergl\"}], \"scattermapbox\": [{\"marker\": {\"colorbar\": {\"outlinewidth\": 0, \"ticks\": \"\"}}, \"type\": \"scattermapbox\"}], \"scatterpolar\": [{\"marker\": {\"colorbar\": {\"outlinewidth\": 0, \"ticks\": \"\"}}, \"type\": \"scatterpolar\"}], \"scatterpolargl\": [{\"marker\": {\"colorbar\": {\"outlinewidth\": 0, \"ticks\": \"\"}}, \"type\": \"scatterpolargl\"}], \"scatterternary\": [{\"marker\": {\"colorbar\": {\"outlinewidth\": 0, \"ticks\": \"\"}}, \"type\": \"scatterternary\"}], \"surface\": [{\"colorbar\": {\"outlinewidth\": 0, \"ticks\": \"\"}, \"colorscale\": [[0.0, \"#0d0887\"], [0.1111111111111111, \"#46039f\"], [0.2222222222222222, \"#7201a8\"], [0.3333333333333333, \"#9c179e\"], [0.4444444444444444, \"#bd3786\"], [0.5555555555555556, \"#d8576b\"], [0.6666666666666666, \"#ed7953\"], [0.7777777777777778, \"#fb9f3a\"], [0.8888888888888888, \"#fdca26\"], [1.0, \"#f0f921\"]], \"type\": \"surface\"}], \"table\": [{\"cells\": {\"fill\": {\"color\": \"#EBF0F8\"}, \"line\": {\"color\": \"white\"}}, \"header\": {\"fill\": {\"color\": \"#C8D4E3\"}, \"line\": {\"color\": \"white\"}}, \"type\": \"table\"}]}, \"layout\": {\"annotationdefaults\": {\"arrowcolor\": \"#2a3f5f\", \"arrowhead\": 0, \"arrowwidth\": 1}, \"coloraxis\": {\"colorbar\": {\"outlinewidth\": 0, \"ticks\": \"\"}}, \"colorscale\": {\"diverging\": [[0, \"#8e0152\"], [0.1, \"#c51b7d\"], [0.2, \"#de77ae\"], [0.3, \"#f1b6da\"], [0.4, \"#fde0ef\"], [0.5, \"#f7f7f7\"], [0.6, \"#e6f5d0\"], [0.7, \"#b8e186\"], [0.8, \"#7fbc41\"], [0.9, \"#4d9221\"], [1, \"#276419\"]], \"sequential\": [[0.0, \"#0d0887\"], [0.1111111111111111, \"#46039f\"], [0.2222222222222222, \"#7201a8\"], [0.3333333333333333, \"#9c179e\"], [0.4444444444444444, \"#bd3786\"], [0.5555555555555556, \"#d8576b\"], [0.6666666666666666, \"#ed7953\"], [0.7777777777777778, \"#fb9f3a\"], [0.8888888888888888, \"#fdca26\"], [1.0, \"#f0f921\"]], \"sequentialminus\": [[0.0, \"#0d0887\"], [0.1111111111111111, \"#46039f\"], [0.2222222222222222, \"#7201a8\"], [0.3333333333333333, \"#9c179e\"], [0.4444444444444444, \"#bd3786\"], [0.5555555555555556, \"#d8576b\"], [0.6666666666666666, \"#ed7953\"], [0.7777777777777778, \"#fb9f3a\"], [0.8888888888888888, \"#fdca26\"], [1.0, \"#f0f921\"]]}, \"colorway\": [\"#636efa\", \"#EF553B\", \"#00cc96\", \"#ab63fa\", \"#FFA15A\", \"#19d3f3\", \"#FF6692\", \"#B6E880\", \"#FF97FF\", \"#FECB52\"], \"font\": {\"color\": \"#2a3f5f\"}, \"geo\": {\"bgcolor\": \"white\", \"lakecolor\": \"white\", \"landcolor\": \"#E5ECF6\", \"showlakes\": true, \"showland\": true, \"subunitcolor\": \"white\"}, \"hoverlabel\": {\"align\": \"left\"}, \"hovermode\": \"closest\", \"mapbox\": {\"style\": \"light\"}, \"paper_bgcolor\": \"white\", \"plot_bgcolor\": \"#E5ECF6\", \"polar\": {\"angularaxis\": {\"gridcolor\": \"white\", \"linecolor\": \"white\", \"ticks\": \"\"}, \"bgcolor\": \"#E5ECF6\", \"radialaxis\": {\"gridcolor\": \"white\", \"linecolor\": \"white\", \"ticks\": \"\"}}, \"scene\": {\"xaxis\": {\"backgroundcolor\": \"#E5ECF6\", \"gridcolor\": \"white\", \"gridwidth\": 2, \"linecolor\": \"white\", \"showbackground\": true, \"ticks\": \"\", \"zerolinecolor\": \"white\"}, \"yaxis\": {\"backgroundcolor\": \"#E5ECF6\", \"gridcolor\": \"white\", \"gridwidth\": 2, \"linecolor\": \"white\", \"showbackground\": true, \"ticks\": \"\", \"zerolinecolor\": \"white\"}, \"zaxis\": {\"backgroundcolor\": \"#E5ECF6\", \"gridcolor\": \"white\", \"gridwidth\": 2, \"linecolor\": \"white\", \"showbackground\": true, \"ticks\": \"\", \"zerolinecolor\": \"white\"}}, \"shapedefaults\": {\"line\": {\"color\": \"#2a3f5f\"}}, \"ternary\": {\"aaxis\": {\"gridcolor\": \"white\", \"linecolor\": \"white\", \"ticks\": \"\"}, \"baxis\": {\"gridcolor\": \"white\", \"linecolor\": \"white\", \"ticks\": \"\"}, \"bgcolor\": \"#E5ECF6\", \"caxis\": {\"gridcolor\": \"white\", \"linecolor\": \"white\", \"ticks\": \"\"}}, \"title\": {\"x\": 0.05}, \"xaxis\": {\"automargin\": true, \"gridcolor\": \"white\", \"linecolor\": \"white\", \"ticks\": \"\", \"title\": {\"standoff\": 15}, \"zerolinecolor\": \"white\", \"zerolinewidth\": 2}, \"yaxis\": {\"automargin\": true, \"gridcolor\": \"white\", \"linecolor\": \"white\", \"ticks\": \"\", \"title\": {\"standoff\": 15}, \"zerolinecolor\": \"white\", \"zerolinewidth\": 2}}}, \"title\": {\"text\": \"Graph Radar About Principal Fields\"}},\n",
       "                        {\"responsive\": true}\n",
       "                    ).then(function(){\n",
       "                            \n",
       "var gd = document.getElementById('49777835-1ed5-4683-b393-43489c14c954');\n",
       "var x = new MutationObserver(function (mutations, observer) {{\n",
       "        var display = window.getComputedStyle(gd).display;\n",
       "        if (!display || display === 'none') {{\n",
       "            console.log([gd, 'removed!']);\n",
       "            Plotly.purge(gd);\n",
       "            observer.disconnect();\n",
       "        }}\n",
       "}});\n",
       "\n",
       "// Listen for the removal of the full notebook cells\n",
       "var notebookContainer = gd.closest('#notebook-container');\n",
       "if (notebookContainer) {{\n",
       "    x.observe(notebookContainer, {childList: true});\n",
       "}}\n",
       "\n",
       "// Listen for the clearing of the current output cell\n",
       "var outputEl = gd.closest('.output');\n",
       "if (outputEl) {{\n",
       "    x.observe(outputEl, {childList: true});\n",
       "}}\n",
       "\n",
       "                        })\n",
       "                };\n",
       "                });\n",
       "            </script>\n",
       "        </div>"
      ]
     },
     "metadata": {},
     "output_type": "display_data"
    }
   ],
   "source": [
    "# RADAR PLOT:\n",
    "colors = ['crimson','gold', 'darkcyan', 'magenta']\n",
    "y = np.array(df_cluster_group)\n",
    "categories = list(df_cluster_group.columns)\n",
    "radar_chart = go.Figure()\n",
    "\n",
    "#Cluster 1\n",
    "radar_chart.add_trace(go.Scatterpolar(r = y[:1,:].tolist()[0],\n",
    "                                     theta = categories,\n",
    "                                     fill = 'toself',\n",
    "                                     name = 'Cluster-1',\n",
    "                                     marker = dict(color = colors[0])\n",
    "                                     ))\n",
    "\n",
    "#Cluster 2\n",
    "radar_chart.add_trace(go.Scatterpolar(r = y[1:2,:].tolist()[0],\n",
    "                                     theta = categories,\n",
    "                                     fill = 'toself',\n",
    "                                     name = 'Cluster-2',\n",
    "                                     marker = dict(color = colors[1])\n",
    "                                     ))\n",
    "\n",
    "#Cluster 3\n",
    "radar_chart.add_trace(go.Scatterpolar(r = y[2:3,:].tolist()[0],\n",
    "                                     theta = categories,\n",
    "                                     fill = 'toself',\n",
    "                                     name = 'Cluster-3',\n",
    "                                     marker = dict(color = colors[2])\n",
    "                                     ))\n",
    "\n",
    "#Cluster 4\n",
    "radar_chart.add_trace(go.Scatterpolar(r = y[3:4,:].tolist()[0],\n",
    "                                     theta = categories,\n",
    "                                     fill = 'toself',\n",
    "                                     name = 'Cluster-4',\n",
    "                                     marker = dict(color = colors[3])\n",
    "                                     ))\n",
    "\n",
    "# Update Layout\n",
    "radar_chart.update_layout(polar = dict(radialaxis = dict(visible = True,\n",
    "                                                        range = [0.0, 0.8])),\n",
    "                         showlegend = True,\n",
    "                         title = \"Graph Radar About Principal Fields\")\n",
    "\n",
    "\n",
    "radar_chart.show()"
   ]
  },
  {
   "cell_type": "code",
   "execution_count": 44,
   "metadata": {
    "execution": {
     "iopub.execute_input": "2020-10-18T23:26:12.786139Z",
     "iopub.status.busy": "2020-10-18T23:26:12.785405Z",
     "iopub.status.idle": "2020-10-18T23:26:12.814583Z",
     "shell.execute_reply": "2020-10-18T23:26:12.815160Z"
    },
    "papermill": {
     "duration": 0.175085,
     "end_time": "2020-10-18T23:26:12.815292",
     "exception": false,
     "start_time": "2020-10-18T23:26:12.640207",
     "status": "completed"
    },
    "tags": []
   },
   "outputs": [
    {
     "data": {
      "application/vnd.plotly.v1+json": {
       "config": {
        "plotlyServerURL": "https://plot.ly"
       },
       "data": [
        {
         "marker": {
          "color": [
           "crimson",
           "gold",
           "darkcyan",
           "magenta"
          ]
         },
         "name": "Cluster - 1",
         "type": "bar",
         "x": [
          "Rating",
          "Mean Salary",
          "Years Founded"
         ],
         "xaxis": "x",
         "y": [
          0.24022920460930053,
          0.7164362430062908,
          0.5520650992730542
         ],
         "yaxis": "y"
        },
        {
         "marker": {
          "color": [
           "crimson",
           "gold",
           "darkcyan",
           "magenta"
          ]
         },
         "name": "Cluster - 2",
         "type": "bar",
         "x": [
          "Rating",
          "Mean Salary",
          "Years Founded"
         ],
         "xaxis": "x2",
         "y": [
          0.6982435607813264,
          0.25617611569273246,
          0.2525864232812873
         ],
         "yaxis": "y2"
        },
        {
         "marker": {
          "color": [
           "crimson",
           "gold",
           "darkcyan",
           "magenta"
          ]
         },
         "name": "Cluster - 3",
         "type": "bar",
         "x": [
          "Rating",
          "Mean Salary",
          "Years Founded"
         ],
         "xaxis": "x3",
         "y": [
          0.7501581251581259,
          0.7778272778272793,
          0.3529820116145956
         ],
         "yaxis": "y3"
        },
        {
         "marker": {
          "color": [
           "crimson",
           "gold",
           "darkcyan",
           "magenta"
          ]
         },
         "name": "Cluster - 4",
         "type": "bar",
         "x": [
          "Rating",
          "Mean Salary",
          "Years Founded"
         ],
         "xaxis": "x4",
         "y": [
          0.3762264419592005,
          0.2631376355141926,
          0.7453344163940481
         ],
         "yaxis": "y4"
        }
       ],
       "layout": {
        "showlegend": false,
        "template": {
         "data": {
          "bar": [
           {
            "error_x": {
             "color": "#2a3f5f"
            },
            "error_y": {
             "color": "#2a3f5f"
            },
            "marker": {
             "line": {
              "color": "#E5ECF6",
              "width": 0.5
             }
            },
            "type": "bar"
           }
          ],
          "barpolar": [
           {
            "marker": {
             "line": {
              "color": "#E5ECF6",
              "width": 0.5
             }
            },
            "type": "barpolar"
           }
          ],
          "carpet": [
           {
            "aaxis": {
             "endlinecolor": "#2a3f5f",
             "gridcolor": "white",
             "linecolor": "white",
             "minorgridcolor": "white",
             "startlinecolor": "#2a3f5f"
            },
            "baxis": {
             "endlinecolor": "#2a3f5f",
             "gridcolor": "white",
             "linecolor": "white",
             "minorgridcolor": "white",
             "startlinecolor": "#2a3f5f"
            },
            "type": "carpet"
           }
          ],
          "choropleth": [
           {
            "colorbar": {
             "outlinewidth": 0,
             "ticks": ""
            },
            "type": "choropleth"
           }
          ],
          "contour": [
           {
            "colorbar": {
             "outlinewidth": 0,
             "ticks": ""
            },
            "colorscale": [
             [
              0.0,
              "#0d0887"
             ],
             [
              0.1111111111111111,
              "#46039f"
             ],
             [
              0.2222222222222222,
              "#7201a8"
             ],
             [
              0.3333333333333333,
              "#9c179e"
             ],
             [
              0.4444444444444444,
              "#bd3786"
             ],
             [
              0.5555555555555556,
              "#d8576b"
             ],
             [
              0.6666666666666666,
              "#ed7953"
             ],
             [
              0.7777777777777778,
              "#fb9f3a"
             ],
             [
              0.8888888888888888,
              "#fdca26"
             ],
             [
              1.0,
              "#f0f921"
             ]
            ],
            "type": "contour"
           }
          ],
          "contourcarpet": [
           {
            "colorbar": {
             "outlinewidth": 0,
             "ticks": ""
            },
            "type": "contourcarpet"
           }
          ],
          "heatmap": [
           {
            "colorbar": {
             "outlinewidth": 0,
             "ticks": ""
            },
            "colorscale": [
             [
              0.0,
              "#0d0887"
             ],
             [
              0.1111111111111111,
              "#46039f"
             ],
             [
              0.2222222222222222,
              "#7201a8"
             ],
             [
              0.3333333333333333,
              "#9c179e"
             ],
             [
              0.4444444444444444,
              "#bd3786"
             ],
             [
              0.5555555555555556,
              "#d8576b"
             ],
             [
              0.6666666666666666,
              "#ed7953"
             ],
             [
              0.7777777777777778,
              "#fb9f3a"
             ],
             [
              0.8888888888888888,
              "#fdca26"
             ],
             [
              1.0,
              "#f0f921"
             ]
            ],
            "type": "heatmap"
           }
          ],
          "heatmapgl": [
           {
            "colorbar": {
             "outlinewidth": 0,
             "ticks": ""
            },
            "colorscale": [
             [
              0.0,
              "#0d0887"
             ],
             [
              0.1111111111111111,
              "#46039f"
             ],
             [
              0.2222222222222222,
              "#7201a8"
             ],
             [
              0.3333333333333333,
              "#9c179e"
             ],
             [
              0.4444444444444444,
              "#bd3786"
             ],
             [
              0.5555555555555556,
              "#d8576b"
             ],
             [
              0.6666666666666666,
              "#ed7953"
             ],
             [
              0.7777777777777778,
              "#fb9f3a"
             ],
             [
              0.8888888888888888,
              "#fdca26"
             ],
             [
              1.0,
              "#f0f921"
             ]
            ],
            "type": "heatmapgl"
           }
          ],
          "histogram": [
           {
            "marker": {
             "colorbar": {
              "outlinewidth": 0,
              "ticks": ""
             }
            },
            "type": "histogram"
           }
          ],
          "histogram2d": [
           {
            "colorbar": {
             "outlinewidth": 0,
             "ticks": ""
            },
            "colorscale": [
             [
              0.0,
              "#0d0887"
             ],
             [
              0.1111111111111111,
              "#46039f"
             ],
             [
              0.2222222222222222,
              "#7201a8"
             ],
             [
              0.3333333333333333,
              "#9c179e"
             ],
             [
              0.4444444444444444,
              "#bd3786"
             ],
             [
              0.5555555555555556,
              "#d8576b"
             ],
             [
              0.6666666666666666,
              "#ed7953"
             ],
             [
              0.7777777777777778,
              "#fb9f3a"
             ],
             [
              0.8888888888888888,
              "#fdca26"
             ],
             [
              1.0,
              "#f0f921"
             ]
            ],
            "type": "histogram2d"
           }
          ],
          "histogram2dcontour": [
           {
            "colorbar": {
             "outlinewidth": 0,
             "ticks": ""
            },
            "colorscale": [
             [
              0.0,
              "#0d0887"
             ],
             [
              0.1111111111111111,
              "#46039f"
             ],
             [
              0.2222222222222222,
              "#7201a8"
             ],
             [
              0.3333333333333333,
              "#9c179e"
             ],
             [
              0.4444444444444444,
              "#bd3786"
             ],
             [
              0.5555555555555556,
              "#d8576b"
             ],
             [
              0.6666666666666666,
              "#ed7953"
             ],
             [
              0.7777777777777778,
              "#fb9f3a"
             ],
             [
              0.8888888888888888,
              "#fdca26"
             ],
             [
              1.0,
              "#f0f921"
             ]
            ],
            "type": "histogram2dcontour"
           }
          ],
          "mesh3d": [
           {
            "colorbar": {
             "outlinewidth": 0,
             "ticks": ""
            },
            "type": "mesh3d"
           }
          ],
          "parcoords": [
           {
            "line": {
             "colorbar": {
              "outlinewidth": 0,
              "ticks": ""
             }
            },
            "type": "parcoords"
           }
          ],
          "pie": [
           {
            "automargin": true,
            "type": "pie"
           }
          ],
          "scatter": [
           {
            "marker": {
             "colorbar": {
              "outlinewidth": 0,
              "ticks": ""
             }
            },
            "type": "scatter"
           }
          ],
          "scatter3d": [
           {
            "line": {
             "colorbar": {
              "outlinewidth": 0,
              "ticks": ""
             }
            },
            "marker": {
             "colorbar": {
              "outlinewidth": 0,
              "ticks": ""
             }
            },
            "type": "scatter3d"
           }
          ],
          "scattercarpet": [
           {
            "marker": {
             "colorbar": {
              "outlinewidth": 0,
              "ticks": ""
             }
            },
            "type": "scattercarpet"
           }
          ],
          "scattergeo": [
           {
            "marker": {
             "colorbar": {
              "outlinewidth": 0,
              "ticks": ""
             }
            },
            "type": "scattergeo"
           }
          ],
          "scattergl": [
           {
            "marker": {
             "colorbar": {
              "outlinewidth": 0,
              "ticks": ""
             }
            },
            "type": "scattergl"
           }
          ],
          "scattermapbox": [
           {
            "marker": {
             "colorbar": {
              "outlinewidth": 0,
              "ticks": ""
             }
            },
            "type": "scattermapbox"
           }
          ],
          "scatterpolar": [
           {
            "marker": {
             "colorbar": {
              "outlinewidth": 0,
              "ticks": ""
             }
            },
            "type": "scatterpolar"
           }
          ],
          "scatterpolargl": [
           {
            "marker": {
             "colorbar": {
              "outlinewidth": 0,
              "ticks": ""
             }
            },
            "type": "scatterpolargl"
           }
          ],
          "scatterternary": [
           {
            "marker": {
             "colorbar": {
              "outlinewidth": 0,
              "ticks": ""
             }
            },
            "type": "scatterternary"
           }
          ],
          "surface": [
           {
            "colorbar": {
             "outlinewidth": 0,
             "ticks": ""
            },
            "colorscale": [
             [
              0.0,
              "#0d0887"
             ],
             [
              0.1111111111111111,
              "#46039f"
             ],
             [
              0.2222222222222222,
              "#7201a8"
             ],
             [
              0.3333333333333333,
              "#9c179e"
             ],
             [
              0.4444444444444444,
              "#bd3786"
             ],
             [
              0.5555555555555556,
              "#d8576b"
             ],
             [
              0.6666666666666666,
              "#ed7953"
             ],
             [
              0.7777777777777778,
              "#fb9f3a"
             ],
             [
              0.8888888888888888,
              "#fdca26"
             ],
             [
              1.0,
              "#f0f921"
             ]
            ],
            "type": "surface"
           }
          ],
          "table": [
           {
            "cells": {
             "fill": {
              "color": "#EBF0F8"
             },
             "line": {
              "color": "white"
             }
            },
            "header": {
             "fill": {
              "color": "#C8D4E3"
             },
             "line": {
              "color": "white"
             }
            },
            "type": "table"
           }
          ]
         },
         "layout": {
          "annotationdefaults": {
           "arrowcolor": "#2a3f5f",
           "arrowhead": 0,
           "arrowwidth": 1
          },
          "coloraxis": {
           "colorbar": {
            "outlinewidth": 0,
            "ticks": ""
           }
          },
          "colorscale": {
           "diverging": [
            [
             0,
             "#8e0152"
            ],
            [
             0.1,
             "#c51b7d"
            ],
            [
             0.2,
             "#de77ae"
            ],
            [
             0.3,
             "#f1b6da"
            ],
            [
             0.4,
             "#fde0ef"
            ],
            [
             0.5,
             "#f7f7f7"
            ],
            [
             0.6,
             "#e6f5d0"
            ],
            [
             0.7,
             "#b8e186"
            ],
            [
             0.8,
             "#7fbc41"
            ],
            [
             0.9,
             "#4d9221"
            ],
            [
             1,
             "#276419"
            ]
           ],
           "sequential": [
            [
             0.0,
             "#0d0887"
            ],
            [
             0.1111111111111111,
             "#46039f"
            ],
            [
             0.2222222222222222,
             "#7201a8"
            ],
            [
             0.3333333333333333,
             "#9c179e"
            ],
            [
             0.4444444444444444,
             "#bd3786"
            ],
            [
             0.5555555555555556,
             "#d8576b"
            ],
            [
             0.6666666666666666,
             "#ed7953"
            ],
            [
             0.7777777777777778,
             "#fb9f3a"
            ],
            [
             0.8888888888888888,
             "#fdca26"
            ],
            [
             1.0,
             "#f0f921"
            ]
           ],
           "sequentialminus": [
            [
             0.0,
             "#0d0887"
            ],
            [
             0.1111111111111111,
             "#46039f"
            ],
            [
             0.2222222222222222,
             "#7201a8"
            ],
            [
             0.3333333333333333,
             "#9c179e"
            ],
            [
             0.4444444444444444,
             "#bd3786"
            ],
            [
             0.5555555555555556,
             "#d8576b"
            ],
            [
             0.6666666666666666,
             "#ed7953"
            ],
            [
             0.7777777777777778,
             "#fb9f3a"
            ],
            [
             0.8888888888888888,
             "#fdca26"
            ],
            [
             1.0,
             "#f0f921"
            ]
           ]
          },
          "colorway": [
           "#636efa",
           "#EF553B",
           "#00cc96",
           "#ab63fa",
           "#FFA15A",
           "#19d3f3",
           "#FF6692",
           "#B6E880",
           "#FF97FF",
           "#FECB52"
          ],
          "font": {
           "color": "#2a3f5f"
          },
          "geo": {
           "bgcolor": "white",
           "lakecolor": "white",
           "landcolor": "#E5ECF6",
           "showlakes": true,
           "showland": true,
           "subunitcolor": "white"
          },
          "hoverlabel": {
           "align": "left"
          },
          "hovermode": "closest",
          "mapbox": {
           "style": "light"
          },
          "paper_bgcolor": "white",
          "plot_bgcolor": "#E5ECF6",
          "polar": {
           "angularaxis": {
            "gridcolor": "white",
            "linecolor": "white",
            "ticks": ""
           },
           "bgcolor": "#E5ECF6",
           "radialaxis": {
            "gridcolor": "white",
            "linecolor": "white",
            "ticks": ""
           }
          },
          "scene": {
           "xaxis": {
            "backgroundcolor": "#E5ECF6",
            "gridcolor": "white",
            "gridwidth": 2,
            "linecolor": "white",
            "showbackground": true,
            "ticks": "",
            "zerolinecolor": "white"
           },
           "yaxis": {
            "backgroundcolor": "#E5ECF6",
            "gridcolor": "white",
            "gridwidth": 2,
            "linecolor": "white",
            "showbackground": true,
            "ticks": "",
            "zerolinecolor": "white"
           },
           "zaxis": {
            "backgroundcolor": "#E5ECF6",
            "gridcolor": "white",
            "gridwidth": 2,
            "linecolor": "white",
            "showbackground": true,
            "ticks": "",
            "zerolinecolor": "white"
           }
          },
          "shapedefaults": {
           "line": {
            "color": "#2a3f5f"
           }
          },
          "ternary": {
           "aaxis": {
            "gridcolor": "white",
            "linecolor": "white",
            "ticks": ""
           },
           "baxis": {
            "gridcolor": "white",
            "linecolor": "white",
            "ticks": ""
           },
           "bgcolor": "#E5ECF6",
           "caxis": {
            "gridcolor": "white",
            "linecolor": "white",
            "ticks": ""
           }
          },
          "title": {
           "x": 0.05
          },
          "xaxis": {
           "automargin": true,
           "gridcolor": "white",
           "linecolor": "white",
           "ticks": "",
           "title": {
            "standoff": 15
           },
           "zerolinecolor": "white",
           "zerolinewidth": 2
          },
          "yaxis": {
           "automargin": true,
           "gridcolor": "white",
           "linecolor": "white",
           "ticks": "",
           "title": {
            "standoff": 15
           },
           "zerolinecolor": "white",
           "zerolinewidth": 2
          }
         }
        },
        "title": {
         "text": "Cluster Behavior"
        },
        "xaxis": {
         "anchor": "y",
         "domain": [
          0.0,
          0.2125
         ]
        },
        "xaxis2": {
         "anchor": "y2",
         "domain": [
          0.2625,
          0.475
         ]
        },
        "xaxis3": {
         "anchor": "y3",
         "domain": [
          0.525,
          0.7375
         ]
        },
        "xaxis4": {
         "anchor": "y4",
         "domain": [
          0.7875,
          1.0
         ]
        },
        "yaxis": {
         "anchor": "x",
         "domain": [
          0.0,
          1.0
         ]
        },
        "yaxis2": {
         "anchor": "x2",
         "domain": [
          0.0,
          1.0
         ],
         "matches": "y",
         "showticklabels": false
        },
        "yaxis3": {
         "anchor": "x3",
         "domain": [
          0.0,
          1.0
         ],
         "matches": "y",
         "showticklabels": false
        },
        "yaxis4": {
         "anchor": "x4",
         "domain": [
          0.0,
          1.0
         ],
         "matches": "y",
         "showticklabels": false
        }
       }
      },
      "text/html": [
       "<div>\n",
       "        \n",
       "        \n",
       "            <div id=\"bffacbef-2562-4a8e-945b-56a768a043ff\" class=\"plotly-graph-div\" style=\"height:525px; width:100%;\"></div>\n",
       "            <script type=\"text/javascript\">\n",
       "                require([\"plotly\"], function(Plotly) {\n",
       "                    window.PLOTLYENV=window.PLOTLYENV || {};\n",
       "                    \n",
       "                if (document.getElementById(\"bffacbef-2562-4a8e-945b-56a768a043ff\")) {\n",
       "                    Plotly.newPlot(\n",
       "                        'bffacbef-2562-4a8e-945b-56a768a043ff',\n",
       "                        [{\"marker\": {\"color\": [\"crimson\", \"gold\", \"darkcyan\", \"magenta\"]}, \"name\": \"Cluster - 1\", \"type\": \"bar\", \"x\": [\"Rating\", \"Mean Salary\", \"Years Founded\"], \"xaxis\": \"x\", \"y\": [0.24022920460930053, 0.7164362430062908, 0.5520650992730542], \"yaxis\": \"y\"}, {\"marker\": {\"color\": [\"crimson\", \"gold\", \"darkcyan\", \"magenta\"]}, \"name\": \"Cluster - 2\", \"type\": \"bar\", \"x\": [\"Rating\", \"Mean Salary\", \"Years Founded\"], \"xaxis\": \"x2\", \"y\": [0.6982435607813264, 0.25617611569273246, 0.2525864232812873], \"yaxis\": \"y2\"}, {\"marker\": {\"color\": [\"crimson\", \"gold\", \"darkcyan\", \"magenta\"]}, \"name\": \"Cluster - 3\", \"type\": \"bar\", \"x\": [\"Rating\", \"Mean Salary\", \"Years Founded\"], \"xaxis\": \"x3\", \"y\": [0.7501581251581259, 0.7778272778272793, 0.3529820116145956], \"yaxis\": \"y3\"}, {\"marker\": {\"color\": [\"crimson\", \"gold\", \"darkcyan\", \"magenta\"]}, \"name\": \"Cluster - 4\", \"type\": \"bar\", \"x\": [\"Rating\", \"Mean Salary\", \"Years Founded\"], \"xaxis\": \"x4\", \"y\": [0.3762264419592005, 0.2631376355141926, 0.7453344163940481], \"yaxis\": \"y4\"}],\n",
       "                        {\"showlegend\": false, \"template\": {\"data\": {\"bar\": [{\"error_x\": {\"color\": \"#2a3f5f\"}, \"error_y\": {\"color\": \"#2a3f5f\"}, \"marker\": {\"line\": {\"color\": \"#E5ECF6\", \"width\": 0.5}}, \"type\": \"bar\"}], \"barpolar\": [{\"marker\": {\"line\": {\"color\": \"#E5ECF6\", \"width\": 0.5}}, \"type\": \"barpolar\"}], \"carpet\": [{\"aaxis\": {\"endlinecolor\": \"#2a3f5f\", \"gridcolor\": \"white\", \"linecolor\": \"white\", \"minorgridcolor\": \"white\", \"startlinecolor\": \"#2a3f5f\"}, \"baxis\": {\"endlinecolor\": \"#2a3f5f\", \"gridcolor\": \"white\", \"linecolor\": \"white\", \"minorgridcolor\": \"white\", \"startlinecolor\": \"#2a3f5f\"}, \"type\": \"carpet\"}], \"choropleth\": [{\"colorbar\": {\"outlinewidth\": 0, \"ticks\": \"\"}, \"type\": \"choropleth\"}], \"contour\": [{\"colorbar\": {\"outlinewidth\": 0, \"ticks\": \"\"}, \"colorscale\": [[0.0, \"#0d0887\"], [0.1111111111111111, \"#46039f\"], [0.2222222222222222, \"#7201a8\"], [0.3333333333333333, \"#9c179e\"], [0.4444444444444444, \"#bd3786\"], [0.5555555555555556, \"#d8576b\"], [0.6666666666666666, \"#ed7953\"], [0.7777777777777778, \"#fb9f3a\"], [0.8888888888888888, \"#fdca26\"], [1.0, \"#f0f921\"]], \"type\": \"contour\"}], \"contourcarpet\": [{\"colorbar\": {\"outlinewidth\": 0, \"ticks\": \"\"}, \"type\": \"contourcarpet\"}], \"heatmap\": [{\"colorbar\": {\"outlinewidth\": 0, \"ticks\": \"\"}, \"colorscale\": [[0.0, \"#0d0887\"], [0.1111111111111111, \"#46039f\"], [0.2222222222222222, \"#7201a8\"], [0.3333333333333333, \"#9c179e\"], [0.4444444444444444, \"#bd3786\"], [0.5555555555555556, \"#d8576b\"], [0.6666666666666666, \"#ed7953\"], [0.7777777777777778, \"#fb9f3a\"], [0.8888888888888888, \"#fdca26\"], [1.0, \"#f0f921\"]], \"type\": \"heatmap\"}], \"heatmapgl\": [{\"colorbar\": {\"outlinewidth\": 0, \"ticks\": \"\"}, \"colorscale\": [[0.0, \"#0d0887\"], [0.1111111111111111, \"#46039f\"], [0.2222222222222222, \"#7201a8\"], [0.3333333333333333, \"#9c179e\"], [0.4444444444444444, \"#bd3786\"], [0.5555555555555556, \"#d8576b\"], [0.6666666666666666, \"#ed7953\"], [0.7777777777777778, \"#fb9f3a\"], [0.8888888888888888, \"#fdca26\"], [1.0, \"#f0f921\"]], \"type\": \"heatmapgl\"}], \"histogram\": [{\"marker\": {\"colorbar\": {\"outlinewidth\": 0, \"ticks\": \"\"}}, \"type\": \"histogram\"}], \"histogram2d\": [{\"colorbar\": {\"outlinewidth\": 0, \"ticks\": \"\"}, \"colorscale\": [[0.0, \"#0d0887\"], [0.1111111111111111, \"#46039f\"], [0.2222222222222222, \"#7201a8\"], [0.3333333333333333, \"#9c179e\"], [0.4444444444444444, \"#bd3786\"], [0.5555555555555556, \"#d8576b\"], [0.6666666666666666, \"#ed7953\"], [0.7777777777777778, \"#fb9f3a\"], [0.8888888888888888, \"#fdca26\"], [1.0, \"#f0f921\"]], \"type\": \"histogram2d\"}], \"histogram2dcontour\": [{\"colorbar\": {\"outlinewidth\": 0, \"ticks\": \"\"}, \"colorscale\": [[0.0, \"#0d0887\"], [0.1111111111111111, \"#46039f\"], [0.2222222222222222, \"#7201a8\"], [0.3333333333333333, \"#9c179e\"], [0.4444444444444444, \"#bd3786\"], [0.5555555555555556, \"#d8576b\"], [0.6666666666666666, \"#ed7953\"], [0.7777777777777778, \"#fb9f3a\"], [0.8888888888888888, \"#fdca26\"], [1.0, \"#f0f921\"]], \"type\": \"histogram2dcontour\"}], \"mesh3d\": [{\"colorbar\": {\"outlinewidth\": 0, \"ticks\": \"\"}, \"type\": \"mesh3d\"}], \"parcoords\": [{\"line\": {\"colorbar\": {\"outlinewidth\": 0, \"ticks\": \"\"}}, \"type\": \"parcoords\"}], \"pie\": [{\"automargin\": true, \"type\": \"pie\"}], \"scatter\": [{\"marker\": {\"colorbar\": {\"outlinewidth\": 0, \"ticks\": \"\"}}, \"type\": \"scatter\"}], \"scatter3d\": [{\"line\": {\"colorbar\": {\"outlinewidth\": 0, \"ticks\": \"\"}}, \"marker\": {\"colorbar\": {\"outlinewidth\": 0, \"ticks\": \"\"}}, \"type\": \"scatter3d\"}], \"scattercarpet\": [{\"marker\": {\"colorbar\": {\"outlinewidth\": 0, \"ticks\": \"\"}}, \"type\": \"scattercarpet\"}], \"scattergeo\": [{\"marker\": {\"colorbar\": {\"outlinewidth\": 0, \"ticks\": \"\"}}, \"type\": \"scattergeo\"}], \"scattergl\": [{\"marker\": {\"colorbar\": {\"outlinewidth\": 0, \"ticks\": \"\"}}, \"type\": \"scattergl\"}], \"scattermapbox\": [{\"marker\": {\"colorbar\": {\"outlinewidth\": 0, \"ticks\": \"\"}}, \"type\": \"scattermapbox\"}], \"scatterpolar\": [{\"marker\": {\"colorbar\": {\"outlinewidth\": 0, \"ticks\": \"\"}}, \"type\": \"scatterpolar\"}], \"scatterpolargl\": [{\"marker\": {\"colorbar\": {\"outlinewidth\": 0, \"ticks\": \"\"}}, \"type\": \"scatterpolargl\"}], \"scatterternary\": [{\"marker\": {\"colorbar\": {\"outlinewidth\": 0, \"ticks\": \"\"}}, \"type\": \"scatterternary\"}], \"surface\": [{\"colorbar\": {\"outlinewidth\": 0, \"ticks\": \"\"}, \"colorscale\": [[0.0, \"#0d0887\"], [0.1111111111111111, \"#46039f\"], [0.2222222222222222, \"#7201a8\"], [0.3333333333333333, \"#9c179e\"], [0.4444444444444444, \"#bd3786\"], [0.5555555555555556, \"#d8576b\"], [0.6666666666666666, \"#ed7953\"], [0.7777777777777778, \"#fb9f3a\"], [0.8888888888888888, \"#fdca26\"], [1.0, \"#f0f921\"]], \"type\": \"surface\"}], \"table\": [{\"cells\": {\"fill\": {\"color\": \"#EBF0F8\"}, \"line\": {\"color\": \"white\"}}, \"header\": {\"fill\": {\"color\": \"#C8D4E3\"}, \"line\": {\"color\": \"white\"}}, \"type\": \"table\"}]}, \"layout\": {\"annotationdefaults\": {\"arrowcolor\": \"#2a3f5f\", \"arrowhead\": 0, \"arrowwidth\": 1}, \"coloraxis\": {\"colorbar\": {\"outlinewidth\": 0, \"ticks\": \"\"}}, \"colorscale\": {\"diverging\": [[0, \"#8e0152\"], [0.1, \"#c51b7d\"], [0.2, \"#de77ae\"], [0.3, \"#f1b6da\"], [0.4, \"#fde0ef\"], [0.5, \"#f7f7f7\"], [0.6, \"#e6f5d0\"], [0.7, \"#b8e186\"], [0.8, \"#7fbc41\"], [0.9, \"#4d9221\"], [1, \"#276419\"]], \"sequential\": [[0.0, \"#0d0887\"], [0.1111111111111111, \"#46039f\"], [0.2222222222222222, \"#7201a8\"], [0.3333333333333333, \"#9c179e\"], [0.4444444444444444, \"#bd3786\"], [0.5555555555555556, \"#d8576b\"], [0.6666666666666666, \"#ed7953\"], [0.7777777777777778, \"#fb9f3a\"], [0.8888888888888888, \"#fdca26\"], [1.0, \"#f0f921\"]], \"sequentialminus\": [[0.0, \"#0d0887\"], [0.1111111111111111, \"#46039f\"], [0.2222222222222222, \"#7201a8\"], [0.3333333333333333, \"#9c179e\"], [0.4444444444444444, \"#bd3786\"], [0.5555555555555556, \"#d8576b\"], [0.6666666666666666, \"#ed7953\"], [0.7777777777777778, \"#fb9f3a\"], [0.8888888888888888, \"#fdca26\"], [1.0, \"#f0f921\"]]}, \"colorway\": [\"#636efa\", \"#EF553B\", \"#00cc96\", \"#ab63fa\", \"#FFA15A\", \"#19d3f3\", \"#FF6692\", \"#B6E880\", \"#FF97FF\", \"#FECB52\"], \"font\": {\"color\": \"#2a3f5f\"}, \"geo\": {\"bgcolor\": \"white\", \"lakecolor\": \"white\", \"landcolor\": \"#E5ECF6\", \"showlakes\": true, \"showland\": true, \"subunitcolor\": \"white\"}, \"hoverlabel\": {\"align\": \"left\"}, \"hovermode\": \"closest\", \"mapbox\": {\"style\": \"light\"}, \"paper_bgcolor\": \"white\", \"plot_bgcolor\": \"#E5ECF6\", \"polar\": {\"angularaxis\": {\"gridcolor\": \"white\", \"linecolor\": \"white\", \"ticks\": \"\"}, \"bgcolor\": \"#E5ECF6\", \"radialaxis\": {\"gridcolor\": \"white\", \"linecolor\": \"white\", \"ticks\": \"\"}}, \"scene\": {\"xaxis\": {\"backgroundcolor\": \"#E5ECF6\", \"gridcolor\": \"white\", \"gridwidth\": 2, \"linecolor\": \"white\", \"showbackground\": true, \"ticks\": \"\", \"zerolinecolor\": \"white\"}, \"yaxis\": {\"backgroundcolor\": \"#E5ECF6\", \"gridcolor\": \"white\", \"gridwidth\": 2, \"linecolor\": \"white\", \"showbackground\": true, \"ticks\": \"\", \"zerolinecolor\": \"white\"}, \"zaxis\": {\"backgroundcolor\": \"#E5ECF6\", \"gridcolor\": \"white\", \"gridwidth\": 2, \"linecolor\": \"white\", \"showbackground\": true, \"ticks\": \"\", \"zerolinecolor\": \"white\"}}, \"shapedefaults\": {\"line\": {\"color\": \"#2a3f5f\"}}, \"ternary\": {\"aaxis\": {\"gridcolor\": \"white\", \"linecolor\": \"white\", \"ticks\": \"\"}, \"baxis\": {\"gridcolor\": \"white\", \"linecolor\": \"white\", \"ticks\": \"\"}, \"bgcolor\": \"#E5ECF6\", \"caxis\": {\"gridcolor\": \"white\", \"linecolor\": \"white\", \"ticks\": \"\"}}, \"title\": {\"x\": 0.05}, \"xaxis\": {\"automargin\": true, \"gridcolor\": \"white\", \"linecolor\": \"white\", \"ticks\": \"\", \"title\": {\"standoff\": 15}, \"zerolinecolor\": \"white\", \"zerolinewidth\": 2}, \"yaxis\": {\"automargin\": true, \"gridcolor\": \"white\", \"linecolor\": \"white\", \"ticks\": \"\", \"title\": {\"standoff\": 15}, \"zerolinecolor\": \"white\", \"zerolinewidth\": 2}}}, \"title\": {\"text\": \"Cluster Behavior\"}, \"xaxis\": {\"anchor\": \"y\", \"domain\": [0.0, 0.2125]}, \"xaxis2\": {\"anchor\": \"y2\", \"domain\": [0.2625, 0.475]}, \"xaxis3\": {\"anchor\": \"y3\", \"domain\": [0.525, 0.7375]}, \"xaxis4\": {\"anchor\": \"y4\", \"domain\": [0.7875, 1.0]}, \"yaxis\": {\"anchor\": \"x\", \"domain\": [0.0, 1.0]}, \"yaxis2\": {\"anchor\": \"x2\", \"domain\": [0.0, 1.0], \"matches\": \"y\", \"showticklabels\": false}, \"yaxis3\": {\"anchor\": \"x3\", \"domain\": [0.0, 1.0], \"matches\": \"y\", \"showticklabels\": false}, \"yaxis4\": {\"anchor\": \"x4\", \"domain\": [0.0, 1.0], \"matches\": \"y\", \"showticklabels\": false}},\n",
       "                        {\"responsive\": true}\n",
       "                    ).then(function(){\n",
       "                            \n",
       "var gd = document.getElementById('bffacbef-2562-4a8e-945b-56a768a043ff');\n",
       "var x = new MutationObserver(function (mutations, observer) {{\n",
       "        var display = window.getComputedStyle(gd).display;\n",
       "        if (!display || display === 'none') {{\n",
       "            console.log([gd, 'removed!']);\n",
       "            Plotly.purge(gd);\n",
       "            observer.disconnect();\n",
       "        }}\n",
       "}});\n",
       "\n",
       "// Listen for the removal of the full notebook cells\n",
       "var notebookContainer = gd.closest('#notebook-container');\n",
       "if (notebookContainer) {{\n",
       "    x.observe(notebookContainer, {childList: true});\n",
       "}}\n",
       "\n",
       "// Listen for the clearing of the current output cell\n",
       "var outputEl = gd.closest('.output');\n",
       "if (outputEl) {{\n",
       "    x.observe(outputEl, {childList: true});\n",
       "}}\n",
       "\n",
       "                        })\n",
       "                };\n",
       "                });\n",
       "            </script>\n",
       "        </div>"
      ]
     },
     "metadata": {},
     "output_type": "display_data"
    }
   ],
   "source": [
    "# Plot clusters in graph bars to identify to better\n",
    "fig_bars = make_subplots(rows = 1, cols = 4, shared_yaxes = True)\n",
    "\n",
    "\n",
    "# Cluster 1\n",
    "fig_bars.add_trace(go.Bar(x = categories, \n",
    "                          y = y[:1,:].tolist()[0],\n",
    "                          marker = dict(color = colors,),\n",
    "                          name = 'Cluster - 1'),\n",
    "                   row = 1, \n",
    "                   col = 1)\n",
    "# Cluster 2\n",
    "fig_bars.add_trace(go.Bar(x = categories, \n",
    "                          y = y[1:2,:].tolist()[0],\n",
    "                          marker = dict(color = colors),\n",
    "                          name = 'Cluster - 2'),\n",
    "                   row = 1,\n",
    "                   col = 2)\n",
    "\n",
    "# Cluster 3\n",
    "fig_bars.add_trace(go.Bar(x = categories, \n",
    "                          y = y[2:3,:].tolist()[0],\n",
    "                          marker = dict(color = colors), \n",
    "                          name = 'Cluster - 3'),\n",
    "                   row = 1,\n",
    "                   col = 3)\n",
    "\n",
    "# Cluster 4\n",
    "fig_bars.add_trace(go.Bar(x = categories, \n",
    "                          y = y[3:4,:].tolist()[0],\n",
    "                          marker = dict(color = colors), \n",
    "                          name = 'Cluster - 4'),\n",
    "                   row = 1,\n",
    "                   col = 4)\n",
    "\n",
    "fig_bars.update_layout(showlegend = False, title = 'Cluster Behavior')\n",
    "\n",
    "fig_bars.show()"
   ]
  }
 ],
 "metadata": {
  "kernelspec": {
   "display_name": "Python 3",
   "language": "python",
   "name": "python3"
  },
  "language_info": {
   "codemirror_mode": {
    "name": "ipython",
    "version": 3
   },
   "file_extension": ".py",
   "mimetype": "text/x-python",
   "name": "python",
   "nbconvert_exporter": "python",
   "pygments_lexer": "ipython3",
   "version": "3.7.6"
  },
  "papermill": {
   "duration": 26.160918,
   "end_time": "2020-10-18T23:26:13.061093",
   "environment_variables": {},
   "exception": null,
   "input_path": "__notebook__.ipynb",
   "output_path": "__notebook__.ipynb",
   "parameters": {},
   "start_time": "2020-10-18T23:25:46.900175",
   "version": "2.1.0"
  }
 },
 "nbformat": 4,
 "nbformat_minor": 4
}
